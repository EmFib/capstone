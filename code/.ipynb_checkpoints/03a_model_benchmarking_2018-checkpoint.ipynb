{
 "cells": [
  {
   "cell_type": "code",
   "execution_count": 1,
   "metadata": {},
   "outputs": [],
   "source": [
    "import numpy as np\n",
    "import pandas as pd\n",
    "import matplotlib.pyplot as plt \n",
    "import seaborn as sns\n",
    "\n",
    "import json\n",
    "\n",
    "from fycharts.SpotifyCharts import SpotifyCharts\n",
    "import sqlalchemy\n",
    "\n",
    "import spotipy\n",
    "from spotipy.oauth2 import SpotifyClientCredentials\n",
    "\n",
    "from datetime import datetime\n",
    "from sklearn.model_selection import train_test_split\n",
    "\n",
    "import statsmodels.api as sm\n",
    "\n",
    "# We are required to do this in order to avoid \"FutureWarning\" issues.\n",
    "from pandas.plotting import register_matplotlib_converters\n",
    "register_matplotlib_converters()\n",
    "\n",
    "from statsmodels.tsa.ar_model import AR\n",
    "from statsmodels.tsa.arima_model import ARIMA, ARMA\n",
    "from statsmodels.tsa.statespace.sarimax import SARIMAX\n",
    "from statsmodels.tsa.stattools import adfuller  \n",
    "\n",
    "from sklearn.metrics import mean_squared_error, mean_absolute_error\n",
    "from statsmodels.graphics.tsaplots import plot_acf, plot_pacf\n",
    "\n",
    "%matplotlib inline\n",
    "\n",
    "import warnings\n",
    "warnings.simplefilter(action=\"ignore\")"
   ]
  },
  {
   "cell_type": "markdown",
   "metadata": {},
   "source": [
    "# Reading in data"
   ]
  },
  {
   "cell_type": "code",
   "execution_count": 2,
   "metadata": {},
   "outputs": [],
   "source": [
    "italy_17_19 = pd.read_pickle('../data/it_17_19_v50_feat.pkl')\n",
    "spain_17_19 = pd.read_pickle('../data/sp_17_19_v50_feat.pkl')\n",
    "greece_17_19 = pd.read_pickle('../data/gr_17_19_v50_feat.pkl')\n",
    "\n",
    "italy_20 = pd.read_pickle('../data/it_20_v50_feat.pkl')\n",
    "spain_20 = pd.read_pickle('../data/sp_20_v50_feat.pkl')\n",
    "greece_20 = pd.read_pickle('../data/gr_20_v50_feat.pkl')"
   ]
  },
  {
   "cell_type": "code",
   "execution_count": 3,
   "metadata": {},
   "outputs": [
    {
     "data": {
      "text/html": [
       "<div>\n",
       "<style scoped>\n",
       "    .dataframe tbody tr th:only-of-type {\n",
       "        vertical-align: middle;\n",
       "    }\n",
       "\n",
       "    .dataframe tbody tr th {\n",
       "        vertical-align: top;\n",
       "    }\n",
       "\n",
       "    .dataframe thead th {\n",
       "        text-align: right;\n",
       "    }\n",
       "</style>\n",
       "<table border=\"1\" class=\"dataframe\">\n",
       "  <thead>\n",
       "    <tr style=\"text-align: right;\">\n",
       "      <th></th>\n",
       "      <th>Position</th>\n",
       "      <th>Track Name</th>\n",
       "      <th>Artist</th>\n",
       "      <th>region</th>\n",
       "      <th>spotify_id</th>\n",
       "      <th>danceability</th>\n",
       "      <th>energy</th>\n",
       "      <th>key</th>\n",
       "      <th>loudness</th>\n",
       "      <th>mode</th>\n",
       "      <th>speechiness</th>\n",
       "      <th>acousticness</th>\n",
       "      <th>instrumentalness</th>\n",
       "      <th>liveness</th>\n",
       "      <th>valence</th>\n",
       "      <th>tempo</th>\n",
       "      <th>duration_ms</th>\n",
       "      <th>time_signature</th>\n",
       "    </tr>\n",
       "    <tr>\n",
       "      <th>date</th>\n",
       "      <th></th>\n",
       "      <th></th>\n",
       "      <th></th>\n",
       "      <th></th>\n",
       "      <th></th>\n",
       "      <th></th>\n",
       "      <th></th>\n",
       "      <th></th>\n",
       "      <th></th>\n",
       "      <th></th>\n",
       "      <th></th>\n",
       "      <th></th>\n",
       "      <th></th>\n",
       "      <th></th>\n",
       "      <th></th>\n",
       "      <th></th>\n",
       "      <th></th>\n",
       "      <th></th>\n",
       "    </tr>\n",
       "  </thead>\n",
       "  <tbody>\n",
       "    <tr>\n",
       "      <th>2021-02-13</th>\n",
       "      <td>49</td>\n",
       "      <td>La Luz - A COLORS SHOW</td>\n",
       "      <td>María José Llergo</td>\n",
       "      <td>es</td>\n",
       "      <td>5jRnVQbjB6qgN3MARS4xw7</td>\n",
       "      <td>0.722</td>\n",
       "      <td>0.357</td>\n",
       "      <td>9</td>\n",
       "      <td>-10.487</td>\n",
       "      <td>0</td>\n",
       "      <td>0.0996</td>\n",
       "      <td>0.81400</td>\n",
       "      <td>0.155000</td>\n",
       "      <td>0.0863</td>\n",
       "      <td>0.641</td>\n",
       "      <td>149.895</td>\n",
       "      <td>191599</td>\n",
       "      <td>4</td>\n",
       "    </tr>\n",
       "    <tr>\n",
       "      <th>2021-02-13</th>\n",
       "      <td>50</td>\n",
       "      <td>Boku no Sensou - TV Size</td>\n",
       "      <td>Shinsei Kamattechan</td>\n",
       "      <td>es</td>\n",
       "      <td>3tRPfCFAEv6wWyQO0YnGGV</td>\n",
       "      <td>0.447</td>\n",
       "      <td>0.891</td>\n",
       "      <td>9</td>\n",
       "      <td>-4.776</td>\n",
       "      <td>1</td>\n",
       "      <td>0.0788</td>\n",
       "      <td>0.00447</td>\n",
       "      <td>0.000905</td>\n",
       "      <td>0.3900</td>\n",
       "      <td>0.517</td>\n",
       "      <td>143.976</td>\n",
       "      <td>90960</td>\n",
       "      <td>4</td>\n",
       "    </tr>\n",
       "  </tbody>\n",
       "</table>\n",
       "</div>"
      ],
      "text/plain": [
       "            Position                Track Name               Artist region  \\\n",
       "date                                                                         \n",
       "2021-02-13        49    La Luz - A COLORS SHOW    María José Llergo     es   \n",
       "2021-02-13        50  Boku no Sensou - TV Size  Shinsei Kamattechan     es   \n",
       "\n",
       "                        spotify_id  danceability  energy  key  loudness  mode  \\\n",
       "date                                                                            \n",
       "2021-02-13  5jRnVQbjB6qgN3MARS4xw7         0.722   0.357    9   -10.487     0   \n",
       "2021-02-13  3tRPfCFAEv6wWyQO0YnGGV         0.447   0.891    9    -4.776     1   \n",
       "\n",
       "            speechiness  acousticness  instrumentalness  liveness  valence  \\\n",
       "date                                                                         \n",
       "2021-02-13       0.0996       0.81400          0.155000    0.0863    0.641   \n",
       "2021-02-13       0.0788       0.00447          0.000905    0.3900    0.517   \n",
       "\n",
       "              tempo  duration_ms  time_signature  \n",
       "date                                              \n",
       "2021-02-13  149.895       191599               4  \n",
       "2021-02-13  143.976        90960               4  "
      ]
     },
     "execution_count": 3,
     "metadata": {},
     "output_type": "execute_result"
    }
   ],
   "source": [
    "spain_20.tail(2)"
   ]
  },
  {
   "cell_type": "markdown",
   "metadata": {},
   "source": [
    "# Preprocessing data "
   ]
  },
  {
   "cell_type": "markdown",
   "metadata": {},
   "source": [
    "#### _Data for each country is split into different dataframes as different combinations and aggregations are needed for different functions._ "
   ]
  },
  {
   "cell_type": "markdown",
   "metadata": {},
   "source": [
    "**Resampling by month**\n",
    "\n",
    "_`rm` denotes resampling by month._ "
   ]
  },
  {
   "cell_type": "code",
   "execution_count": 4,
   "metadata": {},
   "outputs": [],
   "source": [
    "rm_italy_17_19 = italy_17_19.resample(\"M\").mean()\n",
    "rm_spain_17_19 = spain_17_19.resample(\"M\").mean()\n",
    "rm_greece_17_19 = greece_17_19.resample(\"M\").mean()\n",
    "\n",
    "rm_italy_20 = italy_20.resample(\"M\").mean()\n",
    "rm_spain_20 = spain_20.resample(\"M\").mean()\n",
    "rm_greece_20 = greece_20.resample(\"M\").mean()"
   ]
  },
  {
   "cell_type": "markdown",
   "metadata": {},
   "source": [
    "**Resampling by week**\n",
    "\n",
    "_`rw` denotes resampling by week._ "
   ]
  },
  {
   "cell_type": "code",
   "execution_count": 5,
   "metadata": {},
   "outputs": [],
   "source": [
    "rw_italy_17_19 = italy_17_19.resample(\"W\").mean()\n",
    "rw_spain_17_19 = spain_17_19.resample(\"W\").mean()\n",
    "rw_greece_17_19 = greece_17_19.resample(\"W\").mean()\n",
    "\n",
    "rw_italy_20 = italy_20.resample(\"W\").mean()\n",
    "rw_spain_20 = spain_20.resample(\"W\").mean()\n",
    "rw_greece_20 = greece_20.resample(\"W\").mean()"
   ]
  },
  {
   "cell_type": "markdown",
   "metadata": {},
   "source": [
    "#### Combining weekly resampled data for all years (2017-2020)"
   ]
  },
  {
   "cell_type": "code",
   "execution_count": 6,
   "metadata": {},
   "outputs": [],
   "source": [
    "alltime_italy = pd.concat([italy_17_19, italy_20])\n",
    "alltime_spain = pd.concat([spain_17_19, spain_20])\n",
    "alltime_greece = pd.concat([greece_17_19, greece_20])\n",
    "\n",
    "alltime_rw_italy = alltime_italy.resample(\"W\").mean()\n",
    "alltime_rw_spain = alltime_spain.resample(\"W\").mean()\n",
    "alltime_rw_greece = alltime_greece.resample(\"W\").mean()"
   ]
  },
  {
   "cell_type": "markdown",
   "metadata": {},
   "source": [
    "#### Splitting into dataframes for each year! "
   ]
  },
  {
   "cell_type": "code",
   "execution_count": 7,
   "metadata": {},
   "outputs": [],
   "source": [
    "it_rw_17 = alltime_rw_italy[0:53]\n",
    "it_rw_18 = alltime_rw_italy[53:105]\n",
    "it_rw_19 = alltime_rw_italy[105:158]"
   ]
  },
  {
   "cell_type": "code",
   "execution_count": 8,
   "metadata": {},
   "outputs": [
    {
     "data": {
      "text/html": [
       "<div>\n",
       "<style scoped>\n",
       "    .dataframe tbody tr th:only-of-type {\n",
       "        vertical-align: middle;\n",
       "    }\n",
       "\n",
       "    .dataframe tbody tr th {\n",
       "        vertical-align: top;\n",
       "    }\n",
       "\n",
       "    .dataframe thead th {\n",
       "        text-align: right;\n",
       "    }\n",
       "</style>\n",
       "<table border=\"1\" class=\"dataframe\">\n",
       "  <thead>\n",
       "    <tr style=\"text-align: right;\">\n",
       "      <th></th>\n",
       "      <th>Position</th>\n",
       "      <th>danceability</th>\n",
       "      <th>energy</th>\n",
       "      <th>key</th>\n",
       "      <th>loudness</th>\n",
       "      <th>mode</th>\n",
       "      <th>speechiness</th>\n",
       "      <th>acousticness</th>\n",
       "      <th>instrumentalness</th>\n",
       "      <th>liveness</th>\n",
       "      <th>valence</th>\n",
       "      <th>tempo</th>\n",
       "      <th>duration_ms</th>\n",
       "      <th>time_signature</th>\n",
       "    </tr>\n",
       "    <tr>\n",
       "      <th>date</th>\n",
       "      <th></th>\n",
       "      <th></th>\n",
       "      <th></th>\n",
       "      <th></th>\n",
       "      <th></th>\n",
       "      <th></th>\n",
       "      <th></th>\n",
       "      <th></th>\n",
       "      <th></th>\n",
       "      <th></th>\n",
       "      <th></th>\n",
       "      <th></th>\n",
       "      <th></th>\n",
       "      <th></th>\n",
       "    </tr>\n",
       "  </thead>\n",
       "  <tbody>\n",
       "    <tr>\n",
       "      <th>2018-12-23</th>\n",
       "      <td>25.5</td>\n",
       "      <td>0.652526</td>\n",
       "      <td>0.62446</td>\n",
       "      <td>5.345714</td>\n",
       "      <td>-7.126363</td>\n",
       "      <td>0.548571</td>\n",
       "      <td>0.098575</td>\n",
       "      <td>0.315516</td>\n",
       "      <td>0.058491</td>\n",
       "      <td>0.126928</td>\n",
       "      <td>0.464983</td>\n",
       "      <td>117.940511</td>\n",
       "      <td>209852.965714</td>\n",
       "      <td>3.985714</td>\n",
       "    </tr>\n",
       "    <tr>\n",
       "      <th>2018-12-30</th>\n",
       "      <td>25.5</td>\n",
       "      <td>0.637171</td>\n",
       "      <td>0.63514</td>\n",
       "      <td>4.971429</td>\n",
       "      <td>-6.814571</td>\n",
       "      <td>0.528571</td>\n",
       "      <td>0.104640</td>\n",
       "      <td>0.342631</td>\n",
       "      <td>0.066215</td>\n",
       "      <td>0.139117</td>\n",
       "      <td>0.460786</td>\n",
       "      <td>121.689883</td>\n",
       "      <td>216545.840000</td>\n",
       "      <td>3.934286</td>\n",
       "    </tr>\n",
       "  </tbody>\n",
       "</table>\n",
       "</div>"
      ],
      "text/plain": [
       "            Position  danceability   energy       key  loudness      mode  \\\n",
       "date                                                                        \n",
       "2018-12-23      25.5      0.652526  0.62446  5.345714 -7.126363  0.548571   \n",
       "2018-12-30      25.5      0.637171  0.63514  4.971429 -6.814571  0.528571   \n",
       "\n",
       "            speechiness  acousticness  instrumentalness  liveness   valence  \\\n",
       "date                                                                          \n",
       "2018-12-23     0.098575      0.315516          0.058491  0.126928  0.464983   \n",
       "2018-12-30     0.104640      0.342631          0.066215  0.139117  0.460786   \n",
       "\n",
       "                 tempo    duration_ms  time_signature  \n",
       "date                                                   \n",
       "2018-12-23  117.940511  209852.965714        3.985714  \n",
       "2018-12-30  121.689883  216545.840000        3.934286  "
      ]
     },
     "execution_count": 8,
     "metadata": {},
     "output_type": "execute_result"
    }
   ],
   "source": [
    "it_rw_18.tail(2)"
   ]
  },
  {
   "cell_type": "markdown",
   "metadata": {},
   "source": [
    "# Differencing Data for Stationarity"
   ]
  },
  {
   "cell_type": "markdown",
   "metadata": {},
   "source": [
    "### Augmented Dickey-Fuller test to estimate whether data are stationary. "
   ]
  },
  {
   "cell_type": "code",
   "execution_count": 9,
   "metadata": {},
   "outputs": [],
   "source": [
    "audio_features = [\n",
    "'danceability', \n",
    " 'energy',\n",
    " 'key',\n",
    " 'loudness',\n",
    " 'mode',\n",
    " 'speechiness',\n",
    " 'acousticness',\n",
    " 'instrumentalness',\n",
    " 'liveness',\n",
    " 'valence',\n",
    " 'tempo']"
   ]
  },
  {
   "cell_type": "code",
   "execution_count": 10,
   "metadata": {},
   "outputs": [],
   "source": [
    "# Code by Joseph Nelson! \n",
    "\n",
    "def interpret_dftest(dftest):\n",
    "    dfoutput = pd.Series(dftest[0:3], index=['Test Statistic', 'p-value', 'lags_used'])\n",
    "    return dfoutput"
   ]
  },
  {
   "cell_type": "markdown",
   "metadata": {},
   "source": [
    "_Dickey-Fuller on original dataframes_"
   ]
  },
  {
   "cell_type": "code",
   "execution_count": 11,
   "metadata": {},
   "outputs": [
    {
     "name": "stdout",
     "output_type": "stream",
     "text": [
      "Dickey-Fuller Interpretation for danceability:\n",
      "Test Statistic   -2.978150\n",
      "p-value           0.036986\n",
      "lags_used         1.000000\n",
      "dtype: float64\n",
      "Dickey-Fuller Interpretation for energy:\n",
      "Test Statistic   -3.24877\n",
      "p-value           0.01733\n",
      "lags_used         0.00000\n",
      "dtype: float64\n",
      "Dickey-Fuller Interpretation for key:\n",
      "Test Statistic   -3.469608\n",
      "p-value           0.008803\n",
      "lags_used         4.000000\n",
      "dtype: float64\n",
      "Dickey-Fuller Interpretation for loudness:\n",
      "Test Statistic   -3.003203\n",
      "p-value           0.034596\n",
      "lags_used         0.000000\n",
      "dtype: float64\n",
      "Dickey-Fuller Interpretation for mode:\n",
      "Test Statistic   -4.432011\n",
      "p-value           0.000260\n",
      "lags_used         0.000000\n",
      "dtype: float64\n",
      "Dickey-Fuller Interpretation for speechiness:\n",
      "Test Statistic    -1.736793\n",
      "p-value            0.412262\n",
      "lags_used         10.000000\n",
      "dtype: float64\n",
      "Dickey-Fuller Interpretation for acousticness:\n",
      "Test Statistic   -2.390354\n",
      "p-value           0.144477\n",
      "lags_used         0.000000\n",
      "dtype: float64\n",
      "Dickey-Fuller Interpretation for instrumentalness:\n",
      "Test Statistic   -2.806893\n",
      "p-value           0.057296\n",
      "lags_used         0.000000\n",
      "dtype: float64\n",
      "Dickey-Fuller Interpretation for liveness:\n",
      "Test Statistic   -2.267119\n",
      "p-value           0.182792\n",
      "lags_used         1.000000\n",
      "dtype: float64\n",
      "Dickey-Fuller Interpretation for valence:\n",
      "Test Statistic   -4.109533\n",
      "p-value           0.000934\n",
      "lags_used         0.000000\n",
      "dtype: float64\n",
      "Dickey-Fuller Interpretation for tempo:\n",
      "Test Statistic   -3.917986\n",
      "p-value           0.001906\n",
      "lags_used         0.000000\n",
      "dtype: float64\n"
     ]
    }
   ],
   "source": [
    "for feature in audio_features:\n",
    "    print(f'Dickey-Fuller Interpretation for {feature}:\\n{interpret_dftest(adfuller(it_rw_18[feature]))}')"
   ]
  },
  {
   "cell_type": "markdown",
   "metadata": {},
   "source": [
    "### DataFrame with once-differenced data"
   ]
  },
  {
   "cell_type": "code",
   "execution_count": 12,
   "metadata": {},
   "outputs": [],
   "source": [
    "lag_df_italy = alltime_rw_italy.copy()"
   ]
  },
  {
   "cell_type": "code",
   "execution_count": 13,
   "metadata": {},
   "outputs": [],
   "source": [
    "for feature in audio_features: \n",
    "    lag_df_italy[f'{feature}_once_differenced'] = lag_df_italy[feature].diff(1).fillna(0)"
   ]
  },
  {
   "cell_type": "code",
   "execution_count": 14,
   "metadata": {},
   "outputs": [
    {
     "data": {
      "text/html": [
       "<div>\n",
       "<style scoped>\n",
       "    .dataframe tbody tr th:only-of-type {\n",
       "        vertical-align: middle;\n",
       "    }\n",
       "\n",
       "    .dataframe tbody tr th {\n",
       "        vertical-align: top;\n",
       "    }\n",
       "\n",
       "    .dataframe thead th {\n",
       "        text-align: right;\n",
       "    }\n",
       "</style>\n",
       "<table border=\"1\" class=\"dataframe\">\n",
       "  <thead>\n",
       "    <tr style=\"text-align: right;\">\n",
       "      <th></th>\n",
       "      <th>Position</th>\n",
       "      <th>danceability</th>\n",
       "      <th>energy</th>\n",
       "      <th>key</th>\n",
       "      <th>loudness</th>\n",
       "      <th>mode</th>\n",
       "      <th>speechiness</th>\n",
       "      <th>acousticness</th>\n",
       "      <th>instrumentalness</th>\n",
       "      <th>liveness</th>\n",
       "      <th>...</th>\n",
       "      <th>energy_once_differenced</th>\n",
       "      <th>key_once_differenced</th>\n",
       "      <th>loudness_once_differenced</th>\n",
       "      <th>mode_once_differenced</th>\n",
       "      <th>speechiness_once_differenced</th>\n",
       "      <th>acousticness_once_differenced</th>\n",
       "      <th>instrumentalness_once_differenced</th>\n",
       "      <th>liveness_once_differenced</th>\n",
       "      <th>valence_once_differenced</th>\n",
       "      <th>tempo_once_differenced</th>\n",
       "    </tr>\n",
       "    <tr>\n",
       "      <th>date</th>\n",
       "      <th></th>\n",
       "      <th></th>\n",
       "      <th></th>\n",
       "      <th></th>\n",
       "      <th></th>\n",
       "      <th></th>\n",
       "      <th></th>\n",
       "      <th></th>\n",
       "      <th></th>\n",
       "      <th></th>\n",
       "      <th></th>\n",
       "      <th></th>\n",
       "      <th></th>\n",
       "      <th></th>\n",
       "      <th></th>\n",
       "      <th></th>\n",
       "      <th></th>\n",
       "      <th></th>\n",
       "      <th></th>\n",
       "      <th></th>\n",
       "      <th></th>\n",
       "    </tr>\n",
       "  </thead>\n",
       "  <tbody>\n",
       "    <tr>\n",
       "      <th>2021-02-07</th>\n",
       "      <td>25.5</td>\n",
       "      <td>0.666561</td>\n",
       "      <td>0.634389</td>\n",
       "      <td>5.402857</td>\n",
       "      <td>-6.677991</td>\n",
       "      <td>0.680000</td>\n",
       "      <td>0.109192</td>\n",
       "      <td>0.268234</td>\n",
       "      <td>0.035348</td>\n",
       "      <td>0.223654</td>\n",
       "      <td>...</td>\n",
       "      <td>0.029374</td>\n",
       "      <td>0.18000</td>\n",
       "      <td>0.314663</td>\n",
       "      <td>0.031429</td>\n",
       "      <td>-0.001159</td>\n",
       "      <td>-0.073344</td>\n",
       "      <td>-0.001695</td>\n",
       "      <td>0.005719</td>\n",
       "      <td>-0.006398</td>\n",
       "      <td>3.285271</td>\n",
       "    </tr>\n",
       "    <tr>\n",
       "      <th>2021-02-14</th>\n",
       "      <td>25.5</td>\n",
       "      <td>0.671104</td>\n",
       "      <td>0.647343</td>\n",
       "      <td>5.516667</td>\n",
       "      <td>-6.842603</td>\n",
       "      <td>0.656667</td>\n",
       "      <td>0.120716</td>\n",
       "      <td>0.277941</td>\n",
       "      <td>0.054173</td>\n",
       "      <td>0.220087</td>\n",
       "      <td>...</td>\n",
       "      <td>0.012955</td>\n",
       "      <td>0.11381</td>\n",
       "      <td>-0.164612</td>\n",
       "      <td>-0.023333</td>\n",
       "      <td>0.011523</td>\n",
       "      <td>0.009707</td>\n",
       "      <td>0.018826</td>\n",
       "      <td>-0.003567</td>\n",
       "      <td>0.049983</td>\n",
       "      <td>1.041837</td>\n",
       "    </tr>\n",
       "  </tbody>\n",
       "</table>\n",
       "<p>2 rows × 25 columns</p>\n",
       "</div>"
      ],
      "text/plain": [
       "            Position  danceability    energy       key  loudness      mode  \\\n",
       "date                                                                         \n",
       "2021-02-07      25.5      0.666561  0.634389  5.402857 -6.677991  0.680000   \n",
       "2021-02-14      25.5      0.671104  0.647343  5.516667 -6.842603  0.656667   \n",
       "\n",
       "            speechiness  acousticness  instrumentalness  liveness  ...  \\\n",
       "date                                                               ...   \n",
       "2021-02-07     0.109192      0.268234          0.035348  0.223654  ...   \n",
       "2021-02-14     0.120716      0.277941          0.054173  0.220087  ...   \n",
       "\n",
       "            energy_once_differenced  key_once_differenced  \\\n",
       "date                                                        \n",
       "2021-02-07                 0.029374               0.18000   \n",
       "2021-02-14                 0.012955               0.11381   \n",
       "\n",
       "            loudness_once_differenced  mode_once_differenced  \\\n",
       "date                                                           \n",
       "2021-02-07                   0.314663               0.031429   \n",
       "2021-02-14                  -0.164612              -0.023333   \n",
       "\n",
       "            speechiness_once_differenced  acousticness_once_differenced  \\\n",
       "date                                                                      \n",
       "2021-02-07                     -0.001159                      -0.073344   \n",
       "2021-02-14                      0.011523                       0.009707   \n",
       "\n",
       "            instrumentalness_once_differenced  liveness_once_differenced  \\\n",
       "date                                                                       \n",
       "2021-02-07                          -0.001695                   0.005719   \n",
       "2021-02-14                           0.018826                  -0.003567   \n",
       "\n",
       "            valence_once_differenced  tempo_once_differenced  \n",
       "date                                                          \n",
       "2021-02-07                 -0.006398                3.285271  \n",
       "2021-02-14                  0.049983                1.041837  \n",
       "\n",
       "[2 rows x 25 columns]"
      ]
     },
     "execution_count": 14,
     "metadata": {},
     "output_type": "execute_result"
    }
   ],
   "source": [
    "lag_df_italy.tail(2)"
   ]
  },
  {
   "cell_type": "markdown",
   "metadata": {},
   "source": [
    "_Dickey-Fuller on lag dataframe_"
   ]
  },
  {
   "cell_type": "code",
   "execution_count": 15,
   "metadata": {},
   "outputs": [
    {
     "name": "stdout",
     "output_type": "stream",
     "text": [
      "Dickey-Fuller Interpretation for danceability, once-differenced:\n",
      "Test Statistic   -9.142255e+00\n",
      "p-value           2.828632e-15\n",
      "lags_used         5.000000e+00\n",
      "dtype: float64\n",
      "Dickey-Fuller Interpretation for energy, once-differenced:\n",
      "Test Statistic   -6.782611e+00\n",
      "p-value           2.477455e-09\n",
      "lags_used         7.000000e+00\n",
      "dtype: float64\n",
      "Dickey-Fuller Interpretation for key, once-differenced:\n",
      "Test Statistic   -8.518281e+00\n",
      "p-value           1.118537e-13\n",
      "lags_used         7.000000e+00\n",
      "dtype: float64\n",
      "Dickey-Fuller Interpretation for loudness, once-differenced:\n",
      "Test Statistic   -7.002232e+00\n",
      "p-value           7.272028e-10\n",
      "lags_used         6.000000e+00\n",
      "dtype: float64\n",
      "Dickey-Fuller Interpretation for mode, once-differenced:\n",
      "Test Statistic   -9.845662e+00\n",
      "p-value           4.627101e-17\n",
      "lags_used         4.000000e+00\n",
      "dtype: float64\n",
      "Dickey-Fuller Interpretation for speechiness, once-differenced:\n",
      "Test Statistic   -8.291616e+00\n",
      "p-value           4.246658e-13\n",
      "lags_used         5.000000e+00\n",
      "dtype: float64\n",
      "Dickey-Fuller Interpretation for acousticness, once-differenced:\n",
      "Test Statistic   -1.160866e+01\n",
      "p-value           2.544491e-21\n",
      "lags_used         2.000000e+00\n",
      "dtype: float64\n",
      "Dickey-Fuller Interpretation for instrumentalness, once-differenced:\n",
      "Test Statistic   -7.471488e+00\n",
      "p-value           5.041115e-11\n",
      "lags_used         6.000000e+00\n",
      "dtype: float64\n",
      "Dickey-Fuller Interpretation for liveness, once-differenced:\n",
      "Test Statistic   -7.236294e+00\n",
      "p-value           1.935642e-10\n",
      "lags_used         8.000000e+00\n",
      "dtype: float64\n",
      "Dickey-Fuller Interpretation for valence, once-differenced:\n",
      "Test Statistic    -5.043085\n",
      "p-value            0.000018\n",
      "lags_used         12.000000\n",
      "dtype: float64\n",
      "Dickey-Fuller Interpretation for tempo, once-differenced:\n",
      "Test Statistic   -6.454214e+00\n",
      "p-value           1.497350e-08\n",
      "lags_used         1.400000e+01\n",
      "dtype: float64\n"
     ]
    }
   ],
   "source": [
    "for feature in audio_features:\n",
    "    print(f'Dickey-Fuller Interpretation for {feature}, once-differenced:\\n{interpret_dftest(adfuller(lag_df_italy[feature].diff(1).fillna(0)))}')"
   ]
  },
  {
   "cell_type": "markdown",
   "metadata": {},
   "source": [
    "_Checking that these are the same_"
   ]
  },
  {
   "cell_type": "code",
   "execution_count": 16,
   "metadata": {},
   "outputs": [
    {
     "data": {
      "text/plain": [
       "Test Statistic   -6.454214e+00\n",
       "p-value           1.497350e-08\n",
       "lags_used         1.400000e+01\n",
       "dtype: float64"
      ]
     },
     "execution_count": 16,
     "metadata": {},
     "output_type": "execute_result"
    }
   ],
   "source": [
    "interpret_dftest(adfuller(lag_df_italy['tempo_once_differenced']))"
   ]
  },
  {
   "cell_type": "code",
   "execution_count": 17,
   "metadata": {},
   "outputs": [
    {
     "data": {
      "text/plain": [
       "Test Statistic   -6.454214e+00\n",
       "p-value           1.497350e-08\n",
       "lags_used         1.400000e+01\n",
       "dtype: float64"
      ]
     },
     "execution_count": 17,
     "metadata": {},
     "output_type": "execute_result"
    }
   ],
   "source": [
    "interpret_dftest(adfuller(lag_df_italy['tempo'].diff(1).fillna(0)))"
   ]
  },
  {
   "cell_type": "markdown",
   "metadata": {},
   "source": [
    "### Using `ndiffs` to figure out how many orders of difference $d$ I need in oder to have stationarity"
   ]
  },
  {
   "cell_type": "markdown",
   "metadata": {},
   "source": [
    "#### _Running `ndiff` and `p,d,q` functions just on 2018 Italy data instead of alltime Italy data; however I will just be checking it out; will leave the `ndiff_dict` and `ndiff_df` as is because that is use in models. Keeping the `ndiffs` the same for each feature across all models for the sake of consistency._ "
   ]
  },
  {
   "cell_type": "code",
   "execution_count": 18,
   "metadata": {},
   "outputs": [],
   "source": [
    "from pmdarima.arima.utils import ndiffs"
   ]
  },
  {
   "cell_type": "code",
   "execution_count": 19,
   "metadata": {},
   "outputs": [
    {
     "name": "stdout",
     "output_type": "stream",
     "text": [
      "ndiffs for danceability stationarity w/ adf test: 0\n",
      "ndiffs for energy stationarity w/ adf test: 0\n",
      "ndiffs for key stationarity w/ adf test: 0\n",
      "ndiffs for loudness stationarity w/ adf test: 0\n",
      "ndiffs for mode stationarity w/ adf test: 0\n",
      "ndiffs for speechiness stationarity w/ adf test: 0\n",
      "ndiffs for acousticness stationarity w/ adf test: 0\n",
      "ndiffs for instrumentalness stationarity w/ adf test: 0\n",
      "ndiffs for liveness stationarity w/ adf test: 0\n",
      "ndiffs for valence stationarity w/ adf test: 0\n",
      "ndiffs for tempo stationarity w/ adf test: 0\n"
     ]
    }
   ],
   "source": [
    "for feature in audio_features:\n",
    "    print(f'ndiffs for {feature} stationarity w/ adf test: {ndiffs(alltime_italy[feature], test= \"adf\")}')"
   ]
  },
  {
   "cell_type": "code",
   "execution_count": 20,
   "metadata": {},
   "outputs": [
    {
     "name": "stdout",
     "output_type": "stream",
     "text": [
      "ndiffs for danceability stationarity w/ adf test: 1\n",
      "ndiffs for energy stationarity w/ adf test: 1\n",
      "ndiffs for key stationarity w/ adf test: 1\n",
      "ndiffs for loudness stationarity w/ adf test: 1\n",
      "ndiffs for mode stationarity w/ adf test: 1\n",
      "ndiffs for speechiness stationarity w/ adf test: 1\n",
      "ndiffs for acousticness stationarity w/ adf test: 1\n",
      "ndiffs for instrumentalness stationarity w/ adf test: 1\n",
      "ndiffs for liveness stationarity w/ adf test: 1\n",
      "ndiffs for valence stationarity w/ adf test: 1\n",
      "ndiffs for tempo stationarity w/ adf test: 1\n"
     ]
    }
   ],
   "source": [
    "for feature in audio_features:\n",
    "    print(f'ndiffs for {feature} stationarity w/ adf test: {ndiffs(it_rw_18[feature], test= \"adf\")}')"
   ]
  },
  {
   "cell_type": "code",
   "execution_count": 21,
   "metadata": {},
   "outputs": [
    {
     "name": "stdout",
     "output_type": "stream",
     "text": [
      "ndiffs for danceability stationarity w/ kpss test: 1\n",
      "ndiffs for energy stationarity w/ kpss test: 1\n",
      "ndiffs for key stationarity w/ kpss test: 1\n",
      "ndiffs for loudness stationarity w/ kpss test: 1\n",
      "ndiffs for mode stationarity w/ kpss test: 1\n",
      "ndiffs for speechiness stationarity w/ kpss test: 1\n",
      "ndiffs for acousticness stationarity w/ kpss test: 1\n",
      "ndiffs for instrumentalness stationarity w/ kpss test: 1\n",
      "ndiffs for liveness stationarity w/ kpss test: 1\n",
      "ndiffs for valence stationarity w/ kpss test: 1\n",
      "ndiffs for tempo stationarity w/ kpss test: 1\n"
     ]
    }
   ],
   "source": [
    "for feature in audio_features:\n",
    "    print(f'ndiffs for {feature} stationarity w/ kpss test: {ndiffs(alltime_italy[feature])}')"
   ]
  },
  {
   "cell_type": "code",
   "execution_count": 22,
   "metadata": {},
   "outputs": [
    {
     "name": "stdout",
     "output_type": "stream",
     "text": [
      "ndiffs for danceability stationarity w/ kpss test: 1\n",
      "ndiffs for energy stationarity w/ kpss test: 0\n",
      "ndiffs for key stationarity w/ kpss test: 0\n",
      "ndiffs for loudness stationarity w/ kpss test: 0\n",
      "ndiffs for mode stationarity w/ kpss test: 0\n",
      "ndiffs for speechiness stationarity w/ kpss test: 0\n",
      "ndiffs for acousticness stationarity w/ kpss test: 1\n",
      "ndiffs for instrumentalness stationarity w/ kpss test: 1\n",
      "ndiffs for liveness stationarity w/ kpss test: 1\n",
      "ndiffs for valence stationarity w/ kpss test: 0\n",
      "ndiffs for tempo stationarity w/ kpss test: 0\n"
     ]
    }
   ],
   "source": [
    "for feature in audio_features:\n",
    "    print(f'ndiffs for {feature} stationarity w/ kpss test: {ndiffs(it_rw_18[feature])}')"
   ]
  },
  {
   "cell_type": "markdown",
   "metadata": {},
   "source": [
    "### Finding `p`, `d`, and `q` values"
   ]
  },
  {
   "cell_type": "markdown",
   "metadata": {},
   "source": [
    "_Using only the five audio features that are the most relevant or show some sort of pattern_ "
   ]
  },
  {
   "cell_type": "code",
   "execution_count": 23,
   "metadata": {},
   "outputs": [],
   "source": [
    "five_features = ['danceability', 'mode', 'acousticness', 'valence', 'tempo']"
   ]
  },
  {
   "cell_type": "markdown",
   "metadata": {},
   "source": [
    "_Building dataframe with `ndifffs` for stationarity for each feature_"
   ]
  },
  {
   "cell_type": "code",
   "execution_count": 24,
   "metadata": {},
   "outputs": [
    {
     "data": {
      "text/html": [
       "<div>\n",
       "<style scoped>\n",
       "    .dataframe tbody tr th:only-of-type {\n",
       "        vertical-align: middle;\n",
       "    }\n",
       "\n",
       "    .dataframe tbody tr th {\n",
       "        vertical-align: top;\n",
       "    }\n",
       "\n",
       "    .dataframe thead th {\n",
       "        text-align: right;\n",
       "    }\n",
       "</style>\n",
       "<table border=\"1\" class=\"dataframe\">\n",
       "  <thead>\n",
       "    <tr style=\"text-align: right;\">\n",
       "      <th></th>\n",
       "      <th>audio_feature</th>\n",
       "      <th>ndiffs for stationarity</th>\n",
       "    </tr>\n",
       "  </thead>\n",
       "  <tbody>\n",
       "    <tr>\n",
       "      <th>0</th>\n",
       "      <td>danceability</td>\n",
       "      <td>1</td>\n",
       "    </tr>\n",
       "    <tr>\n",
       "      <th>1</th>\n",
       "      <td>mode</td>\n",
       "      <td>1</td>\n",
       "    </tr>\n",
       "    <tr>\n",
       "      <th>2</th>\n",
       "      <td>acousticness</td>\n",
       "      <td>0</td>\n",
       "    </tr>\n",
       "    <tr>\n",
       "      <th>3</th>\n",
       "      <td>valence</td>\n",
       "      <td>0</td>\n",
       "    </tr>\n",
       "    <tr>\n",
       "      <th>4</th>\n",
       "      <td>tempo</td>\n",
       "      <td>0</td>\n",
       "    </tr>\n",
       "  </tbody>\n",
       "</table>\n",
       "</div>"
      ],
      "text/plain": [
       "  audio_feature  ndiffs for stationarity\n",
       "0  danceability                        1\n",
       "1          mode                        1\n",
       "2  acousticness                        0\n",
       "3       valence                        0\n",
       "4         tempo                        0"
      ]
     },
     "execution_count": 24,
     "metadata": {},
     "output_type": "execute_result"
    }
   ],
   "source": [
    "ndiff_dict = {\n",
    "    'audio_feature':[],\n",
    "    'ndiffs for stationarity':[]    \n",
    "}\n",
    "\n",
    "for feature in five_features:\n",
    "    ndiff_dict['audio_feature'].append(feature)\n",
    "    ndiff_dict['ndiffs for stationarity'].append(ndiffs(alltime_rw_italy[feature], test= \"adf\"))\n",
    "\n",
    "ndiff_df = pd.DataFrame(ndiff_dict)\n",
    "ndiff_df"
   ]
  },
  {
   "cell_type": "code",
   "execution_count": 25,
   "metadata": {},
   "outputs": [],
   "source": [
    "arima_dict_18 = {\n",
    "    'audio_feature':[],\n",
    "    'ndiffs(d)':[],\n",
    "    'best_p':[],\n",
    "    'best_q':[],\n",
    "    'order':[],\n",
    "    'ARIMA_model':[],\n",
    "    'ARIMA_AIC':[]\n",
    "}\n",
    "\n",
    "def find_p_and_q(df, feature, arima_dict, n=6):\n",
    "    \n",
    "    train = df[feature][0:162]\n",
    "    \n",
    "    d = ndiff_df.loc[ndiff_df['audio_feature'] == feature, 'ndiffs for stationarity'].iloc[0]\n",
    "\n",
    "    # starting with large start AIC\n",
    "    best_aic = 99 * (10 * 16)\n",
    "    # creating variables to store best values ofd p and q \n",
    "    best_p = 0\n",
    "    best_q = 0 \n",
    "\n",
    "    # use nested for loop to iterate over values of p and q\n",
    "    for p in range(n):\n",
    "\n",
    "        for q in range(n):\n",
    "\n",
    "            # insert try and and except statements\n",
    "            try: \n",
    "\n",
    "                # fitting on ARIMA(p, 1, q) model \n",
    "                print(f'Attempting to fit ARIMA({p}, {d}, {q})')\n",
    "\n",
    "                # instantiate ARIMA model\n",
    "                arima = ARIMA(train, order=(p,d,q))\n",
    "\n",
    "                # fit ARIMA model \n",
    "                model = arima.fit()\n",
    "\n",
    "                # print out AIC for ARIMA(p, 1, q) model \n",
    "                print(f'For {feature}, the AIC for ARIMA({p},{d},{q}) is: {model.aic}')\n",
    "\n",
    "                # Is this current model's AIC better than the OF best_aic? \n",
    "                if model.aic < best_aic:\n",
    "                    # we want aic to be lower so we are setting a high aic and hoping for something lower \n",
    "\n",
    "                    # if it is, we overwrite the best_aic, best_p, and best_q\n",
    "                    best_aic = model.aic\n",
    "                    best_p = p \n",
    "                    best_q = q\n",
    "\n",
    "            except:\n",
    "                pass \n",
    "\n",
    "        order = (best_p, d, best_q)\n",
    "    \n",
    "    arima_dict['audio_feature'].append(feature)\n",
    "    arima_dict['ndiffs(d)'].append(d)\n",
    "    arima_dict['best_p'].append(best_p)\n",
    "    arima_dict['best_q'].append(best_q)\n",
    "    arima_dict['order'].append(order)\n",
    "    arima_dict['ARIMA_model'].append(f'ARIMA({best_p},{d},{best_q})')\n",
    "    arima_dict['ARIMA_AIC'].append(best_aic)\n",
    "\n",
    "    print()\n",
    "    print(f'{feature.upper()} MODEL FINISHED!')\n",
    "    print(f'The model for {feature} that minimizes AIC on the training data is the ARIMA({best_p},{d},{best_q}).')\n",
    "    print(f'The model has an aIC of {best_aic}.')\n",
    "    print()"
   ]
  },
  {
   "cell_type": "code",
   "execution_count": 26,
   "metadata": {},
   "outputs": [
    {
     "data": {
      "text/plain": [
       "{'audio_feature': [],\n",
       " 'ndiffs(d)': [],\n",
       " 'best_p': [],\n",
       " 'best_q': [],\n",
       " 'order': [],\n",
       " 'ARIMA_model': [],\n",
       " 'ARIMA_AIC': []}"
      ]
     },
     "execution_count": 26,
     "metadata": {},
     "output_type": "execute_result"
    }
   ],
   "source": [
    "arima_dict_18"
   ]
  },
  {
   "cell_type": "code",
   "execution_count": 27,
   "metadata": {
    "scrolled": true
   },
   "outputs": [
    {
     "name": "stdout",
     "output_type": "stream",
     "text": [
      "Attempting to fit ARIMA(0, 1, 0)\n",
      "For danceability, the AIC for ARIMA(0,1,0) is: -208.1953537460845\n",
      "Attempting to fit ARIMA(0, 1, 1)\n",
      "For danceability, the AIC for ARIMA(0,1,1) is: -217.46053918380267\n",
      "Attempting to fit ARIMA(0, 1, 2)\n",
      "For danceability, the AIC for ARIMA(0,1,2) is: -215.5403946382255\n",
      "Attempting to fit ARIMA(0, 1, 3)\n",
      "For danceability, the AIC for ARIMA(0,1,3) is: -213.59537392598708\n",
      "Attempting to fit ARIMA(0, 1, 4)\n",
      "For danceability, the AIC for ARIMA(0,1,4) is: -211.7479708394353\n",
      "Attempting to fit ARIMA(0, 1, 5)\n",
      "For danceability, the AIC for ARIMA(0,1,5) is: -209.95290478242964\n",
      "Attempting to fit ARIMA(1, 1, 0)\n",
      "For danceability, the AIC for ARIMA(1,1,0) is: -216.14528638421535\n",
      "Attempting to fit ARIMA(1, 1, 1)\n",
      "For danceability, the AIC for ARIMA(1,1,1) is: -215.54781502403603\n",
      "Attempting to fit ARIMA(1, 1, 2)\n",
      "For danceability, the AIC for ARIMA(1,1,2) is: -213.54938129555666\n",
      "Attempting to fit ARIMA(1, 1, 3)\n",
      "Attempting to fit ARIMA(1, 1, 4)\n",
      "Attempting to fit ARIMA(1, 1, 5)\n",
      "Attempting to fit ARIMA(2, 1, 0)\n",
      "For danceability, the AIC for ARIMA(2,1,0) is: -215.4372188594259\n",
      "Attempting to fit ARIMA(2, 1, 1)\n",
      "For danceability, the AIC for ARIMA(2,1,1) is: -213.93538775289403\n",
      "Attempting to fit ARIMA(2, 1, 2)\n",
      "For danceability, the AIC for ARIMA(2,1,2) is: -212.39973461507827\n",
      "Attempting to fit ARIMA(2, 1, 3)\n",
      "For danceability, the AIC for ARIMA(2,1,3) is: -210.65397821548544\n",
      "Attempting to fit ARIMA(2, 1, 4)\n",
      "For danceability, the AIC for ARIMA(2,1,4) is: -211.40200925144842\n",
      "Attempting to fit ARIMA(2, 1, 5)\n",
      "Attempting to fit ARIMA(3, 1, 0)\n",
      "For danceability, the AIC for ARIMA(3,1,0) is: -213.4539133270133\n",
      "Attempting to fit ARIMA(3, 1, 1)\n",
      "For danceability, the AIC for ARIMA(3,1,1) is: -212.45705087713304\n",
      "Attempting to fit ARIMA(3, 1, 2)\n",
      "For danceability, the AIC for ARIMA(3,1,2) is: -209.80374356400597\n",
      "Attempting to fit ARIMA(3, 1, 3)\n",
      "For danceability, the AIC for ARIMA(3,1,3) is: -209.54479410022333\n",
      "Attempting to fit ARIMA(3, 1, 4)\n",
      "For danceability, the AIC for ARIMA(3,1,4) is: -209.6028405730451\n",
      "Attempting to fit ARIMA(3, 1, 5)\n",
      "Attempting to fit ARIMA(4, 1, 0)\n",
      "For danceability, the AIC for ARIMA(4,1,0) is: -211.93021596240658\n",
      "Attempting to fit ARIMA(4, 1, 1)\n",
      "For danceability, the AIC for ARIMA(4,1,1) is: -210.62208971056083\n",
      "Attempting to fit ARIMA(4, 1, 2)\n",
      "For danceability, the AIC for ARIMA(4,1,2) is: -209.53134568616002\n",
      "Attempting to fit ARIMA(4, 1, 3)\n",
      "For danceability, the AIC for ARIMA(4,1,3) is: -207.54696920570518\n",
      "Attempting to fit ARIMA(4, 1, 4)\n",
      "For danceability, the AIC for ARIMA(4,1,4) is: -204.84588980986075\n",
      "Attempting to fit ARIMA(4, 1, 5)\n",
      "For danceability, the AIC for ARIMA(4,1,5) is: -202.83206038969382\n",
      "Attempting to fit ARIMA(5, 1, 0)\n",
      "For danceability, the AIC for ARIMA(5,1,0) is: -209.93339658748783\n",
      "Attempting to fit ARIMA(5, 1, 1)\n",
      "For danceability, the AIC for ARIMA(5,1,1) is: -208.09386675249021\n",
      "Attempting to fit ARIMA(5, 1, 2)\n",
      "For danceability, the AIC for ARIMA(5,1,2) is: -207.5503616432934\n",
      "Attempting to fit ARIMA(5, 1, 3)\n",
      "Attempting to fit ARIMA(5, 1, 4)\n",
      "For danceability, the AIC for ARIMA(5,1,4) is: -204.71169562271172\n",
      "Attempting to fit ARIMA(5, 1, 5)\n",
      "For danceability, the AIC for ARIMA(5,1,5) is: -202.7176187019311\n",
      "\n",
      "DANCEABILITY MODEL FINISHED!\n",
      "The model for danceability that minimizes AIC on the training data is the ARIMA(0,1,1).\n",
      "The model has an aIC of -217.46053918380267.\n",
      "\n",
      "Attempting to fit ARIMA(0, 1, 0)\n",
      "For mode, the AIC for ARIMA(0,1,0) is: -137.02097486390662\n",
      "Attempting to fit ARIMA(0, 1, 1)\n",
      "For mode, the AIC for ARIMA(0,1,1) is: -143.95294729237605\n",
      "Attempting to fit ARIMA(0, 1, 2)\n",
      "For mode, the AIC for ARIMA(0,1,2) is: -143.9630634386608\n",
      "Attempting to fit ARIMA(0, 1, 3)\n",
      "For mode, the AIC for ARIMA(0,1,3) is: -142.7837310540238\n",
      "Attempting to fit ARIMA(0, 1, 4)\n",
      "For mode, the AIC for ARIMA(0,1,4) is: -145.22095187693162\n",
      "Attempting to fit ARIMA(0, 1, 5)\n",
      "For mode, the AIC for ARIMA(0,1,5) is: -143.49620877044492\n",
      "Attempting to fit ARIMA(1, 1, 0)\n",
      "For mode, the AIC for ARIMA(1,1,0) is: -139.1279029408733\n",
      "Attempting to fit ARIMA(1, 1, 1)\n",
      "For mode, the AIC for ARIMA(1,1,1) is: -143.1016679718722\n",
      "Attempting to fit ARIMA(1, 1, 2)\n",
      "For mode, the AIC for ARIMA(1,1,2) is: -141.440921241715\n",
      "Attempting to fit ARIMA(1, 1, 3)\n",
      "For mode, the AIC for ARIMA(1,1,3) is: -140.7385553953245\n",
      "Attempting to fit ARIMA(1, 1, 4)\n",
      "For mode, the AIC for ARIMA(1,1,4) is: -143.84503585553892\n",
      "Attempting to fit ARIMA(1, 1, 5)\n",
      "Attempting to fit ARIMA(2, 1, 0)\n",
      "For mode, the AIC for ARIMA(2,1,0) is: -138.87278399869058\n",
      "Attempting to fit ARIMA(2, 1, 1)\n",
      "For mode, the AIC for ARIMA(2,1,1) is: -142.37212384994206\n",
      "Attempting to fit ARIMA(2, 1, 2)\n",
      "For mode, the AIC for ARIMA(2,1,2) is: -139.0994770954262\n",
      "Attempting to fit ARIMA(2, 1, 3)\n",
      "For mode, the AIC for ARIMA(2,1,3) is: -143.90644295485663\n",
      "Attempting to fit ARIMA(2, 1, 4)\n",
      "For mode, the AIC for ARIMA(2,1,4) is: -142.3329453378151\n",
      "Attempting to fit ARIMA(2, 1, 5)\n",
      "For mode, the AIC for ARIMA(2,1,5) is: -134.1572639518496\n",
      "Attempting to fit ARIMA(3, 1, 0)\n",
      "For mode, the AIC for ARIMA(3,1,0) is: -146.88951614891624\n",
      "Attempting to fit ARIMA(3, 1, 1)\n",
      "For mode, the AIC for ARIMA(3,1,1) is: -144.94212387839337\n",
      "Attempting to fit ARIMA(3, 1, 2)\n",
      "For mode, the AIC for ARIMA(3,1,2) is: -143.32961996705552\n",
      "Attempting to fit ARIMA(3, 1, 3)\n",
      "For mode, the AIC for ARIMA(3,1,3) is: -141.72760030617474\n",
      "Attempting to fit ARIMA(3, 1, 4)\n",
      "For mode, the AIC for ARIMA(3,1,4) is: -140.42501787724018\n",
      "Attempting to fit ARIMA(3, 1, 5)\n",
      "For mode, the AIC for ARIMA(3,1,5) is: -136.76908688673473\n",
      "Attempting to fit ARIMA(4, 1, 0)\n",
      "For mode, the AIC for ARIMA(4,1,0) is: -144.92047118585594\n",
      "Attempting to fit ARIMA(4, 1, 1)\n",
      "For mode, the AIC for ARIMA(4,1,1) is: -144.01693885703446\n",
      "Attempting to fit ARIMA(4, 1, 2)\n",
      "For mode, the AIC for ARIMA(4,1,2) is: -142.33229212915018\n",
      "Attempting to fit ARIMA(4, 1, 3)\n",
      "For mode, the AIC for ARIMA(4,1,3) is: -140.37512281325928\n",
      "Attempting to fit ARIMA(4, 1, 4)\n",
      "For mode, the AIC for ARIMA(4,1,4) is: -137.83495462607232\n",
      "Attempting to fit ARIMA(4, 1, 5)\n",
      "For mode, the AIC for ARIMA(4,1,5) is: -136.34678710447002\n",
      "Attempting to fit ARIMA(5, 1, 0)\n",
      "For mode, the AIC for ARIMA(5,1,0) is: -143.37873577859716\n",
      "Attempting to fit ARIMA(5, 1, 1)\n",
      "For mode, the AIC for ARIMA(5,1,1) is: -140.95212176684413\n",
      "Attempting to fit ARIMA(5, 1, 2)\n",
      "For mode, the AIC for ARIMA(5,1,2) is: -140.02581350534507\n",
      "Attempting to fit ARIMA(5, 1, 3)\n",
      "Attempting to fit ARIMA(5, 1, 4)\n",
      "For mode, the AIC for ARIMA(5,1,4) is: -133.0250443209673\n",
      "Attempting to fit ARIMA(5, 1, 5)\n",
      "For mode, the AIC for ARIMA(5,1,5) is: -132.55554048955497\n",
      "\n",
      "MODE MODEL FINISHED!\n",
      "The model for mode that minimizes AIC on the training data is the ARIMA(3,1,0).\n",
      "The model has an aIC of -146.88951614891624.\n",
      "\n",
      "Attempting to fit ARIMA(0, 0, 0)\n",
      "For acousticness, the AIC for ARIMA(0,0,0) is: -141.70415105661533\n",
      "Attempting to fit ARIMA(0, 0, 1)\n",
      "For acousticness, the AIC for ARIMA(0,0,1) is: -172.460783728792\n",
      "Attempting to fit ARIMA(0, 0, 2)\n",
      "For acousticness, the AIC for ARIMA(0,0,2) is: -174.31660287283947\n",
      "Attempting to fit ARIMA(0, 0, 3)\n",
      "For acousticness, the AIC for ARIMA(0,0,3) is: -180.40934928380747\n",
      "Attempting to fit ARIMA(0, 0, 4)\n",
      "For acousticness, the AIC for ARIMA(0,0,4) is: -179.90989523422238\n",
      "Attempting to fit ARIMA(0, 0, 5)\n",
      "For acousticness, the AIC for ARIMA(0,0,5) is: -178.9725847711983\n",
      "Attempting to fit ARIMA(1, 0, 0)\n",
      "For acousticness, the AIC for ARIMA(1,0,0) is: -187.1255338622489\n",
      "Attempting to fit ARIMA(1, 0, 1)\n",
      "For acousticness, the AIC for ARIMA(1,0,1) is: -185.22048632419992\n",
      "Attempting to fit ARIMA(1, 0, 2)\n",
      "For acousticness, the AIC for ARIMA(1,0,2) is: -186.13743668096149\n",
      "Attempting to fit ARIMA(1, 0, 3)\n",
      "Attempting to fit ARIMA(1, 0, 4)\n",
      "Attempting to fit ARIMA(1, 0, 5)\n",
      "Attempting to fit ARIMA(2, 0, 0)\n",
      "For acousticness, the AIC for ARIMA(2,0,0) is: -185.1800051223091\n",
      "Attempting to fit ARIMA(2, 0, 1)\n",
      "Attempting to fit ARIMA(2, 0, 2)\n",
      "Attempting to fit ARIMA(2, 0, 3)\n",
      "For acousticness, the AIC for ARIMA(2,0,3) is: -64.64615770809024\n",
      "Attempting to fit ARIMA(2, 0, 4)\n",
      "Attempting to fit ARIMA(2, 0, 5)\n",
      "Attempting to fit ARIMA(3, 0, 0)\n",
      "For acousticness, the AIC for ARIMA(3,0,0) is: -184.98496217270647\n",
      "Attempting to fit ARIMA(3, 0, 1)\n",
      "For acousticness, the AIC for ARIMA(3,0,1) is: -183.3406249476412\n",
      "Attempting to fit ARIMA(3, 0, 2)\n",
      "For acousticness, the AIC for ARIMA(3,0,2) is: -181.8207718272681\n",
      "Attempting to fit ARIMA(3, 0, 3)\n",
      "For acousticness, the AIC for ARIMA(3,0,3) is: -171.59328314171464\n",
      "Attempting to fit ARIMA(3, 0, 4)\n",
      "Attempting to fit ARIMA(3, 0, 5)\n",
      "For acousticness, the AIC for ARIMA(3,0,5) is: -165.82254705017166\n",
      "Attempting to fit ARIMA(4, 0, 0)\n",
      "For acousticness, the AIC for ARIMA(4,0,0) is: -182.98537577876252\n",
      "Attempting to fit ARIMA(4, 0, 1)\n",
      "For acousticness, the AIC for ARIMA(4,0,1) is: -182.49908499828925\n",
      "Attempting to fit ARIMA(4, 0, 2)\n",
      "For acousticness, the AIC for ARIMA(4,0,2) is: -178.01828068615023\n",
      "Attempting to fit ARIMA(4, 0, 3)\n",
      "Attempting to fit ARIMA(4, 0, 4)\n",
      "Attempting to fit ARIMA(4, 0, 5)\n",
      "Attempting to fit ARIMA(5, 0, 0)\n",
      "For acousticness, the AIC for ARIMA(5,0,0) is: -184.21325452002466\n",
      "Attempting to fit ARIMA(5, 0, 1)\n",
      "For acousticness, the AIC for ARIMA(5,0,1) is: -183.24301363073195\n",
      "Attempting to fit ARIMA(5, 0, 2)\n",
      "For acousticness, the AIC for ARIMA(5,0,2) is: -185.2674478541148\n",
      "Attempting to fit ARIMA(5, 0, 3)\n",
      "For acousticness, the AIC for ARIMA(5,0,3) is: -107.6446392509205\n",
      "Attempting to fit ARIMA(5, 0, 4)\n",
      "Attempting to fit ARIMA(5, 0, 5)\n",
      "\n",
      "ACOUSTICNESS MODEL FINISHED!\n",
      "The model for acousticness that minimizes AIC on the training data is the ARIMA(1,0,0).\n",
      "The model has an aIC of -187.1255338622489.\n",
      "\n",
      "Attempting to fit ARIMA(0, 0, 0)\n",
      "For valence, the AIC for ARIMA(0,0,0) is: -184.74391693553127\n",
      "Attempting to fit ARIMA(0, 0, 1)\n",
      "For valence, the AIC for ARIMA(0,0,1) is: -194.86283814090334\n",
      "Attempting to fit ARIMA(0, 0, 2)\n",
      "For valence, the AIC for ARIMA(0,0,2) is: -194.27467795306003\n",
      "Attempting to fit ARIMA(0, 0, 3)\n",
      "For valence, the AIC for ARIMA(0,0,3) is: -196.1669249422571\n",
      "Attempting to fit ARIMA(0, 0, 4)\n",
      "For valence, the AIC for ARIMA(0,0,4) is: -195.14889686575387\n",
      "Attempting to fit ARIMA(0, 0, 5)\n",
      "For valence, the AIC for ARIMA(0,0,5) is: -194.02954768370185\n",
      "Attempting to fit ARIMA(1, 0, 0)\n",
      "For valence, the AIC for ARIMA(1,0,0) is: -198.0335929401061\n",
      "Attempting to fit ARIMA(1, 0, 1)\n",
      "For valence, the AIC for ARIMA(1,0,1) is: -196.2980174547877\n",
      "Attempting to fit ARIMA(1, 0, 2)\n",
      "For valence, the AIC for ARIMA(1,0,2) is: -194.317848123154\n",
      "Attempting to fit ARIMA(1, 0, 3)\n",
      "For valence, the AIC for ARIMA(1,0,3) is: -195.30991565538736\n",
      "Attempting to fit ARIMA(1, 0, 4)\n",
      "Attempting to fit ARIMA(1, 0, 5)\n",
      "Attempting to fit ARIMA(2, 0, 0)\n",
      "For valence, the AIC for ARIMA(2,0,0) is: -196.27426334562742\n",
      "Attempting to fit ARIMA(2, 0, 1)\n",
      "For valence, the AIC for ARIMA(2,0,1) is: -194.34852477590866\n",
      "Attempting to fit ARIMA(2, 0, 2)\n",
      "For valence, the AIC for ARIMA(2,0,2) is: -193.94797100789694\n",
      "Attempting to fit ARIMA(2, 0, 3)\n",
      "For valence, the AIC for ARIMA(2,0,3) is: -198.01768863792765\n",
      "Attempting to fit ARIMA(2, 0, 4)\n",
      "Attempting to fit ARIMA(2, 0, 5)\n",
      "Attempting to fit ARIMA(3, 0, 0)\n",
      "For valence, the AIC for ARIMA(3,0,0) is: -194.360764248167\n",
      "Attempting to fit ARIMA(3, 0, 1)\n",
      "For valence, the AIC for ARIMA(3,0,1) is: -194.01651611718685\n",
      "Attempting to fit ARIMA(3, 0, 2)\n",
      "For valence, the AIC for ARIMA(3,0,2) is: -197.89215434489918\n",
      "Attempting to fit ARIMA(3, 0, 3)\n",
      "For valence, the AIC for ARIMA(3,0,3) is: -195.94604673080167\n",
      "Attempting to fit ARIMA(3, 0, 4)\n",
      "Attempting to fit ARIMA(3, 0, 5)\n",
      "For valence, the AIC for ARIMA(3,0,5) is: -197.13390985402341\n",
      "Attempting to fit ARIMA(4, 0, 0)\n",
      "For valence, the AIC for ARIMA(4,0,0) is: -193.14934393072\n",
      "Attempting to fit ARIMA(4, 0, 1)\n",
      "For valence, the AIC for ARIMA(4,0,1) is: -192.66047307577188\n",
      "Attempting to fit ARIMA(4, 0, 2)\n",
      "For valence, the AIC for ARIMA(4,0,2) is: -195.9660107527554\n",
      "Attempting to fit ARIMA(4, 0, 3)\n",
      "For valence, the AIC for ARIMA(4,0,3) is: -194.33807637057484\n",
      "Attempting to fit ARIMA(4, 0, 4)\n",
      "For valence, the AIC for ARIMA(4,0,4) is: -191.3432953785156\n",
      "Attempting to fit ARIMA(4, 0, 5)\n",
      "For valence, the AIC for ARIMA(4,0,5) is: -187.23028184542213\n",
      "Attempting to fit ARIMA(5, 0, 0)\n",
      "For valence, the AIC for ARIMA(5,0,0) is: -194.95946854915493\n",
      "Attempting to fit ARIMA(5, 0, 1)\n",
      "For valence, the AIC for ARIMA(5,0,1) is: -193.0142030533249\n",
      "Attempting to fit ARIMA(5, 0, 2)\n",
      "For valence, the AIC for ARIMA(5,0,2) is: -194.5256307583937\n",
      "Attempting to fit ARIMA(5, 0, 3)\n",
      "For valence, the AIC for ARIMA(5,0,3) is: -192.1828455808484\n",
      "Attempting to fit ARIMA(5, 0, 4)\n",
      "For valence, the AIC for ARIMA(5,0,4) is: -196.7029757260302\n",
      "Attempting to fit ARIMA(5, 0, 5)\n",
      "For valence, the AIC for ARIMA(5,0,5) is: -186.0023320362346\n",
      "\n",
      "VALENCE MODEL FINISHED!\n",
      "The model for valence that minimizes AIC on the training data is the ARIMA(1,0,0).\n",
      "The model has an aIC of -198.0335929401061.\n",
      "\n",
      "Attempting to fit ARIMA(0, 0, 0)\n",
      "For tempo, the AIC for ARIMA(0,0,0) is: 265.17897179535674\n",
      "Attempting to fit ARIMA(0, 0, 1)\n",
      "For tempo, the AIC for ARIMA(0,0,1) is: 247.26828361225006\n",
      "Attempting to fit ARIMA(0, 0, 2)\n",
      "For tempo, the AIC for ARIMA(0,0,2) is: 247.0709327823276\n",
      "Attempting to fit ARIMA(0, 0, 3)\n",
      "For tempo, the AIC for ARIMA(0,0,3) is: 248.43306235904424\n",
      "Attempting to fit ARIMA(0, 0, 4)\n",
      "For tempo, the AIC for ARIMA(0,0,4) is: 250.00726071630578\n",
      "Attempting to fit ARIMA(0, 0, 5)\n",
      "For tempo, the AIC for ARIMA(0,0,5) is: 251.8956945110944\n",
      "Attempting to fit ARIMA(1, 0, 0)\n",
      "For tempo, the AIC for ARIMA(1,0,0) is: 246.4897526958208\n",
      "Attempting to fit ARIMA(1, 0, 1)\n",
      "For tempo, the AIC for ARIMA(1,0,1) is: 246.79410902824787\n",
      "Attempting to fit ARIMA(1, 0, 2)\n",
      "For tempo, the AIC for ARIMA(1,0,2) is: 248.71762184318277\n",
      "Attempting to fit ARIMA(1, 0, 3)\n",
      "For tempo, the AIC for ARIMA(1,0,3) is: 250.23431415923943\n",
      "Attempting to fit ARIMA(1, 0, 4)\n",
      "Attempting to fit ARIMA(1, 0, 5)\n",
      "For tempo, the AIC for ARIMA(1,0,5) is: 252.32947127614406\n",
      "Attempting to fit ARIMA(2, 0, 0)\n",
      "For tempo, the AIC for ARIMA(2,0,0) is: 246.6196812747072\n",
      "Attempting to fit ARIMA(2, 0, 1)\n",
      "For tempo, the AIC for ARIMA(2,0,1) is: 248.6168275114984\n",
      "Attempting to fit ARIMA(2, 0, 2)\n",
      "For tempo, the AIC for ARIMA(2,0,2) is: 256.640073210869\n",
      "Attempting to fit ARIMA(2, 0, 3)\n",
      "For tempo, the AIC for ARIMA(2,0,3) is: 253.1623352048769\n",
      "Attempting to fit ARIMA(2, 0, 4)\n",
      "Attempting to fit ARIMA(2, 0, 5)\n",
      "For tempo, the AIC for ARIMA(2,0,5) is: 254.78840561520454\n",
      "Attempting to fit ARIMA(3, 0, 0)\n",
      "For tempo, the AIC for ARIMA(3,0,0) is: 248.6154646691275\n",
      "Attempting to fit ARIMA(3, 0, 1)\n",
      "For tempo, the AIC for ARIMA(3,0,1) is: 250.58229204797954\n",
      "Attempting to fit ARIMA(3, 0, 2)\n",
      "For tempo, the AIC for ARIMA(3,0,2) is: 253.65788645655556\n",
      "Attempting to fit ARIMA(3, 0, 3)\n",
      "For tempo, the AIC for ARIMA(3,0,3) is: 252.9827657780238\n",
      "Attempting to fit ARIMA(3, 0, 4)\n",
      "For tempo, the AIC for ARIMA(3,0,4) is: 252.97634662403735\n",
      "Attempting to fit ARIMA(3, 0, 5)\n",
      "For tempo, the AIC for ARIMA(3,0,5) is: 252.50519552398924\n",
      "Attempting to fit ARIMA(4, 0, 0)\n",
      "For tempo, the AIC for ARIMA(4,0,0) is: 250.55482759845717\n",
      "Attempting to fit ARIMA(4, 0, 1)\n",
      "For tempo, the AIC for ARIMA(4,0,1) is: 252.5687354944133\n",
      "Attempting to fit ARIMA(4, 0, 2)\n",
      "For tempo, the AIC for ARIMA(4,0,2) is: 253.12403863622484\n",
      "Attempting to fit ARIMA(4, 0, 3)\n",
      "For tempo, the AIC for ARIMA(4,0,3) is: 255.42532537682425\n",
      "Attempting to fit ARIMA(4, 0, 4)\n",
      "Attempting to fit ARIMA(4, 0, 5)\n",
      "Attempting to fit ARIMA(5, 0, 0)\n",
      "For tempo, the AIC for ARIMA(5,0,0) is: 251.5523381874948\n",
      "Attempting to fit ARIMA(5, 0, 1)\n",
      "For tempo, the AIC for ARIMA(5,0,1) is: 253.52867280490403\n",
      "Attempting to fit ARIMA(5, 0, 2)\n",
      "For tempo, the AIC for ARIMA(5,0,2) is: 255.03326888153737\n",
      "Attempting to fit ARIMA(5, 0, 3)\n",
      "For tempo, the AIC for ARIMA(5,0,3) is: 256.8728107179284\n",
      "Attempting to fit ARIMA(5, 0, 4)\n",
      "For tempo, the AIC for ARIMA(5,0,4) is: 254.1288311551685\n",
      "Attempting to fit ARIMA(5, 0, 5)\n",
      "For tempo, the AIC for ARIMA(5,0,5) is: 256.67776564896656\n",
      "\n",
      "TEMPO MODEL FINISHED!\n",
      "The model for tempo that minimizes AIC on the training data is the ARIMA(1,0,0).\n",
      "The model has an aIC of 246.4897526958208.\n",
      "\n"
     ]
    }
   ],
   "source": [
    "for feature in five_features:\n",
    "    find_p_and_q(it_rw_18, feature, arima_dict_18)"
   ]
  },
  {
   "cell_type": "code",
   "execution_count": 28,
   "metadata": {},
   "outputs": [
    {
     "data": {
      "text/html": [
       "<div>\n",
       "<style scoped>\n",
       "    .dataframe tbody tr th:only-of-type {\n",
       "        vertical-align: middle;\n",
       "    }\n",
       "\n",
       "    .dataframe tbody tr th {\n",
       "        vertical-align: top;\n",
       "    }\n",
       "\n",
       "    .dataframe thead th {\n",
       "        text-align: right;\n",
       "    }\n",
       "</style>\n",
       "<table border=\"1\" class=\"dataframe\">\n",
       "  <thead>\n",
       "    <tr style=\"text-align: right;\">\n",
       "      <th></th>\n",
       "      <th>audio_feature</th>\n",
       "      <th>ndiffs(d)</th>\n",
       "      <th>best_p</th>\n",
       "      <th>best_q</th>\n",
       "      <th>order</th>\n",
       "      <th>ARIMA_model</th>\n",
       "      <th>ARIMA_AIC</th>\n",
       "    </tr>\n",
       "  </thead>\n",
       "  <tbody>\n",
       "    <tr>\n",
       "      <th>0</th>\n",
       "      <td>danceability</td>\n",
       "      <td>1</td>\n",
       "      <td>0</td>\n",
       "      <td>1</td>\n",
       "      <td>(0, 1, 1)</td>\n",
       "      <td>ARIMA(0,1,1)</td>\n",
       "      <td>-217.460539</td>\n",
       "    </tr>\n",
       "    <tr>\n",
       "      <th>1</th>\n",
       "      <td>mode</td>\n",
       "      <td>1</td>\n",
       "      <td>3</td>\n",
       "      <td>0</td>\n",
       "      <td>(3, 1, 0)</td>\n",
       "      <td>ARIMA(3,1,0)</td>\n",
       "      <td>-146.889516</td>\n",
       "    </tr>\n",
       "    <tr>\n",
       "      <th>2</th>\n",
       "      <td>acousticness</td>\n",
       "      <td>0</td>\n",
       "      <td>1</td>\n",
       "      <td>0</td>\n",
       "      <td>(1, 0, 0)</td>\n",
       "      <td>ARIMA(1,0,0)</td>\n",
       "      <td>-187.125534</td>\n",
       "    </tr>\n",
       "    <tr>\n",
       "      <th>3</th>\n",
       "      <td>valence</td>\n",
       "      <td>0</td>\n",
       "      <td>1</td>\n",
       "      <td>0</td>\n",
       "      <td>(1, 0, 0)</td>\n",
       "      <td>ARIMA(1,0,0)</td>\n",
       "      <td>-198.033593</td>\n",
       "    </tr>\n",
       "    <tr>\n",
       "      <th>4</th>\n",
       "      <td>tempo</td>\n",
       "      <td>0</td>\n",
       "      <td>1</td>\n",
       "      <td>0</td>\n",
       "      <td>(1, 0, 0)</td>\n",
       "      <td>ARIMA(1,0,0)</td>\n",
       "      <td>246.489753</td>\n",
       "    </tr>\n",
       "  </tbody>\n",
       "</table>\n",
       "</div>"
      ],
      "text/plain": [
       "  audio_feature  ndiffs(d)  best_p  best_q      order   ARIMA_model  \\\n",
       "0  danceability          1       0       1  (0, 1, 1)  ARIMA(0,1,1)   \n",
       "1          mode          1       3       0  (3, 1, 0)  ARIMA(3,1,0)   \n",
       "2  acousticness          0       1       0  (1, 0, 0)  ARIMA(1,0,0)   \n",
       "3       valence          0       1       0  (1, 0, 0)  ARIMA(1,0,0)   \n",
       "4         tempo          0       1       0  (1, 0, 0)  ARIMA(1,0,0)   \n",
       "\n",
       "    ARIMA_AIC  \n",
       "0 -217.460539  \n",
       "1 -146.889516  \n",
       "2 -187.125534  \n",
       "3 -198.033593  \n",
       "4  246.489753  "
      ]
     },
     "execution_count": 28,
     "metadata": {},
     "output_type": "execute_result"
    }
   ],
   "source": [
    "arima_param_df_18 = pd.DataFrame(arima_dict_18)\n",
    "arima_param_df_18"
   ]
  },
  {
   "cell_type": "code",
   "execution_count": null,
   "metadata": {},
   "outputs": [],
   "source": []
  },
  {
   "cell_type": "markdown",
   "metadata": {},
   "source": [
    "# ARIMA Models  "
   ]
  },
  {
   "cell_type": "markdown",
   "metadata": {},
   "source": [
    "### Function to create, evaluate, and plot `ARIMA` models "
   ]
  },
  {
   "cell_type": "code",
   "execution_count": 29,
   "metadata": {},
   "outputs": [],
   "source": [
    "def arima_predict_plot(df, feature, year, param_df, title='title', figsize=(15,5), order=None, d=None, ci=True):\n",
    "  \n",
    "    # create train and test sets\n",
    "    n_rows = round(len(df)*0.9)\n",
    "    train = df[feature][0:n_rows]\n",
    "    test = df[feature][n_rows:]\n",
    "    \n",
    "    # find ndiffs for stationarity from ndiff dataframe\n",
    "    if d is None: \n",
    "        d = ndiff_df.loc[ndiff_df['audio_feature'] == feature, 'ndiffs for stationarity'].iloc[0]\n",
    "    print(f'd = {d}')\n",
    "    \n",
    "    if order is None:\n",
    "        # find order from arima parameters dataframe \n",
    "        order = param_df.loc[param_df['audio_feature'] == feature, 'order'].iloc[0]\n",
    "    print(f'order = {order}')\n",
    "   \n",
    "    # instantiate ARIMA model\n",
    "    model = ARIMA(train, order=order)\n",
    "\n",
    "    # fit ARIMA model\n",
    "    arima = model.fit()\n",
    "    \n",
    "    # get predictions for train and test sets \n",
    "    preds_train = model.predict(params=arima.params, start=train.index[d], end=train.index[-1], typ='levels')\n",
    "    preds_test = model.predict(params=arima.params, start=test.index[0], end=test.index[-1], typ='levels')\n",
    "    \n",
    "    # calculate and print RMSE for train and test setes \n",
    "    train_rmse = mean_squared_error(train[d::], preds_train)**0.5\n",
    "    print(f'{feature.capitalize()} train RMSE ({year}) - ARIMA({order}): {train_rmse}')\n",
    "\n",
    "    test_rmse = mean_squared_error(test, preds_test)**0.5\n",
    "    print(f'{feature.capitalize()} test RMSE ({year}) - ARIMA({order}): {test_rmse}')\n",
    "    \n",
    "    # add RMSEs to arima parameters dataframe \n",
    "    param_df.loc[param_df['audio_feature'] == feature, 'arima_train_rmse'] = train_rmse    \n",
    "    param_df.loc[param_df['audio_feature'] == feature, 'arima_test_rmse'] = test_rmse\n",
    "    \n",
    "      # set up plot\n",
    "    plt.figure(figsize=figsize)\n",
    "    \n",
    "    # plot training data \n",
    "    plt.plot(train, color='blue')\n",
    "    \n",
    "    # plot testing data \n",
    "    plt.plot(test.index, test, color='orange')\n",
    "    \n",
    "    # plot predicted values for test set \n",
    "    plt.plot(test.index, preds_test, color='green')\n",
    "    \n",
    "    # add line for the baseline model (mean value of feature)\n",
    "    plt.hlines(df[feature].mean(), train.index[0], test.index[-1], color = 'grey')\n",
    "    \n",
    "    # plot confidence interval\n",
    "    if ci:\n",
    "        ci = 1.96 * np.std(preds_test)/np.mean(preds_test)\n",
    "        plt.fill_between(test.index, (preds_test - ci), (preds_test + ci), color='blue', alpha=.1) \n",
    "\n",
    "    # make plot with title! \n",
    "    plt.title(title, fontsize=16)\n",
    "    plt.show() ; "
   ]
  },
  {
   "cell_type": "markdown",
   "metadata": {},
   "source": [
    "_Function soley for plotting to be used when needed._"
   ]
  },
  {
   "cell_type": "code",
   "execution_count": 30,
   "metadata": {},
   "outputs": [],
   "source": [
    "def arima_plot(train, test, preds_test, title='title', figsize=(15,5), ci=True):\n",
    "    \n",
    "    # set up plot\n",
    "    plt.figure(figsize=figsize)\n",
    "    \n",
    "    # plot training data \n",
    "    plt.plot(train, color='blue')\n",
    "    \n",
    "    # plot testing data \n",
    "    plt.plot(test.index, test, color='orange')\n",
    "    \n",
    "    # plot predicted values for test set \n",
    "    plt.plot(test.index, preds_test, color='green')\n",
    "    \n",
    "    # add line for the baseline model (mean value of feature)\n",
    "    plt.hlines(df[feature].mean(), train.index[0], test.index[-1], color = 'grey')\n",
    "    \n",
    "    # plot confidence interval \n",
    "    if ci:\n",
    "        ci = 1.96 * np.std(preds_test)/np.mean(preds_test)\n",
    "        plt.fill_between(test.index, (preds_test - ci), (preds_test + ci), color='blue', alpha=.1) \n",
    "    \n",
    "    # make plot with title! \n",
    "    plt.title(title, fontsize=16)\n",
    "    plt.show() ; "
   ]
  },
  {
   "cell_type": "markdown",
   "metadata": {},
   "source": [
    "### ARIMA Models - 2018\n",
    "\n",
    "_Using `arima_predict_plot` function to run ARIMA model for each feature and show plot of actual vs. test._\n",
    "\n",
    "_This will also add columns for `arima_train_rmse` and `arima_test_rmse`._"
   ]
  },
  {
   "cell_type": "code",
   "execution_count": null,
   "metadata": {},
   "outputs": [],
   "source": [
    "it_rw_18.head(2)"
   ]
  },
  {
   "cell_type": "code",
   "execution_count": null,
   "metadata": {},
   "outputs": [],
   "source": [
    "it_rw_18.tail(2)"
   ]
  },
  {
   "cell_type": "code",
   "execution_count": null,
   "metadata": {},
   "outputs": [],
   "source": [
    "for feature in five_features: \n",
    "    arima_predict_plot(it_rw_17, feature, 2017, title=f'Mean {feature.capitalize()} Score, Italy 2017 (ARIMA)')"
   ]
  },
  {
   "cell_type": "markdown",
   "metadata": {},
   "source": [
    "#### _Updated `arima_param_df_18`_"
   ]
  },
  {
   "cell_type": "code",
   "execution_count": null,
   "metadata": {},
   "outputs": [],
   "source": [
    "arima_param_df_18"
   ]
  },
  {
   "cell_type": "markdown",
   "metadata": {},
   "source": [
    "# SARIMAX models "
   ]
  },
  {
   "cell_type": "code",
   "execution_count": null,
   "metadata": {},
   "outputs": [],
   "source": [
    "from statsmodels.tsa.statespace.sarimax import SARIMAX"
   ]
  },
  {
   "cell_type": "markdown",
   "metadata": {},
   "source": [
    "#### _As baseline, Fitting SARIMAX with `seasonal_order = (2, 0, 2, 52)` and no exogenous variables before incorporating/engineering those components._"
   ]
  },
  {
   "cell_type": "code",
   "execution_count": null,
   "metadata": {},
   "outputs": [],
   "source": [
    "P, D, Q, S = 2, 0 ,2, 52\n",
    "train_val = it_rw_17['valence'][0:48]\n",
    "test_val = it_rw_17['valence'][48:]\n",
    "\n",
    "sarima_val = SARIMAX(endog = train_val, order = (2, 0, 2), seasonal_order = (P, D, Q, S)).fit()\n",
    "# sarima_pred = sarima.predict(start=start, end = end)\n",
    "\n",
    "preds_train_sarima_val = sarima_val.predict(start=train_val.index[0], end=train_val.index[-1])\n",
    "preds_test_sarima_val = sarima_val.predict(start=test_val.index[0], end=test_val.index[-1])\n",
    "\n",
    "print(f'RMSE = {round(mean_squared_error(test_val, preds_test_sarima_val)**.5, 2)}')\n",
    "\n",
    "arima_plot(train_val, test_val, preds_test_sarima_val, title=\"Basic SARIMA model - Valence, Italy 2017\", figsize=(10,3))"
   ]
  },
  {
   "cell_type": "markdown",
   "metadata": {},
   "source": [
    "#### Plotting ARIMA plot from above again, for comparison: "
   ]
  },
  {
   "cell_type": "code",
   "execution_count": null,
   "metadata": {},
   "outputs": [],
   "source": [
    "arima_predict_plot(it_rw_17, 'valence', 2017, title=f'Mean Valence Score, Italy 2017', figsize=(10,3))"
   ]
  },
  {
   "cell_type": "markdown",
   "metadata": {},
   "source": [
    "### SARIMAX Seasonal Parameters"
   ]
  },
  {
   "cell_type": "markdown",
   "metadata": {},
   "source": [
    "#### _Grid search to find best `P`, `D`, `Q`, and `s` values_"
   ]
  },
  {
   "cell_type": "code",
   "execution_count": null,
   "metadata": {},
   "outputs": [],
   "source": [
    "def find_sarima_parameters(df, feature, n_rows=47):    \n",
    "    \n",
    "    import time\n",
    "    t0 = time.time()\n",
    "    final_mae = 1000000000000\n",
    "    final_S = 0\n",
    "    final_D = 0\n",
    "    final_P = 0\n",
    "    final_Q = 0\n",
    "    \n",
    "    # find order from arima parameters dataframe \n",
    "    order = param_df.loc[param_df['audio_feature'] == feature, 'order'].iloc[0]\n",
    "\n",
    "    train_values = df[feature][0:n_rows]\n",
    "    test_values = df[feature][n_rows:]\n",
    "\n",
    "    for S in range(48,53):\n",
    "        for D in range(2):\n",
    "            for P in range(4):\n",
    "                for Q in range(4):\n",
    "                    print(f'Checking ({P}, {D}, {Q}, {S}) at {round(time.time() - t0)} seconds.')\n",
    "                    try:\n",
    "                        sarima = SARIMAX(endog = train_values,\n",
    "                                         order = order,\n",
    "                                         seasonal_order = (P, D, Q, S)).fit()\n",
    "\n",
    "                        sarima_pred = sarima.predict(start=test_values.index[0], end=test_values.index[-1], typ='levels')\n",
    "\n",
    "                        if mean_absolute_error(test_values, sarima_pred) < final_mae:\n",
    "                            final_mae = mean_absolute_error(test_values, sarima_pred)\n",
    "                            final_S = S\n",
    "                            final_D = D\n",
    "                            final_P = P\n",
    "                            final_Q = Q\n",
    "\n",
    "                        print(f'We just fit a SARIMAX(2, 0, 2)x({P}, {D}, {Q}, {S}) model with {mean_absolute_error(test_values, sarima_pred)} MAE and {mean_squared_error(test_values, sarima_pred)**0.5} RMSE.')\n",
    "\n",
    "                    except:\n",
    "                        print('problem!')\n",
    "                        raise\n",
    "\n",
    "    print()\n",
    "    print(f'The final model for {feature} is SARIMAX(2, 0, 2)x({final_P}, {final_D}, {final_Q}, {final_S}).')\n",
    "    print()"
   ]
  },
  {
   "cell_type": "code",
   "execution_count": null,
   "metadata": {},
   "outputs": [],
   "source": [
    "five_features"
   ]
  },
  {
   "cell_type": "code",
   "execution_count": null,
   "metadata": {
    "scrolled": true
   },
   "outputs": [],
   "source": [
    "for feature in five_features: \n",
    "    find_sarima_parameters(it_rw_17, feature)"
   ]
  },
  {
   "cell_type": "markdown",
   "metadata": {},
   "source": [
    "Results from above for 2017 data:\n",
    "+ The final model for danceability is SARIMAX(2, 0, 2)x(3, 0, 0, 48).\n",
    "+ The final model for mode is SARIMAX(2, 0, 2)x(1, 0, 1, 52).\n",
    "+ The final model for acousticness is SARIMAX(2, 0, 2)x(1, 0, 2, 48).\n",
    "+ The final model for valence is SARIMAX(2, 0, 2)x(0, 0, 1, 49).\n",
    "+ The final model for tempo is SARIMAX(2, 0, 2)x(2, 0, 0, 49)."
   ]
  },
  {
   "cell_type": "markdown",
   "metadata": {},
   "source": [
    "#### _Adding Seasonal Orders to `param_df`_"
   ]
  },
  {
   "cell_type": "markdown",
   "metadata": {},
   "source": [
    "citation: converting string to tuple https://www.geeksforgeeks.org/python-convert-string-to-tuple/"
   ]
  },
  {
   "cell_type": "code",
   "execution_count": null,
   "metadata": {},
   "outputs": [],
   "source": [
    "arima_param_df_18.loc[arima_param_df_18['audio_feature'] == 'danceability', 'seasonal_order'] = '3, 0, 0, 48'\n",
    "arima_param_df_18.loc[arima_param_df_18['audio_feature'] == 'mode', 'seasonal_order'] = '1, 0, 1, 52'\n",
    "arima_param_df_18.loc[arima_param_df_18['audio_feature'] == 'acousticness', 'seasonal_order'] = '1, 0, 2, 48'\n",
    "arima_param_df_18.loc[arima_param_df_18['audio_feature'] == 'valence', 'seasonal_order'] = '0, 0, 1, 49'\n",
    "arima_param_df_18.loc[arima_param_df_18['audio_feature'] == 'tempo', 'seasonal_order'] = '2, 0, 0, 49'"
   ]
  },
  {
   "cell_type": "markdown",
   "metadata": {},
   "source": [
    "#### _Updated `arima_param_df_18`_"
   ]
  },
  {
   "cell_type": "code",
   "execution_count": null,
   "metadata": {},
   "outputs": [],
   "source": [
    "arima_param_df_18"
   ]
  },
  {
   "cell_type": "markdown",
   "metadata": {},
   "source": [
    "#### _Function for SARIMA w/ seasonal components, no exogenous variables:_"
   ]
  },
  {
   "cell_type": "code",
   "execution_count": null,
   "metadata": {},
   "outputs": [],
   "source": [
    "def sarima_predict_plot_seasonal(df, feature, year, param_df, title='title', figsize=(15,5), order=None, d=None, seasonal_order=None, ci=True):\n",
    "  \n",
    "    # create train and test sets\n",
    "    n_rows = round(len(df)*0.9)\n",
    "    train = df[feature][0:n_rows]\n",
    "    test = df[feature][n_rows:]\n",
    "    \n",
    "    # find ndiffs for stationarity from ndiff dataframe\n",
    "    if d is None: \n",
    "        d = ndiff_df.loc[ndiff_df['audio_feature'] == feature, 'ndiffs for stationarity'].iloc[0]\n",
    "    print(f'd = {d}')\n",
    "    \n",
    "    # find order from arima parameters dataframe \n",
    "    if order is None:\n",
    "        order = param_df.loc[param_df['audio_feature'] == feature, 'order'].iloc[0]\n",
    "    print(f'order = {order}')\n",
    "    \n",
    "    # find seasonal order from arima parameters dataframe \n",
    "    if seasonal_order is None: \n",
    "        sea_string = param_df.loc[param_df['audio_feature'] == feature, 'seasonal_order'].iloc[0]\n",
    "        seasonal_order = tuple(map(int, sea_string.split(', '))) \n",
    "    print(f'seasonal order = {seasonal_order}')\n",
    "    \n",
    "    # instantiate and fit SARIMAX model \n",
    "    sarima = SARIMAX(endog=train, order=order, seasonal_order=seasonal_order).fit()\n",
    "\n",
    "    # get predictions for train and test sets \n",
    "    preds_train = sarima.predict(start=train.index[d], end=train.index[-1], typ='levels')\n",
    "    preds_test = sarima.predict(start=test.index[0], end=test.index[-1], typ='levels')\n",
    "    \n",
    "    # calculate and print RMSE for train and test setes \n",
    "    train_rmse = mean_squared_error(train[d::], preds_train)**0.5\n",
    "    print(f'{feature.capitalize()} train RMSE ({year}) - SARIMA({order}): {train_rmse}')\n",
    "\n",
    "    test_rmse = mean_squared_error(test, preds_test)**0.5\n",
    "    print(f'{feature.capitalize()} test RMSE ({year}) - SARIMA({order}): {test_rmse}')    \n",
    "    \n",
    "    # add RMSEs to arima parameters dataframe \n",
    "    param_df.loc[param_df['audio_feature'] == feature, 'sarima_train_rmse'] = train_rmse    \n",
    "    param_df.loc[param_df['audio_feature'] == feature, 'sarima_test_rmse'] = test_rmse\n",
    "    \n",
    "    # calculate residuals\n",
    "    # residuals = test - preds_test\n",
    "    \n",
    "    # set up plot\n",
    "    plt.figure(figsize=figsize)\n",
    "    \n",
    "    # plot training data \n",
    "    plt.plot(train, color='blue')\n",
    "    \n",
    "    # plot testing data \n",
    "    plt.plot(test.index, test, color='orange')\n",
    "    \n",
    "    # plot predicted values for test set \n",
    "    plt.plot(test.index, preds_test, color='green')\n",
    "    \n",
    "    # add line for the baseline model (mean value of feature)\n",
    "    plt.hlines(df[feature].mean(), train.index[0], test.index[-1], color = 'grey')\n",
    "    \n",
    "    # plot confidence interval \n",
    "    if ci:\n",
    "        ci = 1.96 * np.std(preds_test)/np.mean(preds_test)\n",
    "        plt.fill_between(test.index, (preds_test - ci), (preds_test + ci), color='blue', alpha=.1) \n",
    "    \n",
    "    # make plot with title! \n",
    "    plt.title(title, fontsize=16)\n",
    "    plt.show() ; "
   ]
  },
  {
   "cell_type": "code",
   "execution_count": null,
   "metadata": {},
   "outputs": [],
   "source": [
    "for feature in five_features:\n",
    "    sarima_predict_plot_seasonal(it_rw_17, feature, 2017, title=f'Mean {feature.capitalize()} Score, Italy 2017 (SARIMA w/0 exog variables)')"
   ]
  },
  {
   "cell_type": "markdown",
   "metadata": {},
   "source": [
    "#### _Updated `arima_param_df_18`_"
   ]
  },
  {
   "cell_type": "code",
   "execution_count": null,
   "metadata": {},
   "outputs": [],
   "source": [
    "arima_param_df_18"
   ]
  },
  {
   "cell_type": "markdown",
   "metadata": {},
   "source": [
    "#### _Incorporating Exogenous Variables in SARIMAX models_"
   ]
  },
  {
   "cell_type": "code",
   "execution_count": null,
   "metadata": {},
   "outputs": [],
   "source": [
    "def sarima_predict_plot_exog(df, feature, year, param_df, exog_var, title='title', figsize=(15,5), order=None, d=None, seasonal_order=None, ci=True):\n",
    "\n",
    "    # find ndiffs for stationarity from ndiff dataframe\n",
    "    if d is None: \n",
    "        d = ndiff_df.loc[ndiff_df['audio_feature'] == feature, 'ndiffs for stationarity'].iloc[0]\n",
    "    print(f'd = {d}')\n",
    "    \n",
    "    # find order from arima parameters dataframe \n",
    "    if order is None:\n",
    "        order = param_df.loc[param_df['audio_feature'] == feature, 'order'].iloc[0]\n",
    "    print(f'order = {order}')\n",
    "    \n",
    "    # find seasonal order from arima parameters dataframe \n",
    "    if seasonal_order is None: \n",
    "        sea_string = param_df.loc[param_df['audio_feature'] == feature, 'seasonal_order'].iloc[0]\n",
    "        seasonal_order = tuple(map(int, sea_string.split(', '))) \n",
    "    print(f'seasonal order = {seasonal_order}')\n",
    "    \n",
    "    # reshape exogenous features to pass to the model \n",
    "    exog = df.loc[:, exog_var]   \n",
    "   \n",
    "    # create train and test sets\n",
    "    n_rows = round(len(df)*0.9)\n",
    "    train = df[feature][0:n_rows]\n",
    "    test = df[feature][n_rows:]\n",
    "    \n",
    "    # instantiate and fit SARIMAX model \n",
    "    sarima = SARIMAX(endog=train, exog=exog[0:n_rows], order=order, seasonal_order=seasonal_order).fit()\n",
    "\n",
    "    # get predictions for train and test sets \n",
    "    preds_train = sarima.predict(start=train.index[d], end=train.index[-1], typ='levels', exog=exog[0:n_rows])\n",
    "    preds_test = sarima.predict(start=test.index[0], end=test.index[-1], typ='levels', exog=exog[n_rows:])\n",
    "    \n",
    "    # calculate and print RMSE for train and test setes \n",
    "    train_rmse = mean_squared_error(train[d::], preds_train)**0.5\n",
    "    print(f'{feature.capitalize()} train RMSE ({year}) - SARIMAX({seasonal_order}) w/ exogenous variables: {train_rmse}')\n",
    "\n",
    "    test_rmse = mean_squared_error(test, preds_test)**0.5\n",
    "    print(f'{feature.capitalize()} test RMSE ({year}) - SARIMAX({seasonal_order}) w/ exogenous variables: {test_rmse}')    \n",
    "    \n",
    "    # add RMSEs to arima parameters dataframe \n",
    "    param_df.loc[param_df['audio_feature'] == feature, 'exog_train_rmse'] = train_rmse    \n",
    "    param_df.loc[param_df['audio_feature'] == feature, 'exog_test_rmse'] = test_rmse\n",
    "\n",
    "    # calculate residuals\n",
    "    # residuals = test - preds_test\n",
    "    \n",
    "    # set up plot\n",
    "    plt.figure(figsize=figsize)\n",
    "    \n",
    "    # plot training data \n",
    "    plt.plot(train, color='blue')\n",
    "    \n",
    "    # plot testing data \n",
    "    plt.plot(test.index, test, color='orange')\n",
    "    \n",
    "    # plot predicted values for test set \n",
    "    plt.plot(test.index, preds_test, color='green')\n",
    "    \n",
    "    # add line for the baseline model (mean value of feature)\n",
    "    plt.hlines(df[feature].mean(), train.index[0], test.index[-1], color = 'grey')\n",
    "    \n",
    "    # plot confidence interval \n",
    "    if ci:\n",
    "        ci = 1.96 * np.std(preds_test)/np.mean(preds_test)\n",
    "        plt.fill_between(test.index, (preds_test - ci), (preds_test + ci), color='blue', alpha=.1) \n",
    "    \n",
    "    # make plot with title! \n",
    "    plt.title(title, fontsize=16)\n",
    "    plt.show() ; "
   ]
  },
  {
   "cell_type": "markdown",
   "metadata": {},
   "source": [
    "_Identifying exogenous variables for each of the five main features, which for each of them is the other four audio features_"
   ]
  },
  {
   "cell_type": "code",
   "execution_count": null,
   "metadata": {},
   "outputs": [],
   "source": [
    "five_features = ['danceability', 'mode', 'acousticness', 'valence', 'tempo']\n",
    "\n",
    "exog_danceability = ['mode', 'acousticness', 'valence', 'tempo']\n",
    "exog_mode = ['danceability', 'acousticness', 'valence', 'tempo']\n",
    "exog_acousticness = ['danceability', 'mode', 'valence', 'tempo']\n",
    "exog_valence = ['danceability', 'mode', 'acousticness', 'tempo']\n",
    "exog_tempo = ['danceability', 'mode', 'acousticness', 'valence']"
   ]
  },
  {
   "cell_type": "code",
   "execution_count": null,
   "metadata": {},
   "outputs": [],
   "source": [
    "sarima_predict_plot_exog(it_rw_17, 'danceability', 2017, exog_var=exog_danceability, title=f'Mean Danceability Score, Italy 2017 (SARIMA w/ exog variables)')"
   ]
  },
  {
   "cell_type": "code",
   "execution_count": null,
   "metadata": {},
   "outputs": [],
   "source": [
    "# for feature in five_features:\n",
    "#     sarima_predict_plot_exog(it_rw_17, feature, 2017, exog_var=f'exog_{feature}', title=f'Mean {feature} Score, Italy 2017 (SARIMA w/ exog variables)')"
   ]
  },
  {
   "cell_type": "code",
   "execution_count": null,
   "metadata": {},
   "outputs": [],
   "source": [
    "sarima_predict_plot_exog(it_rw_17, 'mode', 2017, exog_var=exog_mode, title=f'Mean Mode Score, Italy 2017 (SARIMA w/ exog variables)')"
   ]
  },
  {
   "cell_type": "code",
   "execution_count": null,
   "metadata": {},
   "outputs": [],
   "source": [
    "sarima_predict_plot_exog(it_rw_17, 'acousticness', 2017, exog_var=exog_acousticness, title=f'Mean Acousticness Score, Italy 2017 (SARIMA w/ exog variables)')"
   ]
  },
  {
   "cell_type": "code",
   "execution_count": null,
   "metadata": {},
   "outputs": [],
   "source": [
    "sarima_predict_plot_exog(it_rw_17, 'valence', 2017, exog_var=exog_valence, title=f'Mean Valence Score, Italy 2017 (SARIMA w/ exog variables)')"
   ]
  },
  {
   "cell_type": "code",
   "execution_count": null,
   "metadata": {},
   "outputs": [],
   "source": [
    "sarima_predict_plot_exog(it_rw_17, 'tempo', 2017, exog_var=exog_tempo, title=f'Mean Tempo Score, Italy 2017 (SARIMA w/ exog variables)')"
   ]
  },
  {
   "cell_type": "markdown",
   "metadata": {},
   "source": [
    "#### _Updated `arima_param_df_18`_"
   ]
  },
  {
   "cell_type": "code",
   "execution_count": null,
   "metadata": {},
   "outputs": [],
   "source": [
    "arima_param_df_18"
   ]
  },
  {
   "cell_type": "code",
   "execution_count": null,
   "metadata": {},
   "outputs": [],
   "source": []
  }
 ],
 "metadata": {
  "kernelspec": {
   "display_name": "Python 3",
   "language": "python",
   "name": "python3"
  },
  "language_info": {
   "codemirror_mode": {
    "name": "ipython",
    "version": 3
   },
   "file_extension": ".py",
   "mimetype": "text/x-python",
   "name": "python",
   "nbconvert_exporter": "python",
   "pygments_lexer": "ipython3",
   "version": "3.8.5"
  }
 },
 "nbformat": 4,
 "nbformat_minor": 4
}
