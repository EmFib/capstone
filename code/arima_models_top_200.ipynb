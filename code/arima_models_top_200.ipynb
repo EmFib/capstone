{
 "cells": [
  {
   "cell_type": "code",
   "execution_count": 51,
   "metadata": {},
   "outputs": [],
   "source": [
    "import numpy as np\n",
    "import pandas as pd\n",
    "import matplotlib.pyplot as plt \n",
    "import seaborn as sns\n",
    "\n",
    "import json\n",
    "\n",
    "from fycharts.SpotifyCharts import SpotifyCharts\n",
    "import sqlalchemy\n",
    "\n",
    "import spotipy\n",
    "from spotipy.oauth2 import SpotifyClientCredentials\n",
    "\n",
    "from datetime import datetime\n",
    "from sklearn.model_selection import train_test_split\n",
    "\n",
    "import statsmodels.api as sm\n",
    "\n",
    "# We are required to do this in order to avoid \"FutureWarning\" issues.\n",
    "from pandas.plotting import register_matplotlib_converters\n",
    "register_matplotlib_converters()\n",
    "\n",
    "from statsmodels.tsa.ar_model import AR\n",
    "from statsmodels.tsa.arima_model import ARIMA, ARMA\n",
    "from statsmodels.tsa.stattools import adfuller  \n",
    "\n",
    "from sklearn.metrics import mean_squared_error, mean_absolute_error\n",
    "from statsmodels.graphics.tsaplots import plot_acf, plot_pacf\n",
    "\n",
    "%matplotlib inline\n",
    "\n",
    "import warnings\n",
    "warnings.simplefilter(action=\"ignore\")"
   ]
  },
  {
   "cell_type": "code",
   "execution_count": 15,
   "metadata": {},
   "outputs": [
    {
     "data": {
      "text/plain": [
       "'/Users/emilynaftalin/Data_Science/General Assembly/dsi/capstone/code'"
      ]
     },
     "execution_count": 15,
     "metadata": {},
     "output_type": "execute_result"
    }
   ],
   "source": [
    "pwd"
   ]
  },
  {
   "cell_type": "markdown",
   "metadata": {},
   "source": [
    "**Reading in data for each country- 2017-2019; 2020**"
   ]
  },
  {
   "cell_type": "code",
   "execution_count": 16,
   "metadata": {},
   "outputs": [],
   "source": [
    "italy_17_19 = pd.read_pickle('../data/it_17_19_feat.pkl')\n",
    "spain_17_19 = pd.read_pickle('../data/sp_17_19_feat.pkl')\n",
    "greece_17_19 = pd.read_pickle('../data/gr_17_19_feat.pkl')"
   ]
  },
  {
   "cell_type": "code",
   "execution_count": 17,
   "metadata": {},
   "outputs": [],
   "source": [
    "italy_20 = pd.read_pickle('../data/it_20_feat.pkl')\n",
    "spain_20 = pd.read_pickle('../data/sp_20_feat.pkl')\n",
    "greece_20 = pd.read_pickle('../data/gr_20_feat.pkl')"
   ]
  },
  {
   "cell_type": "markdown",
   "metadata": {},
   "source": [
    "**Resampling by month**\n",
    "\n",
    "_`rm` denotes resampling by month._ "
   ]
  },
  {
   "cell_type": "code",
   "execution_count": 18,
   "metadata": {},
   "outputs": [],
   "source": [
    "rm_italy_17_19 = italy_17_19.resample(\"M\").mean()\n",
    "rm_spain_17_19 = spain_17_19.resample(\"M\").mean()\n",
    "rm_greece_17_19 = greece_17_19.resample(\"M\").mean()"
   ]
  },
  {
   "cell_type": "code",
   "execution_count": 19,
   "metadata": {},
   "outputs": [],
   "source": [
    "rm_italy_20 = italy_20.resample(\"M\").mean()\n",
    "rm_spain_20 = spain_20.resample(\"M\").mean()\n",
    "rm_greece_20 = greece_20.resample(\"M\").mean()"
   ]
  },
  {
   "cell_type": "markdown",
   "metadata": {},
   "source": [
    "**Resampling by week**\n",
    "\n",
    "_`rw` denotes resampling by week._ "
   ]
  },
  {
   "cell_type": "code",
   "execution_count": 20,
   "metadata": {},
   "outputs": [],
   "source": [
    "rw_italy_17_19 = italy_17_19.resample(\"W\").mean()\n",
    "rw_spain_17_19 = spain_17_19.resample(\"W\").mean()\n",
    "rw_greece_17_19 = greece_17_19.resample(\"W\").mean()"
   ]
  },
  {
   "cell_type": "code",
   "execution_count": 21,
   "metadata": {},
   "outputs": [],
   "source": [
    "rw_italy_20 = italy_20.resample(\"W\").mean()\n",
    "rw_spain_20 = spain_20.resample(\"W\").mean()\n",
    "rw_greece_20 = greece_20.resample(\"W\").mean()"
   ]
  },
  {
   "cell_type": "markdown",
   "metadata": {},
   "source": [
    "# SARIMAX model "
   ]
  },
  {
   "cell_type": "markdown",
   "metadata": {},
   "source": [
    "### Dickey-Fuller and Differencing "
   ]
  },
  {
   "cell_type": "markdown",
   "metadata": {},
   "source": [
    "Augmented Dickey-Fuller test to estimate whether data are stationary. "
   ]
  },
  {
   "cell_type": "code",
   "execution_count": 22,
   "metadata": {},
   "outputs": [],
   "source": [
    "# Code by Joseph Nelson! \n",
    "\n",
    "def interpret_dftest(dftest):\n",
    "    dfoutput = pd.Series(dftest[0:2], index=['Test Statistic', 'p-value'])\n",
    "    return dfoutput"
   ]
  },
  {
   "cell_type": "markdown",
   "metadata": {},
   "source": [
    "_Dickey-Fuller on original dataframes_"
   ]
  },
  {
   "cell_type": "code",
   "execution_count": 23,
   "metadata": {},
   "outputs": [
    {
     "data": {
      "text/plain": [
       "Test Statistic    0.194297\n",
       "p-value           0.195347\n",
       "dtype: float64"
      ]
     },
     "execution_count": 23,
     "metadata": {},
     "output_type": "execute_result"
    }
   ],
   "source": [
    "interpret_dftest(rw_italy_17_19['acousticness'].values.reshape(-1).tolist())"
   ]
  },
  {
   "cell_type": "code",
   "execution_count": 24,
   "metadata": {},
   "outputs": [
    {
     "data": {
      "text/plain": [
       "pandas.core.series.Series"
      ]
     },
     "execution_count": 24,
     "metadata": {},
     "output_type": "execute_result"
    }
   ],
   "source": [
    "type(interpret_dftest(rw_italy_17_19['acousticness'].values.reshape(-1).tolist()))"
   ]
  },
  {
   "cell_type": "code",
   "execution_count": 25,
   "metadata": {},
   "outputs": [],
   "source": [
    "audio_features = [\n",
    "'danceability', \n",
    " 'energy',\n",
    " 'key',\n",
    " 'loudness',\n",
    " 'mode',\n",
    " 'speechiness',\n",
    " 'acousticness',\n",
    " 'instrumentalness',\n",
    " 'liveness',\n",
    " 'valence',\n",
    " 'tempo']"
   ]
  },
  {
   "cell_type": "code",
   "execution_count": 26,
   "metadata": {},
   "outputs": [],
   "source": [
    "dickey_dict = {\n",
    "'danceability':[], \n",
    " 'energy':[],\n",
    " 'key':[],\n",
    " 'loudness':[],\n",
    " 'mode':[],\n",
    " 'speechiness':[],\n",
    " 'acousticness':[],\n",
    " 'instrumentalness':[],\n",
    " 'liveness':[],\n",
    " 'valence':[],\n",
    " 'tempo':[]\n",
    "    \n",
    "}\n",
    "\n",
    "for feature in audio_features:\n",
    "    dickey_dict[feature].append(f'{interpret_dftest(rw_italy_17_19[feature].values.reshape(-1).tolist())}')"
   ]
  },
  {
   "cell_type": "code",
   "execution_count": 27,
   "metadata": {},
   "outputs": [
    {
     "data": {
      "text/plain": [
       "{'danceability': ['Test Statistic    0.64154\\np-value           0.63785\\ndtype: float64'],\n",
       " 'energy': ['Test Statistic    0.693575\\np-value           0.695850\\ndtype: float64'],\n",
       " 'key': ['Test Statistic    5.240\\np-value           4.905\\ndtype: float64'],\n",
       " 'loudness': ['Test Statistic   -5.822415\\np-value          -5.922195\\ndtype: float64'],\n",
       " 'mode': ['Test Statistic    0.570\\np-value           0.565\\ndtype: float64'],\n",
       " 'speechiness': ['Test Statistic    0.099410\\np-value           0.105253\\ndtype: float64'],\n",
       " 'acousticness': ['Test Statistic    0.194297\\np-value           0.195347\\ndtype: float64'],\n",
       " 'instrumentalness': ['Test Statistic    0.010463\\np-value           0.016614\\ndtype: float64'],\n",
       " 'liveness': ['Test Statistic    0.164927\\np-value           0.156222\\ndtype: float64'],\n",
       " 'valence': ['Test Statistic    0.500168\\np-value           0.483813\\ndtype: float64'],\n",
       " 'tempo': ['Test Statistic    116.706005\\np-value           116.596895\\ndtype: float64']}"
      ]
     },
     "execution_count": 27,
     "metadata": {},
     "output_type": "execute_result"
    }
   ],
   "source": [
    "dickey_dict"
   ]
  },
  {
   "cell_type": "code",
   "execution_count": 28,
   "metadata": {},
   "outputs": [
    {
     "data": {
      "text/html": [
       "<div>\n",
       "<style scoped>\n",
       "    .dataframe tbody tr th:only-of-type {\n",
       "        vertical-align: middle;\n",
       "    }\n",
       "\n",
       "    .dataframe tbody tr th {\n",
       "        vertical-align: top;\n",
       "    }\n",
       "\n",
       "    .dataframe thead th {\n",
       "        text-align: right;\n",
       "    }\n",
       "</style>\n",
       "<table border=\"1\" class=\"dataframe\">\n",
       "  <thead>\n",
       "    <tr style=\"text-align: right;\">\n",
       "      <th></th>\n",
       "      <th>0</th>\n",
       "    </tr>\n",
       "  </thead>\n",
       "  <tbody>\n",
       "    <tr>\n",
       "      <th>danceability</th>\n",
       "      <td>Test Statistic    0.64154\\np-value           0...</td>\n",
       "    </tr>\n",
       "    <tr>\n",
       "      <th>energy</th>\n",
       "      <td>Test Statistic    0.693575\\np-value           ...</td>\n",
       "    </tr>\n",
       "    <tr>\n",
       "      <th>key</th>\n",
       "      <td>Test Statistic    5.240\\np-value           4.9...</td>\n",
       "    </tr>\n",
       "    <tr>\n",
       "      <th>loudness</th>\n",
       "      <td>Test Statistic   -5.822415\\np-value          -...</td>\n",
       "    </tr>\n",
       "    <tr>\n",
       "      <th>mode</th>\n",
       "      <td>Test Statistic    0.570\\np-value           0.5...</td>\n",
       "    </tr>\n",
       "    <tr>\n",
       "      <th>speechiness</th>\n",
       "      <td>Test Statistic    0.099410\\np-value           ...</td>\n",
       "    </tr>\n",
       "    <tr>\n",
       "      <th>acousticness</th>\n",
       "      <td>Test Statistic    0.194297\\np-value           ...</td>\n",
       "    </tr>\n",
       "    <tr>\n",
       "      <th>instrumentalness</th>\n",
       "      <td>Test Statistic    0.010463\\np-value           ...</td>\n",
       "    </tr>\n",
       "    <tr>\n",
       "      <th>liveness</th>\n",
       "      <td>Test Statistic    0.164927\\np-value           ...</td>\n",
       "    </tr>\n",
       "    <tr>\n",
       "      <th>valence</th>\n",
       "      <td>Test Statistic    0.500168\\np-value           ...</td>\n",
       "    </tr>\n",
       "    <tr>\n",
       "      <th>tempo</th>\n",
       "      <td>Test Statistic    116.706005\\np-value         ...</td>\n",
       "    </tr>\n",
       "  </tbody>\n",
       "</table>\n",
       "</div>"
      ],
      "text/plain": [
       "                                                                  0\n",
       "danceability      Test Statistic    0.64154\\np-value           0...\n",
       "energy            Test Statistic    0.693575\\np-value           ...\n",
       "key               Test Statistic    5.240\\np-value           4.9...\n",
       "loudness          Test Statistic   -5.822415\\np-value          -...\n",
       "mode              Test Statistic    0.570\\np-value           0.5...\n",
       "speechiness       Test Statistic    0.099410\\np-value           ...\n",
       "acousticness      Test Statistic    0.194297\\np-value           ...\n",
       "instrumentalness  Test Statistic    0.010463\\np-value           ...\n",
       "liveness          Test Statistic    0.164927\\np-value           ...\n",
       "valence           Test Statistic    0.500168\\np-value           ...\n",
       "tempo             Test Statistic    116.706005\\np-value         ..."
      ]
     },
     "execution_count": 28,
     "metadata": {},
     "output_type": "execute_result"
    }
   ],
   "source": [
    "pd.DataFrame(dickey_dict).T"
   ]
  },
  {
   "cell_type": "code",
   "execution_count": 29,
   "metadata": {},
   "outputs": [
    {
     "name": "stdout",
     "output_type": "stream",
     "text": [
      "Dickey_Fuller interpretation for danceability:\n",
      "Test Statistic    0.64154\n",
      "p-value           0.63785\n",
      "dtype: float64\n",
      "Dickey_Fuller interpretation for energy:\n",
      "Test Statistic    0.693575\n",
      "p-value           0.695850\n",
      "dtype: float64\n",
      "Dickey_Fuller interpretation for key:\n",
      "Test Statistic    5.240\n",
      "p-value           4.905\n",
      "dtype: float64\n",
      "Dickey_Fuller interpretation for loudness:\n",
      "Test Statistic   -5.822415\n",
      "p-value          -5.922195\n",
      "dtype: float64\n",
      "Dickey_Fuller interpretation for mode:\n",
      "Test Statistic    0.570\n",
      "p-value           0.565\n",
      "dtype: float64\n",
      "Dickey_Fuller interpretation for speechiness:\n",
      "Test Statistic    0.099410\n",
      "p-value           0.105253\n",
      "dtype: float64\n",
      "Dickey_Fuller interpretation for acousticness:\n",
      "Test Statistic    0.194297\n",
      "p-value           0.195347\n",
      "dtype: float64\n",
      "Dickey_Fuller interpretation for instrumentalness:\n",
      "Test Statistic    0.010463\n",
      "p-value           0.016614\n",
      "dtype: float64\n",
      "Dickey_Fuller interpretation for liveness:\n",
      "Test Statistic    0.164927\n",
      "p-value           0.156222\n",
      "dtype: float64\n",
      "Dickey_Fuller interpretation for valence:\n",
      "Test Statistic    0.500168\n",
      "p-value           0.483813\n",
      "dtype: float64\n",
      "Dickey_Fuller interpretation for tempo:\n",
      "Test Statistic    116.706005\n",
      "p-value           116.596895\n",
      "dtype: float64\n"
     ]
    }
   ],
   "source": [
    "for feature in audio_features:\n",
    "    print(f'Dickey_Fuller interpretation for {feature}:\\n{interpret_dftest(rw_italy_17_19[feature].values.reshape(-1).tolist())}')    "
   ]
  },
  {
   "cell_type": "markdown",
   "metadata": {},
   "source": [
    "### Once-differenced data"
   ]
  },
  {
   "cell_type": "code",
   "execution_count": 30,
   "metadata": {},
   "outputs": [
    {
     "data": {
      "text/html": [
       "<div>\n",
       "<style scoped>\n",
       "    .dataframe tbody tr th:only-of-type {\n",
       "        vertical-align: middle;\n",
       "    }\n",
       "\n",
       "    .dataframe tbody tr th {\n",
       "        vertical-align: top;\n",
       "    }\n",
       "\n",
       "    .dataframe thead th {\n",
       "        text-align: right;\n",
       "    }\n",
       "</style>\n",
       "<table border=\"1\" class=\"dataframe\">\n",
       "  <thead>\n",
       "    <tr style=\"text-align: right;\">\n",
       "      <th></th>\n",
       "      <th>Position</th>\n",
       "      <th>Streams</th>\n",
       "      <th>danceability</th>\n",
       "      <th>energy</th>\n",
       "      <th>key</th>\n",
       "      <th>loudness</th>\n",
       "      <th>mode</th>\n",
       "      <th>speechiness</th>\n",
       "      <th>acousticness</th>\n",
       "      <th>instrumentalness</th>\n",
       "      <th>liveness</th>\n",
       "      <th>valence</th>\n",
       "      <th>tempo</th>\n",
       "      <th>duration_ms</th>\n",
       "      <th>time_signature</th>\n",
       "    </tr>\n",
       "    <tr>\n",
       "      <th>date</th>\n",
       "      <th></th>\n",
       "      <th></th>\n",
       "      <th></th>\n",
       "      <th></th>\n",
       "      <th></th>\n",
       "      <th></th>\n",
       "      <th></th>\n",
       "      <th></th>\n",
       "      <th></th>\n",
       "      <th></th>\n",
       "      <th></th>\n",
       "      <th></th>\n",
       "      <th></th>\n",
       "      <th></th>\n",
       "      <th></th>\n",
       "    </tr>\n",
       "  </thead>\n",
       "  <tbody>\n",
       "    <tr>\n",
       "      <th>2017-01-08</th>\n",
       "      <td>100.5</td>\n",
       "      <td>145502.475</td>\n",
       "      <td>0.64154</td>\n",
       "      <td>0.693575</td>\n",
       "      <td>5.240</td>\n",
       "      <td>-5.822415</td>\n",
       "      <td>0.570</td>\n",
       "      <td>0.099410</td>\n",
       "      <td>0.194297</td>\n",
       "      <td>0.010463</td>\n",
       "      <td>0.164927</td>\n",
       "      <td>0.500168</td>\n",
       "      <td>116.706005</td>\n",
       "      <td>219129.85</td>\n",
       "      <td>3.995</td>\n",
       "    </tr>\n",
       "    <tr>\n",
       "      <th>2017-01-15</th>\n",
       "      <td>100.5</td>\n",
       "      <td>158424.445</td>\n",
       "      <td>0.63785</td>\n",
       "      <td>0.695850</td>\n",
       "      <td>4.905</td>\n",
       "      <td>-5.922195</td>\n",
       "      <td>0.565</td>\n",
       "      <td>0.105253</td>\n",
       "      <td>0.195347</td>\n",
       "      <td>0.016614</td>\n",
       "      <td>0.156222</td>\n",
       "      <td>0.483813</td>\n",
       "      <td>116.596895</td>\n",
       "      <td>215693.64</td>\n",
       "      <td>3.975</td>\n",
       "    </tr>\n",
       "    <tr>\n",
       "      <th>2017-01-22</th>\n",
       "      <td>100.5</td>\n",
       "      <td>166912.255</td>\n",
       "      <td>0.64331</td>\n",
       "      <td>0.706035</td>\n",
       "      <td>5.185</td>\n",
       "      <td>-5.789885</td>\n",
       "      <td>0.600</td>\n",
       "      <td>0.104810</td>\n",
       "      <td>0.189541</td>\n",
       "      <td>0.010576</td>\n",
       "      <td>0.157828</td>\n",
       "      <td>0.503616</td>\n",
       "      <td>117.256720</td>\n",
       "      <td>216752.93</td>\n",
       "      <td>4.000</td>\n",
       "    </tr>\n",
       "    <tr>\n",
       "      <th>2017-01-29</th>\n",
       "      <td>100.5</td>\n",
       "      <td>169132.215</td>\n",
       "      <td>0.64082</td>\n",
       "      <td>0.689941</td>\n",
       "      <td>5.110</td>\n",
       "      <td>-6.047320</td>\n",
       "      <td>0.595</td>\n",
       "      <td>0.101993</td>\n",
       "      <td>0.189309</td>\n",
       "      <td>0.011057</td>\n",
       "      <td>0.154504</td>\n",
       "      <td>0.495657</td>\n",
       "      <td>117.879770</td>\n",
       "      <td>215713.19</td>\n",
       "      <td>4.000</td>\n",
       "    </tr>\n",
       "    <tr>\n",
       "      <th>2017-02-05</th>\n",
       "      <td>100.5</td>\n",
       "      <td>181889.905</td>\n",
       "      <td>0.64247</td>\n",
       "      <td>0.693566</td>\n",
       "      <td>5.250</td>\n",
       "      <td>-5.921840</td>\n",
       "      <td>0.565</td>\n",
       "      <td>0.104047</td>\n",
       "      <td>0.193047</td>\n",
       "      <td>0.014126</td>\n",
       "      <td>0.151522</td>\n",
       "      <td>0.488651</td>\n",
       "      <td>116.862095</td>\n",
       "      <td>213350.36</td>\n",
       "      <td>3.990</td>\n",
       "    </tr>\n",
       "  </tbody>\n",
       "</table>\n",
       "</div>"
      ],
      "text/plain": [
       "            Position     Streams  danceability    energy    key  loudness  \\\n",
       "date                                                                        \n",
       "2017-01-08     100.5  145502.475       0.64154  0.693575  5.240 -5.822415   \n",
       "2017-01-15     100.5  158424.445       0.63785  0.695850  4.905 -5.922195   \n",
       "2017-01-22     100.5  166912.255       0.64331  0.706035  5.185 -5.789885   \n",
       "2017-01-29     100.5  169132.215       0.64082  0.689941  5.110 -6.047320   \n",
       "2017-02-05     100.5  181889.905       0.64247  0.693566  5.250 -5.921840   \n",
       "\n",
       "             mode  speechiness  acousticness  instrumentalness  liveness  \\\n",
       "date                                                                       \n",
       "2017-01-08  0.570     0.099410      0.194297          0.010463  0.164927   \n",
       "2017-01-15  0.565     0.105253      0.195347          0.016614  0.156222   \n",
       "2017-01-22  0.600     0.104810      0.189541          0.010576  0.157828   \n",
       "2017-01-29  0.595     0.101993      0.189309          0.011057  0.154504   \n",
       "2017-02-05  0.565     0.104047      0.193047          0.014126  0.151522   \n",
       "\n",
       "             valence       tempo  duration_ms  time_signature  \n",
       "date                                                           \n",
       "2017-01-08  0.500168  116.706005    219129.85           3.995  \n",
       "2017-01-15  0.483813  116.596895    215693.64           3.975  \n",
       "2017-01-22  0.503616  117.256720    216752.93           4.000  \n",
       "2017-01-29  0.495657  117.879770    215713.19           4.000  \n",
       "2017-02-05  0.488651  116.862095    213350.36           3.990  "
      ]
     },
     "execution_count": 30,
     "metadata": {},
     "output_type": "execute_result"
    }
   ],
   "source": [
    "lag_df = rw_italy_17_19.copy()\n",
    "lag_df.head()"
   ]
  },
  {
   "cell_type": "code",
   "execution_count": 31,
   "metadata": {},
   "outputs": [
    {
     "data": {
      "text/plain": [
       "(155, 15)"
      ]
     },
     "execution_count": 31,
     "metadata": {},
     "output_type": "execute_result"
    }
   ],
   "source": [
    "lag_df.shape"
   ]
  },
  {
   "cell_type": "code",
   "execution_count": 32,
   "metadata": {},
   "outputs": [],
   "source": [
    "for feature in audio_features: \n",
    "    lag_df[f'{feature}_once_differenced'] = lag_df[feature].diff(1).fillna(0)"
   ]
  },
  {
   "cell_type": "code",
   "execution_count": 33,
   "metadata": {},
   "outputs": [
    {
     "data": {
      "text/html": [
       "<div>\n",
       "<style scoped>\n",
       "    .dataframe tbody tr th:only-of-type {\n",
       "        vertical-align: middle;\n",
       "    }\n",
       "\n",
       "    .dataframe tbody tr th {\n",
       "        vertical-align: top;\n",
       "    }\n",
       "\n",
       "    .dataframe thead th {\n",
       "        text-align: right;\n",
       "    }\n",
       "</style>\n",
       "<table border=\"1\" class=\"dataframe\">\n",
       "  <thead>\n",
       "    <tr style=\"text-align: right;\">\n",
       "      <th></th>\n",
       "      <th>Position</th>\n",
       "      <th>Streams</th>\n",
       "      <th>danceability</th>\n",
       "      <th>energy</th>\n",
       "      <th>key</th>\n",
       "      <th>loudness</th>\n",
       "      <th>mode</th>\n",
       "      <th>speechiness</th>\n",
       "      <th>acousticness</th>\n",
       "      <th>instrumentalness</th>\n",
       "      <th>...</th>\n",
       "      <th>energy_once_differenced</th>\n",
       "      <th>key_once_differenced</th>\n",
       "      <th>loudness_once_differenced</th>\n",
       "      <th>mode_once_differenced</th>\n",
       "      <th>speechiness_once_differenced</th>\n",
       "      <th>acousticness_once_differenced</th>\n",
       "      <th>instrumentalness_once_differenced</th>\n",
       "      <th>liveness_once_differenced</th>\n",
       "      <th>valence_once_differenced</th>\n",
       "      <th>tempo_once_differenced</th>\n",
       "    </tr>\n",
       "    <tr>\n",
       "      <th>date</th>\n",
       "      <th></th>\n",
       "      <th></th>\n",
       "      <th></th>\n",
       "      <th></th>\n",
       "      <th></th>\n",
       "      <th></th>\n",
       "      <th></th>\n",
       "      <th></th>\n",
       "      <th></th>\n",
       "      <th></th>\n",
       "      <th></th>\n",
       "      <th></th>\n",
       "      <th></th>\n",
       "      <th></th>\n",
       "      <th></th>\n",
       "      <th></th>\n",
       "      <th></th>\n",
       "      <th></th>\n",
       "      <th></th>\n",
       "      <th></th>\n",
       "      <th></th>\n",
       "    </tr>\n",
       "  </thead>\n",
       "  <tbody>\n",
       "    <tr>\n",
       "      <th>2017-01-08</th>\n",
       "      <td>100.5</td>\n",
       "      <td>145502.475</td>\n",
       "      <td>0.64154</td>\n",
       "      <td>0.693575</td>\n",
       "      <td>5.240</td>\n",
       "      <td>-5.822415</td>\n",
       "      <td>0.570</td>\n",
       "      <td>0.099410</td>\n",
       "      <td>0.194297</td>\n",
       "      <td>0.010463</td>\n",
       "      <td>...</td>\n",
       "      <td>0.000000</td>\n",
       "      <td>0.000</td>\n",
       "      <td>0.000000</td>\n",
       "      <td>0.000</td>\n",
       "      <td>0.000000</td>\n",
       "      <td>0.000000</td>\n",
       "      <td>0.000000</td>\n",
       "      <td>0.000000</td>\n",
       "      <td>0.000000</td>\n",
       "      <td>0.000000</td>\n",
       "    </tr>\n",
       "    <tr>\n",
       "      <th>2017-01-15</th>\n",
       "      <td>100.5</td>\n",
       "      <td>158424.445</td>\n",
       "      <td>0.63785</td>\n",
       "      <td>0.695850</td>\n",
       "      <td>4.905</td>\n",
       "      <td>-5.922195</td>\n",
       "      <td>0.565</td>\n",
       "      <td>0.105253</td>\n",
       "      <td>0.195347</td>\n",
       "      <td>0.016614</td>\n",
       "      <td>...</td>\n",
       "      <td>0.002275</td>\n",
       "      <td>-0.335</td>\n",
       "      <td>-0.099780</td>\n",
       "      <td>-0.005</td>\n",
       "      <td>0.005843</td>\n",
       "      <td>0.001050</td>\n",
       "      <td>0.006151</td>\n",
       "      <td>-0.008704</td>\n",
       "      <td>-0.016355</td>\n",
       "      <td>-0.109110</td>\n",
       "    </tr>\n",
       "    <tr>\n",
       "      <th>2017-01-22</th>\n",
       "      <td>100.5</td>\n",
       "      <td>166912.255</td>\n",
       "      <td>0.64331</td>\n",
       "      <td>0.706035</td>\n",
       "      <td>5.185</td>\n",
       "      <td>-5.789885</td>\n",
       "      <td>0.600</td>\n",
       "      <td>0.104810</td>\n",
       "      <td>0.189541</td>\n",
       "      <td>0.010576</td>\n",
       "      <td>...</td>\n",
       "      <td>0.010185</td>\n",
       "      <td>0.280</td>\n",
       "      <td>0.132310</td>\n",
       "      <td>0.035</td>\n",
       "      <td>-0.000443</td>\n",
       "      <td>-0.005805</td>\n",
       "      <td>-0.006037</td>\n",
       "      <td>0.001606</td>\n",
       "      <td>0.019803</td>\n",
       "      <td>0.659825</td>\n",
       "    </tr>\n",
       "    <tr>\n",
       "      <th>2017-01-29</th>\n",
       "      <td>100.5</td>\n",
       "      <td>169132.215</td>\n",
       "      <td>0.64082</td>\n",
       "      <td>0.689941</td>\n",
       "      <td>5.110</td>\n",
       "      <td>-6.047320</td>\n",
       "      <td>0.595</td>\n",
       "      <td>0.101993</td>\n",
       "      <td>0.189309</td>\n",
       "      <td>0.011057</td>\n",
       "      <td>...</td>\n",
       "      <td>-0.016094</td>\n",
       "      <td>-0.075</td>\n",
       "      <td>-0.257435</td>\n",
       "      <td>-0.005</td>\n",
       "      <td>-0.002817</td>\n",
       "      <td>-0.000232</td>\n",
       "      <td>0.000480</td>\n",
       "      <td>-0.003324</td>\n",
       "      <td>-0.007959</td>\n",
       "      <td>0.623050</td>\n",
       "    </tr>\n",
       "    <tr>\n",
       "      <th>2017-02-05</th>\n",
       "      <td>100.5</td>\n",
       "      <td>181889.905</td>\n",
       "      <td>0.64247</td>\n",
       "      <td>0.693566</td>\n",
       "      <td>5.250</td>\n",
       "      <td>-5.921840</td>\n",
       "      <td>0.565</td>\n",
       "      <td>0.104047</td>\n",
       "      <td>0.193047</td>\n",
       "      <td>0.014126</td>\n",
       "      <td>...</td>\n",
       "      <td>0.003625</td>\n",
       "      <td>0.140</td>\n",
       "      <td>0.125480</td>\n",
       "      <td>-0.030</td>\n",
       "      <td>0.002054</td>\n",
       "      <td>0.003738</td>\n",
       "      <td>0.003070</td>\n",
       "      <td>-0.002982</td>\n",
       "      <td>-0.007006</td>\n",
       "      <td>-1.017675</td>\n",
       "    </tr>\n",
       "  </tbody>\n",
       "</table>\n",
       "<p>5 rows × 26 columns</p>\n",
       "</div>"
      ],
      "text/plain": [
       "            Position     Streams  danceability    energy    key  loudness  \\\n",
       "date                                                                        \n",
       "2017-01-08     100.5  145502.475       0.64154  0.693575  5.240 -5.822415   \n",
       "2017-01-15     100.5  158424.445       0.63785  0.695850  4.905 -5.922195   \n",
       "2017-01-22     100.5  166912.255       0.64331  0.706035  5.185 -5.789885   \n",
       "2017-01-29     100.5  169132.215       0.64082  0.689941  5.110 -6.047320   \n",
       "2017-02-05     100.5  181889.905       0.64247  0.693566  5.250 -5.921840   \n",
       "\n",
       "             mode  speechiness  acousticness  instrumentalness  ...  \\\n",
       "date                                                            ...   \n",
       "2017-01-08  0.570     0.099410      0.194297          0.010463  ...   \n",
       "2017-01-15  0.565     0.105253      0.195347          0.016614  ...   \n",
       "2017-01-22  0.600     0.104810      0.189541          0.010576  ...   \n",
       "2017-01-29  0.595     0.101993      0.189309          0.011057  ...   \n",
       "2017-02-05  0.565     0.104047      0.193047          0.014126  ...   \n",
       "\n",
       "            energy_once_differenced  key_once_differenced  \\\n",
       "date                                                        \n",
       "2017-01-08                 0.000000                 0.000   \n",
       "2017-01-15                 0.002275                -0.335   \n",
       "2017-01-22                 0.010185                 0.280   \n",
       "2017-01-29                -0.016094                -0.075   \n",
       "2017-02-05                 0.003625                 0.140   \n",
       "\n",
       "            loudness_once_differenced  mode_once_differenced  \\\n",
       "date                                                           \n",
       "2017-01-08                   0.000000                  0.000   \n",
       "2017-01-15                  -0.099780                 -0.005   \n",
       "2017-01-22                   0.132310                  0.035   \n",
       "2017-01-29                  -0.257435                 -0.005   \n",
       "2017-02-05                   0.125480                 -0.030   \n",
       "\n",
       "            speechiness_once_differenced  acousticness_once_differenced  \\\n",
       "date                                                                      \n",
       "2017-01-08                      0.000000                       0.000000   \n",
       "2017-01-15                      0.005843                       0.001050   \n",
       "2017-01-22                     -0.000443                      -0.005805   \n",
       "2017-01-29                     -0.002817                      -0.000232   \n",
       "2017-02-05                      0.002054                       0.003738   \n",
       "\n",
       "            instrumentalness_once_differenced  liveness_once_differenced  \\\n",
       "date                                                                       \n",
       "2017-01-08                           0.000000                   0.000000   \n",
       "2017-01-15                           0.006151                  -0.008704   \n",
       "2017-01-22                          -0.006037                   0.001606   \n",
       "2017-01-29                           0.000480                  -0.003324   \n",
       "2017-02-05                           0.003070                  -0.002982   \n",
       "\n",
       "            valence_once_differenced  tempo_once_differenced  \n",
       "date                                                          \n",
       "2017-01-08                  0.000000                0.000000  \n",
       "2017-01-15                 -0.016355               -0.109110  \n",
       "2017-01-22                  0.019803                0.659825  \n",
       "2017-01-29                 -0.007959                0.623050  \n",
       "2017-02-05                 -0.007006               -1.017675  \n",
       "\n",
       "[5 rows x 26 columns]"
      ]
     },
     "execution_count": 33,
     "metadata": {},
     "output_type": "execute_result"
    }
   ],
   "source": [
    "lag_df.head()"
   ]
  },
  {
   "cell_type": "code",
   "execution_count": 34,
   "metadata": {},
   "outputs": [],
   "source": [
    "# for feature in audio_features:\n",
    "#     print(f'Dickey_Fuller interpretation for {feature}, once-differenced:\\n{interpret_dftest(lag_df[{feature}_once_differenced].values.reshape(-1).tolist())}')"
   ]
  },
  {
   "cell_type": "code",
   "execution_count": 35,
   "metadata": {},
   "outputs": [
    {
     "name": "stdout",
     "output_type": "stream",
     "text": [
      "Dickey_Fuller interpretation for danceability, once-differenced:\n",
      "Test Statistic    0.00000\n",
      "p-value          -0.00369\n",
      "dtype: float64\n",
      "Dickey_Fuller interpretation for energy, once-differenced:\n",
      "Test Statistic    0.000000\n",
      "p-value           0.002275\n",
      "dtype: float64\n",
      "Dickey_Fuller interpretation for key, once-differenced:\n",
      "Test Statistic    0.000\n",
      "p-value          -0.335\n",
      "dtype: float64\n",
      "Dickey_Fuller interpretation for loudness, once-differenced:\n",
      "Test Statistic    0.00000\n",
      "p-value          -0.09978\n",
      "dtype: float64\n",
      "Dickey_Fuller interpretation for mode, once-differenced:\n",
      "Test Statistic    0.000\n",
      "p-value          -0.005\n",
      "dtype: float64\n",
      "Dickey_Fuller interpretation for speechiness, once-differenced:\n",
      "Test Statistic    0.000000\n",
      "p-value           0.005843\n",
      "dtype: float64\n",
      "Dickey_Fuller interpretation for acousticness, once-differenced:\n",
      "Test Statistic    0.00000\n",
      "p-value           0.00105\n",
      "dtype: float64\n",
      "Dickey_Fuller interpretation for instrumentalness, once-differenced:\n",
      "Test Statistic    0.000000\n",
      "p-value           0.006151\n",
      "dtype: float64\n",
      "Dickey_Fuller interpretation for liveness, once-differenced:\n",
      "Test Statistic    0.000000\n",
      "p-value          -0.008704\n",
      "dtype: float64\n",
      "Dickey_Fuller interpretation for valence, once-differenced:\n",
      "Test Statistic    0.000000\n",
      "p-value          -0.016355\n",
      "dtype: float64\n",
      "Dickey_Fuller interpretation for tempo, once-differenced:\n",
      "Test Statistic    0.00000\n",
      "p-value          -0.10911\n",
      "dtype: float64\n"
     ]
    }
   ],
   "source": [
    "for feature in audio_features:\n",
    "    print(f'Dickey_Fuller interpretation for {feature}, once-differenced:\\n{interpret_dftest(lag_df[feature].diff(1).fillna(0).values.reshape(-1).tolist())}')"
   ]
  },
  {
   "cell_type": "code",
   "execution_count": 36,
   "metadata": {},
   "outputs": [
    {
     "name": "stdout",
     "output_type": "stream",
     "text": [
      "Dickey_Fuller interpretation for danceability, twice-differenced:\n",
      "Test Statistic    0.0\n",
      "p-value           0.0\n",
      "dtype: float64\n",
      "Dickey_Fuller interpretation for energy, twice-differenced:\n",
      "Test Statistic    0.0\n",
      "p-value           0.0\n",
      "dtype: float64\n",
      "Dickey_Fuller interpretation for key, twice-differenced:\n",
      "Test Statistic    0.0\n",
      "p-value           0.0\n",
      "dtype: float64\n",
      "Dickey_Fuller interpretation for loudness, twice-differenced:\n",
      "Test Statistic    0.0\n",
      "p-value           0.0\n",
      "dtype: float64\n",
      "Dickey_Fuller interpretation for mode, twice-differenced:\n",
      "Test Statistic    0.0\n",
      "p-value           0.0\n",
      "dtype: float64\n",
      "Dickey_Fuller interpretation for speechiness, twice-differenced:\n",
      "Test Statistic    0.0\n",
      "p-value           0.0\n",
      "dtype: float64\n",
      "Dickey_Fuller interpretation for acousticness, twice-differenced:\n",
      "Test Statistic    0.0\n",
      "p-value           0.0\n",
      "dtype: float64\n",
      "Dickey_Fuller interpretation for instrumentalness, twice-differenced:\n",
      "Test Statistic    0.0\n",
      "p-value           0.0\n",
      "dtype: float64\n",
      "Dickey_Fuller interpretation for liveness, twice-differenced:\n",
      "Test Statistic    0.0\n",
      "p-value           0.0\n",
      "dtype: float64\n",
      "Dickey_Fuller interpretation for valence, twice-differenced:\n",
      "Test Statistic    0.0\n",
      "p-value           0.0\n",
      "dtype: float64\n",
      "Dickey_Fuller interpretation for tempo, twice-differenced:\n",
      "Test Statistic    0.0\n",
      "p-value           0.0\n",
      "dtype: float64\n"
     ]
    }
   ],
   "source": [
    "for feature in audio_features:\n",
    "    print(f'Dickey_Fuller interpretation for {feature}, twice-differenced:\\n{interpret_dftest(lag_df[feature].diff(2).fillna(0).values.reshape(-1).tolist())}')"
   ]
  },
  {
   "cell_type": "markdown",
   "metadata": {},
   "source": [
    "### Using `ndiffs` to figure out how many orders of difference $d$ I need in oder to have stationarity"
   ]
  },
  {
   "cell_type": "code",
   "execution_count": 37,
   "metadata": {},
   "outputs": [],
   "source": [
    "from pmdarima.arima.utils import ndiffs"
   ]
  },
  {
   "cell_type": "code",
   "execution_count": 38,
   "metadata": {},
   "outputs": [
    {
     "data": {
      "text/html": [
       "<div>\n",
       "<style scoped>\n",
       "    .dataframe tbody tr th:only-of-type {\n",
       "        vertical-align: middle;\n",
       "    }\n",
       "\n",
       "    .dataframe tbody tr th {\n",
       "        vertical-align: top;\n",
       "    }\n",
       "\n",
       "    .dataframe thead th {\n",
       "        text-align: right;\n",
       "    }\n",
       "</style>\n",
       "<table border=\"1\" class=\"dataframe\">\n",
       "  <thead>\n",
       "    <tr style=\"text-align: right;\">\n",
       "      <th></th>\n",
       "      <th>Position</th>\n",
       "      <th>Streams</th>\n",
       "      <th>danceability</th>\n",
       "      <th>energy</th>\n",
       "      <th>key</th>\n",
       "      <th>loudness</th>\n",
       "      <th>mode</th>\n",
       "      <th>speechiness</th>\n",
       "      <th>acousticness</th>\n",
       "      <th>instrumentalness</th>\n",
       "      <th>liveness</th>\n",
       "      <th>valence</th>\n",
       "      <th>tempo</th>\n",
       "      <th>duration_ms</th>\n",
       "      <th>time_signature</th>\n",
       "    </tr>\n",
       "    <tr>\n",
       "      <th>date</th>\n",
       "      <th></th>\n",
       "      <th></th>\n",
       "      <th></th>\n",
       "      <th></th>\n",
       "      <th></th>\n",
       "      <th></th>\n",
       "      <th></th>\n",
       "      <th></th>\n",
       "      <th></th>\n",
       "      <th></th>\n",
       "      <th></th>\n",
       "      <th></th>\n",
       "      <th></th>\n",
       "      <th></th>\n",
       "      <th></th>\n",
       "    </tr>\n",
       "  </thead>\n",
       "  <tbody>\n",
       "    <tr>\n",
       "      <th>2017-12-31</th>\n",
       "      <td>NaN</td>\n",
       "      <td>NaN</td>\n",
       "      <td>NaN</td>\n",
       "      <td>NaN</td>\n",
       "      <td>NaN</td>\n",
       "      <td>NaN</td>\n",
       "      <td>NaN</td>\n",
       "      <td>NaN</td>\n",
       "      <td>NaN</td>\n",
       "      <td>NaN</td>\n",
       "      <td>NaN</td>\n",
       "      <td>NaN</td>\n",
       "      <td>NaN</td>\n",
       "      <td>NaN</td>\n",
       "      <td>NaN</td>\n",
       "    </tr>\n",
       "    <tr>\n",
       "      <th>2018-12-30</th>\n",
       "      <td>NaN</td>\n",
       "      <td>NaN</td>\n",
       "      <td>NaN</td>\n",
       "      <td>NaN</td>\n",
       "      <td>NaN</td>\n",
       "      <td>NaN</td>\n",
       "      <td>NaN</td>\n",
       "      <td>NaN</td>\n",
       "      <td>NaN</td>\n",
       "      <td>NaN</td>\n",
       "      <td>NaN</td>\n",
       "      <td>NaN</td>\n",
       "      <td>NaN</td>\n",
       "      <td>NaN</td>\n",
       "      <td>NaN</td>\n",
       "    </tr>\n",
       "  </tbody>\n",
       "</table>\n",
       "</div>"
      ],
      "text/plain": [
       "            Position  Streams  danceability  energy  key  loudness  mode  \\\n",
       "date                                                                       \n",
       "2017-12-31       NaN      NaN           NaN     NaN  NaN       NaN   NaN   \n",
       "2018-12-30       NaN      NaN           NaN     NaN  NaN       NaN   NaN   \n",
       "\n",
       "            speechiness  acousticness  instrumentalness  liveness  valence  \\\n",
       "date                                                                         \n",
       "2017-12-31          NaN           NaN               NaN       NaN      NaN   \n",
       "2018-12-30          NaN           NaN               NaN       NaN      NaN   \n",
       "\n",
       "            tempo  duration_ms  time_signature  \n",
       "date                                            \n",
       "2017-12-31    NaN          NaN             NaN  \n",
       "2018-12-30    NaN          NaN             NaN  "
      ]
     },
     "execution_count": 38,
     "metadata": {},
     "output_type": "execute_result"
    }
   ],
   "source": [
    "rw_italy_17_19[rw_italy_17_19['danceability'].isnull()]"
   ]
  },
  {
   "cell_type": "code",
   "execution_count": 39,
   "metadata": {},
   "outputs": [
    {
     "name": "stdout",
     "output_type": "stream",
     "text": [
      "ndiffs for danceability stationarity: 1\n",
      "ndiffs for energy stationarity: 1\n",
      "ndiffs for key stationarity: 1\n",
      "ndiffs for loudness stationarity: 1\n",
      "ndiffs for mode stationarity: 1\n",
      "ndiffs for speechiness stationarity: 0\n",
      "ndiffs for acousticness stationarity: 1\n",
      "ndiffs for instrumentalness stationarity: 1\n",
      "ndiffs for liveness stationarity: 1\n",
      "ndiffs for valence stationarity: 1\n",
      "ndiffs for tempo stationarity: 0\n"
     ]
    }
   ],
   "source": [
    "for feature in audio_features:\n",
    "    print(f'ndiffs for {feature} stationarity: {ndiffs(rw_italy_17_19[feature].dropna(), test= \"adf\")}')"
   ]
  },
  {
   "cell_type": "markdown",
   "metadata": {},
   "source": [
    "### Building ARIMA model "
   ]
  },
  {
   "cell_type": "markdown",
   "metadata": {},
   "source": [
    "_ARIMA model for 'valence'_"
   ]
  },
  {
   "cell_type": "code",
   "execution_count": 40,
   "metadata": {},
   "outputs": [
    {
     "data": {
      "text/plain": [
       "155"
      ]
     },
     "execution_count": 40,
     "metadata": {},
     "output_type": "execute_result"
    }
   ],
   "source": [
    "len(rw_italy_17_19['valence'])"
   ]
  },
  {
   "cell_type": "code",
   "execution_count": 41,
   "metadata": {},
   "outputs": [
    {
     "data": {
      "text/plain": [
       "116.25"
      ]
     },
     "execution_count": 41,
     "metadata": {},
     "output_type": "execute_result"
    }
   ],
   "source": [
    "155*.75"
   ]
  },
  {
   "cell_type": "code",
   "execution_count": 54,
   "metadata": {},
   "outputs": [
    {
     "data": {
      "text/html": [
       "<div>\n",
       "<style scoped>\n",
       "    .dataframe tbody tr th:only-of-type {\n",
       "        vertical-align: middle;\n",
       "    }\n",
       "\n",
       "    .dataframe tbody tr th {\n",
       "        vertical-align: top;\n",
       "    }\n",
       "\n",
       "    .dataframe thead th {\n",
       "        text-align: right;\n",
       "    }\n",
       "</style>\n",
       "<table border=\"1\" class=\"dataframe\">\n",
       "  <thead>\n",
       "    <tr style=\"text-align: right;\">\n",
       "      <th></th>\n",
       "      <th>Position</th>\n",
       "      <th>Streams</th>\n",
       "      <th>danceability</th>\n",
       "      <th>energy</th>\n",
       "      <th>key</th>\n",
       "      <th>loudness</th>\n",
       "      <th>mode</th>\n",
       "      <th>speechiness</th>\n",
       "      <th>acousticness</th>\n",
       "      <th>instrumentalness</th>\n",
       "      <th>liveness</th>\n",
       "      <th>valence</th>\n",
       "      <th>tempo</th>\n",
       "      <th>duration_ms</th>\n",
       "      <th>time_signature</th>\n",
       "    </tr>\n",
       "    <tr>\n",
       "      <th>date</th>\n",
       "      <th></th>\n",
       "      <th></th>\n",
       "      <th></th>\n",
       "      <th></th>\n",
       "      <th></th>\n",
       "      <th></th>\n",
       "      <th></th>\n",
       "      <th></th>\n",
       "      <th></th>\n",
       "      <th></th>\n",
       "      <th></th>\n",
       "      <th></th>\n",
       "      <th></th>\n",
       "      <th></th>\n",
       "      <th></th>\n",
       "    </tr>\n",
       "  </thead>\n",
       "  <tbody>\n",
       "    <tr>\n",
       "      <th>2017-12-31</th>\n",
       "      <td>NaN</td>\n",
       "      <td>NaN</td>\n",
       "      <td>NaN</td>\n",
       "      <td>NaN</td>\n",
       "      <td>NaN</td>\n",
       "      <td>NaN</td>\n",
       "      <td>NaN</td>\n",
       "      <td>NaN</td>\n",
       "      <td>NaN</td>\n",
       "      <td>NaN</td>\n",
       "      <td>NaN</td>\n",
       "      <td>NaN</td>\n",
       "      <td>NaN</td>\n",
       "      <td>NaN</td>\n",
       "      <td>NaN</td>\n",
       "    </tr>\n",
       "    <tr>\n",
       "      <th>2018-12-30</th>\n",
       "      <td>NaN</td>\n",
       "      <td>NaN</td>\n",
       "      <td>NaN</td>\n",
       "      <td>NaN</td>\n",
       "      <td>NaN</td>\n",
       "      <td>NaN</td>\n",
       "      <td>NaN</td>\n",
       "      <td>NaN</td>\n",
       "      <td>NaN</td>\n",
       "      <td>NaN</td>\n",
       "      <td>NaN</td>\n",
       "      <td>NaN</td>\n",
       "      <td>NaN</td>\n",
       "      <td>NaN</td>\n",
       "      <td>NaN</td>\n",
       "    </tr>\n",
       "  </tbody>\n",
       "</table>\n",
       "</div>"
      ],
      "text/plain": [
       "            Position  Streams  danceability  energy  key  loudness  mode  \\\n",
       "date                                                                       \n",
       "2017-12-31       NaN      NaN           NaN     NaN  NaN       NaN   NaN   \n",
       "2018-12-30       NaN      NaN           NaN     NaN  NaN       NaN   NaN   \n",
       "\n",
       "            speechiness  acousticness  instrumentalness  liveness  valence  \\\n",
       "date                                                                         \n",
       "2017-12-31          NaN           NaN               NaN       NaN      NaN   \n",
       "2018-12-30          NaN           NaN               NaN       NaN      NaN   \n",
       "\n",
       "            tempo  duration_ms  time_signature  \n",
       "date                                            \n",
       "2017-12-31    NaN          NaN             NaN  \n",
       "2018-12-30    NaN          NaN             NaN  "
      ]
     },
     "execution_count": 54,
     "metadata": {},
     "output_type": "execute_result"
    }
   ],
   "source": [
    "rw_italy_17_19[rw_italy_17_19['valence'].isnull()]"
   ]
  },
  {
   "cell_type": "code",
   "execution_count": 83,
   "metadata": {},
   "outputs": [],
   "source": [
    "train_valence = rw_italy_17_19['valence'].fillna(0)[1:117]\n",
    "test_valence = rw_italy_17_19['valence'].fillna(0)[117::]"
   ]
  },
  {
   "cell_type": "code",
   "execution_count": 84,
   "metadata": {},
   "outputs": [
    {
     "data": {
      "text/plain": [
       "Position            2\n",
       "Streams             2\n",
       "danceability        2\n",
       "energy              2\n",
       "key                 2\n",
       "loudness            2\n",
       "mode                2\n",
       "speechiness         2\n",
       "acousticness        2\n",
       "instrumentalness    2\n",
       "liveness            2\n",
       "valence             2\n",
       "tempo               2\n",
       "duration_ms         2\n",
       "time_signature      2\n",
       "dtype: int64"
      ]
     },
     "execution_count": 84,
     "metadata": {},
     "output_type": "execute_result"
    }
   ],
   "source": [
    "rw_italy_17_19.isnull().sum()"
   ]
  },
  {
   "cell_type": "code",
   "execution_count": 85,
   "metadata": {},
   "outputs": [],
   "source": [
    "model_valence = ARIMA(train_valence, order=(2,1,2))\n",
    "\n",
    "model_valence_fit = model_valence.fit()"
   ]
  },
  {
   "cell_type": "code",
   "execution_count": 86,
   "metadata": {},
   "outputs": [
    {
     "data": {
      "text/html": [
       "<div>\n",
       "<style scoped>\n",
       "    .dataframe tbody tr th:only-of-type {\n",
       "        vertical-align: middle;\n",
       "    }\n",
       "\n",
       "    .dataframe tbody tr th {\n",
       "        vertical-align: top;\n",
       "    }\n",
       "\n",
       "    .dataframe thead th {\n",
       "        text-align: right;\n",
       "    }\n",
       "</style>\n",
       "<table border=\"1\" class=\"dataframe\">\n",
       "  <thead>\n",
       "    <tr style=\"text-align: right;\">\n",
       "      <th></th>\n",
       "      <th>Position</th>\n",
       "      <th>Streams</th>\n",
       "      <th>danceability</th>\n",
       "      <th>energy</th>\n",
       "      <th>key</th>\n",
       "      <th>loudness</th>\n",
       "      <th>mode</th>\n",
       "      <th>speechiness</th>\n",
       "      <th>acousticness</th>\n",
       "      <th>instrumentalness</th>\n",
       "      <th>liveness</th>\n",
       "      <th>valence</th>\n",
       "      <th>tempo</th>\n",
       "      <th>duration_ms</th>\n",
       "      <th>time_signature</th>\n",
       "    </tr>\n",
       "    <tr>\n",
       "      <th>date</th>\n",
       "      <th></th>\n",
       "      <th></th>\n",
       "      <th></th>\n",
       "      <th></th>\n",
       "      <th></th>\n",
       "      <th></th>\n",
       "      <th></th>\n",
       "      <th></th>\n",
       "      <th></th>\n",
       "      <th></th>\n",
       "      <th></th>\n",
       "      <th></th>\n",
       "      <th></th>\n",
       "      <th></th>\n",
       "      <th></th>\n",
       "    </tr>\n",
       "  </thead>\n",
       "  <tbody>\n",
       "    <tr>\n",
       "      <th>2019-04-21</th>\n",
       "      <td>100.5</td>\n",
       "      <td>16939.655</td>\n",
       "      <td>0.719425</td>\n",
       "      <td>0.617346</td>\n",
       "      <td>5.51</td>\n",
       "      <td>-6.80917</td>\n",
       "      <td>0.495</td>\n",
       "      <td>0.142558</td>\n",
       "      <td>0.230301</td>\n",
       "      <td>0.011309</td>\n",
       "      <td>0.165923</td>\n",
       "      <td>0.443227</td>\n",
       "      <td>118.051025</td>\n",
       "      <td>203388.695</td>\n",
       "      <td>3.98</td>\n",
       "    </tr>\n",
       "  </tbody>\n",
       "</table>\n",
       "</div>"
      ],
      "text/plain": [
       "            Position    Streams  danceability    energy   key  loudness  \\\n",
       "date                                                                      \n",
       "2019-04-21     100.5  16939.655      0.719425  0.617346  5.51  -6.80917   \n",
       "\n",
       "             mode  speechiness  acousticness  instrumentalness  liveness  \\\n",
       "date                                                                       \n",
       "2019-04-21  0.495     0.142558      0.230301          0.011309  0.165923   \n",
       "\n",
       "             valence       tempo  duration_ms  time_signature  \n",
       "date                                                           \n",
       "2019-04-21  0.443227  118.051025   203388.695            3.98  "
      ]
     },
     "execution_count": 86,
     "metadata": {},
     "output_type": "execute_result"
    }
   ],
   "source": [
    "rw_greece_17_19.loc[['2019-04-21 00:00:00']]"
   ]
  },
  {
   "cell_type": "code",
   "execution_count": 87,
   "metadata": {},
   "outputs": [
    {
     "data": {
      "text/plain": [
       "date\n",
       "2017-01-22   -0.000391\n",
       "2017-01-29   -0.010075\n",
       "2017-02-05   -0.002131\n",
       "2017-02-12    0.003020\n",
       "2017-02-19    0.002470\n",
       "                ...   \n",
       "2019-03-03   -0.007559\n",
       "2019-03-10   -0.018095\n",
       "2019-03-17   -0.021344\n",
       "2019-03-24   -0.020178\n",
       "2019-03-31   -0.024939\n",
       "Freq: W-SUN, Length: 115, dtype: float64"
      ]
     },
     "execution_count": 87,
     "metadata": {},
     "output_type": "execute_result"
    }
   ],
   "source": [
    "model_valence_fit.predict()"
   ]
  },
  {
   "cell_type": "code",
   "execution_count": 90,
   "metadata": {},
   "outputs": [],
   "source": [
    "preds_train_valence_arima_212 = model_valence_fit.predict(start=train_valence.index[1], end=train_valence.index[-1])"
   ]
  },
  {
   "cell_type": "code",
   "execution_count": 91,
   "metadata": {},
   "outputs": [],
   "source": [
    "preds_test_valence_arima_212 = model_valence_fit.predict(start=test_valence.index[0], end=test_valence.index[-1])"
   ]
  },
  {
   "cell_type": "code",
   "execution_count": 72,
   "metadata": {},
   "outputs": [
    {
     "data": {
      "text/plain": [
       "(116,)"
      ]
     },
     "execution_count": 72,
     "metadata": {},
     "output_type": "execute_result"
    }
   ],
   "source": [
    "train_valence.shape"
   ]
  },
  {
   "cell_type": "code",
   "execution_count": 74,
   "metadata": {},
   "outputs": [
    {
     "data": {
      "text/plain": [
       "(115,)"
      ]
     },
     "execution_count": 74,
     "metadata": {},
     "output_type": "execute_result"
    }
   ],
   "source": [
    "preds_train_valence_arima_212.shape"
   ]
  },
  {
   "cell_type": "code",
   "execution_count": 92,
   "metadata": {},
   "outputs": [
    {
     "data": {
      "text/plain": [
       "date\n",
       "2017-01-22   -0.000391\n",
       "2017-01-29   -0.010075\n",
       "2017-02-05   -0.002131\n",
       "2017-02-12    0.003020\n",
       "2017-02-19    0.002470\n",
       "                ...   \n",
       "2019-03-03   -0.007559\n",
       "2019-03-10   -0.018095\n",
       "2019-03-17   -0.021344\n",
       "2019-03-24   -0.020178\n",
       "2019-03-31   -0.024939\n",
       "Freq: W-SUN, Length: 115, dtype: float64"
      ]
     },
     "execution_count": 92,
     "metadata": {},
     "output_type": "execute_result"
    }
   ],
   "source": [
    "preds_train_valence_arima_212"
   ]
  },
  {
   "cell_type": "code",
   "execution_count": 75,
   "metadata": {},
   "outputs": [
    {
     "data": {
      "text/plain": [
       "date\n",
       "2017-01-15    0.483813\n",
       "2017-01-22    0.503616\n",
       "2017-01-29    0.495657\n",
       "2017-02-05    0.488651\n",
       "2017-02-12    0.488101\n",
       "                ...   \n",
       "2019-03-03    0.481602\n",
       "2019-03-10    0.484794\n",
       "2019-03-17    0.483369\n",
       "2019-03-24    0.488169\n",
       "2019-03-31    0.480123\n",
       "Freq: W-SUN, Name: valence, Length: 116, dtype: float64"
      ]
     },
     "execution_count": 75,
     "metadata": {},
     "output_type": "execute_result"
    }
   ],
   "source": [
    "train_valence"
   ]
  },
  {
   "cell_type": "code",
   "execution_count": 76,
   "metadata": {},
   "outputs": [
    {
     "data": {
      "text/plain": [
       "Timestamp('2017-01-22 00:00:00', freq='W-SUN')"
      ]
     },
     "execution_count": 76,
     "metadata": {},
     "output_type": "execute_result"
    }
   ],
   "source": [
    "train_valence.index[1]"
   ]
  },
  {
   "cell_type": "code",
   "execution_count": 93,
   "metadata": {},
   "outputs": [
    {
     "name": "stdout",
     "output_type": "stream",
     "text": [
      "Train RMSE - ARIMA(2,1,2): 0.49589697575699804\n",
      "Test RMSE - ARIMA(2,1,2): 0.5034497156859623\n"
     ]
    }
   ],
   "source": [
    "# evaluating the ARIMA(2,1,2) model \n",
    "\n",
    "# RMSE \n",
    "train_rmse_valence = mean_squared_error(train_valence[1::], preds_train_valence_arima_212)**0.5\n",
    "print(f'Train RMSE - ARIMA(2,1,2): {train_rmse_valence}')\n",
    "\n",
    "test_rmse_valence = mean_squared_error(test_valence, preds_test_valence_arima_212)**0.5\n",
    "print(f'Test RMSE - ARIMA(2,1,2): {test_rmse_valence}')"
   ]
  },
  {
   "cell_type": "code",
   "execution_count": 94,
   "metadata": {},
   "outputs": [
    {
     "data": {
      "image/png": "[encoded data removed]",
      "text/plain": [
       "<Figure size 720x360 with 1 Axes>"
      ]
     },
     "metadata": {
      "needs_background": "light"
     },
     "output_type": "display_data"
    }
   ],
   "source": [
    "resids_valence_212 = test_valence - preds_test_valence_arima_212\n",
    "\n",
    "resids_valence_212.plot(figsize=(10,5))\n",
    "plt.title(\"Valence - ARIMA(2,1,2) Residuals\");"
   ]
  },
  {
   "cell_type": "code",
   "execution_count": 96,
   "metadata": {},
   "outputs": [
    {
     "data": {
      "text/plain": [
       "(array([0.46230827]), array([0.06633135]), array([[0.33230122, 0.59231532]]))"
      ]
     },
     "execution_count": 96,
     "metadata": {},
     "output_type": "execute_result"
    }
   ],
   "source": [
    "output = model_valence_fit.forecast()\n",
    "output"
   ]
  },
  {
   "cell_type": "code",
   "execution_count": 97,
   "metadata": {},
   "outputs": [
    {
     "data": {
      "text/html": [
       "<table class=\"simpletable\">\n",
       "<caption>ARIMA Model Results</caption>\n",
       "<tr>\n",
       "  <th>Dep. Variable:</th>     <td>D.valence</td>    <th>  No. Observations:  </th>    <td>115</td>  \n",
       "</tr>\n",
       "<tr>\n",
       "  <th>Model:</th>          <td>ARIMA(2, 1, 2)</td>  <th>  Log Likelihood     </th>  <td>146.492</td>\n",
       "</tr>\n",
       "<tr>\n",
       "  <th>Method:</th>             <td>css-mle</td>     <th>  S.D. of innovations</th>   <td>0.066</td> \n",
       "</tr>\n",
       "<tr>\n",
       "  <th>Date:</th>          <td>Sun, 14 Feb 2021</td> <th>  AIC                </th> <td>-280.983</td>\n",
       "</tr>\n",
       "<tr>\n",
       "  <th>Time:</th>              <td>23:04:58</td>     <th>  BIC                </th> <td>-264.513</td>\n",
       "</tr>\n",
       "<tr>\n",
       "  <th>Sample:</th>           <td>01-22-2017</td>    <th>  HQIC               </th> <td>-274.298</td>\n",
       "</tr>\n",
       "<tr>\n",
       "  <th></th>                 <td>- 03-31-2019</td>   <th>                     </th>     <td> </td>   \n",
       "</tr>\n",
       "</table>\n",
       "<table class=\"simpletable\">\n",
       "<tr>\n",
       "         <td></td>            <th>coef</th>     <th>std err</th>      <th>z</th>      <th>P>|z|</th>  <th>[0.025</th>    <th>0.975]</th>  \n",
       "</tr>\n",
       "<tr>\n",
       "  <th>const</th>           <td>   -0.0004</td> <td>    0.000</td> <td>   -2.041</td> <td> 0.041</td> <td>   -0.001</td> <td>-1.55e-05</td>\n",
       "</tr>\n",
       "<tr>\n",
       "  <th>ar.L1.D.valence</th> <td>   -0.9591</td> <td>    0.021</td> <td>  -45.053</td> <td> 0.000</td> <td>   -1.001</td> <td>   -0.917</td>\n",
       "</tr>\n",
       "<tr>\n",
       "  <th>ar.L2.D.valence</th> <td>    0.0409</td> <td>    0.007</td> <td>    6.027</td> <td> 0.000</td> <td>    0.028</td> <td>    0.054</td>\n",
       "</tr>\n",
       "<tr>\n",
       "  <th>ma.L1.D.valence</th> <td>-3.538e-08</td> <td>      nan</td> <td>      nan</td> <td>   nan</td> <td>      nan</td> <td>      nan</td>\n",
       "</tr>\n",
       "<tr>\n",
       "  <th>ma.L2.D.valence</th> <td>   -1.0000</td> <td>      nan</td> <td>      nan</td> <td>   nan</td> <td>      nan</td> <td>      nan</td>\n",
       "</tr>\n",
       "</table>\n",
       "<table class=\"simpletable\">\n",
       "<caption>Roots</caption>\n",
       "<tr>\n",
       "    <td></td>   <th>            Real</th>  <th>         Imaginary</th> <th>         Modulus</th>  <th>        Frequency</th>\n",
       "</tr>\n",
       "<tr>\n",
       "  <th>AR.1</th> <td>          -1.0000</td> <td>          +0.0000j</td> <td>           1.0000</td> <td>           0.5000</td>\n",
       "</tr>\n",
       "<tr>\n",
       "  <th>AR.2</th> <td>          24.4404</td> <td>          +0.0000j</td> <td>          24.4404</td> <td>           0.0000</td>\n",
       "</tr>\n",
       "<tr>\n",
       "  <th>MA.1</th> <td>           1.0000</td> <td>          +0.0000j</td> <td>           1.0000</td> <td>           0.0000</td>\n",
       "</tr>\n",
       "<tr>\n",
       "  <th>MA.2</th> <td>          -1.0000</td> <td>          +0.0000j</td> <td>           1.0000</td> <td>           0.5000</td>\n",
       "</tr>\n",
       "</table>"
      ],
      "text/plain": [
       "<class 'statsmodels.iolib.summary.Summary'>\n",
       "\"\"\"\n",
       "                             ARIMA Model Results                              \n",
       "==============================================================================\n",
       "Dep. Variable:              D.valence   No. Observations:                  115\n",
       "Model:                 ARIMA(2, 1, 2)   Log Likelihood                 146.492\n",
       "Method:                       css-mle   S.D. of innovations              0.066\n",
       "Date:                Sun, 14 Feb 2021   AIC                           -280.983\n",
       "Time:                        23:04:58   BIC                           -264.513\n",
       "Sample:                    01-22-2017   HQIC                          -274.298\n",
       "                         - 03-31-2019                                         \n",
       "===================================================================================\n",
       "                      coef    std err          z      P>|z|      [0.025      0.975]\n",
       "-----------------------------------------------------------------------------------\n",
       "const              -0.0004      0.000     -2.041      0.041      -0.001   -1.55e-05\n",
       "ar.L1.D.valence    -0.9591      0.021    -45.053      0.000      -1.001      -0.917\n",
       "ar.L2.D.valence     0.0409      0.007      6.027      0.000       0.028       0.054\n",
       "ma.L1.D.valence -3.538e-08        nan        nan        nan         nan         nan\n",
       "ma.L2.D.valence    -1.0000        nan        nan        nan         nan         nan\n",
       "                                    Roots                                    \n",
       "=============================================================================\n",
       "                  Real          Imaginary           Modulus         Frequency\n",
       "-----------------------------------------------------------------------------\n",
       "AR.1           -1.0000           +0.0000j            1.0000            0.5000\n",
       "AR.2           24.4404           +0.0000j           24.4404            0.0000\n",
       "MA.1            1.0000           +0.0000j            1.0000            0.0000\n",
       "MA.2           -1.0000           +0.0000j            1.0000            0.5000\n",
       "-----------------------------------------------------------------------------\n",
       "\"\"\""
      ]
     },
     "execution_count": 97,
     "metadata": {},
     "output_type": "execute_result"
    }
   ],
   "source": [
    "model_valence_fit.summary()"
   ]
  },
  {
   "cell_type": "code",
   "execution_count": 99,
   "metadata": {},
   "outputs": [
    {
     "data": {
      "image/png": "[encoded data removed]",
      "text/plain": [
       "<Figure size 432x288 with 1 Axes>"
      ]
     },
     "metadata": {
      "needs_background": "light"
     },
     "output_type": "display_data"
    }
   ],
   "source": [
    "model_valence_fit.plot_predict(dynamic=False)\n",
    "plt.show()"
   ]
  },
  {
   "cell_type": "code",
   "execution_count": null,
   "metadata": {},
   "outputs": [],
   "source": []
  }
 ],
 "metadata": {
  "kernelspec": {
   "display_name": "Python 3",
   "language": "python",
   "name": "python3"
  },
  "language_info": {
   "codemirror_mode": {
    "name": "ipython",
    "version": 3
   },
   "file_extension": ".py",
   "mimetype": "text/x-python",
   "name": "python",
   "nbconvert_exporter": "python",
   "pygments_lexer": "ipython3",
   "version": "3.8.5"
  }
 },
 "nbformat": 4,
 "nbformat_minor": 4
}
