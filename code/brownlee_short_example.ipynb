{
 "cells": [
  {
   "cell_type": "code",
   "execution_count": 4,
   "metadata": {},
   "outputs": [
    {
     "name": "stdout",
     "output_type": "stream",
     "text": [
      "[[ 1 10]\n",
      " [ 2 20]\n",
      " [ 3 30]\n",
      " [ 4 40]\n",
      " [ 5 50]]\n",
      "(5000, 2)\n"
     ]
    }
   ],
   "source": [
    "from numpy import array\n",
    " \n",
    "# load...\n",
    "data = list()\n",
    "n = 5000\n",
    "for i in range(n):\n",
    "\tdata.append([i+1, (i+1)*10])\n",
    "data = array(data)\n",
    "print(data[:5, :])\n",
    "print(data.shape)"
   ]
  },
  {
   "cell_type": "code",
   "execution_count": 5,
   "metadata": {},
   "outputs": [
    {
     "name": "stdout",
     "output_type": "stream",
     "text": [
      "(5000,)\n"
     ]
    }
   ],
   "source": [
    "# drop time\n",
    "data = data[:, 1]\n",
    "print(data.shape)"
   ]
  },
  {
   "cell_type": "code",
   "execution_count": 6,
   "metadata": {},
   "outputs": [
    {
     "name": "stdout",
     "output_type": "stream",
     "text": [
      "25\n"
     ]
    }
   ],
   "source": [
    "# split into samples (e.g. 5000/200 = 25)\n",
    "samples = list()\n",
    "length = 200\n",
    "# step over the 5,000 in jumps of 200\n",
    "for i in range(0,n,length):\n",
    "\t# grab from i to i + 200\n",
    "\tsample = data[i:i+length]\n",
    "\tsamples.append(sample)\n",
    "print(len(samples))"
   ]
  },
  {
   "cell_type": "code",
   "execution_count": 7,
   "metadata": {},
   "outputs": [
    {
     "name": "stdout",
     "output_type": "stream",
     "text": [
      "(25, 200)\n"
     ]
    }
   ],
   "source": [
    "# convert list of arrays into 2d array\n",
    "data = array(samples)\n",
    "print(data.shape)"
   ]
  },
  {
   "cell_type": "code",
   "execution_count": 8,
   "metadata": {},
   "outputs": [
    {
     "name": "stdout",
     "output_type": "stream",
     "text": [
      "(25, 200, 1)\n"
     ]
    }
   ],
   "source": [
    "# reshape into [samples, timesteps, features]\n",
    "# expect [25, 200, 1]\n",
    "data = data.reshape((len(samples), length, 1))\n",
    "print(data.shape)"
   ]
  },
  {
   "cell_type": "code",
   "execution_count": null,
   "metadata": {},
   "outputs": [],
   "source": []
  }
 ],
 "metadata": {
  "kernelspec": {
   "display_name": "Python 3",
   "language": "python",
   "name": "python3"
  },
  "language_info": {
   "codemirror_mode": {
    "name": "ipython",
    "version": 3
   },
   "file_extension": ".py",
   "mimetype": "text/x-python",
   "name": "python",
   "nbconvert_exporter": "python",
   "pygments_lexer": "ipython3",
   "version": "3.8.5"
  }
 },
 "nbformat": 4,
 "nbformat_minor": 4
}
