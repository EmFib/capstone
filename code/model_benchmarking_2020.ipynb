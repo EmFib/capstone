{
 "cells": [
  {
   "cell_type": "code",
   "execution_count": 1,
   "metadata": {},
   "outputs": [],
   "source": [
    "import numpy as np\n",
    "import pandas as pd\n",
    "import matplotlib.pyplot as plt \n",
    "import seaborn as sns\n",
    "\n",
    "import json\n",
    "\n",
    "from fycharts.SpotifyCharts import SpotifyCharts\n",
    "import sqlalchemy\n",
    "\n",
    "import spotipy\n",
    "from spotipy.oauth2 import SpotifyClientCredentials\n",
    "\n",
    "from datetime import datetime\n",
    "from sklearn.model_selection import train_test_split\n",
    "\n",
    "import statsmodels.api as sm\n",
    "\n",
    "# We are required to do this in order to avoid \"FutureWarning\" issues.\n",
    "from pandas.plotting import register_matplotlib_converters\n",
    "register_matplotlib_converters()\n",
    "\n",
    "from statsmodels.tsa.ar_model import AR\n",
    "from statsmodels.tsa.arima_model import ARIMA, ARMA\n",
    "from statsmodels.tsa.statespace.sarimax import SARIMAX\n",
    "from statsmodels.tsa.stattools import adfuller  \n",
    "\n",
    "from sklearn.metrics import mean_squared_error, mean_absolute_error\n",
    "from statsmodels.graphics.tsaplots import plot_acf, plot_pacf\n",
    "\n",
    "%matplotlib inline\n",
    "\n",
    "import warnings\n",
    "warnings.simplefilter(action=\"ignore\")"
   ]
  },
  {
   "cell_type": "markdown",
   "metadata": {},
   "source": [
    "# Reading in data"
   ]
  },
  {
   "cell_type": "code",
   "execution_count": 2,
   "metadata": {},
   "outputs": [],
   "source": [
    "italy_17_19 = pd.read_pickle('../data/it_17_19_v50_feat.pkl')\n",
    "spain_17_19 = pd.read_pickle('../data/sp_17_19_v50_feat.pkl')\n",
    "greece_17_19 = pd.read_pickle('../data/gr_17_19_v50_feat.pkl')\n",
    "\n",
    "italy_20_21 = pd.read_pickle('../data/it_20_v50_feat.pkl')\n",
    "spain_20_21 = pd.read_pickle('../data/sp_20_v50_feat.pkl')\n",
    "greece_20_21 = pd.read_pickle('../data/gr_20_v50_feat.pkl')"
   ]
  },
  {
   "cell_type": "code",
   "execution_count": 4,
   "metadata": {},
   "outputs": [
    {
     "data": {
      "text/html": [
       "<div>\n",
       "<style scoped>\n",
       "    .dataframe tbody tr th:only-of-type {\n",
       "        vertical-align: middle;\n",
       "    }\n",
       "\n",
       "    .dataframe tbody tr th {\n",
       "        vertical-align: top;\n",
       "    }\n",
       "\n",
       "    .dataframe thead th {\n",
       "        text-align: right;\n",
       "    }\n",
       "</style>\n",
       "<table border=\"1\" class=\"dataframe\">\n",
       "  <thead>\n",
       "    <tr style=\"text-align: right;\">\n",
       "      <th></th>\n",
       "      <th>Position</th>\n",
       "      <th>Track Name</th>\n",
       "      <th>Artist</th>\n",
       "      <th>region</th>\n",
       "      <th>spotify_id</th>\n",
       "      <th>danceability</th>\n",
       "      <th>energy</th>\n",
       "      <th>key</th>\n",
       "      <th>loudness</th>\n",
       "      <th>mode</th>\n",
       "      <th>speechiness</th>\n",
       "      <th>acousticness</th>\n",
       "      <th>instrumentalness</th>\n",
       "      <th>liveness</th>\n",
       "      <th>valence</th>\n",
       "      <th>tempo</th>\n",
       "      <th>duration_ms</th>\n",
       "      <th>time_signature</th>\n",
       "    </tr>\n",
       "    <tr>\n",
       "      <th>date</th>\n",
       "      <th></th>\n",
       "      <th></th>\n",
       "      <th></th>\n",
       "      <th></th>\n",
       "      <th></th>\n",
       "      <th></th>\n",
       "      <th></th>\n",
       "      <th></th>\n",
       "      <th></th>\n",
       "      <th></th>\n",
       "      <th></th>\n",
       "      <th></th>\n",
       "      <th></th>\n",
       "      <th></th>\n",
       "      <th></th>\n",
       "      <th></th>\n",
       "      <th></th>\n",
       "      <th></th>\n",
       "    </tr>\n",
       "  </thead>\n",
       "  <tbody>\n",
       "    <tr>\n",
       "      <th>2021-02-13</th>\n",
       "      <td>49</td>\n",
       "      <td>La Luz - A COLORS SHOW</td>\n",
       "      <td>María José Llergo</td>\n",
       "      <td>es</td>\n",
       "      <td>5jRnVQbjB6qgN3MARS4xw7</td>\n",
       "      <td>0.722</td>\n",
       "      <td>0.357</td>\n",
       "      <td>9</td>\n",
       "      <td>-10.487</td>\n",
       "      <td>0</td>\n",
       "      <td>0.0996</td>\n",
       "      <td>0.81400</td>\n",
       "      <td>0.155000</td>\n",
       "      <td>0.0863</td>\n",
       "      <td>0.641</td>\n",
       "      <td>149.895</td>\n",
       "      <td>191599</td>\n",
       "      <td>4</td>\n",
       "    </tr>\n",
       "    <tr>\n",
       "      <th>2021-02-13</th>\n",
       "      <td>50</td>\n",
       "      <td>Boku no Sensou - TV Size</td>\n",
       "      <td>Shinsei Kamattechan</td>\n",
       "      <td>es</td>\n",
       "      <td>3tRPfCFAEv6wWyQO0YnGGV</td>\n",
       "      <td>0.447</td>\n",
       "      <td>0.891</td>\n",
       "      <td>9</td>\n",
       "      <td>-4.776</td>\n",
       "      <td>1</td>\n",
       "      <td>0.0788</td>\n",
       "      <td>0.00447</td>\n",
       "      <td>0.000905</td>\n",
       "      <td>0.3900</td>\n",
       "      <td>0.517</td>\n",
       "      <td>143.976</td>\n",
       "      <td>90960</td>\n",
       "      <td>4</td>\n",
       "    </tr>\n",
       "  </tbody>\n",
       "</table>\n",
       "</div>"
      ],
      "text/plain": [
       "            Position                Track Name               Artist region  \\\n",
       "date                                                                         \n",
       "2021-02-13        49    La Luz - A COLORS SHOW    María José Llergo     es   \n",
       "2021-02-13        50  Boku no Sensou - TV Size  Shinsei Kamattechan     es   \n",
       "\n",
       "                        spotify_id  danceability  energy  key  loudness  mode  \\\n",
       "date                                                                            \n",
       "2021-02-13  5jRnVQbjB6qgN3MARS4xw7         0.722   0.357    9   -10.487     0   \n",
       "2021-02-13  3tRPfCFAEv6wWyQO0YnGGV         0.447   0.891    9    -4.776     1   \n",
       "\n",
       "            speechiness  acousticness  instrumentalness  liveness  valence  \\\n",
       "date                                                                         \n",
       "2021-02-13       0.0996       0.81400          0.155000    0.0863    0.641   \n",
       "2021-02-13       0.0788       0.00447          0.000905    0.3900    0.517   \n",
       "\n",
       "              tempo  duration_ms  time_signature  \n",
       "date                                              \n",
       "2021-02-13  149.895       191599               4  \n",
       "2021-02-13  143.976        90960               4  "
      ]
     },
     "execution_count": 4,
     "metadata": {},
     "output_type": "execute_result"
    }
   ],
   "source": [
    "spain_20_21.tail(2)"
   ]
  },
  {
   "cell_type": "markdown",
   "metadata": {},
   "source": [
    "# Preprocessing data "
   ]
  },
  {
   "cell_type": "markdown",
   "metadata": {},
   "source": [
    "#### _Data for each country is split into different dataframes as different combinations and aggregations are needed for different functions._ "
   ]
  },
  {
   "cell_type": "markdown",
   "metadata": {},
   "source": [
    "**Resampling by month**\n",
    "\n",
    "_`rm` denotes resampling by month._ "
   ]
  },
  {
   "cell_type": "code",
   "execution_count": 5,
   "metadata": {},
   "outputs": [],
   "source": [
    "rm_italy_17_19 = italy_17_19.resample(\"M\").mean()\n",
    "rm_spain_17_19 = spain_17_19.resample(\"M\").mean()\n",
    "rm_greece_17_19 = greece_17_19.resample(\"M\").mean()\n",
    "\n",
    "rm_italy_20_21 = italy_20_21.resample(\"M\").mean()\n",
    "rm_spain_20_21 = spain_20_21.resample(\"M\").mean()\n",
    "rm_greece_20_21 = greece_20_21.resample(\"M\").mean()"
   ]
  },
  {
   "cell_type": "markdown",
   "metadata": {},
   "source": [
    "**Resampling by week**\n",
    "\n",
    "_`rw` denotes resampling by week._ "
   ]
  },
  {
   "cell_type": "code",
   "execution_count": 7,
   "metadata": {},
   "outputs": [],
   "source": [
    "rw_italy_17_19 = italy_17_19.resample(\"W\").mean()\n",
    "rw_spain_17_19 = spain_17_19.resample(\"W\").mean()\n",
    "rw_greece_17_19 = greece_17_19.resample(\"W\").mean()\n",
    "\n",
    "rw_italy_20_21 = italy_20_21.resample(\"W\").mean()\n",
    "rw_spain_20_21 = spain_20_21.resample(\"W\").mean()\n",
    "rw_greece_20_21 = greece_20_21.resample(\"W\").mean()"
   ]
  },
  {
   "cell_type": "markdown",
   "metadata": {},
   "source": [
    "#### Combining weekly resampled data for all years (2017-2020)"
   ]
  },
  {
   "cell_type": "code",
   "execution_count": 8,
   "metadata": {},
   "outputs": [],
   "source": [
    "alltime_italy = pd.concat([italy_17_19, italy_20_21])\n",
    "alltime_spain = pd.concat([spain_17_19, spain_20_21])\n",
    "alltime_greece = pd.concat([greece_17_19, greece_20_21])\n",
    "\n",
    "alltime_rw_italy = alltime_italy.resample(\"W\").mean()\n",
    "alltime_rw_spain = alltime_spain.resample(\"W\").mean()\n",
    "alltime_rw_greece = alltime_greece.resample(\"W\").mean()"
   ]
  },
  {
   "cell_type": "markdown",
   "metadata": {},
   "source": [
    "#### Splitting into dataframes for each year! "
   ]
  },
  {
   "cell_type": "code",
   "execution_count": 9,
   "metadata": {},
   "outputs": [],
   "source": [
    "it_rw_17 = alltime_rw_italy[0:53]\n",
    "it_rw_18 = alltime_rw_italy[53:105]\n",
    "it_rw_20 = alltime_rw_italy[105:158]"
   ]
  },
  {
   "cell_type": "code",
   "execution_count": 10,
   "metadata": {},
   "outputs": [
    {
     "data": {
      "text/html": [
       "<div>\n",
       "<style scoped>\n",
       "    .dataframe tbody tr th:only-of-type {\n",
       "        vertical-align: middle;\n",
       "    }\n",
       "\n",
       "    .dataframe tbody tr th {\n",
       "        vertical-align: top;\n",
       "    }\n",
       "\n",
       "    .dataframe thead th {\n",
       "        text-align: right;\n",
       "    }\n",
       "</style>\n",
       "<table border=\"1\" class=\"dataframe\">\n",
       "  <thead>\n",
       "    <tr style=\"text-align: right;\">\n",
       "      <th></th>\n",
       "      <th>Position</th>\n",
       "      <th>danceability</th>\n",
       "      <th>energy</th>\n",
       "      <th>key</th>\n",
       "      <th>loudness</th>\n",
       "      <th>mode</th>\n",
       "      <th>speechiness</th>\n",
       "      <th>acousticness</th>\n",
       "      <th>instrumentalness</th>\n",
       "      <th>liveness</th>\n",
       "      <th>valence</th>\n",
       "      <th>tempo</th>\n",
       "      <th>duration_ms</th>\n",
       "      <th>time_signature</th>\n",
       "    </tr>\n",
       "    <tr>\n",
       "      <th>date</th>\n",
       "      <th></th>\n",
       "      <th></th>\n",
       "      <th></th>\n",
       "      <th></th>\n",
       "      <th></th>\n",
       "      <th></th>\n",
       "      <th></th>\n",
       "      <th></th>\n",
       "      <th></th>\n",
       "      <th></th>\n",
       "      <th></th>\n",
       "      <th></th>\n",
       "      <th></th>\n",
       "      <th></th>\n",
       "    </tr>\n",
       "  </thead>\n",
       "  <tbody>\n",
       "    <tr>\n",
       "      <th>2021-02-07</th>\n",
       "      <td>25.5</td>\n",
       "      <td>0.666561</td>\n",
       "      <td>0.634389</td>\n",
       "      <td>5.402857</td>\n",
       "      <td>-6.677991</td>\n",
       "      <td>0.680000</td>\n",
       "      <td>0.109192</td>\n",
       "      <td>0.268234</td>\n",
       "      <td>0.035348</td>\n",
       "      <td>0.223654</td>\n",
       "      <td>0.498756</td>\n",
       "      <td>119.549403</td>\n",
       "      <td>195629.388571</td>\n",
       "      <td>3.951429</td>\n",
       "    </tr>\n",
       "    <tr>\n",
       "      <th>2021-02-14</th>\n",
       "      <td>25.5</td>\n",
       "      <td>0.671104</td>\n",
       "      <td>0.647343</td>\n",
       "      <td>5.516667</td>\n",
       "      <td>-6.842603</td>\n",
       "      <td>0.656667</td>\n",
       "      <td>0.120716</td>\n",
       "      <td>0.277941</td>\n",
       "      <td>0.054173</td>\n",
       "      <td>0.220087</td>\n",
       "      <td>0.548739</td>\n",
       "      <td>120.591240</td>\n",
       "      <td>194515.273333</td>\n",
       "      <td>3.913333</td>\n",
       "    </tr>\n",
       "  </tbody>\n",
       "</table>\n",
       "</div>"
      ],
      "text/plain": [
       "            Position  danceability    energy       key  loudness      mode  \\\n",
       "date                                                                         \n",
       "2021-02-07      25.5      0.666561  0.634389  5.402857 -6.677991  0.680000   \n",
       "2021-02-14      25.5      0.671104  0.647343  5.516667 -6.842603  0.656667   \n",
       "\n",
       "            speechiness  acousticness  instrumentalness  liveness   valence  \\\n",
       "date                                                                          \n",
       "2021-02-07     0.109192      0.268234          0.035348  0.223654  0.498756   \n",
       "2021-02-14     0.120716      0.277941          0.054173  0.220087  0.548739   \n",
       "\n",
       "                 tempo    duration_ms  time_signature  \n",
       "date                                                   \n",
       "2021-02-07  119.549403  195629.388571        3.951429  \n",
       "2021-02-14  120.591240  194515.273333        3.913333  "
      ]
     },
     "execution_count": 10,
     "metadata": {},
     "output_type": "execute_result"
    }
   ],
   "source": [
    "rw_italy_20_21.tail(2)"
   ]
  },
  {
   "cell_type": "markdown",
   "metadata": {},
   "source": [
    "_Taking just the first 52 weeks of `rw_italy_20_21` so that it is only the weekly resampled Italy 2020 data._ "
   ]
  },
  {
   "cell_type": "code",
   "execution_count": 11,
   "metadata": {},
   "outputs": [
    {
     "data": {
      "text/html": [
       "<div>\n",
       "<style scoped>\n",
       "    .dataframe tbody tr th:only-of-type {\n",
       "        vertical-align: middle;\n",
       "    }\n",
       "\n",
       "    .dataframe tbody tr th {\n",
       "        vertical-align: top;\n",
       "    }\n",
       "\n",
       "    .dataframe thead th {\n",
       "        text-align: right;\n",
       "    }\n",
       "</style>\n",
       "<table border=\"1\" class=\"dataframe\">\n",
       "  <thead>\n",
       "    <tr style=\"text-align: right;\">\n",
       "      <th></th>\n",
       "      <th>Position</th>\n",
       "      <th>danceability</th>\n",
       "      <th>energy</th>\n",
       "      <th>key</th>\n",
       "      <th>loudness</th>\n",
       "      <th>mode</th>\n",
       "      <th>speechiness</th>\n",
       "      <th>acousticness</th>\n",
       "      <th>instrumentalness</th>\n",
       "      <th>liveness</th>\n",
       "      <th>valence</th>\n",
       "      <th>tempo</th>\n",
       "      <th>duration_ms</th>\n",
       "      <th>time_signature</th>\n",
       "    </tr>\n",
       "    <tr>\n",
       "      <th>date</th>\n",
       "      <th></th>\n",
       "      <th></th>\n",
       "      <th></th>\n",
       "      <th></th>\n",
       "      <th></th>\n",
       "      <th></th>\n",
       "      <th></th>\n",
       "      <th></th>\n",
       "      <th></th>\n",
       "      <th></th>\n",
       "      <th></th>\n",
       "      <th></th>\n",
       "      <th></th>\n",
       "      <th></th>\n",
       "    </tr>\n",
       "  </thead>\n",
       "  <tbody>\n",
       "    <tr>\n",
       "      <th>2020-12-06</th>\n",
       "      <td>25.514286</td>\n",
       "      <td>0.635391</td>\n",
       "      <td>0.586877</td>\n",
       "      <td>5.448571</td>\n",
       "      <td>-8.045040</td>\n",
       "      <td>0.534286</td>\n",
       "      <td>0.109029</td>\n",
       "      <td>0.332617</td>\n",
       "      <td>0.020756</td>\n",
       "      <td>0.174773</td>\n",
       "      <td>0.451704</td>\n",
       "      <td>120.883214</td>\n",
       "      <td>198297.631429</td>\n",
       "      <td>3.951429</td>\n",
       "    </tr>\n",
       "    <tr>\n",
       "      <th>2020-12-13</th>\n",
       "      <td>25.865714</td>\n",
       "      <td>0.658663</td>\n",
       "      <td>0.606386</td>\n",
       "      <td>5.334286</td>\n",
       "      <td>-7.434363</td>\n",
       "      <td>0.605714</td>\n",
       "      <td>0.097016</td>\n",
       "      <td>0.330153</td>\n",
       "      <td>0.019915</td>\n",
       "      <td>0.155027</td>\n",
       "      <td>0.480546</td>\n",
       "      <td>121.218346</td>\n",
       "      <td>198129.382857</td>\n",
       "      <td>3.945714</td>\n",
       "    </tr>\n",
       "    <tr>\n",
       "      <th>2020-12-20</th>\n",
       "      <td>25.771429</td>\n",
       "      <td>0.649389</td>\n",
       "      <td>0.601711</td>\n",
       "      <td>5.185714</td>\n",
       "      <td>-7.288403</td>\n",
       "      <td>0.617143</td>\n",
       "      <td>0.101651</td>\n",
       "      <td>0.337039</td>\n",
       "      <td>0.018042</td>\n",
       "      <td>0.157806</td>\n",
       "      <td>0.474697</td>\n",
       "      <td>117.303751</td>\n",
       "      <td>194437.685714</td>\n",
       "      <td>3.888571</td>\n",
       "    </tr>\n",
       "    <tr>\n",
       "      <th>2020-12-27</th>\n",
       "      <td>26.111429</td>\n",
       "      <td>0.658540</td>\n",
       "      <td>0.601163</td>\n",
       "      <td>5.225714</td>\n",
       "      <td>-7.301663</td>\n",
       "      <td>0.620000</td>\n",
       "      <td>0.099900</td>\n",
       "      <td>0.313663</td>\n",
       "      <td>0.036708</td>\n",
       "      <td>0.155573</td>\n",
       "      <td>0.494371</td>\n",
       "      <td>117.747651</td>\n",
       "      <td>190622.557143</td>\n",
       "      <td>3.894286</td>\n",
       "    </tr>\n",
       "    <tr>\n",
       "      <th>2021-01-03</th>\n",
       "      <td>25.948571</td>\n",
       "      <td>0.663151</td>\n",
       "      <td>0.618714</td>\n",
       "      <td>5.782857</td>\n",
       "      <td>-7.345991</td>\n",
       "      <td>0.582857</td>\n",
       "      <td>0.104829</td>\n",
       "      <td>0.309551</td>\n",
       "      <td>0.028036</td>\n",
       "      <td>0.173735</td>\n",
       "      <td>0.492659</td>\n",
       "      <td>115.925700</td>\n",
       "      <td>194482.251429</td>\n",
       "      <td>3.942857</td>\n",
       "    </tr>\n",
       "  </tbody>\n",
       "</table>\n",
       "</div>"
      ],
      "text/plain": [
       "             Position  danceability    energy       key  loudness      mode  \\\n",
       "date                                                                          \n",
       "2020-12-06  25.514286      0.635391  0.586877  5.448571 -8.045040  0.534286   \n",
       "2020-12-13  25.865714      0.658663  0.606386  5.334286 -7.434363  0.605714   \n",
       "2020-12-20  25.771429      0.649389  0.601711  5.185714 -7.288403  0.617143   \n",
       "2020-12-27  26.111429      0.658540  0.601163  5.225714 -7.301663  0.620000   \n",
       "2021-01-03  25.948571      0.663151  0.618714  5.782857 -7.345991  0.582857   \n",
       "\n",
       "            speechiness  acousticness  instrumentalness  liveness   valence  \\\n",
       "date                                                                          \n",
       "2020-12-06     0.109029      0.332617          0.020756  0.174773  0.451704   \n",
       "2020-12-13     0.097016      0.330153          0.019915  0.155027  0.480546   \n",
       "2020-12-20     0.101651      0.337039          0.018042  0.157806  0.474697   \n",
       "2020-12-27     0.099900      0.313663          0.036708  0.155573  0.494371   \n",
       "2021-01-03     0.104829      0.309551          0.028036  0.173735  0.492659   \n",
       "\n",
       "                 tempo    duration_ms  time_signature  \n",
       "date                                                   \n",
       "2020-12-06  120.883214  198297.631429        3.951429  \n",
       "2020-12-13  121.218346  198129.382857        3.945714  \n",
       "2020-12-20  117.303751  194437.685714        3.888571  \n",
       "2020-12-27  117.747651  190622.557143        3.894286  \n",
       "2021-01-03  115.925700  194482.251429        3.942857  "
      ]
     },
     "execution_count": 11,
     "metadata": {},
     "output_type": "execute_result"
    }
   ],
   "source": [
    "it_rw_20 = rw_italy_20_21[0:53]\n",
    "it_rw_20.tail()"
   ]
  },
  {
   "cell_type": "markdown",
   "metadata": {},
   "source": [
    "# Differencing Data for Stationarity"
   ]
  },
  {
   "cell_type": "markdown",
   "metadata": {},
   "source": [
    "### Augmented Dickey-Fuller test to estimate whether data are stationary. "
   ]
  },
  {
   "cell_type": "code",
   "execution_count": 12,
   "metadata": {},
   "outputs": [],
   "source": [
    "audio_features = [\n",
    "'danceability', \n",
    " 'energy',\n",
    " 'key',\n",
    " 'loudness',\n",
    " 'mode',\n",
    " 'speechiness',\n",
    " 'acousticness',\n",
    " 'instrumentalness',\n",
    " 'liveness',\n",
    " 'valence',\n",
    " 'tempo']"
   ]
  },
  {
   "cell_type": "code",
   "execution_count": 13,
   "metadata": {},
   "outputs": [],
   "source": [
    "# Code by Joseph Nelson! \n",
    "\n",
    "def interpret_dftest(dftest):\n",
    "    dfoutput = pd.Series(dftest[0:3], index=['Test Statistic', 'p-value', 'lags_used'])\n",
    "    return dfoutput"
   ]
  },
  {
   "cell_type": "markdown",
   "metadata": {},
   "source": [
    "_Dickey-Fuller on original dataframes_"
   ]
  },
  {
   "cell_type": "code",
   "execution_count": 14,
   "metadata": {},
   "outputs": [
    {
     "name": "stdout",
     "output_type": "stream",
     "text": [
      "Dickey-Fuller Interpretation for danceability:\n",
      "Test Statistic   -1.548511\n",
      "p-value           0.509392\n",
      "lags_used         7.000000\n",
      "dtype: float64\n",
      "Dickey-Fuller Interpretation for energy:\n",
      "Test Statistic   -3.123421\n",
      "p-value           0.024868\n",
      "lags_used         0.000000\n",
      "dtype: float64\n",
      "Dickey-Fuller Interpretation for key:\n",
      "Test Statistic   -3.427072\n",
      "p-value           0.010070\n",
      "lags_used         2.000000\n",
      "dtype: float64\n",
      "Dickey-Fuller Interpretation for loudness:\n",
      "Test Statistic   -1.902387\n",
      "p-value           0.330939\n",
      "lags_used         7.000000\n",
      "dtype: float64\n",
      "Dickey-Fuller Interpretation for mode:\n",
      "Test Statistic   -2.842559\n",
      "p-value           0.052447\n",
      "lags_used         0.000000\n",
      "dtype: float64\n",
      "Dickey-Fuller Interpretation for speechiness:\n",
      "Test Statistic   -2.835576\n",
      "p-value           0.053369\n",
      "lags_used         0.000000\n",
      "dtype: float64\n",
      "Dickey-Fuller Interpretation for acousticness:\n",
      "Test Statistic   -2.749330\n",
      "p-value           0.065884\n",
      "lags_used         0.000000\n",
      "dtype: float64\n",
      "Dickey-Fuller Interpretation for instrumentalness:\n",
      "Test Statistic   -4.045462\n",
      "p-value           0.001190\n",
      "lags_used         0.000000\n",
      "dtype: float64\n",
      "Dickey-Fuller Interpretation for liveness:\n",
      "Test Statistic   -3.696004\n",
      "p-value           0.004170\n",
      "lags_used         0.000000\n",
      "dtype: float64\n",
      "Dickey-Fuller Interpretation for valence:\n",
      "Test Statistic   -2.222276\n",
      "p-value           0.198260\n",
      "lags_used         0.000000\n",
      "dtype: float64\n",
      "Dickey-Fuller Interpretation for tempo:\n",
      "Test Statistic   -2.853689\n",
      "p-value           0.051005\n",
      "lags_used         0.000000\n",
      "dtype: float64\n"
     ]
    }
   ],
   "source": [
    "for feature in audio_features:\n",
    "    print(f'Dickey-Fuller Interpretation for {feature}:\\n{interpret_dftest(adfuller(it_rw_20[feature]))}')"
   ]
  },
  {
   "cell_type": "markdown",
   "metadata": {},
   "source": [
    "### DataFrame with once-differenced data"
   ]
  },
  {
   "cell_type": "code",
   "execution_count": 15,
   "metadata": {},
   "outputs": [],
   "source": [
    "lag_df_italy = alltime_rw_italy.copy()"
   ]
  },
  {
   "cell_type": "code",
   "execution_count": 16,
   "metadata": {},
   "outputs": [],
   "source": [
    "for feature in audio_features: \n",
    "    lag_df_italy[f'{feature}_once_differenced'] = lag_df_italy[feature].diff(1).fillna(0)"
   ]
  },
  {
   "cell_type": "code",
   "execution_count": 17,
   "metadata": {},
   "outputs": [
    {
     "data": {
      "text/html": [
       "<div>\n",
       "<style scoped>\n",
       "    .dataframe tbody tr th:only-of-type {\n",
       "        vertical-align: middle;\n",
       "    }\n",
       "\n",
       "    .dataframe tbody tr th {\n",
       "        vertical-align: top;\n",
       "    }\n",
       "\n",
       "    .dataframe thead th {\n",
       "        text-align: right;\n",
       "    }\n",
       "</style>\n",
       "<table border=\"1\" class=\"dataframe\">\n",
       "  <thead>\n",
       "    <tr style=\"text-align: right;\">\n",
       "      <th></th>\n",
       "      <th>Position</th>\n",
       "      <th>danceability</th>\n",
       "      <th>energy</th>\n",
       "      <th>key</th>\n",
       "      <th>loudness</th>\n",
       "      <th>mode</th>\n",
       "      <th>speechiness</th>\n",
       "      <th>acousticness</th>\n",
       "      <th>instrumentalness</th>\n",
       "      <th>liveness</th>\n",
       "      <th>...</th>\n",
       "      <th>energy_once_differenced</th>\n",
       "      <th>key_once_differenced</th>\n",
       "      <th>loudness_once_differenced</th>\n",
       "      <th>mode_once_differenced</th>\n",
       "      <th>speechiness_once_differenced</th>\n",
       "      <th>acousticness_once_differenced</th>\n",
       "      <th>instrumentalness_once_differenced</th>\n",
       "      <th>liveness_once_differenced</th>\n",
       "      <th>valence_once_differenced</th>\n",
       "      <th>tempo_once_differenced</th>\n",
       "    </tr>\n",
       "    <tr>\n",
       "      <th>date</th>\n",
       "      <th></th>\n",
       "      <th></th>\n",
       "      <th></th>\n",
       "      <th></th>\n",
       "      <th></th>\n",
       "      <th></th>\n",
       "      <th></th>\n",
       "      <th></th>\n",
       "      <th></th>\n",
       "      <th></th>\n",
       "      <th></th>\n",
       "      <th></th>\n",
       "      <th></th>\n",
       "      <th></th>\n",
       "      <th></th>\n",
       "      <th></th>\n",
       "      <th></th>\n",
       "      <th></th>\n",
       "      <th></th>\n",
       "      <th></th>\n",
       "      <th></th>\n",
       "    </tr>\n",
       "  </thead>\n",
       "  <tbody>\n",
       "    <tr>\n",
       "      <th>2021-02-07</th>\n",
       "      <td>25.5</td>\n",
       "      <td>0.666561</td>\n",
       "      <td>0.634389</td>\n",
       "      <td>5.402857</td>\n",
       "      <td>-6.677991</td>\n",
       "      <td>0.680000</td>\n",
       "      <td>0.109192</td>\n",
       "      <td>0.268234</td>\n",
       "      <td>0.035348</td>\n",
       "      <td>0.223654</td>\n",
       "      <td>...</td>\n",
       "      <td>0.029374</td>\n",
       "      <td>0.18000</td>\n",
       "      <td>0.314663</td>\n",
       "      <td>0.031429</td>\n",
       "      <td>-0.001159</td>\n",
       "      <td>-0.073344</td>\n",
       "      <td>-0.001695</td>\n",
       "      <td>0.005719</td>\n",
       "      <td>-0.006398</td>\n",
       "      <td>3.285271</td>\n",
       "    </tr>\n",
       "    <tr>\n",
       "      <th>2021-02-14</th>\n",
       "      <td>25.5</td>\n",
       "      <td>0.671104</td>\n",
       "      <td>0.647343</td>\n",
       "      <td>5.516667</td>\n",
       "      <td>-6.842603</td>\n",
       "      <td>0.656667</td>\n",
       "      <td>0.120716</td>\n",
       "      <td>0.277941</td>\n",
       "      <td>0.054173</td>\n",
       "      <td>0.220087</td>\n",
       "      <td>...</td>\n",
       "      <td>0.012955</td>\n",
       "      <td>0.11381</td>\n",
       "      <td>-0.164612</td>\n",
       "      <td>-0.023333</td>\n",
       "      <td>0.011523</td>\n",
       "      <td>0.009707</td>\n",
       "      <td>0.018826</td>\n",
       "      <td>-0.003567</td>\n",
       "      <td>0.049983</td>\n",
       "      <td>1.041837</td>\n",
       "    </tr>\n",
       "  </tbody>\n",
       "</table>\n",
       "<p>2 rows × 25 columns</p>\n",
       "</div>"
      ],
      "text/plain": [
       "            Position  danceability    energy       key  loudness      mode  \\\n",
       "date                                                                         \n",
       "2021-02-07      25.5      0.666561  0.634389  5.402857 -6.677991  0.680000   \n",
       "2021-02-14      25.5      0.671104  0.647343  5.516667 -6.842603  0.656667   \n",
       "\n",
       "            speechiness  acousticness  instrumentalness  liveness  ...  \\\n",
       "date                                                               ...   \n",
       "2021-02-07     0.109192      0.268234          0.035348  0.223654  ...   \n",
       "2021-02-14     0.120716      0.277941          0.054173  0.220087  ...   \n",
       "\n",
       "            energy_once_differenced  key_once_differenced  \\\n",
       "date                                                        \n",
       "2021-02-07                 0.029374               0.18000   \n",
       "2021-02-14                 0.012955               0.11381   \n",
       "\n",
       "            loudness_once_differenced  mode_once_differenced  \\\n",
       "date                                                           \n",
       "2021-02-07                   0.314663               0.031429   \n",
       "2021-02-14                  -0.164612              -0.023333   \n",
       "\n",
       "            speechiness_once_differenced  acousticness_once_differenced  \\\n",
       "date                                                                      \n",
       "2021-02-07                     -0.001159                      -0.073344   \n",
       "2021-02-14                      0.011523                       0.009707   \n",
       "\n",
       "            instrumentalness_once_differenced  liveness_once_differenced  \\\n",
       "date                                                                       \n",
       "2021-02-07                          -0.001695                   0.005719   \n",
       "2021-02-14                           0.018826                  -0.003567   \n",
       "\n",
       "            valence_once_differenced  tempo_once_differenced  \n",
       "date                                                          \n",
       "2021-02-07                 -0.006398                3.285271  \n",
       "2021-02-14                  0.049983                1.041837  \n",
       "\n",
       "[2 rows x 25 columns]"
      ]
     },
     "execution_count": 17,
     "metadata": {},
     "output_type": "execute_result"
    }
   ],
   "source": [
    "lag_df_italy.tail(2)"
   ]
  },
  {
   "cell_type": "markdown",
   "metadata": {},
   "source": [
    "_Dickey-Fuller on lag dataframe_"
   ]
  },
  {
   "cell_type": "code",
   "execution_count": 18,
   "metadata": {},
   "outputs": [
    {
     "name": "stdout",
     "output_type": "stream",
     "text": [
      "Dickey-Fuller Interpretation for danceability, once-differenced:\n",
      "Test Statistic   -9.142255e+00\n",
      "p-value           2.828632e-15\n",
      "lags_used         5.000000e+00\n",
      "dtype: float64\n",
      "Dickey-Fuller Interpretation for energy, once-differenced:\n",
      "Test Statistic   -6.782611e+00\n",
      "p-value           2.477455e-09\n",
      "lags_used         7.000000e+00\n",
      "dtype: float64\n",
      "Dickey-Fuller Interpretation for key, once-differenced:\n",
      "Test Statistic   -8.518281e+00\n",
      "p-value           1.118537e-13\n",
      "lags_used         7.000000e+00\n",
      "dtype: float64\n",
      "Dickey-Fuller Interpretation for loudness, once-differenced:\n",
      "Test Statistic   -7.002232e+00\n",
      "p-value           7.272028e-10\n",
      "lags_used         6.000000e+00\n",
      "dtype: float64\n",
      "Dickey-Fuller Interpretation for mode, once-differenced:\n",
      "Test Statistic   -9.845662e+00\n",
      "p-value           4.627101e-17\n",
      "lags_used         4.000000e+00\n",
      "dtype: float64\n",
      "Dickey-Fuller Interpretation for speechiness, once-differenced:\n",
      "Test Statistic   -8.291616e+00\n",
      "p-value           4.246658e-13\n",
      "lags_used         5.000000e+00\n",
      "dtype: float64\n",
      "Dickey-Fuller Interpretation for acousticness, once-differenced:\n",
      "Test Statistic   -1.160866e+01\n",
      "p-value           2.544491e-21\n",
      "lags_used         2.000000e+00\n",
      "dtype: float64\n",
      "Dickey-Fuller Interpretation for instrumentalness, once-differenced:\n",
      "Test Statistic   -7.471488e+00\n",
      "p-value           5.041115e-11\n",
      "lags_used         6.000000e+00\n",
      "dtype: float64\n",
      "Dickey-Fuller Interpretation for liveness, once-differenced:\n",
      "Test Statistic   -7.236294e+00\n",
      "p-value           1.935642e-10\n",
      "lags_used         8.000000e+00\n",
      "dtype: float64\n",
      "Dickey-Fuller Interpretation for valence, once-differenced:\n",
      "Test Statistic    -5.043085\n",
      "p-value            0.000018\n",
      "lags_used         12.000000\n",
      "dtype: float64\n",
      "Dickey-Fuller Interpretation for tempo, once-differenced:\n",
      "Test Statistic   -6.454214e+00\n",
      "p-value           1.497350e-08\n",
      "lags_used         1.400000e+01\n",
      "dtype: float64\n"
     ]
    }
   ],
   "source": [
    "for feature in audio_features:\n",
    "    print(f'Dickey-Fuller Interpretation for {feature}, once-differenced:\\n{interpret_dftest(adfuller(lag_df_italy[feature].diff(1).fillna(0)))}')"
   ]
  },
  {
   "cell_type": "markdown",
   "metadata": {},
   "source": [
    "_Checking that these are the same_"
   ]
  },
  {
   "cell_type": "code",
   "execution_count": 19,
   "metadata": {},
   "outputs": [
    {
     "data": {
      "text/plain": [
       "Test Statistic   -6.454214e+00\n",
       "p-value           1.497350e-08\n",
       "lags_used         1.400000e+01\n",
       "dtype: float64"
      ]
     },
     "execution_count": 19,
     "metadata": {},
     "output_type": "execute_result"
    }
   ],
   "source": [
    "interpret_dftest(adfuller(lag_df_italy['tempo_once_differenced']))"
   ]
  },
  {
   "cell_type": "code",
   "execution_count": 20,
   "metadata": {},
   "outputs": [
    {
     "data": {
      "text/plain": [
       "Test Statistic   -6.454214e+00\n",
       "p-value           1.497350e-08\n",
       "lags_used         1.400000e+01\n",
       "dtype: float64"
      ]
     },
     "execution_count": 20,
     "metadata": {},
     "output_type": "execute_result"
    }
   ],
   "source": [
    "interpret_dftest(adfuller(lag_df_italy['tempo'].diff(1).fillna(0)))"
   ]
  },
  {
   "cell_type": "markdown",
   "metadata": {},
   "source": [
    "### Using `ndiffs` to figure out how many orders of difference $d$ I need in oder to have stationarity"
   ]
  },
  {
   "cell_type": "markdown",
   "metadata": {},
   "source": [
    "#### _Running `ndiff` and `p,d,q` functions just on 2020 Italy data instead of alltime Italy data. Will use 2020 data to build the `ndiff_df` to see if this yields better results for this year._ "
   ]
  },
  {
   "cell_type": "code",
   "execution_count": 21,
   "metadata": {},
   "outputs": [],
   "source": [
    "from pmdarima.arima.utils import ndiffs"
   ]
  },
  {
   "cell_type": "code",
   "execution_count": 22,
   "metadata": {},
   "outputs": [
    {
     "name": "stdout",
     "output_type": "stream",
     "text": [
      "ndiffs for danceability stationarity w/ adf test: 0\n",
      "ndiffs for energy stationarity w/ adf test: 0\n",
      "ndiffs for key stationarity w/ adf test: 0\n",
      "ndiffs for loudness stationarity w/ adf test: 0\n",
      "ndiffs for mode stationarity w/ adf test: 0\n",
      "ndiffs for speechiness stationarity w/ adf test: 0\n",
      "ndiffs for acousticness stationarity w/ adf test: 0\n",
      "ndiffs for instrumentalness stationarity w/ adf test: 0\n",
      "ndiffs for liveness stationarity w/ adf test: 0\n",
      "ndiffs for valence stationarity w/ adf test: 0\n",
      "ndiffs for tempo stationarity w/ adf test: 0\n"
     ]
    }
   ],
   "source": [
    "for feature in audio_features:\n",
    "    print(f'ndiffs for {feature} stationarity w/ adf test: {ndiffs(alltime_italy[feature], test= \"adf\")}')"
   ]
  },
  {
   "cell_type": "code",
   "execution_count": 23,
   "metadata": {},
   "outputs": [
    {
     "name": "stdout",
     "output_type": "stream",
     "text": [
      "ndiffs for danceability stationarity w/ adf test: 1\n",
      "ndiffs for energy stationarity w/ adf test: 0\n",
      "ndiffs for key stationarity w/ adf test: 0\n",
      "ndiffs for loudness stationarity w/ adf test: 0\n",
      "ndiffs for mode stationarity w/ adf test: 1\n",
      "ndiffs for speechiness stationarity w/ adf test: 0\n",
      "ndiffs for acousticness stationarity w/ adf test: 0\n",
      "ndiffs for instrumentalness stationarity w/ adf test: 0\n",
      "ndiffs for liveness stationarity w/ adf test: 0\n",
      "ndiffs for valence stationarity w/ adf test: 0\n",
      "ndiffs for tempo stationarity w/ adf test: 0\n"
     ]
    }
   ],
   "source": [
    "for feature in audio_features:\n",
    "    print(f'ndiffs for {feature} stationarity w/ adf test: {ndiffs(alltime_rw_italy[feature], test= \"adf\")}')"
   ]
  },
  {
   "cell_type": "code",
   "execution_count": 24,
   "metadata": {},
   "outputs": [
    {
     "name": "stdout",
     "output_type": "stream",
     "text": [
      "ndiffs for danceability stationarity w/ adf test: 1\n",
      "ndiffs for energy stationarity w/ adf test: 1\n",
      "ndiffs for key stationarity w/ adf test: 0\n",
      "ndiffs for loudness stationarity w/ adf test: 1\n",
      "ndiffs for mode stationarity w/ adf test: 1\n",
      "ndiffs for speechiness stationarity w/ adf test: 2\n",
      "ndiffs for acousticness stationarity w/ adf test: 1\n",
      "ndiffs for instrumentalness stationarity w/ adf test: 1\n",
      "ndiffs for liveness stationarity w/ adf test: 1\n",
      "ndiffs for valence stationarity w/ adf test: 1\n",
      "ndiffs for tempo stationarity w/ adf test: 2\n"
     ]
    }
   ],
   "source": [
    "for feature in audio_features:\n",
    "    print(f'ndiffs for {feature} stationarity w/ adf test: {ndiffs(it_rw_20[feature], test= \"adf\")}')"
   ]
  },
  {
   "cell_type": "code",
   "execution_count": 25,
   "metadata": {
    "collapsed": true,
    "jupyter": {
     "outputs_hidden": true
    }
   },
   "outputs": [
    {
     "name": "stdout",
     "output_type": "stream",
     "text": [
      "ndiffs for danceability stationarity w/ kpss test: 1\n",
      "ndiffs for energy stationarity w/ kpss test: 1\n",
      "ndiffs for key stationarity w/ kpss test: 1\n",
      "ndiffs for loudness stationarity w/ kpss test: 1\n",
      "ndiffs for mode stationarity w/ kpss test: 1\n",
      "ndiffs for speechiness stationarity w/ kpss test: 1\n",
      "ndiffs for acousticness stationarity w/ kpss test: 1\n",
      "ndiffs for instrumentalness stationarity w/ kpss test: 1\n",
      "ndiffs for liveness stationarity w/ kpss test: 1\n",
      "ndiffs for valence stationarity w/ kpss test: 1\n",
      "ndiffs for tempo stationarity w/ kpss test: 1\n"
     ]
    }
   ],
   "source": [
    "for feature in audio_features:\n",
    "    print(f'ndiffs for {feature} stationarity w/ kpss test: {ndiffs(alltime_italy[feature])}')"
   ]
  },
  {
   "cell_type": "code",
   "execution_count": 26,
   "metadata": {
    "collapsed": true,
    "jupyter": {
     "outputs_hidden": true
    }
   },
   "outputs": [
    {
     "name": "stdout",
     "output_type": "stream",
     "text": [
      "ndiffs for danceability stationarity w/ kpss test: 0\n",
      "ndiffs for energy stationarity w/ kpss test: 0\n",
      "ndiffs for key stationarity w/ kpss test: 0\n",
      "ndiffs for loudness stationarity w/ kpss test: 0\n",
      "ndiffs for mode stationarity w/ kpss test: 0\n",
      "ndiffs for speechiness stationarity w/ kpss test: 0\n",
      "ndiffs for acousticness stationarity w/ kpss test: 0\n",
      "ndiffs for instrumentalness stationarity w/ kpss test: 0\n",
      "ndiffs for liveness stationarity w/ kpss test: 0\n",
      "ndiffs for valence stationarity w/ kpss test: 0\n",
      "ndiffs for tempo stationarity w/ kpss test: 0\n"
     ]
    }
   ],
   "source": [
    "for feature in audio_features:\n",
    "    print(f'ndiffs for {feature} stationarity w/ kpss test: {ndiffs(it_rw_20[feature])}')"
   ]
  },
  {
   "cell_type": "markdown",
   "metadata": {},
   "source": [
    "### Finding `p`, `d`, and `q` values"
   ]
  },
  {
   "cell_type": "markdown",
   "metadata": {},
   "source": [
    "_Using only the five audio features that are the most relevant or show some sort of pattern_ "
   ]
  },
  {
   "cell_type": "code",
   "execution_count": 27,
   "metadata": {},
   "outputs": [],
   "source": [
    "five_features = ['danceability', 'mode', 'acousticness', 'valence', 'tempo']"
   ]
  },
  {
   "cell_type": "markdown",
   "metadata": {},
   "source": [
    "_Building dataframe with `ndifffs` for stationarity for each feature_\n",
    "\n",
    "_This time using `it_rw_20` instead of `alltime_rw_italy`._"
   ]
  },
  {
   "cell_type": "code",
   "execution_count": 58,
   "metadata": {},
   "outputs": [
    {
     "data": {
      "text/html": [
       "<div>\n",
       "<style scoped>\n",
       "    .dataframe tbody tr th:only-of-type {\n",
       "        vertical-align: middle;\n",
       "    }\n",
       "\n",
       "    .dataframe tbody tr th {\n",
       "        vertical-align: top;\n",
       "    }\n",
       "\n",
       "    .dataframe thead th {\n",
       "        text-align: right;\n",
       "    }\n",
       "</style>\n",
       "<table border=\"1\" class=\"dataframe\">\n",
       "  <thead>\n",
       "    <tr style=\"text-align: right;\">\n",
       "      <th></th>\n",
       "      <th>audio_feature</th>\n",
       "      <th>ndiffs for stationarity</th>\n",
       "    </tr>\n",
       "  </thead>\n",
       "  <tbody>\n",
       "    <tr>\n",
       "      <th>0</th>\n",
       "      <td>danceability</td>\n",
       "      <td>1</td>\n",
       "    </tr>\n",
       "    <tr>\n",
       "      <th>1</th>\n",
       "      <td>mode</td>\n",
       "      <td>1</td>\n",
       "    </tr>\n",
       "    <tr>\n",
       "      <th>2</th>\n",
       "      <td>acousticness</td>\n",
       "      <td>1</td>\n",
       "    </tr>\n",
       "    <tr>\n",
       "      <th>3</th>\n",
       "      <td>valence</td>\n",
       "      <td>1</td>\n",
       "    </tr>\n",
       "    <tr>\n",
       "      <th>4</th>\n",
       "      <td>tempo</td>\n",
       "      <td>2</td>\n",
       "    </tr>\n",
       "  </tbody>\n",
       "</table>\n",
       "</div>"
      ],
      "text/plain": [
       "  audio_feature  ndiffs for stationarity\n",
       "0  danceability                        1\n",
       "1          mode                        1\n",
       "2  acousticness                        1\n",
       "3       valence                        1\n",
       "4         tempo                        2"
      ]
     },
     "execution_count": 58,
     "metadata": {},
     "output_type": "execute_result"
    }
   ],
   "source": [
    "ndiff_dict = {\n",
    "    'audio_feature':[],\n",
    "    'ndiffs for stationarity':[]    \n",
    "}\n",
    "\n",
    "for feature in five_features:\n",
    "    ndiff_dict['audio_feature'].append(feature)\n",
    "    ndiff_dict['ndiffs for stationarity'].append(ndiffs(it_rw_20[feature], test= \"adf\"))\n",
    "\n",
    "ndiff_df = pd.DataFrame(ndiff_dict)\n",
    "ndiff_df"
   ]
  },
  {
   "cell_type": "code",
   "execution_count": 30,
   "metadata": {},
   "outputs": [],
   "source": [
    "arima_dict_20 = {\n",
    "    'audio_feature':[],\n",
    "    'ndiffs(d)':[],\n",
    "    'best_p':[],\n",
    "    'best_q':[],\n",
    "    'order':[],\n",
    "    'ARIMA_model':[],\n",
    "    'ARIMA_AIC':[]\n",
    "}\n",
    "\n",
    "def find_p_and_q(df, feature, arima_dict, n=6):\n",
    "    \n",
    "    train = df[feature][0:162]\n",
    "    \n",
    "    d = ndiff_df.loc[ndiff_df['audio_feature'] == feature, 'ndiffs for stationarity'].iloc[0]\n",
    "\n",
    "    # starting with large start AIC\n",
    "    best_aic = 99 * (10 * 16)\n",
    "    # creating variables to store best values ofd p and q \n",
    "    best_p = 0\n",
    "    best_q = 0 \n",
    "\n",
    "    # use nested for loop to iterate over values of p and q\n",
    "    for p in range(n):\n",
    "\n",
    "        for q in range(n):\n",
    "\n",
    "            # insert try and and except statements\n",
    "            try: \n",
    "\n",
    "                # fitting on ARIMA(p, 1, q) model \n",
    "                print(f'Attempting to fit ARIMA({p}, {d}, {q})')\n",
    "\n",
    "                # instantiate ARIMA model\n",
    "                arima = ARIMA(train, order=(p,d,q))\n",
    "\n",
    "                # fit ARIMA model \n",
    "                model = arima.fit()\n",
    "\n",
    "                # print out AIC for ARIMA(p, 1, q) model \n",
    "                print(f'For {feature}, the AIC for ARIMA({p},{d},{q}) is: {model.aic}')\n",
    "\n",
    "                # Is this current model's AIC better than the OF best_aic? \n",
    "                if model.aic < best_aic:\n",
    "                    # we want aic to be lower so we are setting a high aic and hoping for something lower \n",
    "\n",
    "                    # if it is, we overwrite the best_aic, best_p, and best_q\n",
    "                    best_aic = model.aic\n",
    "                    best_p = p \n",
    "                    best_q = q\n",
    "\n",
    "            except:\n",
    "                pass \n",
    "\n",
    "        order = (best_p, d, best_q)\n",
    "    \n",
    "    arima_dict['audio_feature'].append(feature)\n",
    "    arima_dict['ndiffs(d)'].append(d)\n",
    "    arima_dict['best_p'].append(best_p)\n",
    "    arima_dict['best_q'].append(best_q)\n",
    "    arima_dict['order'].append(order)\n",
    "    arima_dict['ARIMA_model'].append(f'ARIMA({best_p},{d},{best_q})')\n",
    "    arima_dict['ARIMA_AIC'].append(best_aic)\n",
    "\n",
    "    print()\n",
    "    print(f'{feature.upper()} MODEL FINISHED!')\n",
    "    print(f'The model for {feature} that minimizes AIC on the training data is the ARIMA({best_p},{d},{best_q}).')\n",
    "    print(f'The model has an aIC of {best_aic}.')\n",
    "    print()"
   ]
  },
  {
   "cell_type": "code",
   "execution_count": 31,
   "metadata": {},
   "outputs": [
    {
     "data": {
      "text/plain": [
       "{'audio_feature': [],\n",
       " 'ndiffs(d)': [],\n",
       " 'best_p': [],\n",
       " 'best_q': [],\n",
       " 'order': [],\n",
       " 'ARIMA_model': [],\n",
       " 'ARIMA_AIC': []}"
      ]
     },
     "execution_count": 31,
     "metadata": {},
     "output_type": "execute_result"
    }
   ],
   "source": [
    "arima_dict_20"
   ]
  },
  {
   "cell_type": "code",
   "execution_count": 32,
   "metadata": {
    "scrolled": true
   },
   "outputs": [
    {
     "name": "stdout",
     "output_type": "stream",
     "text": [
      "Attempting to fit ARIMA(0, 1, 0)\n",
      "For danceability, the AIC for ARIMA(0,1,0) is: -205.5523299668606\n",
      "Attempting to fit ARIMA(0, 1, 1)\n",
      "For danceability, the AIC for ARIMA(0,1,1) is: -203.74405596228323\n",
      "Attempting to fit ARIMA(0, 1, 2)\n",
      "For danceability, the AIC for ARIMA(0,1,2) is: -212.63140194111244\n",
      "Attempting to fit ARIMA(0, 1, 3)\n",
      "For danceability, the AIC for ARIMA(0,1,3) is: -210.94128126103553\n",
      "Attempting to fit ARIMA(0, 1, 4)\n",
      "For danceability, the AIC for ARIMA(0,1,4) is: -209.066631272423\n",
      "Attempting to fit ARIMA(0, 1, 5)\n",
      "For danceability, the AIC for ARIMA(0,1,5) is: -209.4958601921778\n",
      "Attempting to fit ARIMA(1, 1, 0)\n",
      "For danceability, the AIC for ARIMA(1,1,0) is: -203.61921470158663\n",
      "Attempting to fit ARIMA(1, 1, 1)\n",
      "For danceability, the AIC for ARIMA(1,1,1) is: -210.0806742468661\n",
      "Attempting to fit ARIMA(1, 1, 2)\n",
      "For danceability, the AIC for ARIMA(1,1,2) is: -210.8656674410963\n",
      "Attempting to fit ARIMA(1, 1, 3)\n",
      "For danceability, the AIC for ARIMA(1,1,3) is: -208.94417058490572\n",
      "Attempting to fit ARIMA(1, 1, 4)\n",
      "For danceability, the AIC for ARIMA(1,1,4) is: -207.2586725267295\n",
      "Attempting to fit ARIMA(1, 1, 5)\n",
      "For danceability, the AIC for ARIMA(1,1,5) is: -209.75667656658007\n",
      "Attempting to fit ARIMA(2, 1, 0)\n",
      "For danceability, the AIC for ARIMA(2,1,0) is: -206.74618978985055\n",
      "Attempting to fit ARIMA(2, 1, 1)\n",
      "For danceability, the AIC for ARIMA(2,1,1) is: -211.85122541535603\n",
      "Attempting to fit ARIMA(2, 1, 2)\n",
      "For danceability, the AIC for ARIMA(2,1,2) is: -214.352401759731\n",
      "Attempting to fit ARIMA(2, 1, 3)\n",
      "For danceability, the AIC for ARIMA(2,1,3) is: -210.50842578874122\n",
      "Attempting to fit ARIMA(2, 1, 4)\n",
      "For danceability, the AIC for ARIMA(2,1,4) is: -213.199222060271\n",
      "Attempting to fit ARIMA(2, 1, 5)\n",
      "For danceability, the AIC for ARIMA(2,1,5) is: -211.36679593846534\n",
      "Attempting to fit ARIMA(3, 1, 0)\n",
      "For danceability, the AIC for ARIMA(3,1,0) is: -206.75835034951703\n",
      "Attempting to fit ARIMA(3, 1, 1)\n",
      "For danceability, the AIC for ARIMA(3,1,1) is: -210.1292513338311\n",
      "Attempting to fit ARIMA(3, 1, 2)\n",
      "For danceability, the AIC for ARIMA(3,1,2) is: -212.42850452856138\n",
      "Attempting to fit ARIMA(3, 1, 3)\n",
      "For danceability, the AIC for ARIMA(3,1,3) is: -209.8101223109915\n",
      "Attempting to fit ARIMA(3, 1, 4)\n",
      "For danceability, the AIC for ARIMA(3,1,4) is: -209.92680580151065\n",
      "Attempting to fit ARIMA(3, 1, 5)\n",
      "For danceability, the AIC for ARIMA(3,1,5) is: -210.25538590182313\n",
      "Attempting to fit ARIMA(4, 1, 0)\n",
      "For danceability, the AIC for ARIMA(4,1,0) is: -207.74193282877653\n",
      "Attempting to fit ARIMA(4, 1, 1)\n",
      "For danceability, the AIC for ARIMA(4,1,1) is: -209.7187628466576\n",
      "Attempting to fit ARIMA(4, 1, 2)\n",
      "For danceability, the AIC for ARIMA(4,1,2) is: -212.89576740433117\n",
      "Attempting to fit ARIMA(4, 1, 3)\n",
      "For danceability, the AIC for ARIMA(4,1,3) is: -209.2464882870955\n",
      "Attempting to fit ARIMA(4, 1, 4)\n",
      "For danceability, the AIC for ARIMA(4,1,4) is: -211.03888214234073\n",
      "Attempting to fit ARIMA(4, 1, 5)\n",
      "For danceability, the AIC for ARIMA(4,1,5) is: -211.52028931031438\n",
      "Attempting to fit ARIMA(5, 1, 0)\n",
      "For danceability, the AIC for ARIMA(5,1,0) is: -210.479179127428\n",
      "Attempting to fit ARIMA(5, 1, 1)\n",
      "For danceability, the AIC for ARIMA(5,1,1) is: -209.99316958769933\n",
      "Attempting to fit ARIMA(5, 1, 2)\n",
      "For danceability, the AIC for ARIMA(5,1,2) is: -210.57392943553904\n",
      "Attempting to fit ARIMA(5, 1, 3)\n",
      "For danceability, the AIC for ARIMA(5,1,3) is: -210.5213258599716\n",
      "Attempting to fit ARIMA(5, 1, 4)\n",
      "For danceability, the AIC for ARIMA(5,1,4) is: -212.3634573334995\n",
      "Attempting to fit ARIMA(5, 1, 5)\n",
      "For danceability, the AIC for ARIMA(5,1,5) is: -183.39670828786163\n",
      "\n",
      "DANCEABILITY MODEL FINISHED!\n",
      "The model for danceability that minimizes AIC on the training data is the ARIMA(2,1,2).\n",
      "The model has an aIC of -214.352401759731.\n",
      "\n",
      "Attempting to fit ARIMA(0, 1, 0)\n",
      "For mode, the AIC for ARIMA(0,1,0) is: -185.494464946834\n",
      "Attempting to fit ARIMA(0, 1, 1)\n",
      "For mode, the AIC for ARIMA(0,1,1) is: -183.53948073550512\n",
      "Attempting to fit ARIMA(0, 1, 2)\n",
      "For mode, the AIC for ARIMA(0,1,2) is: -181.7411973238582\n",
      "Attempting to fit ARIMA(0, 1, 3)\n",
      "For mode, the AIC for ARIMA(0,1,3) is: -185.438740772922\n",
      "Attempting to fit ARIMA(0, 1, 4)\n",
      "For mode, the AIC for ARIMA(0,1,4) is: -187.33908588081223\n",
      "Attempting to fit ARIMA(0, 1, 5)\n",
      "For mode, the AIC for ARIMA(0,1,5) is: -185.37197549803292\n",
      "Attempting to fit ARIMA(1, 1, 0)\n",
      "For mode, the AIC for ARIMA(1,1,0) is: -183.54136583602426\n",
      "Attempting to fit ARIMA(1, 1, 1)\n",
      "For mode, the AIC for ARIMA(1,1,1) is: -186.01584749057267\n",
      "Attempting to fit ARIMA(1, 1, 2)\n",
      "For mode, the AIC for ARIMA(1,1,2) is: -180.129555581066\n",
      "Attempting to fit ARIMA(1, 1, 3)\n",
      "For mode, the AIC for ARIMA(1,1,3) is: -186.64156593289286\n",
      "Attempting to fit ARIMA(1, 1, 4)\n",
      "For mode, the AIC for ARIMA(1,1,4) is: -185.4362965464288\n",
      "Attempting to fit ARIMA(1, 1, 5)\n",
      "For mode, the AIC for ARIMA(1,1,5) is: -183.6862700954247\n",
      "Attempting to fit ARIMA(2, 1, 0)\n",
      "For mode, the AIC for ARIMA(2,1,0) is: -181.550183623871\n",
      "Attempting to fit ARIMA(2, 1, 1)\n",
      "For mode, the AIC for ARIMA(2,1,1) is: -179.77770057172526\n",
      "Attempting to fit ARIMA(2, 1, 2)\n",
      "For mode, the AIC for ARIMA(2,1,2) is: -184.5381544057116\n",
      "Attempting to fit ARIMA(2, 1, 3)\n",
      "For mode, the AIC for ARIMA(2,1,3) is: -185.23131978343693\n",
      "Attempting to fit ARIMA(2, 1, 4)\n",
      "For mode, the AIC for ARIMA(2,1,4) is: -183.46803096639744\n",
      "Attempting to fit ARIMA(2, 1, 5)\n",
      "For mode, the AIC for ARIMA(2,1,5) is: -181.84705843731294\n",
      "Attempting to fit ARIMA(3, 1, 0)\n",
      "For mode, the AIC for ARIMA(3,1,0) is: -183.24478477065773\n",
      "Attempting to fit ARIMA(3, 1, 1)\n",
      "For mode, the AIC for ARIMA(3,1,1) is: -187.10644973801547\n",
      "Attempting to fit ARIMA(3, 1, 2)\n",
      "For mode, the AIC for ARIMA(3,1,2) is: -183.3924115693372\n",
      "Attempting to fit ARIMA(3, 1, 3)\n",
      "Attempting to fit ARIMA(3, 1, 4)\n",
      "For mode, the AIC for ARIMA(3,1,4) is: -181.76576052177236\n",
      "Attempting to fit ARIMA(3, 1, 5)\n",
      "For mode, the AIC for ARIMA(3,1,5) is: -179.6386808242997\n",
      "Attempting to fit ARIMA(4, 1, 0)\n",
      "For mode, the AIC for ARIMA(4,1,0) is: -187.65655408880454\n",
      "Attempting to fit ARIMA(4, 1, 1)\n",
      "For mode, the AIC for ARIMA(4,1,1) is: -186.3348756913184\n",
      "Attempting to fit ARIMA(4, 1, 2)\n",
      "For mode, the AIC for ARIMA(4,1,2) is: -184.41389314410625\n",
      "Attempting to fit ARIMA(4, 1, 3)\n",
      "For mode, the AIC for ARIMA(4,1,3) is: -185.75178819325615\n",
      "Attempting to fit ARIMA(4, 1, 4)\n",
      "For mode, the AIC for ARIMA(4,1,4) is: -184.78173573037785\n",
      "Attempting to fit ARIMA(4, 1, 5)\n",
      "Attempting to fit ARIMA(5, 1, 0)\n",
      "For mode, the AIC for ARIMA(5,1,0) is: -186.18132876125523\n",
      "Attempting to fit ARIMA(5, 1, 1)\n",
      "For mode, the AIC for ARIMA(5,1,1) is: -185.62530214732251\n",
      "Attempting to fit ARIMA(5, 1, 2)\n",
      "For mode, the AIC for ARIMA(5,1,2) is: -176.19957526172678\n",
      "Attempting to fit ARIMA(5, 1, 3)\n",
      "For mode, the AIC for ARIMA(5,1,3) is: -183.76463485645118\n",
      "Attempting to fit ARIMA(5, 1, 4)\n",
      "For mode, the AIC for ARIMA(5,1,4) is: -182.7860207588861\n",
      "Attempting to fit ARIMA(5, 1, 5)\n",
      "For mode, the AIC for ARIMA(5,1,5) is: -182.72824996753647\n",
      "\n",
      "MODE MODEL FINISHED!\n",
      "The model for mode that minimizes AIC on the training data is the ARIMA(4,1,0).\n",
      "The model has an aIC of -187.65655408880454.\n",
      "\n",
      "Attempting to fit ARIMA(0, 1, 0)\n",
      "For acousticness, the AIC for ARIMA(0,1,0) is: -168.1917161410772\n",
      "Attempting to fit ARIMA(0, 1, 1)\n",
      "For acousticness, the AIC for ARIMA(0,1,1) is: -168.6386121262819\n",
      "Attempting to fit ARIMA(0, 1, 2)\n",
      "For acousticness, the AIC for ARIMA(0,1,2) is: -168.73824474270307\n",
      "Attempting to fit ARIMA(0, 1, 3)\n",
      "For acousticness, the AIC for ARIMA(0,1,3) is: -166.9500676085879\n",
      "Attempting to fit ARIMA(0, 1, 4)\n",
      "For acousticness, the AIC for ARIMA(0,1,4) is: -165.60704575479102\n",
      "Attempting to fit ARIMA(0, 1, 5)\n",
      "For acousticness, the AIC for ARIMA(0,1,5) is: -163.62463934196293\n",
      "Attempting to fit ARIMA(1, 1, 0)\n",
      "For acousticness, the AIC for ARIMA(1,1,0) is: -167.44921591801958\n",
      "Attempting to fit ARIMA(1, 1, 1)\n",
      "For acousticness, the AIC for ARIMA(1,1,1) is: -170.83634443869462\n",
      "Attempting to fit ARIMA(1, 1, 2)\n",
      "For acousticness, the AIC for ARIMA(1,1,2) is: -166.81573859199435\n",
      "Attempting to fit ARIMA(1, 1, 3)\n",
      "For acousticness, the AIC for ARIMA(1,1,3) is: -165.12779268679716\n",
      "Attempting to fit ARIMA(1, 1, 4)\n",
      "For acousticness, the AIC for ARIMA(1,1,4) is: -163.61158407061052\n",
      "Attempting to fit ARIMA(1, 1, 5)\n",
      "For acousticness, the AIC for ARIMA(1,1,5) is: -163.54487800991197\n",
      "Attempting to fit ARIMA(2, 1, 0)\n",
      "For acousticness, the AIC for ARIMA(2,1,0) is: -169.30344987440233\n",
      "Attempting to fit ARIMA(2, 1, 1)\n",
      "For acousticness, the AIC for ARIMA(2,1,1) is: -167.44438016657975\n",
      "Attempting to fit ARIMA(2, 1, 2)\n",
      "For acousticness, the AIC for ARIMA(2,1,2) is: -165.92745603333552\n",
      "Attempting to fit ARIMA(2, 1, 3)\n",
      "For acousticness, the AIC for ARIMA(2,1,3) is: -164.13341079211008\n",
      "Attempting to fit ARIMA(2, 1, 4)\n",
      "For acousticness, the AIC for ARIMA(2,1,4) is: -162.1430452437128\n",
      "Attempting to fit ARIMA(2, 1, 5)\n",
      "For acousticness, the AIC for ARIMA(2,1,5) is: -159.83870131751675\n",
      "Attempting to fit ARIMA(3, 1, 0)\n",
      "For acousticness, the AIC for ARIMA(3,1,0) is: -167.54320033363055\n",
      "Attempting to fit ARIMA(3, 1, 1)\n",
      "For acousticness, the AIC for ARIMA(3,1,1) is: -165.69001516430873\n",
      "Attempting to fit ARIMA(3, 1, 2)\n",
      "For acousticness, the AIC for ARIMA(3,1,2) is: -164.12626443612916\n",
      "Attempting to fit ARIMA(3, 1, 3)\n",
      "For acousticness, the AIC for ARIMA(3,1,3) is: -163.9717477802192\n",
      "Attempting to fit ARIMA(3, 1, 4)\n",
      "For acousticness, the AIC for ARIMA(3,1,4) is: -160.90940116069416\n",
      "Attempting to fit ARIMA(3, 1, 5)\n",
      "Attempting to fit ARIMA(4, 1, 0)\n",
      "For acousticness, the AIC for ARIMA(4,1,0) is: -165.948791983191\n",
      "Attempting to fit ARIMA(4, 1, 1)\n",
      "For acousticness, the AIC for ARIMA(4,1,1) is: -163.96602308890866\n",
      "Attempting to fit ARIMA(4, 1, 2)\n",
      "For acousticness, the AIC for ARIMA(4,1,2) is: -163.95909793267495\n",
      "Attempting to fit ARIMA(4, 1, 3)\n",
      "For acousticness, the AIC for ARIMA(4,1,3) is: -161.96703915070347\n",
      "Attempting to fit ARIMA(4, 1, 4)\n",
      "Attempting to fit ARIMA(4, 1, 5)\n",
      "For acousticness, the AIC for ARIMA(4,1,5) is: -160.20098895827405\n",
      "Attempting to fit ARIMA(5, 1, 0)\n",
      "For acousticness, the AIC for ARIMA(5,1,0) is: -163.99163153646091\n",
      "Attempting to fit ARIMA(5, 1, 1)\n",
      "For acousticness, the AIC for ARIMA(5,1,1) is: -164.17907560663272\n",
      "Attempting to fit ARIMA(5, 1, 2)\n",
      "For acousticness, the AIC for ARIMA(5,1,2) is: -161.96989079413\n",
      "Attempting to fit ARIMA(5, 1, 3)\n",
      "For acousticness, the AIC for ARIMA(5,1,3) is: -160.00301658121097\n",
      "Attempting to fit ARIMA(5, 1, 4)\n",
      "For acousticness, the AIC for ARIMA(5,1,4) is: -160.8919460692455\n",
      "Attempting to fit ARIMA(5, 1, 5)\n",
      "\n",
      "ACOUSTICNESS MODEL FINISHED!\n",
      "The model for acousticness that minimizes AIC on the training data is the ARIMA(1,1,1).\n",
      "The model has an aIC of -170.83634443869462.\n",
      "\n",
      "Attempting to fit ARIMA(0, 1, 0)\n",
      "For valence, the AIC for ARIMA(0,1,0) is: -208.2422926342665\n",
      "Attempting to fit ARIMA(0, 1, 1)\n",
      "For valence, the AIC for ARIMA(0,1,1) is: -206.4522880838716\n",
      "Attempting to fit ARIMA(0, 1, 2)\n",
      "For valence, the AIC for ARIMA(0,1,2) is: -206.8895533055697\n",
      "Attempting to fit ARIMA(0, 1, 3)\n",
      "For valence, the AIC for ARIMA(0,1,3) is: -207.1822851074164\n",
      "Attempting to fit ARIMA(0, 1, 4)\n",
      "For valence, the AIC for ARIMA(0,1,4) is: -205.25876132368913\n",
      "Attempting to fit ARIMA(0, 1, 5)\n",
      "For valence, the AIC for ARIMA(0,1,5) is: -204.91340580776424\n",
      "Attempting to fit ARIMA(1, 1, 0)\n",
      "For valence, the AIC for ARIMA(1,1,0) is: -206.37248279530772\n",
      "Attempting to fit ARIMA(1, 1, 1)\n",
      "For valence, the AIC for ARIMA(1,1,1) is: -204.73670555915257\n",
      "Attempting to fit ARIMA(1, 1, 2)\n",
      "For valence, the AIC for ARIMA(1,1,2) is: -206.1259059210756\n",
      "Attempting to fit ARIMA(1, 1, 3)\n",
      "For valence, the AIC for ARIMA(1,1,3) is: -205.2177579394216\n",
      "Attempting to fit ARIMA(1, 1, 4)\n",
      "For valence, the AIC for ARIMA(1,1,4) is: -203.64776718568945\n",
      "Attempting to fit ARIMA(1, 1, 5)\n",
      "For valence, the AIC for ARIMA(1,1,5) is: -203.34158829195636\n",
      "Attempting to fit ARIMA(2, 1, 0)\n",
      "For valence, the AIC for ARIMA(2,1,0) is: -206.64765117349273\n",
      "Attempting to fit ARIMA(2, 1, 1)\n",
      "For valence, the AIC for ARIMA(2,1,1) is: -206.8838352030434\n",
      "Attempting to fit ARIMA(2, 1, 2)\n",
      "For valence, the AIC for ARIMA(2,1,2) is: -206.6468388875866\n",
      "Attempting to fit ARIMA(2, 1, 3)\n",
      "For valence, the AIC for ARIMA(2,1,3) is: -207.26281471380085\n",
      "Attempting to fit ARIMA(2, 1, 4)\n",
      "For valence, the AIC for ARIMA(2,1,4) is: -206.52808163258052\n",
      "Attempting to fit ARIMA(2, 1, 5)\n",
      "For valence, the AIC for ARIMA(2,1,5) is: -204.70633118698126\n",
      "Attempting to fit ARIMA(3, 1, 0)\n",
      "For valence, the AIC for ARIMA(3,1,0) is: -206.83711400933615\n",
      "Attempting to fit ARIMA(3, 1, 1)\n",
      "For valence, the AIC for ARIMA(3,1,1) is: -205.3366639736757\n",
      "Attempting to fit ARIMA(3, 1, 2)\n",
      "For valence, the AIC for ARIMA(3,1,2) is: -204.73775670493873\n",
      "Attempting to fit ARIMA(3, 1, 3)\n",
      "For valence, the AIC for ARIMA(3,1,3) is: -207.5276188239424\n",
      "Attempting to fit ARIMA(3, 1, 4)\n",
      "For valence, the AIC for ARIMA(3,1,4) is: -205.73256871058598\n",
      "Attempting to fit ARIMA(3, 1, 5)\n",
      "Attempting to fit ARIMA(4, 1, 0)\n",
      "For valence, the AIC for ARIMA(4,1,0) is: -205.15079246510632\n",
      "Attempting to fit ARIMA(4, 1, 1)\n",
      "For valence, the AIC for ARIMA(4,1,1) is: -203.35458766553873\n",
      "Attempting to fit ARIMA(4, 1, 2)\n",
      "For valence, the AIC for ARIMA(4,1,2) is: -202.50210494626478\n",
      "Attempting to fit ARIMA(4, 1, 3)\n",
      "For valence, the AIC for ARIMA(4,1,3) is: -205.7078679047394\n",
      "Attempting to fit ARIMA(4, 1, 4)\n",
      "For valence, the AIC for ARIMA(4,1,4) is: -205.325679140627\n",
      "Attempting to fit ARIMA(4, 1, 5)\n",
      "For valence, the AIC for ARIMA(4,1,5) is: -203.67415650884968\n",
      "Attempting to fit ARIMA(5, 1, 0)\n",
      "For valence, the AIC for ARIMA(5,1,0) is: -203.66081760167438\n",
      "Attempting to fit ARIMA(5, 1, 1)\n",
      "For valence, the AIC for ARIMA(5,1,1) is: -201.68405164197023\n",
      "Attempting to fit ARIMA(5, 1, 2)\n",
      "For valence, the AIC for ARIMA(5,1,2) is: -206.650135968306\n",
      "Attempting to fit ARIMA(5, 1, 3)\n",
      "For valence, the AIC for ARIMA(5,1,3) is: -204.65683933422181\n",
      "Attempting to fit ARIMA(5, 1, 4)\n",
      "For valence, the AIC for ARIMA(5,1,4) is: -203.69168007500608\n",
      "Attempting to fit ARIMA(5, 1, 5)\n",
      "For valence, the AIC for ARIMA(5,1,5) is: -202.41019034479942\n",
      "\n",
      "VALENCE MODEL FINISHED!\n",
      "The model for valence that minimizes AIC on the training data is the ARIMA(0,1,0).\n",
      "The model has an aIC of -208.2422926342665.\n",
      "\n",
      "Attempting to fit ARIMA(0, 2, 0)\n",
      "For tempo, the AIC for ARIMA(0,2,0) is: 268.67926197399504\n",
      "Attempting to fit ARIMA(0, 2, 1)\n",
      "For tempo, the AIC for ARIMA(0,2,1) is: 235.39950667933783\n",
      "Attempting to fit ARIMA(0, 2, 2)\n",
      "For tempo, the AIC for ARIMA(0,2,2) is: 236.98910649563308\n",
      "Attempting to fit ARIMA(0, 2, 3)\n",
      "For tempo, the AIC for ARIMA(0,2,3) is: 236.672520948118\n",
      "Attempting to fit ARIMA(0, 2, 4)\n",
      "For tempo, the AIC for ARIMA(0,2,4) is: 238.55402337620734\n",
      "Attempting to fit ARIMA(0, 2, 5)\n",
      "For tempo, the AIC for ARIMA(0,2,5) is: 239.8167599793989\n",
      "Attempting to fit ARIMA(1, 2, 0)\n",
      "For tempo, the AIC for ARIMA(1,2,0) is: 260.86785019655196\n",
      "Attempting to fit ARIMA(1, 2, 1)\n",
      "For tempo, the AIC for ARIMA(1,2,1) is: 237.179599689967\n",
      "Attempting to fit ARIMA(1, 2, 2)\n",
      "Attempting to fit ARIMA(1, 2, 3)\n",
      "For tempo, the AIC for ARIMA(1,2,3) is: 238.62553904821522\n",
      "Attempting to fit ARIMA(1, 2, 4)\n",
      "For tempo, the AIC for ARIMA(1,2,4) is: 240.39513908247312\n",
      "Attempting to fit ARIMA(1, 2, 5)\n",
      "For tempo, the AIC for ARIMA(1,2,5) is: 241.19607940710134\n",
      "Attempting to fit ARIMA(2, 2, 0)\n",
      "For tempo, the AIC for ARIMA(2,2,0) is: 248.3098727761199\n",
      "Attempting to fit ARIMA(2, 2, 1)\n",
      "For tempo, the AIC for ARIMA(2,2,1) is: 236.1045922884535\n",
      "Attempting to fit ARIMA(2, 2, 2)\n",
      "For tempo, the AIC for ARIMA(2,2,2) is: 238.0386608411784\n",
      "Attempting to fit ARIMA(2, 2, 3)\n",
      "For tempo, the AIC for ARIMA(2,2,3) is: 236.26985599144552\n",
      "Attempting to fit ARIMA(2, 2, 4)\n",
      "Attempting to fit ARIMA(2, 2, 5)\n",
      "For tempo, the AIC for ARIMA(2,2,5) is: 241.30096463712522\n",
      "Attempting to fit ARIMA(3, 2, 0)\n",
      "For tempo, the AIC for ARIMA(3,2,0) is: 244.2373919442042\n",
      "Attempting to fit ARIMA(3, 2, 1)\n",
      "For tempo, the AIC for ARIMA(3,2,1) is: 237.99344374245985\n",
      "Attempting to fit ARIMA(3, 2, 2)\n",
      "Attempting to fit ARIMA(3, 2, 3)\n",
      "For tempo, the AIC for ARIMA(3,2,3) is: 241.7315595921571\n",
      "Attempting to fit ARIMA(3, 2, 4)\n",
      "For tempo, the AIC for ARIMA(3,2,4) is: 240.29475339136377\n",
      "Attempting to fit ARIMA(3, 2, 5)\n",
      "Attempting to fit ARIMA(4, 2, 0)\n",
      "For tempo, the AIC for ARIMA(4,2,0) is: 245.25473601658726\n",
      "Attempting to fit ARIMA(4, 2, 1)\n",
      "For tempo, the AIC for ARIMA(4,2,1) is: 239.74451985532514\n",
      "Attempting to fit ARIMA(4, 2, 2)\n",
      "Attempting to fit ARIMA(4, 2, 3)\n",
      "Attempting to fit ARIMA(4, 2, 4)\n",
      "For tempo, the AIC for ARIMA(4,2,4) is: 242.1609964836589\n",
      "Attempting to fit ARIMA(4, 2, 5)\n",
      "For tempo, the AIC for ARIMA(4,2,5) is: 240.82731535797143\n",
      "Attempting to fit ARIMA(5, 2, 0)\n",
      "For tempo, the AIC for ARIMA(5,2,0) is: 245.1199355133704\n",
      "Attempting to fit ARIMA(5, 2, 1)\n",
      "For tempo, the AIC for ARIMA(5,2,1) is: 241.53284585414684\n",
      "Attempting to fit ARIMA(5, 2, 2)\n",
      "For tempo, the AIC for ARIMA(5,2,2) is: 243.36266265471141\n",
      "Attempting to fit ARIMA(5, 2, 3)\n",
      "For tempo, the AIC for ARIMA(5,2,3) is: 240.87492730880695\n",
      "Attempting to fit ARIMA(5, 2, 4)\n",
      "For tempo, the AIC for ARIMA(5,2,4) is: 242.70180654889384\n",
      "Attempting to fit ARIMA(5, 2, 5)\n",
      "\n",
      "TEMPO MODEL FINISHED!\n",
      "The model for tempo that minimizes AIC on the training data is the ARIMA(0,2,1).\n",
      "The model has an aIC of 235.39950667933783.\n",
      "\n"
     ]
    }
   ],
   "source": [
    "for feature in five_features:\n",
    "    find_p_and_q(it_rw_20, feature, arima_dict_20)"
   ]
  },
  {
   "cell_type": "code",
   "execution_count": 33,
   "metadata": {},
   "outputs": [
    {
     "data": {
      "text/html": [
       "<div>\n",
       "<style scoped>\n",
       "    .dataframe tbody tr th:only-of-type {\n",
       "        vertical-align: middle;\n",
       "    }\n",
       "\n",
       "    .dataframe tbody tr th {\n",
       "        vertical-align: top;\n",
       "    }\n",
       "\n",
       "    .dataframe thead th {\n",
       "        text-align: right;\n",
       "    }\n",
       "</style>\n",
       "<table border=\"1\" class=\"dataframe\">\n",
       "  <thead>\n",
       "    <tr style=\"text-align: right;\">\n",
       "      <th></th>\n",
       "      <th>audio_feature</th>\n",
       "      <th>ndiffs(d)</th>\n",
       "      <th>best_p</th>\n",
       "      <th>best_q</th>\n",
       "      <th>order</th>\n",
       "      <th>ARIMA_model</th>\n",
       "      <th>ARIMA_AIC</th>\n",
       "    </tr>\n",
       "  </thead>\n",
       "  <tbody>\n",
       "    <tr>\n",
       "      <th>0</th>\n",
       "      <td>danceability</td>\n",
       "      <td>1</td>\n",
       "      <td>2</td>\n",
       "      <td>2</td>\n",
       "      <td>(2, 1, 2)</td>\n",
       "      <td>ARIMA(2,1,2)</td>\n",
       "      <td>-214.352402</td>\n",
       "    </tr>\n",
       "    <tr>\n",
       "      <th>1</th>\n",
       "      <td>mode</td>\n",
       "      <td>1</td>\n",
       "      <td>4</td>\n",
       "      <td>0</td>\n",
       "      <td>(4, 1, 0)</td>\n",
       "      <td>ARIMA(4,1,0)</td>\n",
       "      <td>-187.656554</td>\n",
       "    </tr>\n",
       "    <tr>\n",
       "      <th>2</th>\n",
       "      <td>acousticness</td>\n",
       "      <td>1</td>\n",
       "      <td>1</td>\n",
       "      <td>1</td>\n",
       "      <td>(1, 1, 1)</td>\n",
       "      <td>ARIMA(1,1,1)</td>\n",
       "      <td>-170.836344</td>\n",
       "    </tr>\n",
       "    <tr>\n",
       "      <th>3</th>\n",
       "      <td>valence</td>\n",
       "      <td>1</td>\n",
       "      <td>0</td>\n",
       "      <td>0</td>\n",
       "      <td>(0, 1, 0)</td>\n",
       "      <td>ARIMA(0,1,0)</td>\n",
       "      <td>-208.242293</td>\n",
       "    </tr>\n",
       "    <tr>\n",
       "      <th>4</th>\n",
       "      <td>tempo</td>\n",
       "      <td>2</td>\n",
       "      <td>0</td>\n",
       "      <td>1</td>\n",
       "      <td>(0, 2, 1)</td>\n",
       "      <td>ARIMA(0,2,1)</td>\n",
       "      <td>235.399507</td>\n",
       "    </tr>\n",
       "  </tbody>\n",
       "</table>\n",
       "</div>"
      ],
      "text/plain": [
       "  audio_feature  ndiffs(d)  best_p  best_q      order   ARIMA_model  \\\n",
       "0  danceability          1       2       2  (2, 1, 2)  ARIMA(2,1,2)   \n",
       "1          mode          1       4       0  (4, 1, 0)  ARIMA(4,1,0)   \n",
       "2  acousticness          1       1       1  (1, 1, 1)  ARIMA(1,1,1)   \n",
       "3       valence          1       0       0  (0, 1, 0)  ARIMA(0,1,0)   \n",
       "4         tempo          2       0       1  (0, 2, 1)  ARIMA(0,2,1)   \n",
       "\n",
       "    ARIMA_AIC  \n",
       "0 -214.352402  \n",
       "1 -187.656554  \n",
       "2 -170.836344  \n",
       "3 -208.242293  \n",
       "4  235.399507  "
      ]
     },
     "execution_count": 33,
     "metadata": {},
     "output_type": "execute_result"
    }
   ],
   "source": [
    "arima_param_df_20 = pd.DataFrame(arima_dict_20)\n",
    "arima_param_df_20"
   ]
  },
  {
   "cell_type": "markdown",
   "metadata": {},
   "source": [
    "# ARIMA Models  "
   ]
  },
  {
   "cell_type": "markdown",
   "metadata": {},
   "source": [
    "### Function to create, evaluate, and plot `ARIMA` models "
   ]
  },
  {
   "cell_type": "code",
   "execution_count": 34,
   "metadata": {},
   "outputs": [],
   "source": [
    "def arima_predict_plot(df, feature, year, param_df, title='title', figsize=(15,5), order=None, d=None, ci=True):\n",
    "  \n",
    "    # create train and test sets\n",
    "    n_rows = round(len(df)*0.9)\n",
    "    train = df[feature][0:n_rows]\n",
    "    test = df[feature][n_rows:]\n",
    "    \n",
    "    # find ndiffs for stationarity from ndiff dataframe\n",
    "    if d is None: \n",
    "        d = ndiff_df.loc[ndiff_df['audio_feature'] == feature, 'ndiffs for stationarity'].iloc[0]\n",
    "    print(f'd = {d}')\n",
    "    \n",
    "    if order is None:\n",
    "        # find order from arima parameters dataframe \n",
    "        order = param_df.loc[param_df['audio_feature'] == feature, 'order'].iloc[0]\n",
    "    print(f'order = {order}')\n",
    "   \n",
    "    try: \n",
    "        # instantiate ARIMA model\n",
    "        model = ARIMA(train, order=order)\n",
    "\n",
    "        # fit ARIMA model\n",
    "        arima = model.fit()\n",
    "\n",
    "        # get predictions for train and test sets \n",
    "        preds_train = model.predict(params=arima.params, start=train.index[d], end=train.index[-1], typ='levels')\n",
    "        preds_test = model.predict(params=arima.params, start=test.index[0], end=test.index[-1], typ='levels')\n",
    "\n",
    "        # calculate and print RMSE for train and test setes \n",
    "        train_rmse = mean_squared_error(train[d::], preds_train)**0.5\n",
    "        print(f'{feature.capitalize()} train RMSE ({year}) - ARIMA({order}): {train_rmse}')\n",
    "\n",
    "        test_rmse = mean_squared_error(test, preds_test)**0.5\n",
    "        print(f'{feature.capitalize()} test RMSE ({year}) - ARIMA({order}): {test_rmse}')\n",
    "\n",
    "        # add RMSEs to arima parameters dataframe \n",
    "        param_df.loc[param_df['audio_feature'] == feature, 'arima_train_rmse'] = train_rmse    \n",
    "        param_df.loc[param_df['audio_feature'] == feature, 'arima_test_rmse'] = test_rmse\n",
    "\n",
    "          # set up plot\n",
    "        plt.figure(figsize=figsize)\n",
    "\n",
    "        # plot training data \n",
    "        plt.plot(train, color='blue')\n",
    "\n",
    "        # plot testing data \n",
    "        plt.plot(test.index, test, color='orange')\n",
    "\n",
    "        # plot predicted values for test set \n",
    "        plt.plot(test.index, preds_test, color='green')\n",
    "\n",
    "        # add line for the baseline model (mean value of feature)\n",
    "        plt.hlines(df[feature].mean(), train.index[0], test.index[-1], color = 'grey')\n",
    "\n",
    "        # plot confidence interval\n",
    "        if ci:\n",
    "            ci = 1.96 * np.std(preds_test)/np.mean(preds_test)\n",
    "            plt.fill_between(test.index, (preds_test - ci), (preds_test + ci), color='blue', alpha=.1) \n",
    "\n",
    "        # make plot with title! \n",
    "        plt.title(title, fontsize=16)\n",
    "        plt.show() ; \n",
    "        \n",
    "    except:\n",
    "        print(ValueError)\n",
    "        pass"
   ]
  },
  {
   "cell_type": "code",
   "execution_count": 122,
   "metadata": {},
   "outputs": [],
   "source": [
    "import pickle"
   ]
  },
  {
   "cell_type": "code",
   "execution_count": 124,
   "metadata": {},
   "outputs": [
    {
     "data": {
      "text/plain": [
       "'/Users/emilynaftalin/Data_Science/General Assembly/dsi/capstone/code'"
      ]
     },
     "execution_count": 124,
     "metadata": {},
     "output_type": "execute_result"
    }
   ],
   "source": [
    "pwd"
   ]
  },
  {
   "cell_type": "code",
   "execution_count": 123,
   "metadata": {},
   "outputs": [],
   "source": [
    "app = pickle.dumps(arima_predict_plot)"
   ]
  },
  {
   "cell_type": "code",
   "execution_count": 125,
   "metadata": {},
   "outputs": [
    {
     "data": {
      "text/plain": [
       "b'\\x80\\x04\\x95#\\x00\\x00\\x00\\x00\\x00\\x00\\x00\\x8c\\x08__main__\\x94\\x8c\\x12arima_predict_plot\\x94\\x93\\x94.'"
      ]
     },
     "execution_count": 125,
     "metadata": {},
     "output_type": "execute_result"
    }
   ],
   "source": [
    "app"
   ]
  },
  {
   "cell_type": "code",
   "execution_count": 126,
   "metadata": {},
   "outputs": [
    {
     "data": {
      "text/plain": [
       "bytes"
      ]
     },
     "execution_count": 126,
     "metadata": {},
     "output_type": "execute_result"
    }
   ],
   "source": [
    "type(app)"
   ]
  },
  {
   "cell_type": "code",
   "execution_count": 127,
   "metadata": {},
   "outputs": [],
   "source": [
    "ar_imp = pickle.loads(app)"
   ]
  },
  {
   "cell_type": "raw",
   "metadata": {},
   "source": []
  },
  {
   "cell_type": "code",
   "execution_count": 130,
   "metadata": {},
   "outputs": [
    {
     "data": {
      "text/plain": [
       "function"
      ]
     },
     "execution_count": 130,
     "metadata": {},
     "output_type": "execute_result"
    }
   ],
   "source": [
    "type(ar_imp)"
   ]
  },
  {
   "cell_type": "code",
   "execution_count": null,
   "metadata": {},
   "outputs": [],
   "source": []
  },
  {
   "cell_type": "markdown",
   "metadata": {},
   "source": [
    "_Function soley for plotting to be used when needed._"
   ]
  },
  {
   "cell_type": "code",
   "execution_count": 35,
   "metadata": {},
   "outputs": [],
   "source": [
    "def arima_plot(train, test, preds_test, title='title', figsize=(15,5), ci=True):\n",
    "    \n",
    "    # set up plot\n",
    "    plt.figure(figsize=figsize)\n",
    "    \n",
    "    # plot training data \n",
    "    plt.plot(train, color='blue')\n",
    "    \n",
    "    # plot testing data \n",
    "    plt.plot(test.index, test, color='orange')\n",
    "    \n",
    "    # plot predicted values for test set \n",
    "    plt.plot(test.index, preds_test, color='green')\n",
    "    \n",
    "    # add line for the baseline model (mean value of feature)\n",
    "    # plt.hlines(df[feature].mean(), train.index[0], test.index[-1], color = 'grey')\n",
    "    \n",
    "    # plot confidence interval \n",
    "    if ci:\n",
    "        ci = 1.96 * np.std(preds_test)/np.mean(preds_test)\n",
    "        plt.fill_between(test.index, (preds_test - ci), (preds_test + ci), color='blue', alpha=.1) \n",
    "    \n",
    "    # make plot with title! \n",
    "    plt.title(title, fontsize=16)\n",
    "    plt.show() ; "
   ]
  },
  {
   "cell_type": "markdown",
   "metadata": {},
   "source": [
    "### ARIMA Models - 2020\n",
    "\n",
    "_Using `arima_predict_plot` function to run ARIMA model for each feature and show plot of actual vs. test._\n",
    "\n",
    "_This will also add columns for `arima_train_rmse` and `arima_test_rmse`._"
   ]
  },
  {
   "cell_type": "code",
   "execution_count": 36,
   "metadata": {},
   "outputs": [
    {
     "data": {
      "text/html": [
       "<div>\n",
       "<style scoped>\n",
       "    .dataframe tbody tr th:only-of-type {\n",
       "        vertical-align: middle;\n",
       "    }\n",
       "\n",
       "    .dataframe tbody tr th {\n",
       "        vertical-align: top;\n",
       "    }\n",
       "\n",
       "    .dataframe thead th {\n",
       "        text-align: right;\n",
       "    }\n",
       "</style>\n",
       "<table border=\"1\" class=\"dataframe\">\n",
       "  <thead>\n",
       "    <tr style=\"text-align: right;\">\n",
       "      <th></th>\n",
       "      <th>Position</th>\n",
       "      <th>danceability</th>\n",
       "      <th>energy</th>\n",
       "      <th>key</th>\n",
       "      <th>loudness</th>\n",
       "      <th>mode</th>\n",
       "      <th>speechiness</th>\n",
       "      <th>acousticness</th>\n",
       "      <th>instrumentalness</th>\n",
       "      <th>liveness</th>\n",
       "      <th>valence</th>\n",
       "      <th>tempo</th>\n",
       "      <th>duration_ms</th>\n",
       "      <th>time_signature</th>\n",
       "    </tr>\n",
       "    <tr>\n",
       "      <th>date</th>\n",
       "      <th></th>\n",
       "      <th></th>\n",
       "      <th></th>\n",
       "      <th></th>\n",
       "      <th></th>\n",
       "      <th></th>\n",
       "      <th></th>\n",
       "      <th></th>\n",
       "      <th></th>\n",
       "      <th></th>\n",
       "      <th></th>\n",
       "      <th></th>\n",
       "      <th></th>\n",
       "      <th></th>\n",
       "    </tr>\n",
       "  </thead>\n",
       "  <tbody>\n",
       "    <tr>\n",
       "      <th>2020-01-05</th>\n",
       "      <td>25.5</td>\n",
       "      <td>0.696228</td>\n",
       "      <td>0.645564</td>\n",
       "      <td>6.336</td>\n",
       "      <td>-6.606992</td>\n",
       "      <td>0.628000</td>\n",
       "      <td>0.128064</td>\n",
       "      <td>0.228294</td>\n",
       "      <td>0.030112</td>\n",
       "      <td>0.183885</td>\n",
       "      <td>0.474768</td>\n",
       "      <td>119.054180</td>\n",
       "      <td>189219.892000</td>\n",
       "      <td>3.960000</td>\n",
       "    </tr>\n",
       "    <tr>\n",
       "      <th>2020-01-12</th>\n",
       "      <td>25.5</td>\n",
       "      <td>0.668417</td>\n",
       "      <td>0.639666</td>\n",
       "      <td>5.720</td>\n",
       "      <td>-6.622551</td>\n",
       "      <td>0.611429</td>\n",
       "      <td>0.126540</td>\n",
       "      <td>0.231547</td>\n",
       "      <td>0.032838</td>\n",
       "      <td>0.172342</td>\n",
       "      <td>0.445104</td>\n",
       "      <td>119.640874</td>\n",
       "      <td>189433.622857</td>\n",
       "      <td>3.945714</td>\n",
       "    </tr>\n",
       "  </tbody>\n",
       "</table>\n",
       "</div>"
      ],
      "text/plain": [
       "            Position  danceability    energy    key  loudness      mode  \\\n",
       "date                                                                      \n",
       "2020-01-05      25.5      0.696228  0.645564  6.336 -6.606992  0.628000   \n",
       "2020-01-12      25.5      0.668417  0.639666  5.720 -6.622551  0.611429   \n",
       "\n",
       "            speechiness  acousticness  instrumentalness  liveness   valence  \\\n",
       "date                                                                          \n",
       "2020-01-05     0.128064      0.228294          0.030112  0.183885  0.474768   \n",
       "2020-01-12     0.126540      0.231547          0.032838  0.172342  0.445104   \n",
       "\n",
       "                 tempo    duration_ms  time_signature  \n",
       "date                                                   \n",
       "2020-01-05  119.054180  189219.892000        3.960000  \n",
       "2020-01-12  119.640874  189433.622857        3.945714  "
      ]
     },
     "execution_count": 36,
     "metadata": {},
     "output_type": "execute_result"
    }
   ],
   "source": [
    "it_rw_20.head(2)"
   ]
  },
  {
   "cell_type": "code",
   "execution_count": 37,
   "metadata": {},
   "outputs": [
    {
     "data": {
      "text/html": [
       "<div>\n",
       "<style scoped>\n",
       "    .dataframe tbody tr th:only-of-type {\n",
       "        vertical-align: middle;\n",
       "    }\n",
       "\n",
       "    .dataframe tbody tr th {\n",
       "        vertical-align: top;\n",
       "    }\n",
       "\n",
       "    .dataframe thead th {\n",
       "        text-align: right;\n",
       "    }\n",
       "</style>\n",
       "<table border=\"1\" class=\"dataframe\">\n",
       "  <thead>\n",
       "    <tr style=\"text-align: right;\">\n",
       "      <th></th>\n",
       "      <th>Position</th>\n",
       "      <th>danceability</th>\n",
       "      <th>energy</th>\n",
       "      <th>key</th>\n",
       "      <th>loudness</th>\n",
       "      <th>mode</th>\n",
       "      <th>speechiness</th>\n",
       "      <th>acousticness</th>\n",
       "      <th>instrumentalness</th>\n",
       "      <th>liveness</th>\n",
       "      <th>valence</th>\n",
       "      <th>tempo</th>\n",
       "      <th>duration_ms</th>\n",
       "      <th>time_signature</th>\n",
       "    </tr>\n",
       "    <tr>\n",
       "      <th>date</th>\n",
       "      <th></th>\n",
       "      <th></th>\n",
       "      <th></th>\n",
       "      <th></th>\n",
       "      <th></th>\n",
       "      <th></th>\n",
       "      <th></th>\n",
       "      <th></th>\n",
       "      <th></th>\n",
       "      <th></th>\n",
       "      <th></th>\n",
       "      <th></th>\n",
       "      <th></th>\n",
       "      <th></th>\n",
       "    </tr>\n",
       "  </thead>\n",
       "  <tbody>\n",
       "    <tr>\n",
       "      <th>2020-12-27</th>\n",
       "      <td>26.111429</td>\n",
       "      <td>0.658540</td>\n",
       "      <td>0.601163</td>\n",
       "      <td>5.225714</td>\n",
       "      <td>-7.301663</td>\n",
       "      <td>0.620000</td>\n",
       "      <td>0.099900</td>\n",
       "      <td>0.313663</td>\n",
       "      <td>0.036708</td>\n",
       "      <td>0.155573</td>\n",
       "      <td>0.494371</td>\n",
       "      <td>117.747651</td>\n",
       "      <td>190622.557143</td>\n",
       "      <td>3.894286</td>\n",
       "    </tr>\n",
       "    <tr>\n",
       "      <th>2021-01-03</th>\n",
       "      <td>25.948571</td>\n",
       "      <td>0.663151</td>\n",
       "      <td>0.618714</td>\n",
       "      <td>5.782857</td>\n",
       "      <td>-7.345991</td>\n",
       "      <td>0.582857</td>\n",
       "      <td>0.104829</td>\n",
       "      <td>0.309551</td>\n",
       "      <td>0.028036</td>\n",
       "      <td>0.173735</td>\n",
       "      <td>0.492659</td>\n",
       "      <td>115.925700</td>\n",
       "      <td>194482.251429</td>\n",
       "      <td>3.942857</td>\n",
       "    </tr>\n",
       "  </tbody>\n",
       "</table>\n",
       "</div>"
      ],
      "text/plain": [
       "             Position  danceability    energy       key  loudness      mode  \\\n",
       "date                                                                          \n",
       "2020-12-27  26.111429      0.658540  0.601163  5.225714 -7.301663  0.620000   \n",
       "2021-01-03  25.948571      0.663151  0.618714  5.782857 -7.345991  0.582857   \n",
       "\n",
       "            speechiness  acousticness  instrumentalness  liveness   valence  \\\n",
       "date                                                                          \n",
       "2020-12-27     0.099900      0.313663          0.036708  0.155573  0.494371   \n",
       "2021-01-03     0.104829      0.309551          0.028036  0.173735  0.492659   \n",
       "\n",
       "                 tempo    duration_ms  time_signature  \n",
       "date                                                   \n",
       "2020-12-27  117.747651  190622.557143        3.894286  \n",
       "2021-01-03  115.925700  194482.251429        3.942857  "
      ]
     },
     "execution_count": 37,
     "metadata": {},
     "output_type": "execute_result"
    }
   ],
   "source": [
    "it_rw_20.tail(2)"
   ]
  },
  {
   "cell_type": "code",
   "execution_count": 38,
   "metadata": {},
   "outputs": [
    {
     "name": "stdout",
     "output_type": "stream",
     "text": [
      "d = 1\n",
      "order = (2, 1, 2)\n",
      "Danceability train RMSE (2020) - ARIMA((2, 1, 2)): 0.02995457600968979\n",
      "Danceability test RMSE (2020) - ARIMA((2, 1, 2)): 0.031795124603817455\n"
     ]
    },
    {
     "data": {
      "image/png": "[encoded data removed]",
      "text/plain": [
       "<Figure size 1080x360 with 1 Axes>"
      ]
     },
     "metadata": {
      "needs_background": "light"
     },
     "output_type": "display_data"
    },
    {
     "name": "stdout",
     "output_type": "stream",
     "text": [
      "d = 1\n",
      "order = (4, 1, 0)\n",
      "Mode train RMSE (2020) - ARIMA((4, 1, 0)): 0.036004276661332824\n",
      "Mode test RMSE (2020) - ARIMA((4, 1, 0)): 0.05415778931423301\n"
     ]
    },
    {
     "data": {
      "image/png": "[encoded data removed]",
      "text/plain": [
       "<Figure size 1080x360 with 1 Axes>"
      ]
     },
     "metadata": {
      "needs_background": "light"
     },
     "output_type": "display_data"
    },
    {
     "name": "stdout",
     "output_type": "stream",
     "text": [
      "d = 1\n",
      "order = (1, 1, 1)\n",
      "Acousticness train RMSE (2020) - ARIMA((1, 1, 1)): 0.0449079068196806\n",
      "Acousticness test RMSE (2020) - ARIMA((1, 1, 1)): 0.03127249902226224\n"
     ]
    },
    {
     "data": {
      "image/png": "[encoded data removed]",
      "text/plain": [
       "<Figure size 1080x360 with 1 Axes>"
      ]
     },
     "metadata": {
      "needs_background": "light"
     },
     "output_type": "display_data"
    },
    {
     "name": "stdout",
     "output_type": "stream",
     "text": [
      "d = 1\n",
      "order = (0, 1, 0)\n",
      "Valence train RMSE (2020) - ARIMA((0, 1, 0)): 0.032649397834744937\n",
      "Valence test RMSE (2020) - ARIMA((0, 1, 0)): 0.02714817888315545\n"
     ]
    },
    {
     "data": {
      "image/png": "[encoded data removed]",
      "text/plain": [
       "<Figure size 1080x360 with 1 Axes>"
      ]
     },
     "metadata": {
      "needs_background": "light"
     },
     "output_type": "display_data"
    },
    {
     "name": "stdout",
     "output_type": "stream",
     "text": [
      "d = 2\n",
      "order = (0, 2, 1)\n",
      "Tempo train RMSE (2020) - ARIMA((0, 2, 1)): 2.298025149765302\n",
      "Tempo test RMSE (2020) - ARIMA((0, 2, 1)): 1.9326112455837707\n"
     ]
    },
    {
     "data": {
      "image/png": "[encoded data removed]",
      "text/plain": [
       "<Figure size 1080x360 with 1 Axes>"
      ]
     },
     "metadata": {
      "needs_background": "light"
     },
     "output_type": "display_data"
    }
   ],
   "source": [
    "for feature in five_features: \n",
    "    arima_predict_plot(it_rw_20, feature, 2020, arima_param_df_20, title=f'Mean {feature.capitalize()} Score, Italy 2020 (ARIMA, custom d)')"
   ]
  },
  {
   "cell_type": "markdown",
   "metadata": {},
   "source": [
    "#### _Updated `arima_param_df_20`_"
   ]
  },
  {
   "cell_type": "code",
   "execution_count": 39,
   "metadata": {},
   "outputs": [
    {
     "data": {
      "text/html": [
       "<div>\n",
       "<style scoped>\n",
       "    .dataframe tbody tr th:only-of-type {\n",
       "        vertical-align: middle;\n",
       "    }\n",
       "\n",
       "    .dataframe tbody tr th {\n",
       "        vertical-align: top;\n",
       "    }\n",
       "\n",
       "    .dataframe thead th {\n",
       "        text-align: right;\n",
       "    }\n",
       "</style>\n",
       "<table border=\"1\" class=\"dataframe\">\n",
       "  <thead>\n",
       "    <tr style=\"text-align: right;\">\n",
       "      <th></th>\n",
       "      <th>audio_feature</th>\n",
       "      <th>ndiffs(d)</th>\n",
       "      <th>best_p</th>\n",
       "      <th>best_q</th>\n",
       "      <th>order</th>\n",
       "      <th>ARIMA_model</th>\n",
       "      <th>ARIMA_AIC</th>\n",
       "      <th>arima_train_rmse</th>\n",
       "      <th>arima_test_rmse</th>\n",
       "    </tr>\n",
       "  </thead>\n",
       "  <tbody>\n",
       "    <tr>\n",
       "      <th>0</th>\n",
       "      <td>danceability</td>\n",
       "      <td>1</td>\n",
       "      <td>2</td>\n",
       "      <td>2</td>\n",
       "      <td>(2, 1, 2)</td>\n",
       "      <td>ARIMA(2,1,2)</td>\n",
       "      <td>-214.352402</td>\n",
       "      <td>0.029955</td>\n",
       "      <td>0.031795</td>\n",
       "    </tr>\n",
       "    <tr>\n",
       "      <th>1</th>\n",
       "      <td>mode</td>\n",
       "      <td>1</td>\n",
       "      <td>4</td>\n",
       "      <td>0</td>\n",
       "      <td>(4, 1, 0)</td>\n",
       "      <td>ARIMA(4,1,0)</td>\n",
       "      <td>-187.656554</td>\n",
       "      <td>0.036004</td>\n",
       "      <td>0.054158</td>\n",
       "    </tr>\n",
       "    <tr>\n",
       "      <th>2</th>\n",
       "      <td>acousticness</td>\n",
       "      <td>1</td>\n",
       "      <td>1</td>\n",
       "      <td>1</td>\n",
       "      <td>(1, 1, 1)</td>\n",
       "      <td>ARIMA(1,1,1)</td>\n",
       "      <td>-170.836344</td>\n",
       "      <td>0.044908</td>\n",
       "      <td>0.031272</td>\n",
       "    </tr>\n",
       "    <tr>\n",
       "      <th>3</th>\n",
       "      <td>valence</td>\n",
       "      <td>1</td>\n",
       "      <td>0</td>\n",
       "      <td>0</td>\n",
       "      <td>(0, 1, 0)</td>\n",
       "      <td>ARIMA(0,1,0)</td>\n",
       "      <td>-208.242293</td>\n",
       "      <td>0.032649</td>\n",
       "      <td>0.027148</td>\n",
       "    </tr>\n",
       "    <tr>\n",
       "      <th>4</th>\n",
       "      <td>tempo</td>\n",
       "      <td>2</td>\n",
       "      <td>0</td>\n",
       "      <td>1</td>\n",
       "      <td>(0, 2, 1)</td>\n",
       "      <td>ARIMA(0,2,1)</td>\n",
       "      <td>235.399507</td>\n",
       "      <td>2.298025</td>\n",
       "      <td>1.932611</td>\n",
       "    </tr>\n",
       "  </tbody>\n",
       "</table>\n",
       "</div>"
      ],
      "text/plain": [
       "  audio_feature  ndiffs(d)  best_p  best_q      order   ARIMA_model  \\\n",
       "0  danceability          1       2       2  (2, 1, 2)  ARIMA(2,1,2)   \n",
       "1          mode          1       4       0  (4, 1, 0)  ARIMA(4,1,0)   \n",
       "2  acousticness          1       1       1  (1, 1, 1)  ARIMA(1,1,1)   \n",
       "3       valence          1       0       0  (0, 1, 0)  ARIMA(0,1,0)   \n",
       "4         tempo          2       0       1  (0, 2, 1)  ARIMA(0,2,1)   \n",
       "\n",
       "    ARIMA_AIC  arima_train_rmse  arima_test_rmse  \n",
       "0 -214.352402          0.029955         0.031795  \n",
       "1 -187.656554          0.036004         0.054158  \n",
       "2 -170.836344          0.044908         0.031272  \n",
       "3 -208.242293          0.032649         0.027148  \n",
       "4  235.399507          2.298025         1.932611  "
      ]
     },
     "execution_count": 39,
     "metadata": {},
     "output_type": "execute_result"
    }
   ],
   "source": [
    "arima_param_df_20"
   ]
  },
  {
   "cell_type": "markdown",
   "metadata": {},
   "source": [
    "# SARIMAX models "
   ]
  },
  {
   "cell_type": "code",
   "execution_count": 40,
   "metadata": {},
   "outputs": [],
   "source": [
    "from statsmodels.tsa.statespace.sarimax import SARIMAX"
   ]
  },
  {
   "cell_type": "markdown",
   "metadata": {},
   "source": [
    "#### _As baseline, Fitting SARIMAX with `seasonal_order = (2, 0, 2, 52)` and no exogenous variables before incorporating/engineering those components._"
   ]
  },
  {
   "cell_type": "code",
   "execution_count": 41,
   "metadata": {},
   "outputs": [
    {
     "name": "stdout",
     "output_type": "stream",
     "text": [
      "RMSE = 0.03\n"
     ]
    },
    {
     "data": {
      "image/png": "[encoded data removed]",
      "text/plain": [
       "<Figure size 720x216 with 1 Axes>"
      ]
     },
     "metadata": {
      "needs_background": "light"
     },
     "output_type": "display_data"
    }
   ],
   "source": [
    "P, D, Q, S = 2, 0 ,2, 52\n",
    "train_val = it_rw_20['valence'][0:48]\n",
    "test_val = it_rw_20['valence'][48:]\n",
    "\n",
    "sarima_val = SARIMAX(endog = train_val, order = (2, 0, 2), seasonal_order = (P, D, Q, S)).fit()\n",
    "# sarima_pred = sarima.predict(start=start, end = end)\n",
    "\n",
    "preds_train_sarima_val = sarima_val.predict(start=train_val.index[0], end=train_val.index[-1])\n",
    "preds_test_sarima_val = sarima_val.predict(start=test_val.index[0], end=test_val.index[-1])\n",
    "\n",
    "print(f'RMSE = {round(mean_squared_error(test_val, preds_test_sarima_val)**.5, 2)}')\n",
    "\n",
    "arima_plot(train_val, test_val, preds_test_sarima_val, title=\"Basic SARIMA model - Valence, Italy 2020\", figsize=(10,3))"
   ]
  },
  {
   "cell_type": "markdown",
   "metadata": {},
   "source": [
    "#### Plotting ARIMA plot from above again, for comparison: "
   ]
  },
  {
   "cell_type": "code",
   "execution_count": 43,
   "metadata": {},
   "outputs": [
    {
     "name": "stdout",
     "output_type": "stream",
     "text": [
      "d = 1\n",
      "order = (2, 1, 2)\n",
      "Valence train RMSE (2020) - ARIMA((2, 1, 2)): 0.036157040161561356\n",
      "Valence test RMSE (2020) - ARIMA((2, 1, 2)): 0.04017210751841029\n"
     ]
    },
    {
     "data": {
      "image/png": "[encoded data removed]",
      "text/plain": [
       "<Figure size 720x216 with 1 Axes>"
      ]
     },
     "metadata": {
      "needs_background": "light"
     },
     "output_type": "display_data"
    }
   ],
   "source": [
    "arima_predict_plot(it_rw_17, 'valence', 2020, arima_param_df_20, title=f'Mean Valence Score, Italy 2020', figsize=(10,3), order=(2,1,2))"
   ]
  },
  {
   "cell_type": "markdown",
   "metadata": {},
   "source": [
    "### SARIMAX Seasonal Parameters"
   ]
  },
  {
   "cell_type": "markdown",
   "metadata": {},
   "source": [
    "#### _Grid search to find best `P`, `D`, `Q`, and `s` values_"
   ]
  },
  {
   "cell_type": "code",
   "execution_count": 44,
   "metadata": {},
   "outputs": [],
   "source": [
    "def find_sarima_parameters(df, feature, param_df, n_rows=47):    \n",
    "    \n",
    "    import time\n",
    "    t0 = time.time()\n",
    "    final_mae = 1000000000000\n",
    "    final_S = 0\n",
    "    final_D = 0\n",
    "    final_P = 0\n",
    "    final_Q = 0\n",
    "    \n",
    "    # find order from arima parameters dataframe \n",
    "    order = param_df.loc[param_df['audio_feature'] == feature, 'order'].iloc[0]\n",
    "\n",
    "    train_values = df[feature][0:n_rows]\n",
    "    test_values = df[feature][n_rows:]\n",
    "\n",
    "    for S in range(48,53):\n",
    "        for D in range(2):\n",
    "            for P in range(4):\n",
    "                for Q in range(4):\n",
    "                    print(f'Checking ({P}, {D}, {Q}, {S}) at {round(time.time() - t0)} seconds.')\n",
    "                    try:\n",
    "                        sarima = SARIMAX(endog = train_values,\n",
    "                                         order = order,\n",
    "                                         seasonal_order = (P, D, Q, S)).fit()\n",
    "\n",
    "                        sarima_pred = sarima.predict(start=test_values.index[0], end=test_values.index[-1], typ='levels')\n",
    "\n",
    "                        if mean_absolute_error(test_values, sarima_pred) < final_mae:\n",
    "                            final_mae = mean_absolute_error(test_values, sarima_pred)\n",
    "                            final_S = S\n",
    "                            final_D = D\n",
    "                            final_P = P\n",
    "                            final_Q = Q\n",
    "\n",
    "                        print(f'We just fit a SARIMAX(2, 0, 2)x({P}, {D}, {Q}, {S}) model with {mean_absolute_error(test_values, sarima_pred)} MAE and {mean_squared_error(test_values, sarima_pred)**0.5} RMSE.')\n",
    "\n",
    "                    except:\n",
    "                        print('problem!')\n",
    "                        raise\n",
    "\n",
    "    print()\n",
    "    print(f'The final model for {feature} is SARIMAX(2, 0, 2)x({final_P}, {final_D}, {final_Q}, {final_S}).')\n",
    "    print()"
   ]
  },
  {
   "cell_type": "code",
   "execution_count": 45,
   "metadata": {},
   "outputs": [
    {
     "data": {
      "text/plain": [
       "['danceability', 'mode', 'acousticness', 'valence', 'tempo']"
      ]
     },
     "execution_count": 45,
     "metadata": {},
     "output_type": "execute_result"
    }
   ],
   "source": [
    "five_features"
   ]
  },
  {
   "cell_type": "code",
   "execution_count": 46,
   "metadata": {
    "scrolled": true
   },
   "outputs": [
    {
     "name": "stdout",
     "output_type": "stream",
     "text": [
      "Checking (0, 0, 0, 48) at 0 seconds.\n",
      "We just fit a SARIMAX(2, 0, 2)x(0, 0, 0, 48) model with 0.030985734375650442 MAE and 0.03210632538838344 RMSE.\n",
      "Checking (0, 0, 1, 48) at 0 seconds.\n",
      "We just fit a SARIMAX(2, 0, 2)x(0, 0, 1, 48) model with 0.03441740062262031 MAE and 0.03518666044932518 RMSE.\n",
      "Checking (0, 0, 2, 48) at 2 seconds.\n",
      "We just fit a SARIMAX(2, 0, 2)x(0, 0, 2, 48) model with 0.03414021870293752 MAE and 0.0348973148567914 RMSE.\n",
      "Checking (0, 0, 3, 48) at 10 seconds.\n",
      "We just fit a SARIMAX(2, 0, 2)x(0, 0, 3, 48) model with 0.03493866960791775 MAE and 0.0357067853220159 RMSE.\n",
      "Checking (1, 0, 0, 48) at 46 seconds.\n",
      "We just fit a SARIMAX(2, 0, 2)x(1, 0, 0, 48) model with 0.033643718952868086 MAE and 0.034419782146367345 RMSE.\n",
      "Checking (1, 0, 1, 48) at 48 seconds.\n",
      "We just fit a SARIMAX(2, 0, 2)x(1, 0, 1, 48) model with 0.0350761616039588 MAE and 0.035784758948034026 RMSE.\n",
      "Checking (1, 0, 2, 48) at 50 seconds.\n",
      "We just fit a SARIMAX(2, 0, 2)x(1, 0, 2, 48) model with 0.037951489122647196 MAE and 0.03885921373598999 RMSE.\n",
      "Checking (1, 0, 3, 48) at 61 seconds.\n",
      "We just fit a SARIMAX(2, 0, 2)x(1, 0, 3, 48) model with 0.03953556318638696 MAE and 0.04059697843155395 RMSE.\n",
      "Checking (2, 0, 0, 48) at 93 seconds.\n",
      "We just fit a SARIMAX(2, 0, 2)x(2, 0, 0, 48) model with 0.034094407004168104 MAE and 0.0348199642894819 RMSE.\n",
      "Checking (2, 0, 1, 48) at 102 seconds.\n",
      "We just fit a SARIMAX(2, 0, 2)x(2, 0, 1, 48) model with 0.03318637030234114 MAE and 0.03394992602801009 RMSE.\n",
      "Checking (2, 0, 2, 48) at 116 seconds.\n",
      "We just fit a SARIMAX(2, 0, 2)x(2, 0, 2, 48) model with 0.03911112907620821 MAE and 0.04014185754280591 RMSE.\n",
      "Checking (2, 0, 3, 48) at 128 seconds.\n",
      "We just fit a SARIMAX(2, 0, 2)x(2, 0, 3, 48) model with 0.03651830709519682 MAE and 0.03731146404541163 RMSE.\n",
      "Checking (3, 0, 0, 48) at 186 seconds.\n",
      "We just fit a SARIMAX(2, 0, 2)x(3, 0, 0, 48) model with 0.03311443556612487 MAE and 0.03390180403126018 RMSE.\n",
      "Checking (3, 0, 1, 48) at 226 seconds.\n",
      "We just fit a SARIMAX(2, 0, 2)x(3, 0, 1, 48) model with 0.033527678445741525 MAE and 0.03425355311294031 RMSE.\n",
      "Checking (3, 0, 2, 48) at 296 seconds.\n",
      "We just fit a SARIMAX(2, 0, 2)x(3, 0, 2, 48) model with 0.034281007843293486 MAE and 0.034994140465012154 RMSE.\n",
      "Checking (3, 0, 3, 48) at 362 seconds.\n",
      "We just fit a SARIMAX(2, 0, 2)x(3, 0, 3, 48) model with 0.032457541970495975 MAE and 0.03326806483591513 RMSE.\n",
      "Checking (0, 1, 0, 48) at 427 seconds.\n",
      "We just fit a SARIMAX(2, 0, 2)x(0, 1, 0, 48) model with 0.28849171647599925 MAE and 0.31363227507405567 RMSE.\n",
      "Checking (0, 1, 1, 48) at 427 seconds.\n",
      "We just fit a SARIMAX(2, 0, 2)x(0, 1, 1, 48) model with 0.28849171647599925 MAE and 0.31363227507405567 RMSE.\n",
      "Checking (0, 1, 2, 48) at 427 seconds.\n",
      "We just fit a SARIMAX(2, 0, 2)x(0, 1, 2, 48) model with 0.28849171647599925 MAE and 0.31363227507405567 RMSE.\n",
      "Checking (0, 1, 3, 48) at 429 seconds.\n",
      "We just fit a SARIMAX(2, 0, 2)x(0, 1, 3, 48) model with 0.28849171647599925 MAE and 0.31363227507405567 RMSE.\n",
      "Checking (1, 1, 0, 48) at 432 seconds.\n",
      "We just fit a SARIMAX(2, 0, 2)x(1, 1, 0, 48) model with 0.28849171647599925 MAE and 0.31363227507405567 RMSE.\n",
      "Checking (1, 1, 1, 48) at 433 seconds.\n",
      "We just fit a SARIMAX(2, 0, 2)x(1, 1, 1, 48) model with 0.28849171647599925 MAE and 0.31363227507405567 RMSE.\n",
      "Checking (1, 1, 2, 48) at 433 seconds.\n",
      "We just fit a SARIMAX(2, 0, 2)x(1, 1, 2, 48) model with 0.28849171647599925 MAE and 0.31363227507405567 RMSE.\n",
      "Checking (1, 1, 3, 48) at 435 seconds.\n",
      "We just fit a SARIMAX(2, 0, 2)x(1, 1, 3, 48) model with 0.28849171647599925 MAE and 0.31363227507405567 RMSE.\n",
      "Checking (2, 1, 0, 48) at 439 seconds.\n",
      "We just fit a SARIMAX(2, 0, 2)x(2, 1, 0, 48) model with 0.28849171647599925 MAE and 0.31363227507405567 RMSE.\n",
      "Checking (2, 1, 1, 48) at 442 seconds.\n",
      "We just fit a SARIMAX(2, 0, 2)x(2, 1, 1, 48) model with 0.28849171647599925 MAE and 0.31363227507405567 RMSE.\n",
      "Checking (2, 1, 2, 48) at 444 seconds.\n",
      "We just fit a SARIMAX(2, 0, 2)x(2, 1, 2, 48) model with 0.28849171647599925 MAE and 0.31363227507405567 RMSE.\n",
      "Checking (2, 1, 3, 48) at 445 seconds.\n",
      "We just fit a SARIMAX(2, 0, 2)x(2, 1, 3, 48) model with 0.28849171647599925 MAE and 0.31363227507405567 RMSE.\n",
      "Checking (3, 1, 0, 48) at 452 seconds.\n",
      "We just fit a SARIMAX(2, 0, 2)x(3, 1, 0, 48) model with 0.28849171647599925 MAE and 0.31363227507405567 RMSE.\n",
      "Checking (3, 1, 1, 48) at 455 seconds.\n",
      "We just fit a SARIMAX(2, 0, 2)x(3, 1, 1, 48) model with 0.28849171647599925 MAE and 0.31363227507405567 RMSE.\n",
      "Checking (3, 1, 2, 48) at 458 seconds.\n",
      "We just fit a SARIMAX(2, 0, 2)x(3, 1, 2, 48) model with 0.28849171647599925 MAE and 0.31363227507405567 RMSE.\n",
      "Checking (3, 1, 3, 48) at 465 seconds.\n",
      "We just fit a SARIMAX(2, 0, 2)x(3, 1, 3, 48) model with 0.28849171647599925 MAE and 0.31363227507405567 RMSE.\n",
      "Checking (0, 0, 0, 49) at 469 seconds.\n",
      "We just fit a SARIMAX(2, 0, 2)x(0, 0, 0, 49) model with 0.030985734375650442 MAE and 0.03210632538838344 RMSE.\n",
      "Checking (0, 0, 1, 49) at 470 seconds.\n",
      "We just fit a SARIMAX(2, 0, 2)x(0, 0, 1, 49) model with 0.031051980503564353 MAE and 0.03217007211817356 RMSE.\n",
      "Checking (0, 0, 2, 49) at 471 seconds.\n",
      "We just fit a SARIMAX(2, 0, 2)x(0, 0, 2, 49) model with 0.03080793145806347 MAE and 0.0319656732499925 RMSE.\n",
      "Checking (0, 0, 3, 49) at 481 seconds.\n",
      "We just fit a SARIMAX(2, 0, 2)x(0, 0, 3, 49) model with 0.03110205210067078 MAE and 0.032209077793419985 RMSE.\n",
      "Checking (1, 0, 0, 49) at 512 seconds.\n",
      "We just fit a SARIMAX(2, 0, 2)x(1, 0, 0, 49) model with 0.030943835406431492 MAE and 0.032172849202878745 RMSE.\n",
      "Checking (1, 0, 1, 49) at 515 seconds.\n",
      "We just fit a SARIMAX(2, 0, 2)x(1, 0, 1, 49) model with 0.031104086291490623 MAE and 0.032266378085759356 RMSE.\n",
      "Checking (1, 0, 2, 49) at 518 seconds.\n",
      "We just fit a SARIMAX(2, 0, 2)x(1, 0, 2, 49) model with 0.0315053513118607 MAE and 0.0327900886484866 RMSE.\n",
      "Checking (1, 0, 3, 49) at 532 seconds.\n",
      "We just fit a SARIMAX(2, 0, 2)x(1, 0, 3, 49) model with 0.031057551924281463 MAE and 0.032182646862379545 RMSE.\n",
      "Checking (2, 0, 0, 49) at 569 seconds.\n",
      "We just fit a SARIMAX(2, 0, 2)x(2, 0, 0, 49) model with 0.030707546341958252 MAE and 0.031866038843183744 RMSE.\n",
      "Checking (2, 0, 1, 49) at 582 seconds.\n",
      "We just fit a SARIMAX(2, 0, 2)x(2, 0, 1, 49) model with 0.030802443886279507 MAE and 0.03194009059518991 RMSE.\n",
      "Checking (2, 0, 2, 49) at 597 seconds.\n",
      "We just fit a SARIMAX(2, 0, 2)x(2, 0, 2, 49) model with 0.031045033287301776 MAE and 0.03215041185561971 RMSE.\n",
      "Checking (2, 0, 3, 49) at 621 seconds.\n",
      "We just fit a SARIMAX(2, 0, 2)x(2, 0, 3, 49) model with 0.03119501554615654 MAE and 0.032291767771382304 RMSE.\n",
      "Checking (3, 0, 0, 49) at 657 seconds.\n",
      "We just fit a SARIMAX(2, 0, 2)x(3, 0, 0, 49) model with 0.03086761959603414 MAE and 0.03203580217181074 RMSE.\n",
      "Checking (3, 0, 1, 49) at 715 seconds.\n",
      "We just fit a SARIMAX(2, 0, 2)x(3, 0, 1, 49) model with 0.030921320537970937 MAE and 0.0320586729482462 RMSE.\n",
      "Checking (3, 0, 2, 49) at 756 seconds.\n",
      "We just fit a SARIMAX(2, 0, 2)x(3, 0, 2, 49) model with 0.030941772528987777 MAE and 0.03204543218491413 RMSE.\n",
      "Checking (3, 0, 3, 49) at 799 seconds.\n",
      "We just fit a SARIMAX(2, 0, 2)x(3, 0, 3, 49) model with 0.031096835423594982 MAE and 0.03221854251504999 RMSE.\n",
      "Checking (0, 1, 0, 49) at 844 seconds.\n",
      "We just fit a SARIMAX(2, 0, 2)x(0, 1, 0, 49) model with 0.23590402079984693 MAE and 0.27870628237027933 RMSE.\n",
      "Checking (0, 1, 1, 49) at 845 seconds.\n",
      "We just fit a SARIMAX(2, 0, 2)x(0, 1, 1, 49) model with 0.23590402079984693 MAE and 0.27870628237027933 RMSE.\n",
      "Checking (0, 1, 2, 49) at 845 seconds.\n",
      "We just fit a SARIMAX(2, 0, 2)x(0, 1, 2, 49) model with 0.23590402079984693 MAE and 0.27870628237027933 RMSE.\n",
      "Checking (0, 1, 3, 49) at 847 seconds.\n",
      "We just fit a SARIMAX(2, 0, 2)x(0, 1, 3, 49) model with 0.23590402079984693 MAE and 0.27870628237027933 RMSE.\n",
      "Checking (1, 1, 0, 49) at 850 seconds.\n",
      "We just fit a SARIMAX(2, 0, 2)x(1, 1, 0, 49) model with 0.23590402079984693 MAE and 0.27870628237027933 RMSE.\n",
      "Checking (1, 1, 1, 49) at 851 seconds.\n",
      "We just fit a SARIMAX(2, 0, 2)x(1, 1, 1, 49) model with 0.23590402079984693 MAE and 0.27870628237027933 RMSE.\n",
      "Checking (1, 1, 2, 49) at 851 seconds.\n",
      "We just fit a SARIMAX(2, 0, 2)x(1, 1, 2, 49) model with 0.23590402079984693 MAE and 0.27870628237027933 RMSE.\n",
      "Checking (1, 1, 3, 49) at 853 seconds.\n",
      "We just fit a SARIMAX(2, 0, 2)x(1, 1, 3, 49) model with 0.23590402079984693 MAE and 0.27870628237027933 RMSE.\n",
      "Checking (2, 1, 0, 49) at 856 seconds.\n",
      "We just fit a SARIMAX(2, 0, 2)x(2, 1, 0, 49) model with 0.23590402079984693 MAE and 0.27870628237027933 RMSE.\n",
      "Checking (2, 1, 1, 49) at 857 seconds.\n",
      "We just fit a SARIMAX(2, 0, 2)x(2, 1, 1, 49) model with 0.23590402079984693 MAE and 0.27870628237027933 RMSE.\n",
      "Checking (2, 1, 2, 49) at 858 seconds.\n",
      "We just fit a SARIMAX(2, 0, 2)x(2, 1, 2, 49) model with 0.23590402079984693 MAE and 0.27870628237027933 RMSE.\n",
      "Checking (2, 1, 3, 49) at 860 seconds.\n",
      "We just fit a SARIMAX(2, 0, 2)x(2, 1, 3, 49) model with 0.23590402079984693 MAE and 0.27870628237027933 RMSE.\n",
      "Checking (3, 1, 0, 49) at 863 seconds.\n",
      "We just fit a SARIMAX(2, 0, 2)x(3, 1, 0, 49) model with 0.23590402079984693 MAE and 0.27870628237027933 RMSE.\n",
      "Checking (3, 1, 1, 49) at 865 seconds.\n",
      "We just fit a SARIMAX(2, 0, 2)x(3, 1, 1, 49) model with 0.23590402079984693 MAE and 0.27870628237027933 RMSE.\n",
      "Checking (3, 1, 2, 49) at 868 seconds.\n",
      "We just fit a SARIMAX(2, 0, 2)x(3, 1, 2, 49) model with 0.23590402079984693 MAE and 0.27870628237027933 RMSE.\n",
      "Checking (3, 1, 3, 49) at 872 seconds.\n",
      "We just fit a SARIMAX(2, 0, 2)x(3, 1, 3, 49) model with 0.23590402079984693 MAE and 0.27870628237027933 RMSE.\n",
      "Checking (0, 0, 0, 50) at 876 seconds.\n",
      "We just fit a SARIMAX(2, 0, 2)x(0, 0, 0, 50) model with 0.030985734375650442 MAE and 0.03210632538838344 RMSE.\n",
      "Checking (0, 0, 1, 50) at 876 seconds.\n",
      "We just fit a SARIMAX(2, 0, 2)x(0, 0, 1, 50) model with 0.030697023072142043 MAE and 0.03181639899329084 RMSE.\n",
      "Checking (0, 0, 2, 50) at 878 seconds.\n",
      "We just fit a SARIMAX(2, 0, 2)x(0, 0, 2, 50) model with 0.031230753122601467 MAE and 0.032232934295244535 RMSE.\n",
      "Checking (0, 0, 3, 50) at 885 seconds.\n",
      "We just fit a SARIMAX(2, 0, 2)x(0, 0, 3, 50) model with 0.031230371989858452 MAE and 0.03221907503013541 RMSE.\n",
      "Checking (1, 0, 0, 50) at 906 seconds.\n",
      "We just fit a SARIMAX(2, 0, 2)x(1, 0, 0, 50) model with 0.03186170834492874 MAE and 0.03288605381125895 RMSE.\n",
      "Checking (1, 0, 1, 50) at 909 seconds.\n",
      "We just fit a SARIMAX(2, 0, 2)x(1, 0, 1, 50) model with 0.031083474220503393 MAE and 0.0321365390813642 RMSE.\n",
      "Checking (1, 0, 2, 50) at 911 seconds.\n",
      "We just fit a SARIMAX(2, 0, 2)x(1, 0, 2, 50) model with 0.031430226013224816 MAE and 0.03232864948055449 RMSE.\n",
      "Checking (1, 0, 3, 50) at 921 seconds.\n",
      "We just fit a SARIMAX(2, 0, 2)x(1, 0, 3, 50) model with 0.03137771293768608 MAE and 0.03228512097493205 RMSE.\n",
      "Checking (2, 0, 0, 50) at 946 seconds.\n",
      "We just fit a SARIMAX(2, 0, 2)x(2, 0, 0, 50) model with 0.03119362633466971 MAE and 0.03217803152539381 RMSE.\n",
      "Checking (2, 0, 1, 50) at 957 seconds.\n",
      "We just fit a SARIMAX(2, 0, 2)x(2, 0, 1, 50) model with 0.031976391709887086 MAE and 0.03292281010673566 RMSE.\n",
      "Checking (2, 0, 2, 50) at 969 seconds.\n",
      "We just fit a SARIMAX(2, 0, 2)x(2, 0, 2, 50) model with 0.031646076046752604 MAE and 0.032538912652907634 RMSE.\n",
      "Checking (2, 0, 3, 50) at 981 seconds.\n",
      "We just fit a SARIMAX(2, 0, 2)x(2, 0, 3, 50) model with 0.0313663877991594 MAE and 0.032268279564779866 RMSE.\n",
      "Checking (3, 0, 0, 50) at 1011 seconds.\n",
      "We just fit a SARIMAX(2, 0, 2)x(3, 0, 0, 50) model with 0.03150559977086622 MAE and 0.032520882307790586 RMSE.\n",
      "Checking (3, 0, 1, 50) at 1043 seconds.\n",
      "We just fit a SARIMAX(2, 0, 2)x(3, 0, 1, 50) model with 0.03162077304108594 MAE and 0.03250376019355313 RMSE.\n",
      "Checking (3, 0, 2, 50) at 1073 seconds.\n",
      "We just fit a SARIMAX(2, 0, 2)x(3, 0, 2, 50) model with 0.03163026807142775 MAE and 0.032517658331222735 RMSE.\n",
      "Checking (3, 0, 3, 50) at 1112 seconds.\n",
      "We just fit a SARIMAX(2, 0, 2)x(3, 0, 3, 50) model with 0.031203629893458706 MAE and 0.03216823810022971 RMSE.\n",
      "Checking (0, 1, 0, 50) at 1191 seconds.\n",
      "We just fit a SARIMAX(2, 0, 2)x(0, 1, 0, 50) model with 0.18286537274274228 MAE and 0.2438723983808538 RMSE.\n",
      "Checking (0, 1, 1, 50) at 1191 seconds.\n",
      "We just fit a SARIMAX(2, 0, 2)x(0, 1, 1, 50) model with 0.18286537274274228 MAE and 0.2438723983808538 RMSE.\n",
      "Checking (0, 1, 2, 50) at 1192 seconds.\n",
      "We just fit a SARIMAX(2, 0, 2)x(0, 1, 2, 50) model with 0.18286537274274228 MAE and 0.2438723983808538 RMSE.\n",
      "Checking (0, 1, 3, 50) at 1197 seconds.\n",
      "We just fit a SARIMAX(2, 0, 2)x(0, 1, 3, 50) model with 0.18286537274274228 MAE and 0.2438723983808538 RMSE.\n",
      "Checking (1, 1, 0, 50) at 1202 seconds.\n",
      "We just fit a SARIMAX(2, 0, 2)x(1, 1, 0, 50) model with 0.18286537274274228 MAE and 0.2438723983808538 RMSE.\n",
      "Checking (1, 1, 1, 50) at 1203 seconds.\n",
      "We just fit a SARIMAX(2, 0, 2)x(1, 1, 1, 50) model with 0.18286537274274228 MAE and 0.2438723983808538 RMSE.\n",
      "Checking (1, 1, 2, 50) at 1204 seconds.\n",
      "We just fit a SARIMAX(2, 0, 2)x(1, 1, 2, 50) model with 0.18286537274274228 MAE and 0.2438723983808538 RMSE.\n",
      "Checking (1, 1, 3, 50) at 1205 seconds.\n",
      "We just fit a SARIMAX(2, 0, 2)x(1, 1, 3, 50) model with 0.18286537274274228 MAE and 0.2438723983808538 RMSE.\n",
      "Checking (2, 1, 0, 50) at 1209 seconds.\n",
      "We just fit a SARIMAX(2, 0, 2)x(2, 1, 0, 50) model with 0.18286537274274228 MAE and 0.2438723983808538 RMSE.\n",
      "Checking (2, 1, 1, 50) at 1210 seconds.\n",
      "We just fit a SARIMAX(2, 0, 2)x(2, 1, 1, 50) model with 0.18286537274274228 MAE and 0.2438723983808538 RMSE.\n",
      "Checking (2, 1, 2, 50) at 1212 seconds.\n",
      "We just fit a SARIMAX(2, 0, 2)x(2, 1, 2, 50) model with 0.18286537274274228 MAE and 0.2438723983808538 RMSE.\n",
      "Checking (2, 1, 3, 50) at 1214 seconds.\n",
      "We just fit a SARIMAX(2, 0, 2)x(2, 1, 3, 50) model with 0.18286537274274228 MAE and 0.2438723983808538 RMSE.\n",
      "Checking (3, 1, 0, 50) at 1218 seconds.\n",
      "We just fit a SARIMAX(2, 0, 2)x(3, 1, 0, 50) model with 0.18286537274274228 MAE and 0.2438723983808538 RMSE.\n",
      "Checking (3, 1, 1, 50) at 1223 seconds.\n",
      "We just fit a SARIMAX(2, 0, 2)x(3, 1, 1, 50) model with 0.18286537274274228 MAE and 0.2438723983808538 RMSE.\n",
      "Checking (3, 1, 2, 50) at 1227 seconds.\n",
      "We just fit a SARIMAX(2, 0, 2)x(3, 1, 2, 50) model with 0.18286537274274228 MAE and 0.2438723983808538 RMSE.\n",
      "Checking (3, 1, 3, 50) at 1234 seconds.\n",
      "We just fit a SARIMAX(2, 0, 2)x(3, 1, 3, 50) model with 0.18286537274274228 MAE and 0.2438723983808538 RMSE.\n",
      "Checking (0, 0, 0, 51) at 1240 seconds.\n",
      "We just fit a SARIMAX(2, 0, 2)x(0, 0, 0, 51) model with 0.030985734375650442 MAE and 0.03210632538838344 RMSE.\n",
      "Checking (0, 0, 1, 51) at 1241 seconds.\n",
      "We just fit a SARIMAX(2, 0, 2)x(0, 0, 1, 51) model with 0.031065299923879852 MAE and 0.03215939394351185 RMSE.\n",
      "Checking (0, 0, 2, 51) at 1245 seconds.\n",
      "We just fit a SARIMAX(2, 0, 2)x(0, 0, 2, 51) model with 0.03098384750897328 MAE and 0.03210176418906052 RMSE.\n",
      "Checking (0, 0, 3, 51) at 1257 seconds.\n",
      "We just fit a SARIMAX(2, 0, 2)x(0, 0, 3, 51) model with 0.03095463989388536 MAE and 0.03206122225310523 RMSE.\n",
      "Checking (1, 0, 0, 51) at 1292 seconds.\n",
      "We just fit a SARIMAX(2, 0, 2)x(1, 0, 0, 51) model with 0.03105925581443229 MAE and 0.03217933914963223 RMSE.\n",
      "Checking (1, 0, 1, 51) at 1295 seconds.\n",
      "We just fit a SARIMAX(2, 0, 2)x(1, 0, 1, 51) model with 0.03173970654118972 MAE and 0.03297418039061849 RMSE.\n",
      "Checking (1, 0, 2, 51) at 1301 seconds.\n",
      "We just fit a SARIMAX(2, 0, 2)x(1, 0, 2, 51) model with 0.031061276076590667 MAE and 0.03218271513382692 RMSE.\n",
      "Checking (1, 0, 3, 51) at 1317 seconds.\n",
      "We just fit a SARIMAX(2, 0, 2)x(1, 0, 3, 51) model with 0.030973202710363707 MAE and 0.03207926959790528 RMSE.\n",
      "Checking (2, 0, 0, 51) at 1352 seconds.\n",
      "We just fit a SARIMAX(2, 0, 2)x(2, 0, 0, 51) model with 0.030924694799687236 MAE and 0.03204047183534552 RMSE.\n",
      "Checking (2, 0, 1, 51) at 1367 seconds.\n",
      "We just fit a SARIMAX(2, 0, 2)x(2, 0, 1, 51) model with 0.03132473361431842 MAE and 0.03244051508299603 RMSE.\n",
      "Checking (2, 0, 2, 51) at 1384 seconds.\n",
      "We just fit a SARIMAX(2, 0, 2)x(2, 0, 2, 51) model with 0.03189359898911089 MAE and 0.033143624126031314 RMSE.\n",
      "Checking (2, 0, 3, 51) at 1403 seconds.\n",
      "We just fit a SARIMAX(2, 0, 2)x(2, 0, 3, 51) model with 0.03078347999947706 MAE and 0.03184516461025715 RMSE.\n",
      "Checking (3, 0, 0, 51) at 1443 seconds.\n",
      "We just fit a SARIMAX(2, 0, 2)x(3, 0, 0, 51) model with 0.031131113404217165 MAE and 0.03233423717461489 RMSE.\n",
      "Checking (3, 0, 1, 51) at 1489 seconds.\n",
      "We just fit a SARIMAX(2, 0, 2)x(3, 0, 1, 51) model with 0.031014206508297188 MAE and 0.032127057827850136 RMSE.\n",
      "Checking (3, 0, 2, 51) at 1540 seconds.\n",
      "We just fit a SARIMAX(2, 0, 2)x(3, 0, 2, 51) model with 0.031056804979738933 MAE and 0.0321981392491599 RMSE.\n",
      "Checking (3, 0, 3, 51) at 1593 seconds.\n",
      "We just fit a SARIMAX(2, 0, 2)x(3, 0, 3, 51) model with 0.030578443757122615 MAE and 0.03168149002962155 RMSE.\n",
      "Checking (0, 1, 0, 51) at 1638 seconds.\n",
      "We just fit a SARIMAX(2, 0, 2)x(0, 1, 0, 51) model with 0.13001434373325663 MAE and 0.2005664352857973 RMSE.\n",
      "Checking (0, 1, 1, 51) at 1639 seconds.\n",
      "We just fit a SARIMAX(2, 0, 2)x(0, 1, 1, 51) model with 0.13001434373325663 MAE and 0.2005664352857973 RMSE.\n",
      "Checking (0, 1, 2, 51) at 1640 seconds.\n",
      "We just fit a SARIMAX(2, 0, 2)x(0, 1, 2, 51) model with 0.13001434373325663 MAE and 0.2005664352857973 RMSE.\n",
      "Checking (0, 1, 3, 51) at 1641 seconds.\n",
      "We just fit a SARIMAX(2, 0, 2)x(0, 1, 3, 51) model with 0.13001434373325663 MAE and 0.2005664352857973 RMSE.\n",
      "Checking (1, 1, 0, 51) at 1645 seconds.\n",
      "We just fit a SARIMAX(2, 0, 2)x(1, 1, 0, 51) model with 0.13001434373325663 MAE and 0.2005664352857973 RMSE.\n",
      "Checking (1, 1, 1, 51) at 1646 seconds.\n",
      "We just fit a SARIMAX(2, 0, 2)x(1, 1, 1, 51) model with 0.13001434373325663 MAE and 0.2005664352857973 RMSE.\n",
      "Checking (1, 1, 2, 51) at 1646 seconds.\n",
      "We just fit a SARIMAX(2, 0, 2)x(1, 1, 2, 51) model with 0.13001434373325663 MAE and 0.2005664352857973 RMSE.\n",
      "Checking (1, 1, 3, 51) at 1648 seconds.\n",
      "We just fit a SARIMAX(2, 0, 2)x(1, 1, 3, 51) model with 0.13001434373325663 MAE and 0.2005664352857973 RMSE.\n",
      "Checking (2, 1, 0, 51) at 1651 seconds.\n",
      "We just fit a SARIMAX(2, 0, 2)x(2, 1, 0, 51) model with 0.13001434373325663 MAE and 0.2005664352857973 RMSE.\n",
      "Checking (2, 1, 1, 51) at 1652 seconds.\n",
      "We just fit a SARIMAX(2, 0, 2)x(2, 1, 1, 51) model with 0.13001434373325663 MAE and 0.2005664352857973 RMSE.\n",
      "Checking (2, 1, 2, 51) at 1654 seconds.\n",
      "We just fit a SARIMAX(2, 0, 2)x(2, 1, 2, 51) model with 0.13001434373325663 MAE and 0.2005664352857973 RMSE.\n",
      "Checking (2, 1, 3, 51) at 1655 seconds.\n",
      "We just fit a SARIMAX(2, 0, 2)x(2, 1, 3, 51) model with 0.13001434373325663 MAE and 0.2005664352857973 RMSE.\n",
      "Checking (3, 1, 0, 51) at 1657 seconds.\n",
      "We just fit a SARIMAX(2, 0, 2)x(3, 1, 0, 51) model with 0.13001434373325663 MAE and 0.2005664352857973 RMSE.\n",
      "Checking (3, 1, 1, 51) at 1660 seconds.\n",
      "We just fit a SARIMAX(2, 0, 2)x(3, 1, 1, 51) model with 0.13001434373325663 MAE and 0.2005664352857973 RMSE.\n",
      "Checking (3, 1, 2, 51) at 1662 seconds.\n",
      "We just fit a SARIMAX(2, 0, 2)x(3, 1, 2, 51) model with 0.13001434373325663 MAE and 0.2005664352857973 RMSE.\n",
      "Checking (3, 1, 3, 51) at 1665 seconds.\n",
      "We just fit a SARIMAX(2, 0, 2)x(3, 1, 3, 51) model with 0.13001434373325663 MAE and 0.2005664352857973 RMSE.\n",
      "Checking (0, 0, 0, 52) at 1668 seconds.\n",
      "We just fit a SARIMAX(2, 0, 2)x(0, 0, 0, 52) model with 0.030985734375650442 MAE and 0.03210632538838344 RMSE.\n",
      "Checking (0, 0, 1, 52) at 1668 seconds.\n",
      "We just fit a SARIMAX(2, 0, 2)x(0, 0, 1, 52) model with 0.030765908538894642 MAE and 0.031916250988926836 RMSE.\n",
      "Checking (0, 0, 2, 52) at 1670 seconds.\n",
      "We just fit a SARIMAX(2, 0, 2)x(0, 0, 2, 52) model with 0.03092355760114764 MAE and 0.032041069560369666 RMSE.\n",
      "Checking (0, 0, 3, 52) at 1676 seconds.\n",
      "We just fit a SARIMAX(2, 0, 2)x(0, 0, 3, 52) model with 0.031039068159865974 MAE and 0.03215319185929534 RMSE.\n",
      "Checking (1, 0, 0, 52) at 1696 seconds.\n",
      "We just fit a SARIMAX(2, 0, 2)x(1, 0, 0, 52) model with 0.0311010798145398 MAE and 0.03225361942972029 RMSE.\n",
      "Checking (1, 0, 1, 52) at 1698 seconds.\n",
      "We just fit a SARIMAX(2, 0, 2)x(1, 0, 1, 52) model with 0.031085791515238825 MAE and 0.032161199825663817 RMSE.\n",
      "Checking (1, 0, 2, 52) at 1700 seconds.\n",
      "We just fit a SARIMAX(2, 0, 2)x(1, 0, 2, 52) model with 0.031181645733012946 MAE and 0.03226358569438283 RMSE.\n",
      "Checking (1, 0, 3, 52) at 1711 seconds.\n",
      "We just fit a SARIMAX(2, 0, 2)x(1, 0, 3, 52) model with 0.031139970908367343 MAE and 0.03226991136775161 RMSE.\n",
      "Checking (2, 0, 0, 52) at 1734 seconds.\n",
      "We just fit a SARIMAX(2, 0, 2)x(2, 0, 0, 52) model with 0.031018851097403027 MAE and 0.03212394210241958 RMSE.\n",
      "Checking (2, 0, 1, 52) at 1742 seconds.\n",
      "We just fit a SARIMAX(2, 0, 2)x(2, 0, 1, 52) model with 0.030865827667181822 MAE and 0.03198213817167092 RMSE.\n",
      "Checking (2, 0, 2, 52) at 1753 seconds.\n",
      "We just fit a SARIMAX(2, 0, 2)x(2, 0, 2, 52) model with 0.031060338164250634 MAE and 0.032193757960844026 RMSE.\n",
      "Checking (2, 0, 3, 52) at 1764 seconds.\n",
      "We just fit a SARIMAX(2, 0, 2)x(2, 0, 3, 52) model with 0.03074034193020786 MAE and 0.03188606715416975 RMSE.\n",
      "Checking (3, 0, 0, 52) at 1789 seconds.\n",
      "We just fit a SARIMAX(2, 0, 2)x(3, 0, 0, 52) model with 0.0310824942384683 MAE and 0.032204936520546935 RMSE.\n",
      "Checking (3, 0, 1, 52) at 1815 seconds.\n",
      "We just fit a SARIMAX(2, 0, 2)x(3, 0, 1, 52) model with 0.030664108704742305 MAE and 0.03182056010900801 RMSE.\n",
      "Checking (3, 0, 2, 52) at 1847 seconds.\n",
      "We just fit a SARIMAX(2, 0, 2)x(3, 0, 2, 52) model with 0.03112410327805948 MAE and 0.03222561692792037 RMSE.\n",
      "Checking (3, 0, 3, 52) at 1873 seconds.\n",
      "We just fit a SARIMAX(2, 0, 2)x(3, 0, 3, 52) model with 0.03144686559446128 MAE and 0.032503820933628275 RMSE.\n",
      "Checking (0, 1, 0, 52) at 1900 seconds.\n",
      "We just fit a SARIMAX(2, 0, 2)x(0, 1, 0, 52) model with 0.07663045758091391 MAE and 0.14713990294515986 RMSE.\n",
      "Checking (0, 1, 1, 52) at 1900 seconds.\n",
      "We just fit a SARIMAX(2, 0, 2)x(0, 1, 1, 52) model with 0.07663045758091391 MAE and 0.14713990294515986 RMSE.\n",
      "Checking (0, 1, 2, 52) at 1900 seconds.\n",
      "We just fit a SARIMAX(2, 0, 2)x(0, 1, 2, 52) model with 0.07663045758091391 MAE and 0.14713990294515986 RMSE.\n",
      "Checking (0, 1, 3, 52) at 1902 seconds.\n",
      "We just fit a SARIMAX(2, 0, 2)x(0, 1, 3, 52) model with 0.07663045758091391 MAE and 0.14713990294515986 RMSE.\n",
      "Checking (1, 1, 0, 52) at 1904 seconds.\n",
      "We just fit a SARIMAX(2, 0, 2)x(1, 1, 0, 52) model with 0.07663045758091391 MAE and 0.14713990294515986 RMSE.\n",
      "Checking (1, 1, 1, 52) at 1905 seconds.\n",
      "We just fit a SARIMAX(2, 0, 2)x(1, 1, 1, 52) model with 0.07663045758091391 MAE and 0.14713990294515986 RMSE.\n",
      "Checking (1, 1, 2, 52) at 1905 seconds.\n",
      "We just fit a SARIMAX(2, 0, 2)x(1, 1, 2, 52) model with 0.07663045758091391 MAE and 0.14713990294515986 RMSE.\n",
      "Checking (1, 1, 3, 52) at 1906 seconds.\n",
      "We just fit a SARIMAX(2, 0, 2)x(1, 1, 3, 52) model with 0.07663045758091391 MAE and 0.14713990294515986 RMSE.\n",
      "Checking (2, 1, 0, 52) at 1909 seconds.\n",
      "We just fit a SARIMAX(2, 0, 2)x(2, 1, 0, 52) model with 0.07663045758091391 MAE and 0.14713990294515986 RMSE.\n",
      "Checking (2, 1, 1, 52) at 1910 seconds.\n",
      "We just fit a SARIMAX(2, 0, 2)x(2, 1, 1, 52) model with 0.07663045758091391 MAE and 0.14713990294515986 RMSE.\n",
      "Checking (2, 1, 2, 52) at 1912 seconds.\n",
      "We just fit a SARIMAX(2, 0, 2)x(2, 1, 2, 52) model with 0.07663045758091391 MAE and 0.14713990294515986 RMSE.\n",
      "Checking (2, 1, 3, 52) at 1913 seconds.\n",
      "We just fit a SARIMAX(2, 0, 2)x(2, 1, 3, 52) model with 0.07663045758091391 MAE and 0.14713990294515986 RMSE.\n",
      "Checking (3, 1, 0, 52) at 1916 seconds.\n",
      "We just fit a SARIMAX(2, 0, 2)x(3, 1, 0, 52) model with 0.07663045758091391 MAE and 0.14713990294515986 RMSE.\n",
      "Checking (3, 1, 1, 52) at 1918 seconds.\n",
      "We just fit a SARIMAX(2, 0, 2)x(3, 1, 1, 52) model with 0.07663045758091391 MAE and 0.14713990294515986 RMSE.\n",
      "Checking (3, 1, 2, 52) at 1922 seconds.\n",
      "We just fit a SARIMAX(2, 0, 2)x(3, 1, 2, 52) model with 0.07663045758091391 MAE and 0.14713990294515986 RMSE.\n",
      "Checking (3, 1, 3, 52) at 1925 seconds.\n",
      "We just fit a SARIMAX(2, 0, 2)x(3, 1, 3, 52) model with 0.07663045758091391 MAE and 0.14713990294515986 RMSE.\n",
      "\n",
      "The final model for danceability is SARIMAX(2, 0, 2)x(3, 0, 3, 51).\n",
      "\n",
      "Checking (0, 0, 0, 48) at 0 seconds.\n",
      "We just fit a SARIMAX(2, 0, 2)x(0, 0, 0, 48) model with 0.03214972767719867 MAE and 0.034165869731102964 RMSE.\n",
      "Checking (0, 0, 1, 48) at 0 seconds.\n",
      "We just fit a SARIMAX(2, 0, 2)x(0, 0, 1, 48) model with 0.028031008884226605 MAE and 0.030585846155484212 RMSE.\n",
      "Checking (0, 0, 2, 48) at 1 seconds.\n",
      "We just fit a SARIMAX(2, 0, 2)x(0, 0, 2, 48) model with 0.027812052809770244 MAE and 0.03075235028065564 RMSE.\n",
      "Checking (0, 0, 3, 48) at 6 seconds.\n",
      "We just fit a SARIMAX(2, 0, 2)x(0, 0, 3, 48) model with 0.028128944030123965 MAE and 0.030612131505532818 RMSE.\n",
      "Checking (1, 0, 0, 48) at 22 seconds.\n",
      "We just fit a SARIMAX(2, 0, 2)x(1, 0, 0, 48) model with 0.028459559716373428 MAE and 0.030801200203709484 RMSE.\n",
      "Checking (1, 0, 1, 48) at 24 seconds.\n",
      "We just fit a SARIMAX(2, 0, 2)x(1, 0, 1, 48) model with 0.029524486861918536 MAE and 0.03206445792698907 RMSE.\n",
      "Checking (1, 0, 2, 48) at 27 seconds.\n",
      "We just fit a SARIMAX(2, 0, 2)x(1, 0, 2, 48) model with 0.029120748860409884 MAE and 0.03155792566104718 RMSE.\n",
      "Checking (1, 0, 3, 48) at 35 seconds.\n",
      "We just fit a SARIMAX(2, 0, 2)x(1, 0, 3, 48) model with 0.029876651212353684 MAE and 0.03262089793832636 RMSE.\n",
      "Checking (2, 0, 0, 48) at 54 seconds.\n",
      "We just fit a SARIMAX(2, 0, 2)x(2, 0, 0, 48) model with 0.0298360176715964 MAE and 0.03251427936949178 RMSE.\n",
      "Checking (2, 0, 1, 48) at 63 seconds.\n",
      "We just fit a SARIMAX(2, 0, 2)x(2, 0, 1, 48) model with 0.029569450290676702 MAE and 0.032097144721384134 RMSE.\n",
      "Checking (2, 0, 2, 48) at 73 seconds.\n",
      "We just fit a SARIMAX(2, 0, 2)x(2, 0, 2, 48) model with 0.029443765526852222 MAE and 0.03191762875867802 RMSE.\n",
      "Checking (2, 0, 3, 48) at 84 seconds.\n",
      "We just fit a SARIMAX(2, 0, 2)x(2, 0, 3, 48) model with 0.029737657223622132 MAE and 0.03234623274768525 RMSE.\n",
      "Checking (3, 0, 0, 48) at 107 seconds.\n",
      "We just fit a SARIMAX(2, 0, 2)x(3, 0, 0, 48) model with 0.03028687764647268 MAE and 0.03327991340582843 RMSE.\n",
      "Checking (3, 0, 1, 48) at 131 seconds.\n",
      "We just fit a SARIMAX(2, 0, 2)x(3, 0, 1, 48) model with 0.02976554877399155 MAE and 0.03240877762993624 RMSE.\n",
      "Checking (3, 0, 2, 48) at 158 seconds.\n",
      "We just fit a SARIMAX(2, 0, 2)x(3, 0, 2, 48) model with 0.02935217050573193 MAE and 0.03174340943513571 RMSE.\n",
      "Checking (3, 0, 3, 48) at 186 seconds.\n",
      "We just fit a SARIMAX(2, 0, 2)x(3, 0, 3, 48) model with 0.029654454049426016 MAE and 0.03222761087303018 RMSE.\n",
      "Checking (0, 1, 0, 48) at 223 seconds.\n",
      "problem!\n"
     ]
    },
    {
     "ename": "LinAlgError",
     "evalue": "Schur decomposition solver error.",
     "output_type": "error",
     "traceback": [
      "\u001b[0;31m---------------------------------------------------------------------------\u001b[0m",
      "\u001b[0;31mLinAlgError\u001b[0m                               Traceback (most recent call last)",
      "\u001b[0;32m<ipython-input-46-1a319665928e>\u001b[0m in \u001b[0;36m<module>\u001b[0;34m\u001b[0m\n\u001b[1;32m      1\u001b[0m \u001b[0;32mfor\u001b[0m \u001b[0mfeature\u001b[0m \u001b[0;32min\u001b[0m \u001b[0mfive_features\u001b[0m\u001b[0;34m:\u001b[0m\u001b[0;34m\u001b[0m\u001b[0;34m\u001b[0m\u001b[0m\n\u001b[0;32m----> 2\u001b[0;31m     \u001b[0mfind_sarima_parameters\u001b[0m\u001b[0;34m(\u001b[0m\u001b[0mit_rw_20\u001b[0m\u001b[0;34m,\u001b[0m \u001b[0mfeature\u001b[0m\u001b[0;34m,\u001b[0m \u001b[0marima_param_df_20\u001b[0m\u001b[0;34m)\u001b[0m\u001b[0;34m\u001b[0m\u001b[0;34m\u001b[0m\u001b[0m\n\u001b[0m",
      "\u001b[0;32m<ipython-input-44-75307609aae9>\u001b[0m in \u001b[0;36mfind_sarima_parameters\u001b[0;34m(df, feature, param_df, n_rows)\u001b[0m\n\u001b[1;32m     21\u001b[0m                     \u001b[0mprint\u001b[0m\u001b[0;34m(\u001b[0m\u001b[0;34mf'Checking ({P}, {D}, {Q}, {S}) at {round(time.time() - t0)} seconds.'\u001b[0m\u001b[0;34m)\u001b[0m\u001b[0;34m\u001b[0m\u001b[0;34m\u001b[0m\u001b[0m\n\u001b[1;32m     22\u001b[0m                     \u001b[0;32mtry\u001b[0m\u001b[0;34m:\u001b[0m\u001b[0;34m\u001b[0m\u001b[0;34m\u001b[0m\u001b[0m\n\u001b[0;32m---> 23\u001b[0;31m                         sarima = SARIMAX(endog = train_values,\n\u001b[0m\u001b[1;32m     24\u001b[0m                                          \u001b[0morder\u001b[0m \u001b[0;34m=\u001b[0m \u001b[0morder\u001b[0m\u001b[0;34m,\u001b[0m\u001b[0;34m\u001b[0m\u001b[0;34m\u001b[0m\u001b[0m\n\u001b[1;32m     25\u001b[0m                                          seasonal_order = (P, D, Q, S)).fit()\n",
      "\u001b[0;32m~/opt/anaconda3/lib/python3.8/site-packages/statsmodels/tsa/statespace/mlemodel.py\u001b[0m in \u001b[0;36mfit\u001b[0;34m(self, start_params, transformed, includes_fixed, cov_type, cov_kwds, method, maxiter, full_output, disp, callback, return_params, optim_score, optim_complex_step, optim_hessian, flags, low_memory, **kwargs)\u001b[0m\n\u001b[1;32m    688\u001b[0m                 \u001b[0mflags\u001b[0m\u001b[0;34m[\u001b[0m\u001b[0;34m'hessian_method'\u001b[0m\u001b[0;34m]\u001b[0m \u001b[0;34m=\u001b[0m \u001b[0moptim_hessian\u001b[0m\u001b[0;34m\u001b[0m\u001b[0;34m\u001b[0m\u001b[0m\n\u001b[1;32m    689\u001b[0m             \u001b[0mfargs\u001b[0m \u001b[0;34m=\u001b[0m \u001b[0;34m(\u001b[0m\u001b[0mflags\u001b[0m\u001b[0;34m,\u001b[0m\u001b[0;34m)\u001b[0m\u001b[0;34m\u001b[0m\u001b[0;34m\u001b[0m\u001b[0m\n\u001b[0;32m--> 690\u001b[0;31m             mlefit = super(MLEModel, self).fit(start_params, method=method,\n\u001b[0m\u001b[1;32m    691\u001b[0m                                                \u001b[0mfargs\u001b[0m\u001b[0;34m=\u001b[0m\u001b[0mfargs\u001b[0m\u001b[0;34m,\u001b[0m\u001b[0;34m\u001b[0m\u001b[0;34m\u001b[0m\u001b[0m\n\u001b[1;32m    692\u001b[0m                                                \u001b[0mmaxiter\u001b[0m\u001b[0;34m=\u001b[0m\u001b[0mmaxiter\u001b[0m\u001b[0;34m,\u001b[0m\u001b[0;34m\u001b[0m\u001b[0;34m\u001b[0m\u001b[0m\n",
      "\u001b[0;32m~/opt/anaconda3/lib/python3.8/site-packages/statsmodels/base/model.py\u001b[0m in \u001b[0;36mfit\u001b[0;34m(self, start_params, method, maxiter, full_output, disp, fargs, callback, retall, skip_hessian, **kwargs)\u001b[0m\n\u001b[1;32m    517\u001b[0m         \u001b[0mwarn_convergence\u001b[0m \u001b[0;34m=\u001b[0m \u001b[0mkwargs\u001b[0m\u001b[0;34m.\u001b[0m\u001b[0mpop\u001b[0m\u001b[0;34m(\u001b[0m\u001b[0;34m'warn_convergence'\u001b[0m\u001b[0;34m,\u001b[0m \u001b[0;32mTrue\u001b[0m\u001b[0;34m)\u001b[0m\u001b[0;34m\u001b[0m\u001b[0;34m\u001b[0m\u001b[0m\n\u001b[1;32m    518\u001b[0m         \u001b[0moptimizer\u001b[0m \u001b[0;34m=\u001b[0m \u001b[0mOptimizer\u001b[0m\u001b[0;34m(\u001b[0m\u001b[0;34m)\u001b[0m\u001b[0;34m\u001b[0m\u001b[0;34m\u001b[0m\u001b[0m\n\u001b[0;32m--> 519\u001b[0;31m         xopt, retvals, optim_settings = optimizer._fit(f, score, start_params,\n\u001b[0m\u001b[1;32m    520\u001b[0m                                                        \u001b[0mfargs\u001b[0m\u001b[0;34m,\u001b[0m \u001b[0mkwargs\u001b[0m\u001b[0;34m,\u001b[0m\u001b[0;34m\u001b[0m\u001b[0;34m\u001b[0m\u001b[0m\n\u001b[1;32m    521\u001b[0m                                                        \u001b[0mhessian\u001b[0m\u001b[0;34m=\u001b[0m\u001b[0mhess\u001b[0m\u001b[0;34m,\u001b[0m\u001b[0;34m\u001b[0m\u001b[0;34m\u001b[0m\u001b[0m\n",
      "\u001b[0;32m~/opt/anaconda3/lib/python3.8/site-packages/statsmodels/base/optimizer.py\u001b[0m in \u001b[0;36m_fit\u001b[0;34m(self, objective, gradient, start_params, fargs, kwargs, hessian, method, maxiter, full_output, disp, callback, retall)\u001b[0m\n\u001b[1;32m    222\u001b[0m \u001b[0;34m\u001b[0m\u001b[0m\n\u001b[1;32m    223\u001b[0m         \u001b[0mfunc\u001b[0m \u001b[0;34m=\u001b[0m \u001b[0mfit_funcs\u001b[0m\u001b[0;34m[\u001b[0m\u001b[0mmethod\u001b[0m\u001b[0;34m]\u001b[0m\u001b[0;34m\u001b[0m\u001b[0;34m\u001b[0m\u001b[0m\n\u001b[0;32m--> 224\u001b[0;31m         xopt, retvals = func(objective, gradient, start_params, fargs, kwargs,\n\u001b[0m\u001b[1;32m    225\u001b[0m                             \u001b[0mdisp\u001b[0m\u001b[0;34m=\u001b[0m\u001b[0mdisp\u001b[0m\u001b[0;34m,\u001b[0m \u001b[0mmaxiter\u001b[0m\u001b[0;34m=\u001b[0m\u001b[0mmaxiter\u001b[0m\u001b[0;34m,\u001b[0m \u001b[0mcallback\u001b[0m\u001b[0;34m=\u001b[0m\u001b[0mcallback\u001b[0m\u001b[0;34m,\u001b[0m\u001b[0;34m\u001b[0m\u001b[0;34m\u001b[0m\u001b[0m\n\u001b[1;32m    226\u001b[0m                             \u001b[0mretall\u001b[0m\u001b[0;34m=\u001b[0m\u001b[0mretall\u001b[0m\u001b[0;34m,\u001b[0m \u001b[0mfull_output\u001b[0m\u001b[0;34m=\u001b[0m\u001b[0mfull_output\u001b[0m\u001b[0;34m,\u001b[0m\u001b[0;34m\u001b[0m\u001b[0;34m\u001b[0m\u001b[0m\n",
      "\u001b[0;32m~/opt/anaconda3/lib/python3.8/site-packages/statsmodels/base/optimizer.py\u001b[0m in \u001b[0;36m_fit_lbfgs\u001b[0;34m(f, score, start_params, fargs, kwargs, disp, maxiter, callback, retall, full_output, hess)\u001b[0m\n\u001b[1;32m    627\u001b[0m         \u001b[0mfunc\u001b[0m \u001b[0;34m=\u001b[0m \u001b[0mf\u001b[0m\u001b[0;34m\u001b[0m\u001b[0;34m\u001b[0m\u001b[0m\n\u001b[1;32m    628\u001b[0m \u001b[0;34m\u001b[0m\u001b[0m\n\u001b[0;32m--> 629\u001b[0;31m     retvals = optimize.fmin_l_bfgs_b(func, start_params, maxiter=maxiter,\n\u001b[0m\u001b[1;32m    630\u001b[0m                                      \u001b[0mcallback\u001b[0m\u001b[0;34m=\u001b[0m\u001b[0mcallback\u001b[0m\u001b[0;34m,\u001b[0m \u001b[0margs\u001b[0m\u001b[0;34m=\u001b[0m\u001b[0mfargs\u001b[0m\u001b[0;34m,\u001b[0m\u001b[0;34m\u001b[0m\u001b[0;34m\u001b[0m\u001b[0m\n\u001b[1;32m    631\u001b[0m                                      \u001b[0mbounds\u001b[0m\u001b[0;34m=\u001b[0m\u001b[0mbounds\u001b[0m\u001b[0;34m,\u001b[0m \u001b[0mdisp\u001b[0m\u001b[0;34m=\u001b[0m\u001b[0mdisp\u001b[0m\u001b[0;34m,\u001b[0m\u001b[0;34m\u001b[0m\u001b[0;34m\u001b[0m\u001b[0m\n",
      "\u001b[0;32m~/opt/anaconda3/lib/python3.8/site-packages/scipy/optimize/lbfgsb.py\u001b[0m in \u001b[0;36mfmin_l_bfgs_b\u001b[0;34m(func, x0, fprime, args, approx_grad, bounds, m, factr, pgtol, epsilon, iprint, maxfun, maxiter, disp, callback, maxls)\u001b[0m\n\u001b[1;32m    195\u001b[0m             'maxls': maxls}\n\u001b[1;32m    196\u001b[0m \u001b[0;34m\u001b[0m\u001b[0m\n\u001b[0;32m--> 197\u001b[0;31m     res = _minimize_lbfgsb(fun, x0, args=args, jac=jac, bounds=bounds,\n\u001b[0m\u001b[1;32m    198\u001b[0m                            **opts)\n\u001b[1;32m    199\u001b[0m     d = {'grad': res['jac'],\n",
      "\u001b[0;32m~/opt/anaconda3/lib/python3.8/site-packages/scipy/optimize/lbfgsb.py\u001b[0m in \u001b[0;36m_minimize_lbfgsb\u001b[0;34m(fun, x0, args, jac, bounds, disp, maxcor, ftol, gtol, eps, maxfun, maxiter, iprint, callback, maxls, finite_diff_rel_step, **unknown_options)\u001b[0m\n\u001b[1;32m    358\u001b[0m             \u001b[0;31m# until the completion of the current minimization iteration.\u001b[0m\u001b[0;34m\u001b[0m\u001b[0;34m\u001b[0m\u001b[0;34m\u001b[0m\u001b[0m\n\u001b[1;32m    359\u001b[0m             \u001b[0;31m# Overwrite f and g:\u001b[0m\u001b[0;34m\u001b[0m\u001b[0;34m\u001b[0m\u001b[0;34m\u001b[0m\u001b[0m\n\u001b[0;32m--> 360\u001b[0;31m             \u001b[0mf\u001b[0m\u001b[0;34m,\u001b[0m \u001b[0mg\u001b[0m \u001b[0;34m=\u001b[0m \u001b[0mfunc_and_grad\u001b[0m\u001b[0;34m(\u001b[0m\u001b[0mx\u001b[0m\u001b[0;34m)\u001b[0m\u001b[0;34m\u001b[0m\u001b[0;34m\u001b[0m\u001b[0m\n\u001b[0m\u001b[1;32m    361\u001b[0m         \u001b[0;32melif\u001b[0m \u001b[0mtask_str\u001b[0m\u001b[0;34m.\u001b[0m\u001b[0mstartswith\u001b[0m\u001b[0;34m(\u001b[0m\u001b[0;34mb'NEW_X'\u001b[0m\u001b[0;34m)\u001b[0m\u001b[0;34m:\u001b[0m\u001b[0;34m\u001b[0m\u001b[0;34m\u001b[0m\u001b[0m\n\u001b[1;32m    362\u001b[0m             \u001b[0;31m# new iteration\u001b[0m\u001b[0;34m\u001b[0m\u001b[0;34m\u001b[0m\u001b[0;34m\u001b[0m\u001b[0m\n",
      "\u001b[0;32m~/opt/anaconda3/lib/python3.8/site-packages/scipy/optimize/_differentiable_functions.py\u001b[0m in \u001b[0;36mfun_and_grad\u001b[0;34m(self, x)\u001b[0m\n\u001b[1;32m    198\u001b[0m         \u001b[0;32mif\u001b[0m \u001b[0;32mnot\u001b[0m \u001b[0mnp\u001b[0m\u001b[0;34m.\u001b[0m\u001b[0marray_equal\u001b[0m\u001b[0;34m(\u001b[0m\u001b[0mx\u001b[0m\u001b[0;34m,\u001b[0m \u001b[0mself\u001b[0m\u001b[0;34m.\u001b[0m\u001b[0mx\u001b[0m\u001b[0;34m)\u001b[0m\u001b[0;34m:\u001b[0m\u001b[0;34m\u001b[0m\u001b[0;34m\u001b[0m\u001b[0m\n\u001b[1;32m    199\u001b[0m             \u001b[0mself\u001b[0m\u001b[0;34m.\u001b[0m\u001b[0m_update_x_impl\u001b[0m\u001b[0;34m(\u001b[0m\u001b[0mx\u001b[0m\u001b[0;34m)\u001b[0m\u001b[0;34m\u001b[0m\u001b[0;34m\u001b[0m\u001b[0m\n\u001b[0;32m--> 200\u001b[0;31m         \u001b[0mself\u001b[0m\u001b[0;34m.\u001b[0m\u001b[0m_update_fun\u001b[0m\u001b[0;34m(\u001b[0m\u001b[0;34m)\u001b[0m\u001b[0;34m\u001b[0m\u001b[0;34m\u001b[0m\u001b[0m\n\u001b[0m\u001b[1;32m    201\u001b[0m         \u001b[0mself\u001b[0m\u001b[0;34m.\u001b[0m\u001b[0m_update_grad\u001b[0m\u001b[0;34m(\u001b[0m\u001b[0;34m)\u001b[0m\u001b[0;34m\u001b[0m\u001b[0;34m\u001b[0m\u001b[0m\n\u001b[1;32m    202\u001b[0m         \u001b[0;32mreturn\u001b[0m \u001b[0mself\u001b[0m\u001b[0;34m.\u001b[0m\u001b[0mf\u001b[0m\u001b[0;34m,\u001b[0m \u001b[0mself\u001b[0m\u001b[0;34m.\u001b[0m\u001b[0mg\u001b[0m\u001b[0;34m\u001b[0m\u001b[0;34m\u001b[0m\u001b[0m\n",
      "\u001b[0;32m~/opt/anaconda3/lib/python3.8/site-packages/scipy/optimize/_differentiable_functions.py\u001b[0m in \u001b[0;36m_update_fun\u001b[0;34m(self)\u001b[0m\n\u001b[1;32m    164\u001b[0m     \u001b[0;32mdef\u001b[0m \u001b[0m_update_fun\u001b[0m\u001b[0;34m(\u001b[0m\u001b[0mself\u001b[0m\u001b[0;34m)\u001b[0m\u001b[0;34m:\u001b[0m\u001b[0;34m\u001b[0m\u001b[0;34m\u001b[0m\u001b[0m\n\u001b[1;32m    165\u001b[0m         \u001b[0;32mif\u001b[0m \u001b[0;32mnot\u001b[0m \u001b[0mself\u001b[0m\u001b[0;34m.\u001b[0m\u001b[0mf_updated\u001b[0m\u001b[0;34m:\u001b[0m\u001b[0;34m\u001b[0m\u001b[0;34m\u001b[0m\u001b[0m\n\u001b[0;32m--> 166\u001b[0;31m             \u001b[0mself\u001b[0m\u001b[0;34m.\u001b[0m\u001b[0m_update_fun_impl\u001b[0m\u001b[0;34m(\u001b[0m\u001b[0;34m)\u001b[0m\u001b[0;34m\u001b[0m\u001b[0;34m\u001b[0m\u001b[0m\n\u001b[0m\u001b[1;32m    167\u001b[0m             \u001b[0mself\u001b[0m\u001b[0;34m.\u001b[0m\u001b[0mf_updated\u001b[0m \u001b[0;34m=\u001b[0m \u001b[0;32mTrue\u001b[0m\u001b[0;34m\u001b[0m\u001b[0;34m\u001b[0m\u001b[0m\n\u001b[1;32m    168\u001b[0m \u001b[0;34m\u001b[0m\u001b[0m\n",
      "\u001b[0;32m~/opt/anaconda3/lib/python3.8/site-packages/scipy/optimize/_differentiable_functions.py\u001b[0m in \u001b[0;36mupdate_fun\u001b[0;34m()\u001b[0m\n\u001b[1;32m     71\u001b[0m \u001b[0;34m\u001b[0m\u001b[0m\n\u001b[1;32m     72\u001b[0m         \u001b[0;32mdef\u001b[0m \u001b[0mupdate_fun\u001b[0m\u001b[0;34m(\u001b[0m\u001b[0;34m)\u001b[0m\u001b[0;34m:\u001b[0m\u001b[0;34m\u001b[0m\u001b[0;34m\u001b[0m\u001b[0m\n\u001b[0;32m---> 73\u001b[0;31m             \u001b[0mself\u001b[0m\u001b[0;34m.\u001b[0m\u001b[0mf\u001b[0m \u001b[0;34m=\u001b[0m \u001b[0mfun_wrapped\u001b[0m\u001b[0;34m(\u001b[0m\u001b[0mself\u001b[0m\u001b[0;34m.\u001b[0m\u001b[0mx\u001b[0m\u001b[0;34m)\u001b[0m\u001b[0;34m\u001b[0m\u001b[0;34m\u001b[0m\u001b[0m\n\u001b[0m\u001b[1;32m     74\u001b[0m \u001b[0;34m\u001b[0m\u001b[0m\n\u001b[1;32m     75\u001b[0m         \u001b[0mself\u001b[0m\u001b[0;34m.\u001b[0m\u001b[0m_update_fun_impl\u001b[0m \u001b[0;34m=\u001b[0m \u001b[0mupdate_fun\u001b[0m\u001b[0;34m\u001b[0m\u001b[0;34m\u001b[0m\u001b[0m\n",
      "\u001b[0;32m~/opt/anaconda3/lib/python3.8/site-packages/scipy/optimize/_differentiable_functions.py\u001b[0m in \u001b[0;36mfun_wrapped\u001b[0;34m(x)\u001b[0m\n\u001b[1;32m     68\u001b[0m         \u001b[0;32mdef\u001b[0m \u001b[0mfun_wrapped\u001b[0m\u001b[0;34m(\u001b[0m\u001b[0mx\u001b[0m\u001b[0;34m)\u001b[0m\u001b[0;34m:\u001b[0m\u001b[0;34m\u001b[0m\u001b[0;34m\u001b[0m\u001b[0m\n\u001b[1;32m     69\u001b[0m             \u001b[0mself\u001b[0m\u001b[0;34m.\u001b[0m\u001b[0mnfev\u001b[0m \u001b[0;34m+=\u001b[0m \u001b[0;36m1\u001b[0m\u001b[0;34m\u001b[0m\u001b[0;34m\u001b[0m\u001b[0m\n\u001b[0;32m---> 70\u001b[0;31m             \u001b[0;32mreturn\u001b[0m \u001b[0mfun\u001b[0m\u001b[0;34m(\u001b[0m\u001b[0mx\u001b[0m\u001b[0;34m,\u001b[0m \u001b[0;34m*\u001b[0m\u001b[0margs\u001b[0m\u001b[0;34m)\u001b[0m\u001b[0;34m\u001b[0m\u001b[0;34m\u001b[0m\u001b[0m\n\u001b[0m\u001b[1;32m     71\u001b[0m \u001b[0;34m\u001b[0m\u001b[0m\n\u001b[1;32m     72\u001b[0m         \u001b[0;32mdef\u001b[0m \u001b[0mupdate_fun\u001b[0m\u001b[0;34m(\u001b[0m\u001b[0;34m)\u001b[0m\u001b[0;34m:\u001b[0m\u001b[0;34m\u001b[0m\u001b[0;34m\u001b[0m\u001b[0m\n",
      "\u001b[0;32m~/opt/anaconda3/lib/python3.8/site-packages/statsmodels/base/model.py\u001b[0m in \u001b[0;36mf\u001b[0;34m(params, *args)\u001b[0m\n\u001b[1;32m    499\u001b[0m \u001b[0;34m\u001b[0m\u001b[0m\n\u001b[1;32m    500\u001b[0m         \u001b[0;32mdef\u001b[0m \u001b[0mf\u001b[0m\u001b[0;34m(\u001b[0m\u001b[0mparams\u001b[0m\u001b[0;34m,\u001b[0m \u001b[0;34m*\u001b[0m\u001b[0margs\u001b[0m\u001b[0;34m)\u001b[0m\u001b[0;34m:\u001b[0m\u001b[0;34m\u001b[0m\u001b[0;34m\u001b[0m\u001b[0m\n\u001b[0;32m--> 501\u001b[0;31m             \u001b[0;32mreturn\u001b[0m \u001b[0;34m-\u001b[0m\u001b[0mself\u001b[0m\u001b[0;34m.\u001b[0m\u001b[0mloglike\u001b[0m\u001b[0;34m(\u001b[0m\u001b[0mparams\u001b[0m\u001b[0;34m,\u001b[0m \u001b[0;34m*\u001b[0m\u001b[0margs\u001b[0m\u001b[0;34m)\u001b[0m \u001b[0;34m/\u001b[0m \u001b[0mnobs\u001b[0m\u001b[0;34m\u001b[0m\u001b[0;34m\u001b[0m\u001b[0m\n\u001b[0m\u001b[1;32m    502\u001b[0m \u001b[0;34m\u001b[0m\u001b[0m\n\u001b[1;32m    503\u001b[0m         \u001b[0;32mif\u001b[0m \u001b[0mmethod\u001b[0m \u001b[0;34m==\u001b[0m \u001b[0;34m'newton'\u001b[0m\u001b[0;34m:\u001b[0m\u001b[0;34m\u001b[0m\u001b[0;34m\u001b[0m\u001b[0m\n",
      "\u001b[0;32m~/opt/anaconda3/lib/python3.8/site-packages/statsmodels/tsa/statespace/mlemodel.py\u001b[0m in \u001b[0;36mloglike\u001b[0;34m(self, params, *args, **kwargs)\u001b[0m\n\u001b[1;32m    923\u001b[0m             \u001b[0mkwargs\u001b[0m\u001b[0;34m[\u001b[0m\u001b[0;34m'inversion_method'\u001b[0m\u001b[0;34m]\u001b[0m \u001b[0;34m=\u001b[0m \u001b[0mINVERT_UNIVARIATE\u001b[0m \u001b[0;34m|\u001b[0m \u001b[0mSOLVE_LU\u001b[0m\u001b[0;34m\u001b[0m\u001b[0;34m\u001b[0m\u001b[0m\n\u001b[1;32m    924\u001b[0m \u001b[0;34m\u001b[0m\u001b[0m\n\u001b[0;32m--> 925\u001b[0;31m         \u001b[0mloglike\u001b[0m \u001b[0;34m=\u001b[0m \u001b[0mself\u001b[0m\u001b[0;34m.\u001b[0m\u001b[0mssm\u001b[0m\u001b[0;34m.\u001b[0m\u001b[0mloglike\u001b[0m\u001b[0;34m(\u001b[0m\u001b[0mcomplex_step\u001b[0m\u001b[0;34m=\u001b[0m\u001b[0mcomplex_step\u001b[0m\u001b[0;34m,\u001b[0m \u001b[0;34m**\u001b[0m\u001b[0mkwargs\u001b[0m\u001b[0;34m)\u001b[0m\u001b[0;34m\u001b[0m\u001b[0;34m\u001b[0m\u001b[0m\n\u001b[0m\u001b[1;32m    926\u001b[0m \u001b[0;34m\u001b[0m\u001b[0m\n\u001b[1;32m    927\u001b[0m         \u001b[0;31m# Koopman, Shephard, and Doornik recommend maximizing the average\u001b[0m\u001b[0;34m\u001b[0m\u001b[0;34m\u001b[0m\u001b[0;34m\u001b[0m\u001b[0m\n",
      "\u001b[0;32m~/opt/anaconda3/lib/python3.8/site-packages/statsmodels/tsa/statespace/kalman_filter.py\u001b[0m in \u001b[0;36mloglike\u001b[0;34m(self, **kwargs)\u001b[0m\n\u001b[1;32m    981\u001b[0m         kwargs.setdefault('conserve_memory',\n\u001b[1;32m    982\u001b[0m                           MEMORY_CONSERVE ^ MEMORY_NO_LIKELIHOOD)\n\u001b[0;32m--> 983\u001b[0;31m         \u001b[0mkfilter\u001b[0m \u001b[0;34m=\u001b[0m \u001b[0mself\u001b[0m\u001b[0;34m.\u001b[0m\u001b[0m_filter\u001b[0m\u001b[0;34m(\u001b[0m\u001b[0;34m**\u001b[0m\u001b[0mkwargs\u001b[0m\u001b[0;34m)\u001b[0m\u001b[0;34m\u001b[0m\u001b[0;34m\u001b[0m\u001b[0m\n\u001b[0m\u001b[1;32m    984\u001b[0m         loglikelihood_burn = kwargs.get('loglikelihood_burn',\n\u001b[1;32m    985\u001b[0m                                         self.loglikelihood_burn)\n",
      "\u001b[0;32m~/opt/anaconda3/lib/python3.8/site-packages/statsmodels/tsa/statespace/kalman_filter.py\u001b[0m in \u001b[0;36m_filter\u001b[0;34m(self, filter_method, inversion_method, stability_method, conserve_memory, filter_timing, tolerance, loglikelihood_burn, complex_step)\u001b[0m\n\u001b[1;32m    901\u001b[0m \u001b[0;34m\u001b[0m\u001b[0m\n\u001b[1;32m    902\u001b[0m         \u001b[0;31m# Initialize the state\u001b[0m\u001b[0;34m\u001b[0m\u001b[0;34m\u001b[0m\u001b[0;34m\u001b[0m\u001b[0m\n\u001b[0;32m--> 903\u001b[0;31m         \u001b[0mself\u001b[0m\u001b[0;34m.\u001b[0m\u001b[0m_initialize_state\u001b[0m\u001b[0;34m(\u001b[0m\u001b[0mprefix\u001b[0m\u001b[0;34m=\u001b[0m\u001b[0mprefix\u001b[0m\u001b[0;34m,\u001b[0m \u001b[0mcomplex_step\u001b[0m\u001b[0;34m=\u001b[0m\u001b[0mcomplex_step\u001b[0m\u001b[0;34m)\u001b[0m\u001b[0;34m\u001b[0m\u001b[0;34m\u001b[0m\u001b[0m\n\u001b[0m\u001b[1;32m    904\u001b[0m \u001b[0;34m\u001b[0m\u001b[0m\n\u001b[1;32m    905\u001b[0m         \u001b[0;31m# Run the filter\u001b[0m\u001b[0;34m\u001b[0m\u001b[0;34m\u001b[0m\u001b[0;34m\u001b[0m\u001b[0m\n",
      "\u001b[0;32m~/opt/anaconda3/lib/python3.8/site-packages/statsmodels/tsa/statespace/representation.py\u001b[0m in \u001b[0;36m_initialize_state\u001b[0;34m(self, prefix, complex_step)\u001b[0m\n\u001b[1;32m    983\u001b[0m             \u001b[0;32mif\u001b[0m \u001b[0;32mnot\u001b[0m \u001b[0mself\u001b[0m\u001b[0;34m.\u001b[0m\u001b[0minitialization\u001b[0m\u001b[0;34m.\u001b[0m\u001b[0minitialized\u001b[0m\u001b[0;34m:\u001b[0m\u001b[0;34m\u001b[0m\u001b[0;34m\u001b[0m\u001b[0m\n\u001b[1;32m    984\u001b[0m                 \u001b[0;32mraise\u001b[0m \u001b[0mRuntimeError\u001b[0m\u001b[0;34m(\u001b[0m\u001b[0;34m'Initialization is incomplete.'\u001b[0m\u001b[0;34m)\u001b[0m\u001b[0;34m\u001b[0m\u001b[0;34m\u001b[0m\u001b[0m\n\u001b[0;32m--> 985\u001b[0;31m             self._statespaces[prefix].initialize(self.initialization,\n\u001b[0m\u001b[1;32m    986\u001b[0m                                                  complex_step=complex_step)\n\u001b[1;32m    987\u001b[0m         \u001b[0;32melse\u001b[0m\u001b[0;34m:\u001b[0m\u001b[0;34m\u001b[0m\u001b[0;34m\u001b[0m\u001b[0m\n",
      "\u001b[0;32mstatsmodels/tsa/statespace/_representation.pyx\u001b[0m in \u001b[0;36mstatsmodels.tsa.statespace._representation.dStatespace.initialize\u001b[0;34m()\u001b[0m\n",
      "\u001b[0;32mstatsmodels/tsa/statespace/_representation.pyx\u001b[0m in \u001b[0;36mstatsmodels.tsa.statespace._representation.dStatespace.initialize\u001b[0;34m()\u001b[0m\n",
      "\u001b[0;32mstatsmodels/tsa/statespace/_initialization.pyx\u001b[0m in \u001b[0;36mstatsmodels.tsa.statespace._initialization.dInitialization.initialize\u001b[0;34m()\u001b[0m\n",
      "\u001b[0;32mstatsmodels/tsa/statespace/_initialization.pyx\u001b[0m in \u001b[0;36mstatsmodels.tsa.statespace._initialization.dInitialization.initialize_stationary_stationary_cov\u001b[0;34m()\u001b[0m\n",
      "\u001b[0;32mstatsmodels/tsa/statespace/_tools.pyx\u001b[0m in \u001b[0;36mstatsmodels.tsa.statespace._tools._dsolve_discrete_lyapunov\u001b[0;34m()\u001b[0m\n",
      "\u001b[0;31mLinAlgError\u001b[0m: Schur decomposition solver error."
     ]
    }
   ],
   "source": [
    "for feature in five_features: \n",
    "    find_sarima_parameters(it_rw_20, feature, arima_param_df_20)"
   ]
  },
  {
   "cell_type": "markdown",
   "metadata": {},
   "source": [
    "Encounted `linalgerror` while trying to run `find_sarima_parameters` on 2020 Italy data (`it_rw_20`). It did run for danceability, mode, and acousticness, and the `seasonal_order` output was similar to that which I found for the 2017. I will therefore use the same `seasonal_order` for each the audio as was determined by the 2017 data (`it_rw_17). "
   ]
  },
  {
   "cell_type": "markdown",
   "metadata": {},
   "source": [
    "Results for the above for 2017 data:\n",
    "+ The final model for danceability is SARIMAX(2, 0, 2)x(3, 0, 0, 48).\n",
    "+ The final model for mode is SARIMAX(2, 0, 2)x(1, 0, 1, 52).\n",
    "+ The final model for acousticness is SARIMAX(2, 0, 2)x(1, 0, 2, 48).\n",
    "+ The final model for valence is SARIMAX(2, 0, 2)x(0, 0, 1, 49).\n",
    "+ The final model for tempo is SARIMAX(2, 0, 2)x(2, 0, 0, 49)."
   ]
  },
  {
   "cell_type": "markdown",
   "metadata": {},
   "source": [
    "#### _Adding Seasonal Orders to `param_df`_"
   ]
  },
  {
   "cell_type": "markdown",
   "metadata": {},
   "source": [
    "citation: converting string to tuple https://www.geeksforgeeks.org/python-convert-string-to-tuple/"
   ]
  },
  {
   "cell_type": "code",
   "execution_count": 48,
   "metadata": {},
   "outputs": [],
   "source": [
    "arima_param_df_20.loc[arima_param_df_20['audio_feature'] == 'danceability', 'seasonal_order'] = '3, 0, 0, 48'\n",
    "arima_param_df_20.loc[arima_param_df_20['audio_feature'] == 'mode', 'seasonal_order'] = '1, 0, 1, 52'\n",
    "arima_param_df_20.loc[arima_param_df_20['audio_feature'] == 'acousticness', 'seasonal_order'] = '1, 0, 2, 48'\n",
    "arima_param_df_20.loc[arima_param_df_20['audio_feature'] == 'valence', 'seasonal_order'] = '0, 0, 1, 49'\n",
    "arima_param_df_20.loc[arima_param_df_20['audio_feature'] == 'tempo', 'seasonal_order'] = '2, 0, 0, 49'"
   ]
  },
  {
   "cell_type": "markdown",
   "metadata": {},
   "source": [
    "#### _Updated `arima_param_df_20`_"
   ]
  },
  {
   "cell_type": "code",
   "execution_count": 49,
   "metadata": {},
   "outputs": [
    {
     "data": {
      "text/html": [
       "<div>\n",
       "<style scoped>\n",
       "    .dataframe tbody tr th:only-of-type {\n",
       "        vertical-align: middle;\n",
       "    }\n",
       "\n",
       "    .dataframe tbody tr th {\n",
       "        vertical-align: top;\n",
       "    }\n",
       "\n",
       "    .dataframe thead th {\n",
       "        text-align: right;\n",
       "    }\n",
       "</style>\n",
       "<table border=\"1\" class=\"dataframe\">\n",
       "  <thead>\n",
       "    <tr style=\"text-align: right;\">\n",
       "      <th></th>\n",
       "      <th>audio_feature</th>\n",
       "      <th>ndiffs(d)</th>\n",
       "      <th>best_p</th>\n",
       "      <th>best_q</th>\n",
       "      <th>order</th>\n",
       "      <th>ARIMA_model</th>\n",
       "      <th>ARIMA_AIC</th>\n",
       "      <th>arima_train_rmse</th>\n",
       "      <th>arima_test_rmse</th>\n",
       "      <th>seasonal_order</th>\n",
       "    </tr>\n",
       "  </thead>\n",
       "  <tbody>\n",
       "    <tr>\n",
       "      <th>0</th>\n",
       "      <td>danceability</td>\n",
       "      <td>1</td>\n",
       "      <td>2</td>\n",
       "      <td>2</td>\n",
       "      <td>(2, 1, 2)</td>\n",
       "      <td>ARIMA(2,1,2)</td>\n",
       "      <td>-214.352402</td>\n",
       "      <td>0.029955</td>\n",
       "      <td>0.031795</td>\n",
       "      <td>3, 0, 0, 48</td>\n",
       "    </tr>\n",
       "    <tr>\n",
       "      <th>1</th>\n",
       "      <td>mode</td>\n",
       "      <td>1</td>\n",
       "      <td>4</td>\n",
       "      <td>0</td>\n",
       "      <td>(4, 1, 0)</td>\n",
       "      <td>ARIMA(4,1,0)</td>\n",
       "      <td>-187.656554</td>\n",
       "      <td>0.036004</td>\n",
       "      <td>0.054158</td>\n",
       "      <td>1, 0, 1, 52</td>\n",
       "    </tr>\n",
       "    <tr>\n",
       "      <th>2</th>\n",
       "      <td>acousticness</td>\n",
       "      <td>1</td>\n",
       "      <td>1</td>\n",
       "      <td>1</td>\n",
       "      <td>(1, 1, 1)</td>\n",
       "      <td>ARIMA(1,1,1)</td>\n",
       "      <td>-170.836344</td>\n",
       "      <td>0.044908</td>\n",
       "      <td>0.031272</td>\n",
       "      <td>1, 0, 2, 48</td>\n",
       "    </tr>\n",
       "    <tr>\n",
       "      <th>3</th>\n",
       "      <td>valence</td>\n",
       "      <td>1</td>\n",
       "      <td>0</td>\n",
       "      <td>0</td>\n",
       "      <td>(0, 1, 0)</td>\n",
       "      <td>ARIMA(0,1,0)</td>\n",
       "      <td>-208.242293</td>\n",
       "      <td>0.036157</td>\n",
       "      <td>0.040172</td>\n",
       "      <td>0, 0, 1, 49</td>\n",
       "    </tr>\n",
       "    <tr>\n",
       "      <th>4</th>\n",
       "      <td>tempo</td>\n",
       "      <td>2</td>\n",
       "      <td>0</td>\n",
       "      <td>1</td>\n",
       "      <td>(0, 2, 1)</td>\n",
       "      <td>ARIMA(0,2,1)</td>\n",
       "      <td>235.399507</td>\n",
       "      <td>2.298025</td>\n",
       "      <td>1.932611</td>\n",
       "      <td>2, 0, 0, 49</td>\n",
       "    </tr>\n",
       "  </tbody>\n",
       "</table>\n",
       "</div>"
      ],
      "text/plain": [
       "  audio_feature  ndiffs(d)  best_p  best_q      order   ARIMA_model  \\\n",
       "0  danceability          1       2       2  (2, 1, 2)  ARIMA(2,1,2)   \n",
       "1          mode          1       4       0  (4, 1, 0)  ARIMA(4,1,0)   \n",
       "2  acousticness          1       1       1  (1, 1, 1)  ARIMA(1,1,1)   \n",
       "3       valence          1       0       0  (0, 1, 0)  ARIMA(0,1,0)   \n",
       "4         tempo          2       0       1  (0, 2, 1)  ARIMA(0,2,1)   \n",
       "\n",
       "    ARIMA_AIC  arima_train_rmse  arima_test_rmse seasonal_order  \n",
       "0 -214.352402          0.029955         0.031795    3, 0, 0, 48  \n",
       "1 -187.656554          0.036004         0.054158    1, 0, 1, 52  \n",
       "2 -170.836344          0.044908         0.031272    1, 0, 2, 48  \n",
       "3 -208.242293          0.036157         0.040172    0, 0, 1, 49  \n",
       "4  235.399507          2.298025         1.932611    2, 0, 0, 49  "
      ]
     },
     "execution_count": 49,
     "metadata": {},
     "output_type": "execute_result"
    }
   ],
   "source": [
    "arima_param_df_20"
   ]
  },
  {
   "cell_type": "markdown",
   "metadata": {},
   "source": [
    "#### _Function for SARIMA w/ seasonal components, no exogenous variables:_"
   ]
  },
  {
   "cell_type": "code",
   "execution_count": 97,
   "metadata": {},
   "outputs": [],
   "source": [
    "def sarima_predict_plot_seasonal(df, feature, year, param_df, title='title', figsize=(15,5), order=None, d=None, seasonal_order=None, ci=True):\n",
    "  \n",
    "    # create train and test sets\n",
    "    n_rows = round(len(df)*0.9)\n",
    "    train = df[feature][0:n_rows]\n",
    "    test = df[feature][n_rows:]\n",
    "    \n",
    "    # find ndiffs for stationarity from ndiff dataframe\n",
    "    if d is None: \n",
    "        d = ndiff_df.loc[ndiff_df['audio_feature'] == feature, 'ndiffs for stationarity'].iloc[0]\n",
    "    print(f'd = {d}')\n",
    "    \n",
    "    # find order from arima parameters dataframe \n",
    "    if order is None:\n",
    "        order = param_df.loc[param_df['audio_feature'] == feature, 'order'].iloc[0]\n",
    "    print(f'order = {order}')\n",
    "    \n",
    "    # find seasonal order from arima parameters dataframe \n",
    "    if seasonal_order is None: \n",
    "        sea_string = param_df.loc[param_df['audio_feature'] == feature, 'seasonal_order'].iloc[0]\n",
    "        seasonal_order = tuple(map(int, sea_string.split(', '))) \n",
    "    print(f'seasonal order = {seasonal_order}')\n",
    "    \n",
    "    try: \n",
    "\n",
    "        # instantiate and fit SARIMAX model \n",
    "        sarima = SARIMAX(endog=train, order=order, seasonal_order=seasonal_order).fit()\n",
    "\n",
    "        # get predictions for train and test sets \n",
    "        preds_train = sarima.predict(start=train.index[d], end=train.index[-1], typ='levels')\n",
    "        preds_test = sarima.predict(start=test.index[0], end=test.index[-1], typ='levels')\n",
    "\n",
    "        # calculate and print RMSE for train and test setes \n",
    "        train_rmse = mean_squared_error(train[d::], preds_train)**0.5\n",
    "        print(f'{feature.capitalize()} train RMSE ({year}) - SARIMA({order}): {train_rmse}')\n",
    "\n",
    "        test_rmse = mean_squared_error(test, preds_test)**0.5\n",
    "        print(f'{feature.capitalize()} test RMSE ({year}) - SARIMA({order}): {test_rmse}')    \n",
    "\n",
    "        # add RMSEs to arima parameters dataframe \n",
    "        param_df.loc[param_df['audio_feature'] == feature, 'sarima_train_rmse'] = train_rmse    \n",
    "        param_df.loc[param_df['audio_feature'] == feature, 'sarima_test_rmse'] = test_rmse\n",
    "\n",
    "        # calculate residuals\n",
    "        # residuals = test - preds_test\n",
    "\n",
    "        # set up plot\n",
    "        plt.figure(figsize=figsize)\n",
    "\n",
    "        # plot training data \n",
    "        plt.plot(train, color='blue')\n",
    "\n",
    "        # plot testing data \n",
    "        plt.plot(test.index, test, color='orange')\n",
    "\n",
    "        # plot predicted values for test set \n",
    "        plt.plot(test.index, preds_test, color='green')\n",
    "\n",
    "        # add line for the baseline model (mean value of feature)\n",
    "        plt.hlines(df[feature].mean(), train.index[0], test.index[-1], color = 'grey')\n",
    "\n",
    "        # plot confidence interval \n",
    "        if ci:\n",
    "            ci = 1.96 * np.std(preds_test)/np.mean(preds_test)\n",
    "            plt.fill_between(test.index, (preds_test - ci), (preds_test + ci), color='blue', alpha=.1) \n",
    "\n",
    "        # make plot with title! \n",
    "        plt.title(title, fontsize=16)\n",
    "        plt.show() ; \n",
    "        \n",
    "    \n",
    "    except ValueError as ve:\n",
    "        print(ve)\n",
    "        pass"
   ]
  },
  {
   "cell_type": "code",
   "execution_count": 98,
   "metadata": {},
   "outputs": [],
   "source": [
    "# del sarima_predict_plot_seasonal\n",
    "\n",
    "# from custom_functions import sarima_predict_plot_seasonal\n",
    "\n",
    "# sarima_predict_plot_seasonal()"
   ]
  },
  {
   "cell_type": "code",
   "execution_count": 110,
   "metadata": {},
   "outputs": [
    {
     "name": "stdout",
     "output_type": "stream",
     "text": [
      "d = 1\n",
      "order = (2, 1, 2)\n",
      "seasonal order = (3, 0, 0, 48)\n",
      "Danceability train RMSE (2020) - SARIMA((2, 1, 2)): 0.02915459822793162\n",
      "Danceability test RMSE (2020) - SARIMA((2, 1, 2)): 0.006303117521742297\n"
     ]
    },
    {
     "data": {
      "image/png": "[encoded data removed]",
      "text/plain": [
       "<Figure size 1080x360 with 1 Axes>"
      ]
     },
     "metadata": {
      "needs_background": "light"
     },
     "output_type": "display_data"
    },
    {
     "name": "stdout",
     "output_type": "stream",
     "text": [
      "d = 1\n",
      "order = (4, 1, 0)\n",
      "seasonal order = (1, 0, 1, 52)\n",
      "Mode train RMSE (2020) - SARIMA((4, 1, 0)): 0.03603351565623452\n",
      "Mode test RMSE (2020) - SARIMA((4, 1, 0)): 0.04697784415249299\n"
     ]
    },
    {
     "data": {
      "image/png": "[encoded data removed]",
      "text/plain": [
       "<Figure size 1080x360 with 1 Axes>"
      ]
     },
     "metadata": {
      "needs_background": "light"
     },
     "output_type": "display_data"
    },
    {
     "name": "stdout",
     "output_type": "stream",
     "text": [
      "d = 1\n",
      "order = (1, 1, 1)\n",
      "seasonal order = (1, 0, 2, 48)\n",
      "Acousticness train RMSE (2020) - SARIMA((1, 1, 1)): 0.04534937818196601\n",
      "Acousticness test RMSE (2020) - SARIMA((1, 1, 1)): 0.035443555395954895\n"
     ]
    },
    {
     "data": {
      "image/png": "[encoded data removed]",
      "text/plain": [
       "<Figure size 1080x360 with 1 Axes>"
      ]
     },
     "metadata": {
      "needs_background": "light"
     },
     "output_type": "display_data"
    },
    {
     "name": "stdout",
     "output_type": "stream",
     "text": [
      "d = 1\n",
      "order = (0, 1, 0)\n",
      "seasonal order = (0, 0, 1, 49)\n",
      "Valence train RMSE (2020) - SARIMA((0, 1, 0)): 0.03265138269391177\n",
      "Valence test RMSE (2020) - SARIMA((0, 1, 0)): 0.02601077093217354\n"
     ]
    },
    {
     "data": {
      "image/png": "[encoded data removed]",
      "text/plain": [
       "<Figure size 1080x360 with 1 Axes>"
      ]
     },
     "metadata": {
      "needs_background": "light"
     },
     "output_type": "display_data"
    },
    {
     "name": "stdout",
     "output_type": "stream",
     "text": [
      "d = 2\n",
      "order = (0, 2, 1)\n",
      "seasonal order = (2, 0, 0, 49)\n",
      "Tempo train RMSE (2020) - SARIMA((0, 2, 1)): 2.2981562176620454\n",
      "Tempo test RMSE (2020) - SARIMA((0, 2, 1)): 2.2778147417313175\n"
     ]
    },
    {
     "data": {
      "image/png": "[encoded data removed]",
      "text/plain": [
       "<Figure size 1080x360 with 1 Axes>"
      ]
     },
     "metadata": {
      "needs_background": "light"
     },
     "output_type": "display_data"
    }
   ],
   "source": [
    "for feature in five_features:\n",
    "    sarima_predict_plot_seasonal(it_rw_20, feature, 2020, arima_param_df_20, title=f'Mean {feature.capitalize()} Score, Italy 2020 (SARIMA w/o exog variables)')"
   ]
  },
  {
   "cell_type": "markdown",
   "metadata": {},
   "source": [
    "#### _Updated `arima_param_df_20`_"
   ]
  },
  {
   "cell_type": "code",
   "execution_count": 111,
   "metadata": {},
   "outputs": [
    {
     "data": {
      "text/html": [
       "<div>\n",
       "<style scoped>\n",
       "    .dataframe tbody tr th:only-of-type {\n",
       "        vertical-align: middle;\n",
       "    }\n",
       "\n",
       "    .dataframe tbody tr th {\n",
       "        vertical-align: top;\n",
       "    }\n",
       "\n",
       "    .dataframe thead th {\n",
       "        text-align: right;\n",
       "    }\n",
       "</style>\n",
       "<table border=\"1\" class=\"dataframe\">\n",
       "  <thead>\n",
       "    <tr style=\"text-align: right;\">\n",
       "      <th></th>\n",
       "      <th>audio_feature</th>\n",
       "      <th>ndiffs(d)</th>\n",
       "      <th>best_p</th>\n",
       "      <th>best_q</th>\n",
       "      <th>order</th>\n",
       "      <th>ARIMA_model</th>\n",
       "      <th>ARIMA_AIC</th>\n",
       "      <th>arima_train_rmse</th>\n",
       "      <th>arima_test_rmse</th>\n",
       "      <th>seasonal_order</th>\n",
       "      <th>sarima_train_rmse</th>\n",
       "      <th>sarima_test_rmse</th>\n",
       "      <th>exog_train_rmse</th>\n",
       "      <th>exog_test_rmse</th>\n",
       "    </tr>\n",
       "  </thead>\n",
       "  <tbody>\n",
       "    <tr>\n",
       "      <th>0</th>\n",
       "      <td>danceability</td>\n",
       "      <td>1</td>\n",
       "      <td>2</td>\n",
       "      <td>2</td>\n",
       "      <td>(2, 1, 2)</td>\n",
       "      <td>ARIMA(2,1,2)</td>\n",
       "      <td>-214.352402</td>\n",
       "      <td>0.029955</td>\n",
       "      <td>0.031795</td>\n",
       "      <td>3, 0, 0, 48</td>\n",
       "      <td>0.029155</td>\n",
       "      <td>0.006303</td>\n",
       "      <td>0.017313</td>\n",
       "      <td>0.026653</td>\n",
       "    </tr>\n",
       "    <tr>\n",
       "      <th>1</th>\n",
       "      <td>mode</td>\n",
       "      <td>1</td>\n",
       "      <td>4</td>\n",
       "      <td>0</td>\n",
       "      <td>(4, 1, 0)</td>\n",
       "      <td>ARIMA(4,1,0)</td>\n",
       "      <td>-187.656554</td>\n",
       "      <td>0.036004</td>\n",
       "      <td>0.054158</td>\n",
       "      <td>1, 0, 1, 52</td>\n",
       "      <td>0.036034</td>\n",
       "      <td>0.046978</td>\n",
       "      <td>0.031877</td>\n",
       "      <td>0.050937</td>\n",
       "    </tr>\n",
       "    <tr>\n",
       "      <th>2</th>\n",
       "      <td>acousticness</td>\n",
       "      <td>1</td>\n",
       "      <td>1</td>\n",
       "      <td>1</td>\n",
       "      <td>(1, 1, 1)</td>\n",
       "      <td>ARIMA(1,1,1)</td>\n",
       "      <td>-170.836344</td>\n",
       "      <td>0.044908</td>\n",
       "      <td>0.031272</td>\n",
       "      <td>1, 0, 2, 48</td>\n",
       "      <td>0.045349</td>\n",
       "      <td>0.035444</td>\n",
       "      <td>0.034245</td>\n",
       "      <td>0.035041</td>\n",
       "    </tr>\n",
       "    <tr>\n",
       "      <th>3</th>\n",
       "      <td>valence</td>\n",
       "      <td>1</td>\n",
       "      <td>0</td>\n",
       "      <td>0</td>\n",
       "      <td>(0, 1, 0)</td>\n",
       "      <td>ARIMA(0,1,0)</td>\n",
       "      <td>-208.242293</td>\n",
       "      <td>0.036157</td>\n",
       "      <td>0.040172</td>\n",
       "      <td>0, 0, 1, 49</td>\n",
       "      <td>0.032651</td>\n",
       "      <td>0.026011</td>\n",
       "      <td>0.016684</td>\n",
       "      <td>0.031002</td>\n",
       "    </tr>\n",
       "    <tr>\n",
       "      <th>4</th>\n",
       "      <td>tempo</td>\n",
       "      <td>2</td>\n",
       "      <td>0</td>\n",
       "      <td>1</td>\n",
       "      <td>(0, 2, 1)</td>\n",
       "      <td>ARIMA(0,2,1)</td>\n",
       "      <td>235.399507</td>\n",
       "      <td>2.298025</td>\n",
       "      <td>1.932611</td>\n",
       "      <td>2, 0, 0, 49</td>\n",
       "      <td>2.298156</td>\n",
       "      <td>2.277815</td>\n",
       "      <td>1.831272</td>\n",
       "      <td>2.867787</td>\n",
       "    </tr>\n",
       "  </tbody>\n",
       "</table>\n",
       "</div>"
      ],
      "text/plain": [
       "  audio_feature  ndiffs(d)  best_p  best_q      order   ARIMA_model  \\\n",
       "0  danceability          1       2       2  (2, 1, 2)  ARIMA(2,1,2)   \n",
       "1          mode          1       4       0  (4, 1, 0)  ARIMA(4,1,0)   \n",
       "2  acousticness          1       1       1  (1, 1, 1)  ARIMA(1,1,1)   \n",
       "3       valence          1       0       0  (0, 1, 0)  ARIMA(0,1,0)   \n",
       "4         tempo          2       0       1  (0, 2, 1)  ARIMA(0,2,1)   \n",
       "\n",
       "    ARIMA_AIC  arima_train_rmse  arima_test_rmse seasonal_order  \\\n",
       "0 -214.352402          0.029955         0.031795    3, 0, 0, 48   \n",
       "1 -187.656554          0.036004         0.054158    1, 0, 1, 52   \n",
       "2 -170.836344          0.044908         0.031272    1, 0, 2, 48   \n",
       "3 -208.242293          0.036157         0.040172    0, 0, 1, 49   \n",
       "4  235.399507          2.298025         1.932611    2, 0, 0, 49   \n",
       "\n",
       "   sarima_train_rmse  sarima_test_rmse  exog_train_rmse  exog_test_rmse  \n",
       "0           0.029155          0.006303         0.017313        0.026653  \n",
       "1           0.036034          0.046978         0.031877        0.050937  \n",
       "2           0.045349          0.035444         0.034245        0.035041  \n",
       "3           0.032651          0.026011         0.016684        0.031002  \n",
       "4           2.298156          2.277815         1.831272        2.867787  "
      ]
     },
     "execution_count": 111,
     "metadata": {},
     "output_type": "execute_result"
    }
   ],
   "source": [
    "arima_param_df_20"
   ]
  },
  {
   "cell_type": "markdown",
   "metadata": {},
   "source": [
    "#### _Incorporating Exogenous Variables in SARIMAX models_"
   ]
  },
  {
   "cell_type": "code",
   "execution_count": 112,
   "metadata": {},
   "outputs": [],
   "source": [
    "def sarima_predict_plot_exog(df, feature, year, param_df, exog_var, title='title', figsize=(15,5), order=None, d=None, seasonal_order=None, ci=True):\n",
    "\n",
    "    # find ndiffs for stationarity from ndiff dataframe\n",
    "    if d is None: \n",
    "        d = ndiff_df.loc[ndiff_df['audio_feature'] == feature, 'ndiffs for stationarity'].iloc[0]\n",
    "    print(f'd = {d}')\n",
    "    \n",
    "    # find order from arima parameters dataframe \n",
    "    if order is None:\n",
    "        order = param_df.loc[param_df['audio_feature'] == feature, 'order'].iloc[0]\n",
    "    print(f'order = {order}')\n",
    "    \n",
    "    # find seasonal order from arima parameters dataframe \n",
    "    if seasonal_order is None: \n",
    "        sea_string = param_df.loc[param_df['audio_feature'] == feature, 'seasonal_order'].iloc[0]\n",
    "        seasonal_order = tuple(map(int, sea_string.split(', '))) \n",
    "    print(f'seasonal order = {seasonal_order}')\n",
    "    \n",
    "    # reshape exogenous features to pass to the model \n",
    "    exog = df.loc[:, exog_var]   \n",
    "   \n",
    "    # create train and test sets\n",
    "    n_rows = round(len(df)*0.9)\n",
    "    train = df[feature][0:n_rows]\n",
    "    test = df[feature][n_rows:]\n",
    "  \n",
    "    try:\n",
    "        # instantiate and fit SARIMAX model \n",
    "        sarima = SARIMAX(endog=train, exog=exog[0:n_rows], order=order, seasonal_order=seasonal_order).fit()\n",
    "\n",
    "        # get predictions for train and test sets \n",
    "        preds_train = sarima.predict(start=train.index[d], end=train.index[-1], typ='levels', exog=exog[0:n_rows])\n",
    "        preds_test = sarima.predict(start=test.index[0], end=test.index[-1], typ='levels', exog=exog[n_rows:])\n",
    "\n",
    "        # calculate and print RMSE for train and test setes \n",
    "        train_rmse = mean_squared_error(train[d::], preds_train)**0.5\n",
    "        print(f'{feature.capitalize()} train RMSE ({year}) - SARIMAX({seasonal_order}) w/ exogenous variables: {train_rmse}')\n",
    "\n",
    "        test_rmse = mean_squared_error(test, preds_test)**0.5\n",
    "        print(f'{feature.capitalize()} test RMSE ({year}) - SARIMAX({seasonal_order}) w/ exogenous variables: {test_rmse}')    \n",
    "\n",
    "        # add RMSEs to arima parameters dataframe \n",
    "        param_df.loc[param_df['audio_feature'] == feature, 'exog_train_rmse'] = train_rmse    \n",
    "        param_df.loc[param_df['audio_feature'] == feature, 'exog_test_rmse'] = test_rmse\n",
    "\n",
    "        # calculate residuals\n",
    "        # residuals = test - preds_test\n",
    "\n",
    "        # set up plot\n",
    "        plt.figure(figsize=figsize)\n",
    "\n",
    "        # plot training data \n",
    "        plt.plot(train, color='blue')\n",
    "\n",
    "        # plot testing data \n",
    "        plt.plot(test.index, test, color='orange')\n",
    "\n",
    "        # plot predicted values for test set \n",
    "        plt.plot(test.index, preds_test, color='green')\n",
    "\n",
    "        # add line for the baseline model (mean value of feature)\n",
    "        plt.hlines(df[feature].mean(), train.index[0], test.index[-1], color = 'grey')\n",
    "\n",
    "        # plot confidence interval \n",
    "        if ci:\n",
    "            ci = 1.96 * np.std(preds_test)/np.mean(preds_test)\n",
    "            plt.fill_between(test.index, (preds_test - ci), (preds_test + ci), color='blue', alpha=.1) \n",
    "\n",
    "        # make plot with title! \n",
    "        plt.title(title, fontsize=16)\n",
    "        plt.show() ; \n",
    "        \n",
    "    except ValueError as ve:\n",
    "        print(ve)\n",
    "        pass"
   ]
  },
  {
   "cell_type": "markdown",
   "metadata": {},
   "source": [
    "_Identifying exogenous variables for each of the five main features, which for each of them is the other four audio features_"
   ]
  },
  {
   "cell_type": "code",
   "execution_count": 113,
   "metadata": {},
   "outputs": [],
   "source": [
    "five_features = ['danceability', 'mode', 'acousticness', 'valence', 'tempo']\n",
    "\n",
    "exog_danceability = ['mode', 'acousticness', 'valence', 'tempo']\n",
    "exog_mode = ['danceability', 'acousticness', 'valence', 'tempo']\n",
    "exog_acousticness = ['danceability', 'mode', 'valence', 'tempo']\n",
    "exog_valence = ['danceability', 'mode', 'acousticness', 'tempo']\n",
    "exog_tempo = ['danceability', 'mode', 'acousticness', 'valence']"
   ]
  },
  {
   "cell_type": "code",
   "execution_count": 114,
   "metadata": {},
   "outputs": [
    {
     "name": "stdout",
     "output_type": "stream",
     "text": [
      "d = 1\n",
      "order = (2, 1, 2)\n",
      "seasonal order = (3, 0, 0, 48)\n",
      "Danceability train RMSE (2020) - SARIMAX((3, 0, 0, 48)) w/ exogenous variables: 0.017313154381094643\n",
      "Danceability test RMSE (2020) - SARIMAX((3, 0, 0, 48)) w/ exogenous variables: 0.02665301474656496\n"
     ]
    },
    {
     "data": {
      "image/png": "[encoded data removed]",
      "text/plain": [
       "<Figure size 1080x360 with 1 Axes>"
      ]
     },
     "metadata": {
      "needs_background": "light"
     },
     "output_type": "display_data"
    }
   ],
   "source": [
    "sarima_predict_plot_exog(it_rw_20, 'danceability', 2020, arima_param_df_20, exog_var=exog_danceability, title=f'Mean Danceability Score, Italy 2020 (SARIMA w/ exog variables)')"
   ]
  },
  {
   "cell_type": "code",
   "execution_count": 115,
   "metadata": {},
   "outputs": [],
   "source": [
    "# for feature in five_features:\n",
    "#     sarima_predict_plot_exog(it_rw_17, feature, 2020, exog_var=f'exog_{feature}', title=f'Mean {feature} Score, Italy 2020 (SARIMA w/ exog variables)')"
   ]
  },
  {
   "cell_type": "code",
   "execution_count": 116,
   "metadata": {},
   "outputs": [
    {
     "name": "stdout",
     "output_type": "stream",
     "text": [
      "d = 1\n",
      "order = (4, 1, 0)\n",
      "seasonal order = (1, 0, 1, 52)\n",
      "Mode train RMSE (2020) - SARIMAX((1, 0, 1, 52)) w/ exogenous variables: 0.031877114720749965\n",
      "Mode test RMSE (2020) - SARIMAX((1, 0, 1, 52)) w/ exogenous variables: 0.050936543557935504\n"
     ]
    },
    {
     "data": {
      "image/png": "[encoded data removed]",
      "text/plain": [
       "<Figure size 1080x360 with 1 Axes>"
      ]
     },
     "metadata": {
      "needs_background": "light"
     },
     "output_type": "display_data"
    }
   ],
   "source": [
    "sarima_predict_plot_exog(it_rw_20, 'mode', 2020, arima_param_df_20, exog_var=exog_mode, title=f'Mean Mode Score, Italy 2020 (SARIMA w/ exog variables)')"
   ]
  },
  {
   "cell_type": "code",
   "execution_count": 117,
   "metadata": {},
   "outputs": [
    {
     "name": "stdout",
     "output_type": "stream",
     "text": [
      "d = 1\n",
      "order = (1, 1, 1)\n",
      "seasonal order = (1, 0, 2, 48)\n",
      "Acousticness train RMSE (2020) - SARIMAX((1, 0, 2, 48)) w/ exogenous variables: 0.034244709414305595\n",
      "Acousticness test RMSE (2020) - SARIMAX((1, 0, 2, 48)) w/ exogenous variables: 0.03504127736441988\n"
     ]
    },
    {
     "data": {
      "image/png": "[encoded data removed]",
      "text/plain": [
       "<Figure size 1080x360 with 1 Axes>"
      ]
     },
     "metadata": {
      "needs_background": "light"
     },
     "output_type": "display_data"
    }
   ],
   "source": [
    "sarima_predict_plot_exog(it_rw_20, 'acousticness', 2020, arima_param_df_20, exog_var=exog_acousticness, title=f'Mean Acousticness Score, Italy 2020 (SARIMA w/ exog variables)')"
   ]
  },
  {
   "cell_type": "code",
   "execution_count": 118,
   "metadata": {},
   "outputs": [
    {
     "name": "stdout",
     "output_type": "stream",
     "text": [
      "d = 1\n",
      "order = (0, 1, 0)\n",
      "seasonal order = (0, 0, 1, 49)\n",
      "Valence train RMSE (2020) - SARIMAX((0, 0, 1, 49)) w/ exogenous variables: 0.016683671431664136\n",
      "Valence test RMSE (2020) - SARIMAX((0, 0, 1, 49)) w/ exogenous variables: 0.03100219586902646\n"
     ]
    },
    {
     "data": {
      "image/png": "[encoded data removed]",
      "text/plain": [
       "<Figure size 1080x360 with 1 Axes>"
      ]
     },
     "metadata": {
      "needs_background": "light"
     },
     "output_type": "display_data"
    }
   ],
   "source": [
    "sarima_predict_plot_exog(it_rw_20, 'valence', 2020, arima_param_df_20, exog_var=exog_valence, title=f'Mean Valence Score, Italy 2020 (SARIMA w/ exog variables)')"
   ]
  },
  {
   "cell_type": "code",
   "execution_count": 119,
   "metadata": {},
   "outputs": [
    {
     "name": "stdout",
     "output_type": "stream",
     "text": [
      "d = 2\n",
      "order = (0, 2, 1)\n",
      "seasonal order = (2, 0, 0, 49)\n",
      "Tempo train RMSE (2020) - SARIMAX((2, 0, 0, 49)) w/ exogenous variables: 1.831271723952204\n",
      "Tempo test RMSE (2020) - SARIMAX((2, 0, 0, 49)) w/ exogenous variables: 2.867786721534822\n"
     ]
    },
    {
     "data": {
      "image/png": "[encoded data removed]",
      "text/plain": [
       "<Figure size 1080x360 with 1 Axes>"
      ]
     },
     "metadata": {
      "needs_background": "light"
     },
     "output_type": "display_data"
    }
   ],
   "source": [
    "sarima_predict_plot_exog(it_rw_20, 'tempo', 2020, arima_param_df_20, exog_var=exog_tempo, title=f'Mean Tempo Score, Italy 2020 (SARIMA w/ exog variables)')"
   ]
  },
  {
   "cell_type": "markdown",
   "metadata": {},
   "source": [
    "#### _Updated `arima_param_df_20`_"
   ]
  },
  {
   "cell_type": "code",
   "execution_count": 133,
   "metadata": {},
   "outputs": [
    {
     "data": {
      "text/html": [
       "<div>\n",
       "<style scoped>\n",
       "    .dataframe tbody tr th:only-of-type {\n",
       "        vertical-align: middle;\n",
       "    }\n",
       "\n",
       "    .dataframe tbody tr th {\n",
       "        vertical-align: top;\n",
       "    }\n",
       "\n",
       "    .dataframe thead th {\n",
       "        text-align: right;\n",
       "    }\n",
       "</style>\n",
       "<table border=\"1\" class=\"dataframe\">\n",
       "  <thead>\n",
       "    <tr style=\"text-align: right;\">\n",
       "      <th></th>\n",
       "      <th>audio_feature</th>\n",
       "      <th>ndiffs(d)</th>\n",
       "      <th>best_p</th>\n",
       "      <th>best_q</th>\n",
       "      <th>order</th>\n",
       "      <th>ARIMA_model</th>\n",
       "      <th>ARIMA_AIC</th>\n",
       "      <th>arima_train_rmse</th>\n",
       "      <th>arima_test_rmse</th>\n",
       "      <th>seasonal_order</th>\n",
       "      <th>sarima_train_rmse</th>\n",
       "      <th>sarima_test_rmse</th>\n",
       "      <th>exog_train_rmse</th>\n",
       "      <th>exog_test_rmse</th>\n",
       "    </tr>\n",
       "  </thead>\n",
       "  <tbody>\n",
       "    <tr>\n",
       "      <th>0</th>\n",
       "      <td>danceability</td>\n",
       "      <td>1</td>\n",
       "      <td>2</td>\n",
       "      <td>2</td>\n",
       "      <td>(2, 1, 2)</td>\n",
       "      <td>ARIMA(2,1,2)</td>\n",
       "      <td>-214.352402</td>\n",
       "      <td>0.029955</td>\n",
       "      <td>0.031795</td>\n",
       "      <td>3, 0, 0, 48</td>\n",
       "      <td>0.029155</td>\n",
       "      <td>0.006303</td>\n",
       "      <td>0.017313</td>\n",
       "      <td>0.026653</td>\n",
       "    </tr>\n",
       "    <tr>\n",
       "      <th>1</th>\n",
       "      <td>mode</td>\n",
       "      <td>1</td>\n",
       "      <td>4</td>\n",
       "      <td>0</td>\n",
       "      <td>(4, 1, 0)</td>\n",
       "      <td>ARIMA(4,1,0)</td>\n",
       "      <td>-187.656554</td>\n",
       "      <td>0.036004</td>\n",
       "      <td>0.054158</td>\n",
       "      <td>1, 0, 1, 52</td>\n",
       "      <td>0.036034</td>\n",
       "      <td>0.046978</td>\n",
       "      <td>0.031877</td>\n",
       "      <td>0.050937</td>\n",
       "    </tr>\n",
       "    <tr>\n",
       "      <th>2</th>\n",
       "      <td>acousticness</td>\n",
       "      <td>1</td>\n",
       "      <td>1</td>\n",
       "      <td>1</td>\n",
       "      <td>(1, 1, 1)</td>\n",
       "      <td>ARIMA(1,1,1)</td>\n",
       "      <td>-170.836344</td>\n",
       "      <td>0.044908</td>\n",
       "      <td>0.031272</td>\n",
       "      <td>1, 0, 2, 48</td>\n",
       "      <td>0.045349</td>\n",
       "      <td>0.035444</td>\n",
       "      <td>0.034245</td>\n",
       "      <td>0.035041</td>\n",
       "    </tr>\n",
       "    <tr>\n",
       "      <th>3</th>\n",
       "      <td>valence</td>\n",
       "      <td>1</td>\n",
       "      <td>0</td>\n",
       "      <td>0</td>\n",
       "      <td>(0, 1, 0)</td>\n",
       "      <td>ARIMA(0,1,0)</td>\n",
       "      <td>-208.242293</td>\n",
       "      <td>0.036157</td>\n",
       "      <td>0.040172</td>\n",
       "      <td>0, 0, 1, 49</td>\n",
       "      <td>0.032651</td>\n",
       "      <td>0.026011</td>\n",
       "      <td>0.016684</td>\n",
       "      <td>0.031002</td>\n",
       "    </tr>\n",
       "    <tr>\n",
       "      <th>4</th>\n",
       "      <td>tempo</td>\n",
       "      <td>2</td>\n",
       "      <td>0</td>\n",
       "      <td>1</td>\n",
       "      <td>(0, 2, 1)</td>\n",
       "      <td>ARIMA(0,2,1)</td>\n",
       "      <td>235.399507</td>\n",
       "      <td>2.298025</td>\n",
       "      <td>1.932611</td>\n",
       "      <td>2, 0, 0, 49</td>\n",
       "      <td>2.298156</td>\n",
       "      <td>2.277815</td>\n",
       "      <td>1.831272</td>\n",
       "      <td>2.867787</td>\n",
       "    </tr>\n",
       "  </tbody>\n",
       "</table>\n",
       "</div>"
      ],
      "text/plain": [
       "  audio_feature  ndiffs(d)  best_p  best_q      order   ARIMA_model  \\\n",
       "0  danceability          1       2       2  (2, 1, 2)  ARIMA(2,1,2)   \n",
       "1          mode          1       4       0  (4, 1, 0)  ARIMA(4,1,0)   \n",
       "2  acousticness          1       1       1  (1, 1, 1)  ARIMA(1,1,1)   \n",
       "3       valence          1       0       0  (0, 1, 0)  ARIMA(0,1,0)   \n",
       "4         tempo          2       0       1  (0, 2, 1)  ARIMA(0,2,1)   \n",
       "\n",
       "    ARIMA_AIC  arima_train_rmse  arima_test_rmse seasonal_order  \\\n",
       "0 -214.352402          0.029955         0.031795    3, 0, 0, 48   \n",
       "1 -187.656554          0.036004         0.054158    1, 0, 1, 52   \n",
       "2 -170.836344          0.044908         0.031272    1, 0, 2, 48   \n",
       "3 -208.242293          0.036157         0.040172    0, 0, 1, 49   \n",
       "4  235.399507          2.298025         1.932611    2, 0, 0, 49   \n",
       "\n",
       "   sarima_train_rmse  sarima_test_rmse  exog_train_rmse  exog_test_rmse  \n",
       "0           0.029155          0.006303         0.017313        0.026653  \n",
       "1           0.036034          0.046978         0.031877        0.050937  \n",
       "2           0.045349          0.035444         0.034245        0.035041  \n",
       "3           0.032651          0.026011         0.016684        0.031002  \n",
       "4           2.298156          2.277815         1.831272        2.867787  "
      ]
     },
     "execution_count": 133,
     "metadata": {},
     "output_type": "execute_result"
    }
   ],
   "source": [
    "arima_param_df_20"
   ]
  },
  {
   "cell_type": "code",
   "execution_count": null,
   "metadata": {},
   "outputs": [],
   "source": []
  },
  {
   "cell_type": "markdown",
   "metadata": {},
   "source": [
    "#### _Pickling 2020 `arima_param_df_20` to compare with other years in another notebook_"
   ]
  },
  {
   "cell_type": "code",
   "execution_count": 134,
   "metadata": {},
   "outputs": [],
   "source": [
    "arima_param_df_20.to_pickle('./metrics/2020_sarima_param_df.pkl')"
   ]
  },
  {
   "cell_type": "code",
   "execution_count": null,
   "metadata": {},
   "outputs": [],
   "source": []
  }
 ],
 "metadata": {
  "kernelspec": {
   "display_name": "Python 3",
   "language": "python",
   "name": "python3"
  },
  "language_info": {
   "codemirror_mode": {
    "name": "ipython",
    "version": 3
   },
   "file_extension": ".py",
   "mimetype": "text/x-python",
   "name": "python",
   "nbconvert_exporter": "python",
   "pygments_lexer": "ipython3",
   "version": "3.8.5"
  }
 },
 "nbformat": 4,
 "nbformat_minor": 4
}
