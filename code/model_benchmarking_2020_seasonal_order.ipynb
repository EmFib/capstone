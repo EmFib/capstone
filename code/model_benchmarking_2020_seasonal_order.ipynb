{
 "cells": [
  {
   "cell_type": "code",
   "execution_count": 69,
   "metadata": {},
   "outputs": [],
   "source": [
    "import numpy as np\n",
    "import pandas as pd\n",
    "import matplotlib.pyplot as plt \n",
    "import seaborn as sns\n",
    "\n",
    "import json\n",
    "\n",
    "from fycharts.SpotifyCharts import SpotifyCharts\n",
    "import sqlalchemy\n",
    "\n",
    "import spotipy\n",
    "from spotipy.oauth2 import SpotifyClientCredentials\n",
    "\n",
    "from datetime import datetime\n",
    "from sklearn.model_selection import train_test_split\n",
    "\n",
    "import statsmodels.api as sm\n",
    "\n",
    "# We are required to do this in order to avoid \"FutureWarning\" issues.\n",
    "from pandas.plotting import register_matplotlib_converters\n",
    "register_matplotlib_converters()\n",
    "\n",
    "from statsmodels.tsa.ar_model import AR\n",
    "from statsmodels.tsa.arima_model import ARIMA, ARMA\n",
    "from statsmodels.tsa.statespace.sarimax import SARIMAX\n",
    "from statsmodels.tsa.stattools import adfuller  \n",
    "\n",
    "from sklearn.metrics import mean_squared_error, mean_absolute_error\n",
    "from statsmodels.graphics.tsaplots import plot_acf, plot_pacf\n",
    "\n",
    "%matplotlib inline\n",
    "\n",
    "import warnings\n",
    "warnings.simplefilter(action=\"ignore\")\n",
    "\n",
    "import pickle"
   ]
  },
  {
   "cell_type": "markdown",
   "metadata": {},
   "source": [
    "# Reading in data"
   ]
  },
  {
   "cell_type": "code",
   "execution_count": 70,
   "metadata": {},
   "outputs": [],
   "source": [
    "italy_17_19 = pd.read_pickle('../data/it_17_19_v50_feat.pkl')\n",
    "spain_17_19 = pd.read_pickle('../data/sp_17_19_v50_feat.pkl')\n",
    "greece_17_19 = pd.read_pickle('../data/gr_17_19_v50_feat.pkl')\n",
    "\n",
    "italy_20_21 = pd.read_pickle('../data/it_20_v50_feat.pkl')\n",
    "spain_20_21 = pd.read_pickle('../data/sp_20_v50_feat.pkl')\n",
    "greece_20_21 = pd.read_pickle('../data/gr_20_v50_feat.pkl')"
   ]
  },
  {
   "cell_type": "code",
   "execution_count": 71,
   "metadata": {},
   "outputs": [
    {
     "data": {
      "text/html": [
       "<div>\n",
       "<style scoped>\n",
       "    .dataframe tbody tr th:only-of-type {\n",
       "        vertical-align: middle;\n",
       "    }\n",
       "\n",
       "    .dataframe tbody tr th {\n",
       "        vertical-align: top;\n",
       "    }\n",
       "\n",
       "    .dataframe thead th {\n",
       "        text-align: right;\n",
       "    }\n",
       "</style>\n",
       "<table border=\"1\" class=\"dataframe\">\n",
       "  <thead>\n",
       "    <tr style=\"text-align: right;\">\n",
       "      <th></th>\n",
       "      <th>Position</th>\n",
       "      <th>Track Name</th>\n",
       "      <th>Artist</th>\n",
       "      <th>region</th>\n",
       "      <th>spotify_id</th>\n",
       "      <th>danceability</th>\n",
       "      <th>energy</th>\n",
       "      <th>key</th>\n",
       "      <th>loudness</th>\n",
       "      <th>mode</th>\n",
       "      <th>speechiness</th>\n",
       "      <th>acousticness</th>\n",
       "      <th>instrumentalness</th>\n",
       "      <th>liveness</th>\n",
       "      <th>valence</th>\n",
       "      <th>tempo</th>\n",
       "      <th>duration_ms</th>\n",
       "      <th>time_signature</th>\n",
       "    </tr>\n",
       "    <tr>\n",
       "      <th>date</th>\n",
       "      <th></th>\n",
       "      <th></th>\n",
       "      <th></th>\n",
       "      <th></th>\n",
       "      <th></th>\n",
       "      <th></th>\n",
       "      <th></th>\n",
       "      <th></th>\n",
       "      <th></th>\n",
       "      <th></th>\n",
       "      <th></th>\n",
       "      <th></th>\n",
       "      <th></th>\n",
       "      <th></th>\n",
       "      <th></th>\n",
       "      <th></th>\n",
       "      <th></th>\n",
       "      <th></th>\n",
       "    </tr>\n",
       "  </thead>\n",
       "  <tbody>\n",
       "    <tr>\n",
       "      <th>2021-02-13</th>\n",
       "      <td>49</td>\n",
       "      <td>La Luz - A COLORS SHOW</td>\n",
       "      <td>María José Llergo</td>\n",
       "      <td>es</td>\n",
       "      <td>5jRnVQbjB6qgN3MARS4xw7</td>\n",
       "      <td>0.722</td>\n",
       "      <td>0.357</td>\n",
       "      <td>9</td>\n",
       "      <td>-10.487</td>\n",
       "      <td>0</td>\n",
       "      <td>0.0996</td>\n",
       "      <td>0.81400</td>\n",
       "      <td>0.155000</td>\n",
       "      <td>0.0863</td>\n",
       "      <td>0.641</td>\n",
       "      <td>149.895</td>\n",
       "      <td>191599</td>\n",
       "      <td>4</td>\n",
       "    </tr>\n",
       "    <tr>\n",
       "      <th>2021-02-13</th>\n",
       "      <td>50</td>\n",
       "      <td>Boku no Sensou - TV Size</td>\n",
       "      <td>Shinsei Kamattechan</td>\n",
       "      <td>es</td>\n",
       "      <td>3tRPfCFAEv6wWyQO0YnGGV</td>\n",
       "      <td>0.447</td>\n",
       "      <td>0.891</td>\n",
       "      <td>9</td>\n",
       "      <td>-4.776</td>\n",
       "      <td>1</td>\n",
       "      <td>0.0788</td>\n",
       "      <td>0.00447</td>\n",
       "      <td>0.000905</td>\n",
       "      <td>0.3900</td>\n",
       "      <td>0.517</td>\n",
       "      <td>143.976</td>\n",
       "      <td>90960</td>\n",
       "      <td>4</td>\n",
       "    </tr>\n",
       "  </tbody>\n",
       "</table>\n",
       "</div>"
      ],
      "text/plain": [
       "            Position                Track Name               Artist region  \\\n",
       "date                                                                         \n",
       "2021-02-13        49    La Luz - A COLORS SHOW    María José Llergo     es   \n",
       "2021-02-13        50  Boku no Sensou - TV Size  Shinsei Kamattechan     es   \n",
       "\n",
       "                        spotify_id  danceability  energy  key  loudness  mode  \\\n",
       "date                                                                            \n",
       "2021-02-13  5jRnVQbjB6qgN3MARS4xw7         0.722   0.357    9   -10.487     0   \n",
       "2021-02-13  3tRPfCFAEv6wWyQO0YnGGV         0.447   0.891    9    -4.776     1   \n",
       "\n",
       "            speechiness  acousticness  instrumentalness  liveness  valence  \\\n",
       "date                                                                         \n",
       "2021-02-13       0.0996       0.81400          0.155000    0.0863    0.641   \n",
       "2021-02-13       0.0788       0.00447          0.000905    0.3900    0.517   \n",
       "\n",
       "              tempo  duration_ms  time_signature  \n",
       "date                                              \n",
       "2021-02-13  149.895       191599               4  \n",
       "2021-02-13  143.976        90960               4  "
      ]
     },
     "execution_count": 71,
     "metadata": {},
     "output_type": "execute_result"
    }
   ],
   "source": [
    "spain_20_21.tail(2)"
   ]
  },
  {
   "cell_type": "markdown",
   "metadata": {},
   "source": [
    "# Preprocessing data "
   ]
  },
  {
   "cell_type": "markdown",
   "metadata": {},
   "source": [
    "#### _Data for each country is split into different dataframes as different combinations and aggregations are needed for different functions._ "
   ]
  },
  {
   "cell_type": "markdown",
   "metadata": {},
   "source": [
    "**Resampling by month**\n",
    "\n",
    "_`rm` denotes resampling by month._ "
   ]
  },
  {
   "cell_type": "code",
   "execution_count": 72,
   "metadata": {},
   "outputs": [],
   "source": [
    "rm_italy_17_19 = italy_17_19.resample(\"M\").mean()\n",
    "rm_spain_17_19 = spain_17_19.resample(\"M\").mean()\n",
    "rm_greece_17_19 = greece_17_19.resample(\"M\").mean()\n",
    "\n",
    "rm_italy_20_21 = italy_20_21.resample(\"M\").mean()\n",
    "rm_spain_20_21 = spain_20_21.resample(\"M\").mean()\n",
    "rm_greece_20_21 = greece_20_21.resample(\"M\").mean()"
   ]
  },
  {
   "cell_type": "markdown",
   "metadata": {},
   "source": [
    "**Resampling by week**\n",
    "\n",
    "_`rw` denotes resampling by week._ "
   ]
  },
  {
   "cell_type": "code",
   "execution_count": 73,
   "metadata": {},
   "outputs": [],
   "source": [
    "rw_italy_17_19 = italy_17_19.resample(\"W\").mean()\n",
    "rw_spain_17_19 = spain_17_19.resample(\"W\").mean()\n",
    "rw_greece_17_19 = greece_17_19.resample(\"W\").mean()\n",
    "\n",
    "rw_italy_20_21 = italy_20_21.resample(\"W\").mean()\n",
    "rw_spain_20_21 = spain_20_21.resample(\"W\").mean()\n",
    "rw_greece_20_21 = greece_20_21.resample(\"W\").mean()"
   ]
  },
  {
   "cell_type": "markdown",
   "metadata": {},
   "source": [
    "#### Combining weekly resampled data for all years (2017-2020)"
   ]
  },
  {
   "cell_type": "code",
   "execution_count": 74,
   "metadata": {},
   "outputs": [],
   "source": [
    "alltime_italy = pd.concat([italy_17_19, italy_20_21])\n",
    "alltime_spain = pd.concat([spain_17_19, spain_20_21])\n",
    "alltime_greece = pd.concat([greece_17_19, greece_20_21])\n",
    "\n",
    "alltime_rw_italy = alltime_italy.resample(\"W\").mean()\n",
    "alltime_rw_spain = alltime_spain.resample(\"W\").mean()\n",
    "alltime_rw_greece = alltime_greece.resample(\"W\").mean()"
   ]
  },
  {
   "cell_type": "markdown",
   "metadata": {},
   "source": [
    "#### Splitting into dataframes for each year! "
   ]
  },
  {
   "cell_type": "code",
   "execution_count": 75,
   "metadata": {},
   "outputs": [],
   "source": [
    "it_rw_17 = alltime_rw_italy[0:53]\n",
    "it_rw_18 = alltime_rw_italy[53:105]\n",
    "it_rw_19 = alltime_rw_italy[105:158]"
   ]
  },
  {
   "cell_type": "code",
   "execution_count": 76,
   "metadata": {},
   "outputs": [
    {
     "data": {
      "text/html": [
       "<div>\n",
       "<style scoped>\n",
       "    .dataframe tbody tr th:only-of-type {\n",
       "        vertical-align: middle;\n",
       "    }\n",
       "\n",
       "    .dataframe tbody tr th {\n",
       "        vertical-align: top;\n",
       "    }\n",
       "\n",
       "    .dataframe thead th {\n",
       "        text-align: right;\n",
       "    }\n",
       "</style>\n",
       "<table border=\"1\" class=\"dataframe\">\n",
       "  <thead>\n",
       "    <tr style=\"text-align: right;\">\n",
       "      <th></th>\n",
       "      <th>Position</th>\n",
       "      <th>danceability</th>\n",
       "      <th>energy</th>\n",
       "      <th>key</th>\n",
       "      <th>loudness</th>\n",
       "      <th>mode</th>\n",
       "      <th>speechiness</th>\n",
       "      <th>acousticness</th>\n",
       "      <th>instrumentalness</th>\n",
       "      <th>liveness</th>\n",
       "      <th>valence</th>\n",
       "      <th>tempo</th>\n",
       "      <th>duration_ms</th>\n",
       "      <th>time_signature</th>\n",
       "    </tr>\n",
       "    <tr>\n",
       "      <th>date</th>\n",
       "      <th></th>\n",
       "      <th></th>\n",
       "      <th></th>\n",
       "      <th></th>\n",
       "      <th></th>\n",
       "      <th></th>\n",
       "      <th></th>\n",
       "      <th></th>\n",
       "      <th></th>\n",
       "      <th></th>\n",
       "      <th></th>\n",
       "      <th></th>\n",
       "      <th></th>\n",
       "      <th></th>\n",
       "    </tr>\n",
       "  </thead>\n",
       "  <tbody>\n",
       "    <tr>\n",
       "      <th>2019-12-29</th>\n",
       "      <td>25.5</td>\n",
       "      <td>0.666363</td>\n",
       "      <td>0.610831</td>\n",
       "      <td>6.125714</td>\n",
       "      <td>-7.189337</td>\n",
       "      <td>0.637143</td>\n",
       "      <td>0.109331</td>\n",
       "      <td>0.278767</td>\n",
       "      <td>0.041290</td>\n",
       "      <td>0.171111</td>\n",
       "      <td>0.460510</td>\n",
       "      <td>117.949174</td>\n",
       "      <td>190365.777143</td>\n",
       "      <td>3.965714</td>\n",
       "    </tr>\n",
       "    <tr>\n",
       "      <th>2020-01-05</th>\n",
       "      <td>25.5</td>\n",
       "      <td>0.695900</td>\n",
       "      <td>0.643483</td>\n",
       "      <td>6.314286</td>\n",
       "      <td>-6.612169</td>\n",
       "      <td>0.634286</td>\n",
       "      <td>0.127259</td>\n",
       "      <td>0.225605</td>\n",
       "      <td>0.030068</td>\n",
       "      <td>0.184051</td>\n",
       "      <td>0.476149</td>\n",
       "      <td>118.608006</td>\n",
       "      <td>188407.960000</td>\n",
       "      <td>3.962857</td>\n",
       "    </tr>\n",
       "  </tbody>\n",
       "</table>\n",
       "</div>"
      ],
      "text/plain": [
       "            Position  danceability    energy       key  loudness      mode  \\\n",
       "date                                                                         \n",
       "2019-12-29      25.5      0.666363  0.610831  6.125714 -7.189337  0.637143   \n",
       "2020-01-05      25.5      0.695900  0.643483  6.314286 -6.612169  0.634286   \n",
       "\n",
       "            speechiness  acousticness  instrumentalness  liveness   valence  \\\n",
       "date                                                                          \n",
       "2019-12-29     0.109331      0.278767          0.041290  0.171111  0.460510   \n",
       "2020-01-05     0.127259      0.225605          0.030068  0.184051  0.476149   \n",
       "\n",
       "                 tempo    duration_ms  time_signature  \n",
       "date                                                   \n",
       "2019-12-29  117.949174  190365.777143        3.965714  \n",
       "2020-01-05  118.608006  188407.960000        3.962857  "
      ]
     },
     "execution_count": 76,
     "metadata": {},
     "output_type": "execute_result"
    }
   ],
   "source": [
    "it_rw_19.tail(2)"
   ]
  },
  {
   "cell_type": "code",
   "execution_count": 77,
   "metadata": {},
   "outputs": [
    {
     "data": {
      "text/html": [
       "<div>\n",
       "<style scoped>\n",
       "    .dataframe tbody tr th:only-of-type {\n",
       "        vertical-align: middle;\n",
       "    }\n",
       "\n",
       "    .dataframe tbody tr th {\n",
       "        vertical-align: top;\n",
       "    }\n",
       "\n",
       "    .dataframe thead th {\n",
       "        text-align: right;\n",
       "    }\n",
       "</style>\n",
       "<table border=\"1\" class=\"dataframe\">\n",
       "  <thead>\n",
       "    <tr style=\"text-align: right;\">\n",
       "      <th></th>\n",
       "      <th>Position</th>\n",
       "      <th>danceability</th>\n",
       "      <th>energy</th>\n",
       "      <th>key</th>\n",
       "      <th>loudness</th>\n",
       "      <th>mode</th>\n",
       "      <th>speechiness</th>\n",
       "      <th>acousticness</th>\n",
       "      <th>instrumentalness</th>\n",
       "      <th>liveness</th>\n",
       "      <th>valence</th>\n",
       "      <th>tempo</th>\n",
       "      <th>duration_ms</th>\n",
       "      <th>time_signature</th>\n",
       "    </tr>\n",
       "    <tr>\n",
       "      <th>date</th>\n",
       "      <th></th>\n",
       "      <th></th>\n",
       "      <th></th>\n",
       "      <th></th>\n",
       "      <th></th>\n",
       "      <th></th>\n",
       "      <th></th>\n",
       "      <th></th>\n",
       "      <th></th>\n",
       "      <th></th>\n",
       "      <th></th>\n",
       "      <th></th>\n",
       "      <th></th>\n",
       "      <th></th>\n",
       "    </tr>\n",
       "  </thead>\n",
       "  <tbody>\n",
       "    <tr>\n",
       "      <th>2021-02-07</th>\n",
       "      <td>25.5</td>\n",
       "      <td>0.666561</td>\n",
       "      <td>0.634389</td>\n",
       "      <td>5.402857</td>\n",
       "      <td>-6.677991</td>\n",
       "      <td>0.680000</td>\n",
       "      <td>0.109192</td>\n",
       "      <td>0.268234</td>\n",
       "      <td>0.035348</td>\n",
       "      <td>0.223654</td>\n",
       "      <td>0.498756</td>\n",
       "      <td>119.549403</td>\n",
       "      <td>195629.388571</td>\n",
       "      <td>3.951429</td>\n",
       "    </tr>\n",
       "    <tr>\n",
       "      <th>2021-02-14</th>\n",
       "      <td>25.5</td>\n",
       "      <td>0.671104</td>\n",
       "      <td>0.647343</td>\n",
       "      <td>5.516667</td>\n",
       "      <td>-6.842603</td>\n",
       "      <td>0.656667</td>\n",
       "      <td>0.120716</td>\n",
       "      <td>0.277941</td>\n",
       "      <td>0.054173</td>\n",
       "      <td>0.220087</td>\n",
       "      <td>0.548739</td>\n",
       "      <td>120.591240</td>\n",
       "      <td>194515.273333</td>\n",
       "      <td>3.913333</td>\n",
       "    </tr>\n",
       "  </tbody>\n",
       "</table>\n",
       "</div>"
      ],
      "text/plain": [
       "            Position  danceability    energy       key  loudness      mode  \\\n",
       "date                                                                         \n",
       "2021-02-07      25.5      0.666561  0.634389  5.402857 -6.677991  0.680000   \n",
       "2021-02-14      25.5      0.671104  0.647343  5.516667 -6.842603  0.656667   \n",
       "\n",
       "            speechiness  acousticness  instrumentalness  liveness   valence  \\\n",
       "date                                                                          \n",
       "2021-02-07     0.109192      0.268234          0.035348  0.223654  0.498756   \n",
       "2021-02-14     0.120716      0.277941          0.054173  0.220087  0.548739   \n",
       "\n",
       "                 tempo    duration_ms  time_signature  \n",
       "date                                                   \n",
       "2021-02-07  119.549403  195629.388571        3.951429  \n",
       "2021-02-14  120.591240  194515.273333        3.913333  "
      ]
     },
     "execution_count": 77,
     "metadata": {},
     "output_type": "execute_result"
    }
   ],
   "source": [
    "rw_italy_20_21.tail(2)"
   ]
  },
  {
   "cell_type": "markdown",
   "metadata": {},
   "source": [
    "_Taking just the first 52 weeks of `rw_italy_20_21` so that it is only the weekly resampled Italy 2020 data._ "
   ]
  },
  {
   "cell_type": "code",
   "execution_count": 78,
   "metadata": {},
   "outputs": [
    {
     "data": {
      "text/html": [
       "<div>\n",
       "<style scoped>\n",
       "    .dataframe tbody tr th:only-of-type {\n",
       "        vertical-align: middle;\n",
       "    }\n",
       "\n",
       "    .dataframe tbody tr th {\n",
       "        vertical-align: top;\n",
       "    }\n",
       "\n",
       "    .dataframe thead th {\n",
       "        text-align: right;\n",
       "    }\n",
       "</style>\n",
       "<table border=\"1\" class=\"dataframe\">\n",
       "  <thead>\n",
       "    <tr style=\"text-align: right;\">\n",
       "      <th></th>\n",
       "      <th>Position</th>\n",
       "      <th>danceability</th>\n",
       "      <th>energy</th>\n",
       "      <th>key</th>\n",
       "      <th>loudness</th>\n",
       "      <th>mode</th>\n",
       "      <th>speechiness</th>\n",
       "      <th>acousticness</th>\n",
       "      <th>instrumentalness</th>\n",
       "      <th>liveness</th>\n",
       "      <th>valence</th>\n",
       "      <th>tempo</th>\n",
       "      <th>duration_ms</th>\n",
       "      <th>time_signature</th>\n",
       "    </tr>\n",
       "    <tr>\n",
       "      <th>date</th>\n",
       "      <th></th>\n",
       "      <th></th>\n",
       "      <th></th>\n",
       "      <th></th>\n",
       "      <th></th>\n",
       "      <th></th>\n",
       "      <th></th>\n",
       "      <th></th>\n",
       "      <th></th>\n",
       "      <th></th>\n",
       "      <th></th>\n",
       "      <th></th>\n",
       "      <th></th>\n",
       "      <th></th>\n",
       "    </tr>\n",
       "  </thead>\n",
       "  <tbody>\n",
       "    <tr>\n",
       "      <th>2020-12-06</th>\n",
       "      <td>25.514286</td>\n",
       "      <td>0.635391</td>\n",
       "      <td>0.586877</td>\n",
       "      <td>5.448571</td>\n",
       "      <td>-8.045040</td>\n",
       "      <td>0.534286</td>\n",
       "      <td>0.109029</td>\n",
       "      <td>0.332617</td>\n",
       "      <td>0.020756</td>\n",
       "      <td>0.174773</td>\n",
       "      <td>0.451704</td>\n",
       "      <td>120.883214</td>\n",
       "      <td>198297.631429</td>\n",
       "      <td>3.951429</td>\n",
       "    </tr>\n",
       "    <tr>\n",
       "      <th>2020-12-13</th>\n",
       "      <td>25.865714</td>\n",
       "      <td>0.658663</td>\n",
       "      <td>0.606386</td>\n",
       "      <td>5.334286</td>\n",
       "      <td>-7.434363</td>\n",
       "      <td>0.605714</td>\n",
       "      <td>0.097016</td>\n",
       "      <td>0.330153</td>\n",
       "      <td>0.019915</td>\n",
       "      <td>0.155027</td>\n",
       "      <td>0.480546</td>\n",
       "      <td>121.218346</td>\n",
       "      <td>198129.382857</td>\n",
       "      <td>3.945714</td>\n",
       "    </tr>\n",
       "    <tr>\n",
       "      <th>2020-12-20</th>\n",
       "      <td>25.771429</td>\n",
       "      <td>0.649389</td>\n",
       "      <td>0.601711</td>\n",
       "      <td>5.185714</td>\n",
       "      <td>-7.288403</td>\n",
       "      <td>0.617143</td>\n",
       "      <td>0.101651</td>\n",
       "      <td>0.337039</td>\n",
       "      <td>0.018042</td>\n",
       "      <td>0.157806</td>\n",
       "      <td>0.474697</td>\n",
       "      <td>117.303751</td>\n",
       "      <td>194437.685714</td>\n",
       "      <td>3.888571</td>\n",
       "    </tr>\n",
       "    <tr>\n",
       "      <th>2020-12-27</th>\n",
       "      <td>26.111429</td>\n",
       "      <td>0.658540</td>\n",
       "      <td>0.601163</td>\n",
       "      <td>5.225714</td>\n",
       "      <td>-7.301663</td>\n",
       "      <td>0.620000</td>\n",
       "      <td>0.099900</td>\n",
       "      <td>0.313663</td>\n",
       "      <td>0.036708</td>\n",
       "      <td>0.155573</td>\n",
       "      <td>0.494371</td>\n",
       "      <td>117.747651</td>\n",
       "      <td>190622.557143</td>\n",
       "      <td>3.894286</td>\n",
       "    </tr>\n",
       "    <tr>\n",
       "      <th>2021-01-03</th>\n",
       "      <td>25.948571</td>\n",
       "      <td>0.663151</td>\n",
       "      <td>0.618714</td>\n",
       "      <td>5.782857</td>\n",
       "      <td>-7.345991</td>\n",
       "      <td>0.582857</td>\n",
       "      <td>0.104829</td>\n",
       "      <td>0.309551</td>\n",
       "      <td>0.028036</td>\n",
       "      <td>0.173735</td>\n",
       "      <td>0.492659</td>\n",
       "      <td>115.925700</td>\n",
       "      <td>194482.251429</td>\n",
       "      <td>3.942857</td>\n",
       "    </tr>\n",
       "  </tbody>\n",
       "</table>\n",
       "</div>"
      ],
      "text/plain": [
       "             Position  danceability    energy       key  loudness      mode  \\\n",
       "date                                                                          \n",
       "2020-12-06  25.514286      0.635391  0.586877  5.448571 -8.045040  0.534286   \n",
       "2020-12-13  25.865714      0.658663  0.606386  5.334286 -7.434363  0.605714   \n",
       "2020-12-20  25.771429      0.649389  0.601711  5.185714 -7.288403  0.617143   \n",
       "2020-12-27  26.111429      0.658540  0.601163  5.225714 -7.301663  0.620000   \n",
       "2021-01-03  25.948571      0.663151  0.618714  5.782857 -7.345991  0.582857   \n",
       "\n",
       "            speechiness  acousticness  instrumentalness  liveness   valence  \\\n",
       "date                                                                          \n",
       "2020-12-06     0.109029      0.332617          0.020756  0.174773  0.451704   \n",
       "2020-12-13     0.097016      0.330153          0.019915  0.155027  0.480546   \n",
       "2020-12-20     0.101651      0.337039          0.018042  0.157806  0.474697   \n",
       "2020-12-27     0.099900      0.313663          0.036708  0.155573  0.494371   \n",
       "2021-01-03     0.104829      0.309551          0.028036  0.173735  0.492659   \n",
       "\n",
       "                 tempo    duration_ms  time_signature  \n",
       "date                                                   \n",
       "2020-12-06  120.883214  198297.631429        3.951429  \n",
       "2020-12-13  121.218346  198129.382857        3.945714  \n",
       "2020-12-20  117.303751  194437.685714        3.888571  \n",
       "2020-12-27  117.747651  190622.557143        3.894286  \n",
       "2021-01-03  115.925700  194482.251429        3.942857  "
      ]
     },
     "execution_count": 78,
     "metadata": {},
     "output_type": "execute_result"
    }
   ],
   "source": [
    "it_rw_20 = rw_italy_20_21[0:53]\n",
    "it_rw_20.tail()"
   ]
  },
  {
   "cell_type": "markdown",
   "metadata": {},
   "source": [
    "#### Saving weekly resampled dataframes for use in other notebooks"
   ]
  },
  {
   "cell_type": "code",
   "execution_count": 79,
   "metadata": {},
   "outputs": [],
   "source": [
    "it_rw_17.to_pickle(\"../data/resampled/it_rw_17.pkl\")\n",
    "it_rw_18.to_pickle(\"../data/resampled/it_rw_18.pkl\")\n",
    "it_rw_19.to_pickle(\"../data/resampled/it_rw_19.pkl\")\n",
    "it_rw_20.to_pickle(\"../data/resampled/it_rw_20.pkl\")"
   ]
  },
  {
   "cell_type": "markdown",
   "metadata": {},
   "source": [
    "# Differencing Data for Stationarity"
   ]
  },
  {
   "cell_type": "markdown",
   "metadata": {},
   "source": [
    "### Augmented Dickey-Fuller test to estimate whether data are stationary. "
   ]
  },
  {
   "cell_type": "code",
   "execution_count": 80,
   "metadata": {},
   "outputs": [],
   "source": [
    "audio_features = [\n",
    "'danceability', \n",
    " 'energy',\n",
    " 'key',\n",
    " 'loudness',\n",
    " 'mode',\n",
    " 'speechiness',\n",
    " 'acousticness',\n",
    " 'instrumentalness',\n",
    " 'liveness',\n",
    " 'valence',\n",
    " 'tempo']"
   ]
  },
  {
   "cell_type": "code",
   "execution_count": 81,
   "metadata": {},
   "outputs": [],
   "source": [
    "# Code by Joseph Nelson! \n",
    "\n",
    "def interpret_dftest(dftest):\n",
    "    dfoutput = pd.Series(dftest[0:3], index=['Test Statistic', 'p-value', 'lags_used'])\n",
    "    return dfoutput"
   ]
  },
  {
   "cell_type": "markdown",
   "metadata": {},
   "source": [
    "_Dickey-Fuller on original dataframes_"
   ]
  },
  {
   "cell_type": "code",
   "execution_count": 82,
   "metadata": {},
   "outputs": [
    {
     "name": "stdout",
     "output_type": "stream",
     "text": [
      "Dickey-Fuller Interpretation for danceability:\n",
      "Test Statistic   -1.548511\n",
      "p-value           0.509392\n",
      "lags_used         7.000000\n",
      "dtype: float64\n",
      "Dickey-Fuller Interpretation for energy:\n",
      "Test Statistic   -3.123421\n",
      "p-value           0.024868\n",
      "lags_used         0.000000\n",
      "dtype: float64\n",
      "Dickey-Fuller Interpretation for key:\n",
      "Test Statistic   -3.427072\n",
      "p-value           0.010070\n",
      "lags_used         2.000000\n",
      "dtype: float64\n",
      "Dickey-Fuller Interpretation for loudness:\n",
      "Test Statistic   -1.902387\n",
      "p-value           0.330939\n",
      "lags_used         7.000000\n",
      "dtype: float64\n",
      "Dickey-Fuller Interpretation for mode:\n",
      "Test Statistic   -2.842559\n",
      "p-value           0.052447\n",
      "lags_used         0.000000\n",
      "dtype: float64\n",
      "Dickey-Fuller Interpretation for speechiness:\n",
      "Test Statistic   -2.835576\n",
      "p-value           0.053369\n",
      "lags_used         0.000000\n",
      "dtype: float64\n",
      "Dickey-Fuller Interpretation for acousticness:\n",
      "Test Statistic   -2.749330\n",
      "p-value           0.065884\n",
      "lags_used         0.000000\n",
      "dtype: float64\n",
      "Dickey-Fuller Interpretation for instrumentalness:\n",
      "Test Statistic   -4.045462\n",
      "p-value           0.001190\n",
      "lags_used         0.000000\n",
      "dtype: float64\n",
      "Dickey-Fuller Interpretation for liveness:\n",
      "Test Statistic   -3.696004\n",
      "p-value           0.004170\n",
      "lags_used         0.000000\n",
      "dtype: float64\n",
      "Dickey-Fuller Interpretation for valence:\n",
      "Test Statistic   -2.222276\n",
      "p-value           0.198260\n",
      "lags_used         0.000000\n",
      "dtype: float64\n",
      "Dickey-Fuller Interpretation for tempo:\n",
      "Test Statistic   -2.853689\n",
      "p-value           0.051005\n",
      "lags_used         0.000000\n",
      "dtype: float64\n"
     ]
    }
   ],
   "source": [
    "for feature in audio_features:\n",
    "    print(f'Dickey-Fuller Interpretation for {feature}:\\n{interpret_dftest(adfuller(it_rw_20[feature]))}')"
   ]
  },
  {
   "cell_type": "markdown",
   "metadata": {},
   "source": [
    "### DataFrame with once-differenced data"
   ]
  },
  {
   "cell_type": "code",
   "execution_count": 83,
   "metadata": {},
   "outputs": [],
   "source": [
    "lag_df_italy = alltime_rw_italy.copy()"
   ]
  },
  {
   "cell_type": "code",
   "execution_count": 84,
   "metadata": {},
   "outputs": [],
   "source": [
    "for feature in audio_features: \n",
    "    lag_df_italy[f'{feature}_once_differenced'] = lag_df_italy[feature].diff(1).fillna(0)"
   ]
  },
  {
   "cell_type": "code",
   "execution_count": 85,
   "metadata": {},
   "outputs": [
    {
     "data": {
      "text/html": [
       "<div>\n",
       "<style scoped>\n",
       "    .dataframe tbody tr th:only-of-type {\n",
       "        vertical-align: middle;\n",
       "    }\n",
       "\n",
       "    .dataframe tbody tr th {\n",
       "        vertical-align: top;\n",
       "    }\n",
       "\n",
       "    .dataframe thead th {\n",
       "        text-align: right;\n",
       "    }\n",
       "</style>\n",
       "<table border=\"1\" class=\"dataframe\">\n",
       "  <thead>\n",
       "    <tr style=\"text-align: right;\">\n",
       "      <th></th>\n",
       "      <th>Position</th>\n",
       "      <th>danceability</th>\n",
       "      <th>energy</th>\n",
       "      <th>key</th>\n",
       "      <th>loudness</th>\n",
       "      <th>mode</th>\n",
       "      <th>speechiness</th>\n",
       "      <th>acousticness</th>\n",
       "      <th>instrumentalness</th>\n",
       "      <th>liveness</th>\n",
       "      <th>...</th>\n",
       "      <th>energy_once_differenced</th>\n",
       "      <th>key_once_differenced</th>\n",
       "      <th>loudness_once_differenced</th>\n",
       "      <th>mode_once_differenced</th>\n",
       "      <th>speechiness_once_differenced</th>\n",
       "      <th>acousticness_once_differenced</th>\n",
       "      <th>instrumentalness_once_differenced</th>\n",
       "      <th>liveness_once_differenced</th>\n",
       "      <th>valence_once_differenced</th>\n",
       "      <th>tempo_once_differenced</th>\n",
       "    </tr>\n",
       "    <tr>\n",
       "      <th>date</th>\n",
       "      <th></th>\n",
       "      <th></th>\n",
       "      <th></th>\n",
       "      <th></th>\n",
       "      <th></th>\n",
       "      <th></th>\n",
       "      <th></th>\n",
       "      <th></th>\n",
       "      <th></th>\n",
       "      <th></th>\n",
       "      <th></th>\n",
       "      <th></th>\n",
       "      <th></th>\n",
       "      <th></th>\n",
       "      <th></th>\n",
       "      <th></th>\n",
       "      <th></th>\n",
       "      <th></th>\n",
       "      <th></th>\n",
       "      <th></th>\n",
       "      <th></th>\n",
       "    </tr>\n",
       "  </thead>\n",
       "  <tbody>\n",
       "    <tr>\n",
       "      <th>2021-02-07</th>\n",
       "      <td>25.5</td>\n",
       "      <td>0.666561</td>\n",
       "      <td>0.634389</td>\n",
       "      <td>5.402857</td>\n",
       "      <td>-6.677991</td>\n",
       "      <td>0.680000</td>\n",
       "      <td>0.109192</td>\n",
       "      <td>0.268234</td>\n",
       "      <td>0.035348</td>\n",
       "      <td>0.223654</td>\n",
       "      <td>...</td>\n",
       "      <td>0.029374</td>\n",
       "      <td>0.18000</td>\n",
       "      <td>0.314663</td>\n",
       "      <td>0.031429</td>\n",
       "      <td>-0.001159</td>\n",
       "      <td>-0.073344</td>\n",
       "      <td>-0.001695</td>\n",
       "      <td>0.005719</td>\n",
       "      <td>-0.006398</td>\n",
       "      <td>3.285271</td>\n",
       "    </tr>\n",
       "    <tr>\n",
       "      <th>2021-02-14</th>\n",
       "      <td>25.5</td>\n",
       "      <td>0.671104</td>\n",
       "      <td>0.647343</td>\n",
       "      <td>5.516667</td>\n",
       "      <td>-6.842603</td>\n",
       "      <td>0.656667</td>\n",
       "      <td>0.120716</td>\n",
       "      <td>0.277941</td>\n",
       "      <td>0.054173</td>\n",
       "      <td>0.220087</td>\n",
       "      <td>...</td>\n",
       "      <td>0.012955</td>\n",
       "      <td>0.11381</td>\n",
       "      <td>-0.164612</td>\n",
       "      <td>-0.023333</td>\n",
       "      <td>0.011523</td>\n",
       "      <td>0.009707</td>\n",
       "      <td>0.018826</td>\n",
       "      <td>-0.003567</td>\n",
       "      <td>0.049983</td>\n",
       "      <td>1.041837</td>\n",
       "    </tr>\n",
       "  </tbody>\n",
       "</table>\n",
       "<p>2 rows × 25 columns</p>\n",
       "</div>"
      ],
      "text/plain": [
       "            Position  danceability    energy       key  loudness      mode  \\\n",
       "date                                                                         \n",
       "2021-02-07      25.5      0.666561  0.634389  5.402857 -6.677991  0.680000   \n",
       "2021-02-14      25.5      0.671104  0.647343  5.516667 -6.842603  0.656667   \n",
       "\n",
       "            speechiness  acousticness  instrumentalness  liveness  ...  \\\n",
       "date                                                               ...   \n",
       "2021-02-07     0.109192      0.268234          0.035348  0.223654  ...   \n",
       "2021-02-14     0.120716      0.277941          0.054173  0.220087  ...   \n",
       "\n",
       "            energy_once_differenced  key_once_differenced  \\\n",
       "date                                                        \n",
       "2021-02-07                 0.029374               0.18000   \n",
       "2021-02-14                 0.012955               0.11381   \n",
       "\n",
       "            loudness_once_differenced  mode_once_differenced  \\\n",
       "date                                                           \n",
       "2021-02-07                   0.314663               0.031429   \n",
       "2021-02-14                  -0.164612              -0.023333   \n",
       "\n",
       "            speechiness_once_differenced  acousticness_once_differenced  \\\n",
       "date                                                                      \n",
       "2021-02-07                     -0.001159                      -0.073344   \n",
       "2021-02-14                      0.011523                       0.009707   \n",
       "\n",
       "            instrumentalness_once_differenced  liveness_once_differenced  \\\n",
       "date                                                                       \n",
       "2021-02-07                          -0.001695                   0.005719   \n",
       "2021-02-14                           0.018826                  -0.003567   \n",
       "\n",
       "            valence_once_differenced  tempo_once_differenced  \n",
       "date                                                          \n",
       "2021-02-07                 -0.006398                3.285271  \n",
       "2021-02-14                  0.049983                1.041837  \n",
       "\n",
       "[2 rows x 25 columns]"
      ]
     },
     "execution_count": 85,
     "metadata": {},
     "output_type": "execute_result"
    }
   ],
   "source": [
    "lag_df_italy.tail(2)"
   ]
  },
  {
   "cell_type": "markdown",
   "metadata": {},
   "source": [
    "_Dickey-Fuller on lag dataframe_"
   ]
  },
  {
   "cell_type": "code",
   "execution_count": 86,
   "metadata": {},
   "outputs": [
    {
     "name": "stdout",
     "output_type": "stream",
     "text": [
      "Dickey-Fuller Interpretation for danceability, once-differenced:\n",
      "Test Statistic   -9.142255e+00\n",
      "p-value           2.828632e-15\n",
      "lags_used         5.000000e+00\n",
      "dtype: float64\n",
      "Dickey-Fuller Interpretation for energy, once-differenced:\n",
      "Test Statistic   -6.782611e+00\n",
      "p-value           2.477455e-09\n",
      "lags_used         7.000000e+00\n",
      "dtype: float64\n",
      "Dickey-Fuller Interpretation for key, once-differenced:\n",
      "Test Statistic   -8.518281e+00\n",
      "p-value           1.118537e-13\n",
      "lags_used         7.000000e+00\n",
      "dtype: float64\n",
      "Dickey-Fuller Interpretation for loudness, once-differenced:\n",
      "Test Statistic   -7.002232e+00\n",
      "p-value           7.272028e-10\n",
      "lags_used         6.000000e+00\n",
      "dtype: float64\n",
      "Dickey-Fuller Interpretation for mode, once-differenced:\n",
      "Test Statistic   -9.845662e+00\n",
      "p-value           4.627101e-17\n",
      "lags_used         4.000000e+00\n",
      "dtype: float64\n",
      "Dickey-Fuller Interpretation for speechiness, once-differenced:\n",
      "Test Statistic   -8.291616e+00\n",
      "p-value           4.246658e-13\n",
      "lags_used         5.000000e+00\n",
      "dtype: float64\n",
      "Dickey-Fuller Interpretation for acousticness, once-differenced:\n",
      "Test Statistic   -1.160866e+01\n",
      "p-value           2.544491e-21\n",
      "lags_used         2.000000e+00\n",
      "dtype: float64\n",
      "Dickey-Fuller Interpretation for instrumentalness, once-differenced:\n",
      "Test Statistic   -7.471488e+00\n",
      "p-value           5.041115e-11\n",
      "lags_used         6.000000e+00\n",
      "dtype: float64\n",
      "Dickey-Fuller Interpretation for liveness, once-differenced:\n",
      "Test Statistic   -7.236294e+00\n",
      "p-value           1.935642e-10\n",
      "lags_used         8.000000e+00\n",
      "dtype: float64\n",
      "Dickey-Fuller Interpretation for valence, once-differenced:\n",
      "Test Statistic    -5.043085\n",
      "p-value            0.000018\n",
      "lags_used         12.000000\n",
      "dtype: float64\n",
      "Dickey-Fuller Interpretation for tempo, once-differenced:\n",
      "Test Statistic   -6.454214e+00\n",
      "p-value           1.497350e-08\n",
      "lags_used         1.400000e+01\n",
      "dtype: float64\n"
     ]
    }
   ],
   "source": [
    "for feature in audio_features:\n",
    "    print(f'Dickey-Fuller Interpretation for {feature}, once-differenced:\\n{interpret_dftest(adfuller(lag_df_italy[feature].diff(1).fillna(0)))}')"
   ]
  },
  {
   "cell_type": "markdown",
   "metadata": {},
   "source": [
    "_Checking that these are the same_"
   ]
  },
  {
   "cell_type": "code",
   "execution_count": 87,
   "metadata": {},
   "outputs": [
    {
     "data": {
      "text/plain": [
       "Test Statistic   -6.782611e+00\n",
       "p-value           2.477455e-09\n",
       "lags_used         7.000000e+00\n",
       "dtype: float64"
      ]
     },
     "execution_count": 87,
     "metadata": {},
     "output_type": "execute_result"
    }
   ],
   "source": [
    "interpret_dftest(adfuller(lag_df_italy['energy_once_differenced']))"
   ]
  },
  {
   "cell_type": "code",
   "execution_count": 88,
   "metadata": {},
   "outputs": [
    {
     "data": {
      "text/plain": [
       "Test Statistic   -6.782611e+00\n",
       "p-value           2.477455e-09\n",
       "lags_used         7.000000e+00\n",
       "dtype: float64"
      ]
     },
     "execution_count": 88,
     "metadata": {},
     "output_type": "execute_result"
    }
   ],
   "source": [
    "interpret_dftest(adfuller(lag_df_italy['energy'].diff(1).fillna(0)))"
   ]
  },
  {
   "cell_type": "markdown",
   "metadata": {},
   "source": [
    "### Using `ndiffs` to figure out how many orders of difference $d$ I need in oder to have stationarity"
   ]
  },
  {
   "cell_type": "markdown",
   "metadata": {},
   "source": [
    "#### _Running `ndiff` and `p,d,q` functions just on 2020 Italy data instead of alltime Italy data. Will use 2020 data to build the `ndiff_df` to see if this yields better results for this year._ "
   ]
  },
  {
   "cell_type": "code",
   "execution_count": 89,
   "metadata": {},
   "outputs": [],
   "source": [
    "from pmdarima.arima.utils import ndiffs"
   ]
  },
  {
   "cell_type": "code",
   "execution_count": 90,
   "metadata": {},
   "outputs": [
    {
     "name": "stdout",
     "output_type": "stream",
     "text": [
      "ndiffs for danceability stationarity w/ adf test: 0\n",
      "ndiffs for energy stationarity w/ adf test: 0\n",
      "ndiffs for key stationarity w/ adf test: 0\n",
      "ndiffs for loudness stationarity w/ adf test: 0\n",
      "ndiffs for mode stationarity w/ adf test: 0\n",
      "ndiffs for speechiness stationarity w/ adf test: 0\n",
      "ndiffs for acousticness stationarity w/ adf test: 0\n",
      "ndiffs for instrumentalness stationarity w/ adf test: 0\n",
      "ndiffs for liveness stationarity w/ adf test: 0\n",
      "ndiffs for valence stationarity w/ adf test: 0\n",
      "ndiffs for tempo stationarity w/ adf test: 0\n"
     ]
    }
   ],
   "source": [
    "for feature in audio_features:\n",
    "    print(f'ndiffs for {feature} stationarity w/ adf test: {ndiffs(alltime_italy[feature], test= \"adf\")}')"
   ]
  },
  {
   "cell_type": "code",
   "execution_count": 91,
   "metadata": {},
   "outputs": [
    {
     "name": "stdout",
     "output_type": "stream",
     "text": [
      "ndiffs for danceability stationarity w/ adf test: 1\n",
      "ndiffs for energy stationarity w/ adf test: 0\n",
      "ndiffs for key stationarity w/ adf test: 0\n",
      "ndiffs for loudness stationarity w/ adf test: 0\n",
      "ndiffs for mode stationarity w/ adf test: 1\n",
      "ndiffs for speechiness stationarity w/ adf test: 0\n",
      "ndiffs for acousticness stationarity w/ adf test: 0\n",
      "ndiffs for instrumentalness stationarity w/ adf test: 0\n",
      "ndiffs for liveness stationarity w/ adf test: 0\n",
      "ndiffs for valence stationarity w/ adf test: 0\n",
      "ndiffs for tempo stationarity w/ adf test: 0\n"
     ]
    }
   ],
   "source": [
    "for feature in audio_features:\n",
    "    print(f'ndiffs for {feature} stationarity w/ adf test: {ndiffs(alltime_rw_italy[feature], test= \"adf\")}')"
   ]
  },
  {
   "cell_type": "code",
   "execution_count": 92,
   "metadata": {},
   "outputs": [
    {
     "name": "stdout",
     "output_type": "stream",
     "text": [
      "ndiffs for danceability stationarity w/ adf test: 1\n",
      "ndiffs for energy stationarity w/ adf test: 1\n",
      "ndiffs for key stationarity w/ adf test: 0\n",
      "ndiffs for loudness stationarity w/ adf test: 1\n",
      "ndiffs for mode stationarity w/ adf test: 1\n",
      "ndiffs for speechiness stationarity w/ adf test: 2\n",
      "ndiffs for acousticness stationarity w/ adf test: 1\n",
      "ndiffs for instrumentalness stationarity w/ adf test: 1\n",
      "ndiffs for liveness stationarity w/ adf test: 1\n",
      "ndiffs for valence stationarity w/ adf test: 1\n",
      "ndiffs for tempo stationarity w/ adf test: 2\n"
     ]
    }
   ],
   "source": [
    "for feature in audio_features:\n",
    "    print(f'ndiffs for {feature} stationarity w/ adf test: {ndiffs(it_rw_20[feature], test= \"adf\")}')"
   ]
  },
  {
   "cell_type": "code",
   "execution_count": 93,
   "metadata": {},
   "outputs": [
    {
     "name": "stdout",
     "output_type": "stream",
     "text": [
      "ndiffs for danceability stationarity w/ kpss test: 1\n",
      "ndiffs for energy stationarity w/ kpss test: 1\n",
      "ndiffs for key stationarity w/ kpss test: 1\n",
      "ndiffs for loudness stationarity w/ kpss test: 1\n",
      "ndiffs for mode stationarity w/ kpss test: 1\n",
      "ndiffs for speechiness stationarity w/ kpss test: 1\n",
      "ndiffs for acousticness stationarity w/ kpss test: 1\n",
      "ndiffs for instrumentalness stationarity w/ kpss test: 1\n",
      "ndiffs for liveness stationarity w/ kpss test: 1\n",
      "ndiffs for valence stationarity w/ kpss test: 1\n",
      "ndiffs for tempo stationarity w/ kpss test: 1\n"
     ]
    }
   ],
   "source": [
    "for feature in audio_features:\n",
    "    print(f'ndiffs for {feature} stationarity w/ kpss test: {ndiffs(alltime_italy[feature])}')"
   ]
  },
  {
   "cell_type": "code",
   "execution_count": 94,
   "metadata": {},
   "outputs": [
    {
     "name": "stdout",
     "output_type": "stream",
     "text": [
      "ndiffs for danceability stationarity w/ kpss test: 0\n",
      "ndiffs for energy stationarity w/ kpss test: 0\n",
      "ndiffs for key stationarity w/ kpss test: 0\n",
      "ndiffs for loudness stationarity w/ kpss test: 0\n",
      "ndiffs for mode stationarity w/ kpss test: 0\n",
      "ndiffs for speechiness stationarity w/ kpss test: 0\n",
      "ndiffs for acousticness stationarity w/ kpss test: 0\n",
      "ndiffs for instrumentalness stationarity w/ kpss test: 0\n",
      "ndiffs for liveness stationarity w/ kpss test: 0\n",
      "ndiffs for valence stationarity w/ kpss test: 0\n",
      "ndiffs for tempo stationarity w/ kpss test: 0\n"
     ]
    }
   ],
   "source": [
    "for feature in audio_features:\n",
    "    print(f'ndiffs for {feature} stationarity w/ kpss test: {ndiffs(it_rw_20[feature])}')"
   ]
  },
  {
   "cell_type": "markdown",
   "metadata": {},
   "source": [
    "### Finding `p`, `d`, and `q` values"
   ]
  },
  {
   "cell_type": "markdown",
   "metadata": {},
   "source": [
    "_Using only the five audio features that are the most relevant or show some sort of pattern_ "
   ]
  },
  {
   "cell_type": "code",
   "execution_count": 95,
   "metadata": {},
   "outputs": [],
   "source": [
    "five_features = ['danceability', 'mode', 'acousticness', 'valence', 'energy']"
   ]
  },
  {
   "cell_type": "markdown",
   "metadata": {},
   "source": [
    "_Building dataframe with `ndifffs` for stationarity for each feature_\n",
    "\n",
    "_This time using `it_rw_20` instead of `alltime_rw_italy`._"
   ]
  },
  {
   "cell_type": "code",
   "execution_count": 96,
   "metadata": {},
   "outputs": [
    {
     "data": {
      "text/html": [
       "<div>\n",
       "<style scoped>\n",
       "    .dataframe tbody tr th:only-of-type {\n",
       "        vertical-align: middle;\n",
       "    }\n",
       "\n",
       "    .dataframe tbody tr th {\n",
       "        vertical-align: top;\n",
       "    }\n",
       "\n",
       "    .dataframe thead th {\n",
       "        text-align: right;\n",
       "    }\n",
       "</style>\n",
       "<table border=\"1\" class=\"dataframe\">\n",
       "  <thead>\n",
       "    <tr style=\"text-align: right;\">\n",
       "      <th></th>\n",
       "      <th>audio_feature</th>\n",
       "      <th>ndiffs for stationarity</th>\n",
       "    </tr>\n",
       "  </thead>\n",
       "  <tbody>\n",
       "    <tr>\n",
       "      <th>0</th>\n",
       "      <td>danceability</td>\n",
       "      <td>1</td>\n",
       "    </tr>\n",
       "    <tr>\n",
       "      <th>1</th>\n",
       "      <td>mode</td>\n",
       "      <td>1</td>\n",
       "    </tr>\n",
       "    <tr>\n",
       "      <th>2</th>\n",
       "      <td>acousticness</td>\n",
       "      <td>1</td>\n",
       "    </tr>\n",
       "    <tr>\n",
       "      <th>3</th>\n",
       "      <td>valence</td>\n",
       "      <td>1</td>\n",
       "    </tr>\n",
       "    <tr>\n",
       "      <th>4</th>\n",
       "      <td>energy</td>\n",
       "      <td>1</td>\n",
       "    </tr>\n",
       "  </tbody>\n",
       "</table>\n",
       "</div>"
      ],
      "text/plain": [
       "  audio_feature  ndiffs for stationarity\n",
       "0  danceability                        1\n",
       "1          mode                        1\n",
       "2  acousticness                        1\n",
       "3       valence                        1\n",
       "4        energy                        1"
      ]
     },
     "execution_count": 96,
     "metadata": {},
     "output_type": "execute_result"
    }
   ],
   "source": [
    "ndiff_dict = {\n",
    "    'audio_feature':[],\n",
    "    'ndiffs for stationarity':[]    \n",
    "}\n",
    "\n",
    "for feature in five_features:\n",
    "    ndiff_dict['audio_feature'].append(feature)\n",
    "    ndiff_dict['ndiffs for stationarity'].append(ndiffs(it_rw_20[feature], test= \"adf\"))\n",
    "\n",
    "ndiff_df = pd.DataFrame(ndiff_dict)\n",
    "ndiff_df"
   ]
  },
  {
   "cell_type": "code",
   "execution_count": 97,
   "metadata": {},
   "outputs": [],
   "source": [
    "arima_dict_20 = {\n",
    "    'audio_feature':[],\n",
    "    'ndiffs(d)':[],\n",
    "    'best_p':[],\n",
    "    'best_q':[],\n",
    "    'order':[],\n",
    "    'ARIMA_model':[],\n",
    "    'ARIMA_AIC':[]\n",
    "}\n",
    "\n",
    "def find_p_and_q(df, feature, arima_dict, n=6):\n",
    "    \n",
    "    train = df[feature][0:162]\n",
    "    \n",
    "    d = ndiff_df.loc[ndiff_df['audio_feature'] == feature, 'ndiffs for stationarity'].iloc[0]\n",
    "\n",
    "    # starting with large start AIC\n",
    "    best_aic = 99 * (10 * 16)\n",
    "    # creating variables to store best values ofd p and q \n",
    "    best_p = 0\n",
    "    best_q = 0 \n",
    "\n",
    "    # use nested for loop to iterate over values of p and q\n",
    "    for p in range(n):\n",
    "\n",
    "        for q in range(n):\n",
    "\n",
    "            # insert try and and except statements\n",
    "            try: \n",
    "\n",
    "                # fitting on ARIMA(p, 1, q) model \n",
    "                print(f'Attempting to fit ARIMA({p}, {d}, {q})')\n",
    "\n",
    "                # instantiate ARIMA model\n",
    "                arima = ARIMA(train, order=(p,d,q))\n",
    "\n",
    "                # fit ARIMA model \n",
    "                model = arima.fit()\n",
    "\n",
    "                # print out AIC for ARIMA(p, 1, q) model \n",
    "                print(f'For {feature}, the AIC for ARIMA({p},{d},{q}) is: {model.aic}')\n",
    "\n",
    "                # Is this current model's AIC better than the OF best_aic? \n",
    "                if model.aic < best_aic:\n",
    "                    # we want aic to be lower so we are setting a high aic and hoping for something lower \n",
    "\n",
    "                    # if it is, we overwrite the best_aic, best_p, and best_q\n",
    "                    best_aic = model.aic\n",
    "                    best_p = p \n",
    "                    best_q = q\n",
    "\n",
    "            except:\n",
    "                pass \n",
    "\n",
    "        order = (best_p, d, best_q)\n",
    "    \n",
    "    arima_dict['audio_feature'].append(feature)\n",
    "    arima_dict['ndiffs(d)'].append(d)\n",
    "    arima_dict['best_p'].append(best_p)\n",
    "    arima_dict['best_q'].append(best_q)\n",
    "    arima_dict['order'].append(order)\n",
    "    arima_dict['ARIMA_model'].append(f'ARIMA({best_p},{d},{best_q})')\n",
    "    arima_dict['ARIMA_AIC'].append(best_aic)\n",
    "\n",
    "    print()\n",
    "    print(f'{feature.upper()} MODEL FINISHED!')\n",
    "    print(f'The model for {feature} that minimizes AIC on the training data is the ARIMA({best_p},{d},{best_q}).')\n",
    "    print(f'The model has an aIC of {best_aic}.')\n",
    "    print()"
   ]
  },
  {
   "cell_type": "code",
   "execution_count": 98,
   "metadata": {},
   "outputs": [
    {
     "data": {
      "text/plain": [
       "{'audio_feature': [],\n",
       " 'ndiffs(d)': [],\n",
       " 'best_p': [],\n",
       " 'best_q': [],\n",
       " 'order': [],\n",
       " 'ARIMA_model': [],\n",
       " 'ARIMA_AIC': []}"
      ]
     },
     "execution_count": 98,
     "metadata": {},
     "output_type": "execute_result"
    }
   ],
   "source": [
    "arima_dict_20"
   ]
  },
  {
   "cell_type": "code",
   "execution_count": 99,
   "metadata": {
    "scrolled": true
   },
   "outputs": [
    {
     "name": "stdout",
     "output_type": "stream",
     "text": [
      "Attempting to fit ARIMA(0, 1, 0)\n",
      "For danceability, the AIC for ARIMA(0,1,0) is: -205.5523299668606\n",
      "Attempting to fit ARIMA(0, 1, 1)\n",
      "For danceability, the AIC for ARIMA(0,1,1) is: -203.74405596228323\n",
      "Attempting to fit ARIMA(0, 1, 2)\n",
      "For danceability, the AIC for ARIMA(0,1,2) is: -212.63140194111244\n",
      "Attempting to fit ARIMA(0, 1, 3)\n",
      "For danceability, the AIC for ARIMA(0,1,3) is: -210.94128126103553\n",
      "Attempting to fit ARIMA(0, 1, 4)\n",
      "For danceability, the AIC for ARIMA(0,1,4) is: -209.066631272423\n",
      "Attempting to fit ARIMA(0, 1, 5)\n",
      "For danceability, the AIC for ARIMA(0,1,5) is: -209.4958601921778\n",
      "Attempting to fit ARIMA(1, 1, 0)\n",
      "For danceability, the AIC for ARIMA(1,1,0) is: -203.61921470158663\n",
      "Attempting to fit ARIMA(1, 1, 1)\n",
      "For danceability, the AIC for ARIMA(1,1,1) is: -210.0806742468661\n",
      "Attempting to fit ARIMA(1, 1, 2)\n",
      "For danceability, the AIC for ARIMA(1,1,2) is: -210.8656674410963\n",
      "Attempting to fit ARIMA(1, 1, 3)\n",
      "For danceability, the AIC for ARIMA(1,1,3) is: -208.94417058490572\n",
      "Attempting to fit ARIMA(1, 1, 4)\n",
      "For danceability, the AIC for ARIMA(1,1,4) is: -207.2586725267295\n",
      "Attempting to fit ARIMA(1, 1, 5)\n",
      "For danceability, the AIC for ARIMA(1,1,5) is: -209.75667656658007\n",
      "Attempting to fit ARIMA(2, 1, 0)\n",
      "For danceability, the AIC for ARIMA(2,1,0) is: -206.74618978985055\n",
      "Attempting to fit ARIMA(2, 1, 1)\n",
      "For danceability, the AIC for ARIMA(2,1,1) is: -211.85122541535603\n",
      "Attempting to fit ARIMA(2, 1, 2)\n",
      "For danceability, the AIC for ARIMA(2,1,2) is: -214.352401759731\n",
      "Attempting to fit ARIMA(2, 1, 3)\n",
      "For danceability, the AIC for ARIMA(2,1,3) is: -210.50842578874122\n",
      "Attempting to fit ARIMA(2, 1, 4)\n",
      "For danceability, the AIC for ARIMA(2,1,4) is: -213.199222060271\n",
      "Attempting to fit ARIMA(2, 1, 5)\n",
      "For danceability, the AIC for ARIMA(2,1,5) is: -211.36679593846534\n",
      "Attempting to fit ARIMA(3, 1, 0)\n",
      "For danceability, the AIC for ARIMA(3,1,0) is: -206.75835034951703\n",
      "Attempting to fit ARIMA(3, 1, 1)\n",
      "For danceability, the AIC for ARIMA(3,1,1) is: -210.1292513338311\n",
      "Attempting to fit ARIMA(3, 1, 2)\n",
      "For danceability, the AIC for ARIMA(3,1,2) is: -212.42850452856138\n",
      "Attempting to fit ARIMA(3, 1, 3)\n",
      "For danceability, the AIC for ARIMA(3,1,3) is: -209.8101223109915\n",
      "Attempting to fit ARIMA(3, 1, 4)\n",
      "For danceability, the AIC for ARIMA(3,1,4) is: -209.92680580151065\n",
      "Attempting to fit ARIMA(3, 1, 5)\n",
      "For danceability, the AIC for ARIMA(3,1,5) is: -210.25538590182313\n",
      "Attempting to fit ARIMA(4, 1, 0)\n",
      "For danceability, the AIC for ARIMA(4,1,0) is: -207.74193282877653\n",
      "Attempting to fit ARIMA(4, 1, 1)\n",
      "For danceability, the AIC for ARIMA(4,1,1) is: -209.7187628466576\n",
      "Attempting to fit ARIMA(4, 1, 2)\n",
      "For danceability, the AIC for ARIMA(4,1,2) is: -212.89576740433117\n",
      "Attempting to fit ARIMA(4, 1, 3)\n",
      "For danceability, the AIC for ARIMA(4,1,3) is: -209.2464882870955\n",
      "Attempting to fit ARIMA(4, 1, 4)\n",
      "For danceability, the AIC for ARIMA(4,1,4) is: -211.03888214234073\n",
      "Attempting to fit ARIMA(4, 1, 5)\n",
      "For danceability, the AIC for ARIMA(4,1,5) is: -211.52028931031438\n",
      "Attempting to fit ARIMA(5, 1, 0)\n",
      "For danceability, the AIC for ARIMA(5,1,0) is: -210.479179127428\n",
      "Attempting to fit ARIMA(5, 1, 1)\n",
      "For danceability, the AIC for ARIMA(5,1,1) is: -209.99316958769933\n",
      "Attempting to fit ARIMA(5, 1, 2)\n",
      "For danceability, the AIC for ARIMA(5,1,2) is: -210.57392943553904\n",
      "Attempting to fit ARIMA(5, 1, 3)\n",
      "For danceability, the AIC for ARIMA(5,1,3) is: -210.5213258599716\n",
      "Attempting to fit ARIMA(5, 1, 4)\n",
      "For danceability, the AIC for ARIMA(5,1,4) is: -212.3634573334995\n",
      "Attempting to fit ARIMA(5, 1, 5)\n",
      "For danceability, the AIC for ARIMA(5,1,5) is: -183.39670828786163\n",
      "\n",
      "DANCEABILITY MODEL FINISHED!\n",
      "The model for danceability that minimizes AIC on the training data is the ARIMA(2,1,2).\n",
      "The model has an aIC of -214.352401759731.\n",
      "\n",
      "Attempting to fit ARIMA(0, 1, 0)\n",
      "For mode, the AIC for ARIMA(0,1,0) is: -185.494464946834\n",
      "Attempting to fit ARIMA(0, 1, 1)\n",
      "For mode, the AIC for ARIMA(0,1,1) is: -183.53948073550512\n",
      "Attempting to fit ARIMA(0, 1, 2)\n",
      "For mode, the AIC for ARIMA(0,1,2) is: -181.7411973238582\n",
      "Attempting to fit ARIMA(0, 1, 3)\n",
      "For mode, the AIC for ARIMA(0,1,3) is: -185.438740772922\n",
      "Attempting to fit ARIMA(0, 1, 4)\n",
      "For mode, the AIC for ARIMA(0,1,4) is: -187.33908588081223\n",
      "Attempting to fit ARIMA(0, 1, 5)\n",
      "For mode, the AIC for ARIMA(0,1,5) is: -185.37197549803292\n",
      "Attempting to fit ARIMA(1, 1, 0)\n",
      "For mode, the AIC for ARIMA(1,1,0) is: -183.54136583602426\n",
      "Attempting to fit ARIMA(1, 1, 1)\n",
      "For mode, the AIC for ARIMA(1,1,1) is: -186.01584749057267\n",
      "Attempting to fit ARIMA(1, 1, 2)\n",
      "For mode, the AIC for ARIMA(1,1,2) is: -180.129555581066\n",
      "Attempting to fit ARIMA(1, 1, 3)\n",
      "For mode, the AIC for ARIMA(1,1,3) is: -186.64156593289286\n",
      "Attempting to fit ARIMA(1, 1, 4)\n",
      "For mode, the AIC for ARIMA(1,1,4) is: -185.4362965464288\n",
      "Attempting to fit ARIMA(1, 1, 5)\n",
      "For mode, the AIC for ARIMA(1,1,5) is: -183.6862700954247\n",
      "Attempting to fit ARIMA(2, 1, 0)\n",
      "For mode, the AIC for ARIMA(2,1,0) is: -181.550183623871\n",
      "Attempting to fit ARIMA(2, 1, 1)\n",
      "For mode, the AIC for ARIMA(2,1,1) is: -179.77770057172526\n",
      "Attempting to fit ARIMA(2, 1, 2)\n",
      "For mode, the AIC for ARIMA(2,1,2) is: -184.5381544057116\n",
      "Attempting to fit ARIMA(2, 1, 3)\n",
      "For mode, the AIC for ARIMA(2,1,3) is: -185.23131978343693\n",
      "Attempting to fit ARIMA(2, 1, 4)\n",
      "For mode, the AIC for ARIMA(2,1,4) is: -183.46803096639744\n",
      "Attempting to fit ARIMA(2, 1, 5)\n",
      "For mode, the AIC for ARIMA(2,1,5) is: -181.84705843731294\n",
      "Attempting to fit ARIMA(3, 1, 0)\n",
      "For mode, the AIC for ARIMA(3,1,0) is: -183.24478477065773\n",
      "Attempting to fit ARIMA(3, 1, 1)\n",
      "For mode, the AIC for ARIMA(3,1,1) is: -187.10644973801547\n",
      "Attempting to fit ARIMA(3, 1, 2)\n",
      "For mode, the AIC for ARIMA(3,1,2) is: -183.3924115693372\n",
      "Attempting to fit ARIMA(3, 1, 3)\n",
      "Attempting to fit ARIMA(3, 1, 4)\n",
      "For mode, the AIC for ARIMA(3,1,4) is: -181.76576052177236\n",
      "Attempting to fit ARIMA(3, 1, 5)\n",
      "For mode, the AIC for ARIMA(3,1,5) is: -179.6386808242997\n",
      "Attempting to fit ARIMA(4, 1, 0)\n",
      "For mode, the AIC for ARIMA(4,1,0) is: -187.65655408880454\n",
      "Attempting to fit ARIMA(4, 1, 1)\n",
      "For mode, the AIC for ARIMA(4,1,1) is: -186.3348756913184\n",
      "Attempting to fit ARIMA(4, 1, 2)\n",
      "For mode, the AIC for ARIMA(4,1,2) is: -184.41389314410625\n",
      "Attempting to fit ARIMA(4, 1, 3)\n",
      "For mode, the AIC for ARIMA(4,1,3) is: -185.75178819325615\n",
      "Attempting to fit ARIMA(4, 1, 4)\n",
      "For mode, the AIC for ARIMA(4,1,4) is: -184.78173573037785\n",
      "Attempting to fit ARIMA(4, 1, 5)\n",
      "Attempting to fit ARIMA(5, 1, 0)\n",
      "For mode, the AIC for ARIMA(5,1,0) is: -186.18132876125523\n",
      "Attempting to fit ARIMA(5, 1, 1)\n",
      "For mode, the AIC for ARIMA(5,1,1) is: -185.62530214732251\n",
      "Attempting to fit ARIMA(5, 1, 2)\n",
      "For mode, the AIC for ARIMA(5,1,2) is: -176.19957526172678\n",
      "Attempting to fit ARIMA(5, 1, 3)\n",
      "For mode, the AIC for ARIMA(5,1,3) is: -183.76463485645118\n",
      "Attempting to fit ARIMA(5, 1, 4)\n",
      "For mode, the AIC for ARIMA(5,1,4) is: -182.7860207588861\n",
      "Attempting to fit ARIMA(5, 1, 5)\n",
      "For mode, the AIC for ARIMA(5,1,5) is: -182.72824996753647\n",
      "\n",
      "MODE MODEL FINISHED!\n",
      "The model for mode that minimizes AIC on the training data is the ARIMA(4,1,0).\n",
      "The model has an aIC of -187.65655408880454.\n",
      "\n",
      "Attempting to fit ARIMA(0, 1, 0)\n",
      "For acousticness, the AIC for ARIMA(0,1,0) is: -168.1917161410772\n",
      "Attempting to fit ARIMA(0, 1, 1)\n",
      "For acousticness, the AIC for ARIMA(0,1,1) is: -168.6386121262819\n",
      "Attempting to fit ARIMA(0, 1, 2)\n",
      "For acousticness, the AIC for ARIMA(0,1,2) is: -168.73824474270307\n",
      "Attempting to fit ARIMA(0, 1, 3)\n",
      "For acousticness, the AIC for ARIMA(0,1,3) is: -166.9500676085879\n",
      "Attempting to fit ARIMA(0, 1, 4)\n",
      "For acousticness, the AIC for ARIMA(0,1,4) is: -165.60704575479102\n",
      "Attempting to fit ARIMA(0, 1, 5)\n",
      "For acousticness, the AIC for ARIMA(0,1,5) is: -163.62463934196293\n",
      "Attempting to fit ARIMA(1, 1, 0)\n",
      "For acousticness, the AIC for ARIMA(1,1,0) is: -167.44921591801958\n",
      "Attempting to fit ARIMA(1, 1, 1)\n",
      "For acousticness, the AIC for ARIMA(1,1,1) is: -170.83634443869462\n",
      "Attempting to fit ARIMA(1, 1, 2)\n",
      "For acousticness, the AIC for ARIMA(1,1,2) is: -166.81573859199435\n",
      "Attempting to fit ARIMA(1, 1, 3)\n",
      "For acousticness, the AIC for ARIMA(1,1,3) is: -165.12779268679716\n",
      "Attempting to fit ARIMA(1, 1, 4)\n",
      "For acousticness, the AIC for ARIMA(1,1,4) is: -163.61158407061052\n",
      "Attempting to fit ARIMA(1, 1, 5)\n",
      "For acousticness, the AIC for ARIMA(1,1,5) is: -163.54487800991197\n",
      "Attempting to fit ARIMA(2, 1, 0)\n",
      "For acousticness, the AIC for ARIMA(2,1,0) is: -169.30344987440233\n",
      "Attempting to fit ARIMA(2, 1, 1)\n",
      "For acousticness, the AIC for ARIMA(2,1,1) is: -167.44438016657975\n",
      "Attempting to fit ARIMA(2, 1, 2)\n",
      "For acousticness, the AIC for ARIMA(2,1,2) is: -165.92745603333552\n",
      "Attempting to fit ARIMA(2, 1, 3)\n",
      "For acousticness, the AIC for ARIMA(2,1,3) is: -164.13341079211008\n",
      "Attempting to fit ARIMA(2, 1, 4)\n",
      "For acousticness, the AIC for ARIMA(2,1,4) is: -162.1430452437128\n",
      "Attempting to fit ARIMA(2, 1, 5)\n",
      "For acousticness, the AIC for ARIMA(2,1,5) is: -159.83870131751675\n",
      "Attempting to fit ARIMA(3, 1, 0)\n",
      "For acousticness, the AIC for ARIMA(3,1,0) is: -167.54320033363055\n",
      "Attempting to fit ARIMA(3, 1, 1)\n",
      "For acousticness, the AIC for ARIMA(3,1,1) is: -165.69001516430873\n",
      "Attempting to fit ARIMA(3, 1, 2)\n",
      "For acousticness, the AIC for ARIMA(3,1,2) is: -164.12626443612916\n",
      "Attempting to fit ARIMA(3, 1, 3)\n",
      "For acousticness, the AIC for ARIMA(3,1,3) is: -163.9717477802192\n",
      "Attempting to fit ARIMA(3, 1, 4)\n",
      "For acousticness, the AIC for ARIMA(3,1,4) is: -160.90940116069416\n",
      "Attempting to fit ARIMA(3, 1, 5)\n",
      "Attempting to fit ARIMA(4, 1, 0)\n",
      "For acousticness, the AIC for ARIMA(4,1,0) is: -165.948791983191\n",
      "Attempting to fit ARIMA(4, 1, 1)\n",
      "For acousticness, the AIC for ARIMA(4,1,1) is: -163.96602308890866\n",
      "Attempting to fit ARIMA(4, 1, 2)\n",
      "For acousticness, the AIC for ARIMA(4,1,2) is: -163.95909793267495\n",
      "Attempting to fit ARIMA(4, 1, 3)\n",
      "For acousticness, the AIC for ARIMA(4,1,3) is: -161.96703915070347\n",
      "Attempting to fit ARIMA(4, 1, 4)\n",
      "Attempting to fit ARIMA(4, 1, 5)\n",
      "For acousticness, the AIC for ARIMA(4,1,5) is: -160.20098895827405\n",
      "Attempting to fit ARIMA(5, 1, 0)\n",
      "For acousticness, the AIC for ARIMA(5,1,0) is: -163.99163153646091\n",
      "Attempting to fit ARIMA(5, 1, 1)\n",
      "For acousticness, the AIC for ARIMA(5,1,1) is: -164.17907560663272\n",
      "Attempting to fit ARIMA(5, 1, 2)\n",
      "For acousticness, the AIC for ARIMA(5,1,2) is: -161.96989079413\n",
      "Attempting to fit ARIMA(5, 1, 3)\n",
      "For acousticness, the AIC for ARIMA(5,1,3) is: -160.00301658121097\n",
      "Attempting to fit ARIMA(5, 1, 4)\n",
      "For acousticness, the AIC for ARIMA(5,1,4) is: -160.8919460692455\n",
      "Attempting to fit ARIMA(5, 1, 5)\n",
      "\n",
      "ACOUSTICNESS MODEL FINISHED!\n",
      "The model for acousticness that minimizes AIC on the training data is the ARIMA(1,1,1).\n",
      "The model has an aIC of -170.83634443869462.\n",
      "\n",
      "Attempting to fit ARIMA(0, 1, 0)\n",
      "For valence, the AIC for ARIMA(0,1,0) is: -208.2422926342665\n",
      "Attempting to fit ARIMA(0, 1, 1)\n",
      "For valence, the AIC for ARIMA(0,1,1) is: -206.4522880838716\n",
      "Attempting to fit ARIMA(0, 1, 2)\n",
      "For valence, the AIC for ARIMA(0,1,2) is: -206.8895533055697\n",
      "Attempting to fit ARIMA(0, 1, 3)\n",
      "For valence, the AIC for ARIMA(0,1,3) is: -207.1822851074164\n",
      "Attempting to fit ARIMA(0, 1, 4)\n",
      "For valence, the AIC for ARIMA(0,1,4) is: -205.25876132368913\n",
      "Attempting to fit ARIMA(0, 1, 5)\n",
      "For valence, the AIC for ARIMA(0,1,5) is: -204.91340580776424\n",
      "Attempting to fit ARIMA(1, 1, 0)\n",
      "For valence, the AIC for ARIMA(1,1,0) is: -206.37248279530772\n",
      "Attempting to fit ARIMA(1, 1, 1)\n",
      "For valence, the AIC for ARIMA(1,1,1) is: -204.73670555915257\n",
      "Attempting to fit ARIMA(1, 1, 2)\n",
      "For valence, the AIC for ARIMA(1,1,2) is: -206.1259059210756\n",
      "Attempting to fit ARIMA(1, 1, 3)\n",
      "For valence, the AIC for ARIMA(1,1,3) is: -205.2177579394216\n",
      "Attempting to fit ARIMA(1, 1, 4)\n",
      "For valence, the AIC for ARIMA(1,1,4) is: -203.64776718568945\n",
      "Attempting to fit ARIMA(1, 1, 5)\n",
      "For valence, the AIC for ARIMA(1,1,5) is: -203.34158829195636\n",
      "Attempting to fit ARIMA(2, 1, 0)\n",
      "For valence, the AIC for ARIMA(2,1,0) is: -206.64765117349273\n",
      "Attempting to fit ARIMA(2, 1, 1)\n",
      "For valence, the AIC for ARIMA(2,1,1) is: -206.8838352030434\n",
      "Attempting to fit ARIMA(2, 1, 2)\n",
      "For valence, the AIC for ARIMA(2,1,2) is: -206.6468388875866\n",
      "Attempting to fit ARIMA(2, 1, 3)\n",
      "For valence, the AIC for ARIMA(2,1,3) is: -207.26281471380085\n",
      "Attempting to fit ARIMA(2, 1, 4)\n",
      "For valence, the AIC for ARIMA(2,1,4) is: -206.52808163258052\n",
      "Attempting to fit ARIMA(2, 1, 5)\n",
      "For valence, the AIC for ARIMA(2,1,5) is: -204.70633118698126\n",
      "Attempting to fit ARIMA(3, 1, 0)\n",
      "For valence, the AIC for ARIMA(3,1,0) is: -206.83711400933615\n",
      "Attempting to fit ARIMA(3, 1, 1)\n",
      "For valence, the AIC for ARIMA(3,1,1) is: -205.3366639736757\n",
      "Attempting to fit ARIMA(3, 1, 2)\n",
      "For valence, the AIC for ARIMA(3,1,2) is: -204.73775670493873\n",
      "Attempting to fit ARIMA(3, 1, 3)\n",
      "For valence, the AIC for ARIMA(3,1,3) is: -207.5276188239424\n",
      "Attempting to fit ARIMA(3, 1, 4)\n",
      "For valence, the AIC for ARIMA(3,1,4) is: -205.73256871058598\n",
      "Attempting to fit ARIMA(3, 1, 5)\n",
      "Attempting to fit ARIMA(4, 1, 0)\n",
      "For valence, the AIC for ARIMA(4,1,0) is: -205.15079246510632\n",
      "Attempting to fit ARIMA(4, 1, 1)\n",
      "For valence, the AIC for ARIMA(4,1,1) is: -203.35458766553873\n",
      "Attempting to fit ARIMA(4, 1, 2)\n",
      "For valence, the AIC for ARIMA(4,1,2) is: -202.50210494626478\n",
      "Attempting to fit ARIMA(4, 1, 3)\n",
      "For valence, the AIC for ARIMA(4,1,3) is: -205.7078679047394\n",
      "Attempting to fit ARIMA(4, 1, 4)\n",
      "For valence, the AIC for ARIMA(4,1,4) is: -205.325679140627\n",
      "Attempting to fit ARIMA(4, 1, 5)\n",
      "For valence, the AIC for ARIMA(4,1,5) is: -203.67415650884968\n",
      "Attempting to fit ARIMA(5, 1, 0)\n",
      "For valence, the AIC for ARIMA(5,1,0) is: -203.66081760167438\n",
      "Attempting to fit ARIMA(5, 1, 1)\n",
      "For valence, the AIC for ARIMA(5,1,1) is: -201.68405164197023\n",
      "Attempting to fit ARIMA(5, 1, 2)\n",
      "For valence, the AIC for ARIMA(5,1,2) is: -206.650135968306\n",
      "Attempting to fit ARIMA(5, 1, 3)\n",
      "For valence, the AIC for ARIMA(5,1,3) is: -204.65683933422181\n",
      "Attempting to fit ARIMA(5, 1, 4)\n",
      "For valence, the AIC for ARIMA(5,1,4) is: -203.69168007500608\n",
      "Attempting to fit ARIMA(5, 1, 5)\n",
      "For valence, the AIC for ARIMA(5,1,5) is: -202.41019034479942\n",
      "\n",
      "VALENCE MODEL FINISHED!\n",
      "The model for valence that minimizes AIC on the training data is the ARIMA(0,1,0).\n",
      "The model has an aIC of -208.2422926342665.\n",
      "\n",
      "Attempting to fit ARIMA(0, 1, 0)\n",
      "For energy, the AIC for ARIMA(0,1,0) is: -220.08601713523086\n",
      "Attempting to fit ARIMA(0, 1, 1)\n",
      "For energy, the AIC for ARIMA(0,1,1) is: -223.0878068844432\n",
      "Attempting to fit ARIMA(0, 1, 2)\n",
      "For energy, the AIC for ARIMA(0,1,2) is: -223.99130310723095\n",
      "Attempting to fit ARIMA(0, 1, 3)\n",
      "For energy, the AIC for ARIMA(0,1,3) is: -222.77572404340847\n",
      "Attempting to fit ARIMA(0, 1, 4)\n",
      "For energy, the AIC for ARIMA(0,1,4) is: -221.39693348033254\n",
      "Attempting to fit ARIMA(0, 1, 5)\n",
      "For energy, the AIC for ARIMA(0,1,5) is: -219.91657113723133\n",
      "Attempting to fit ARIMA(1, 1, 0)\n",
      "For energy, the AIC for ARIMA(1,1,0) is: -220.42723691605906\n",
      "Attempting to fit ARIMA(1, 1, 1)\n",
      "For energy, the AIC for ARIMA(1,1,1) is: -222.66081430306875\n",
      "Attempting to fit ARIMA(1, 1, 2)\n",
      "For energy, the AIC for ARIMA(1,1,2) is: -223.08912540274568\n",
      "Attempting to fit ARIMA(1, 1, 3)\n",
      "For energy, the AIC for ARIMA(1,1,3) is: -221.09024681800767\n",
      "Attempting to fit ARIMA(1, 1, 4)\n",
      "For energy, the AIC for ARIMA(1,1,4) is: -221.02532345711538\n",
      "Attempting to fit ARIMA(1, 1, 5)\n",
      "For energy, the AIC for ARIMA(1,1,5) is: -219.2727502136204\n",
      "Attempting to fit ARIMA(2, 1, 0)\n",
      "For energy, the AIC for ARIMA(2,1,0) is: -224.3612836643628\n",
      "Attempting to fit ARIMA(2, 1, 1)\n",
      "For energy, the AIC for ARIMA(2,1,1) is: -222.38995366490124\n",
      "Attempting to fit ARIMA(2, 1, 2)\n",
      "For energy, the AIC for ARIMA(2,1,2) is: -221.0906159385104\n",
      "Attempting to fit ARIMA(2, 1, 3)\n",
      "Attempting to fit ARIMA(2, 1, 4)\n",
      "For energy, the AIC for ARIMA(2,1,4) is: -217.86257737972088\n",
      "Attempting to fit ARIMA(2, 1, 5)\n",
      "For energy, the AIC for ARIMA(2,1,5) is: -216.891798480701\n",
      "Attempting to fit ARIMA(3, 1, 0)\n",
      "For energy, the AIC for ARIMA(3,1,0) is: -222.38062950243759\n",
      "Attempting to fit ARIMA(3, 1, 1)\n",
      "For energy, the AIC for ARIMA(3,1,1) is: -220.8019869745156\n",
      "Attempting to fit ARIMA(3, 1, 2)\n",
      "For energy, the AIC for ARIMA(3,1,2) is: -219.17871608622195\n",
      "Attempting to fit ARIMA(3, 1, 3)\n",
      "Attempting to fit ARIMA(3, 1, 4)\n",
      "For energy, the AIC for ARIMA(3,1,4) is: -219.50172988316174\n",
      "Attempting to fit ARIMA(3, 1, 5)\n",
      "For energy, the AIC for ARIMA(3,1,5) is: -213.94799599669145\n",
      "Attempting to fit ARIMA(4, 1, 0)\n",
      "For energy, the AIC for ARIMA(4,1,0) is: -220.5798381388137\n",
      "Attempting to fit ARIMA(4, 1, 1)\n",
      "For energy, the AIC for ARIMA(4,1,1) is: -221.1153549534241\n",
      "Attempting to fit ARIMA(4, 1, 2)\n",
      "For energy, the AIC for ARIMA(4,1,2) is: -219.25714057167878\n",
      "Attempting to fit ARIMA(4, 1, 3)\n",
      "For energy, the AIC for ARIMA(4,1,3) is: -215.1659364787901\n",
      "Attempting to fit ARIMA(4, 1, 4)\n",
      "For energy, the AIC for ARIMA(4,1,4) is: -200.48735928417372\n",
      "Attempting to fit ARIMA(4, 1, 5)\n",
      "Attempting to fit ARIMA(5, 1, 0)\n",
      "For energy, the AIC for ARIMA(5,1,0) is: -219.10691123720792\n",
      "Attempting to fit ARIMA(5, 1, 1)\n",
      "For energy, the AIC for ARIMA(5,1,1) is: -217.57312383725136\n",
      "Attempting to fit ARIMA(5, 1, 2)\n",
      "For energy, the AIC for ARIMA(5,1,2) is: -219.32419196833055\n",
      "Attempting to fit ARIMA(5, 1, 3)\n",
      "For energy, the AIC for ARIMA(5,1,3) is: -214.57344625177896\n",
      "Attempting to fit ARIMA(5, 1, 4)\n",
      "For energy, the AIC for ARIMA(5,1,4) is: -215.45120009896138\n",
      "Attempting to fit ARIMA(5, 1, 5)\n",
      "\n",
      "ENERGY MODEL FINISHED!\n",
      "The model for energy that minimizes AIC on the training data is the ARIMA(2,1,0).\n",
      "The model has an aIC of -224.3612836643628.\n",
      "\n"
     ]
    }
   ],
   "source": [
    "for feature in five_features:\n",
    "    find_p_and_q(it_rw_20, feature, arima_dict_20)"
   ]
  },
  {
   "cell_type": "code",
   "execution_count": 100,
   "metadata": {},
   "outputs": [
    {
     "data": {
      "text/html": [
       "<div>\n",
       "<style scoped>\n",
       "    .dataframe tbody tr th:only-of-type {\n",
       "        vertical-align: middle;\n",
       "    }\n",
       "\n",
       "    .dataframe tbody tr th {\n",
       "        vertical-align: top;\n",
       "    }\n",
       "\n",
       "    .dataframe thead th {\n",
       "        text-align: right;\n",
       "    }\n",
       "</style>\n",
       "<table border=\"1\" class=\"dataframe\">\n",
       "  <thead>\n",
       "    <tr style=\"text-align: right;\">\n",
       "      <th></th>\n",
       "      <th>audio_feature</th>\n",
       "      <th>ndiffs(d)</th>\n",
       "      <th>best_p</th>\n",
       "      <th>best_q</th>\n",
       "      <th>order</th>\n",
       "      <th>ARIMA_model</th>\n",
       "      <th>ARIMA_AIC</th>\n",
       "    </tr>\n",
       "  </thead>\n",
       "  <tbody>\n",
       "    <tr>\n",
       "      <th>0</th>\n",
       "      <td>danceability</td>\n",
       "      <td>1</td>\n",
       "      <td>2</td>\n",
       "      <td>2</td>\n",
       "      <td>(2, 1, 2)</td>\n",
       "      <td>ARIMA(2,1,2)</td>\n",
       "      <td>-214.352402</td>\n",
       "    </tr>\n",
       "    <tr>\n",
       "      <th>1</th>\n",
       "      <td>mode</td>\n",
       "      <td>1</td>\n",
       "      <td>4</td>\n",
       "      <td>0</td>\n",
       "      <td>(4, 1, 0)</td>\n",
       "      <td>ARIMA(4,1,0)</td>\n",
       "      <td>-187.656554</td>\n",
       "    </tr>\n",
       "    <tr>\n",
       "      <th>2</th>\n",
       "      <td>acousticness</td>\n",
       "      <td>1</td>\n",
       "      <td>1</td>\n",
       "      <td>1</td>\n",
       "      <td>(1, 1, 1)</td>\n",
       "      <td>ARIMA(1,1,1)</td>\n",
       "      <td>-170.836344</td>\n",
       "    </tr>\n",
       "    <tr>\n",
       "      <th>3</th>\n",
       "      <td>valence</td>\n",
       "      <td>1</td>\n",
       "      <td>0</td>\n",
       "      <td>0</td>\n",
       "      <td>(0, 1, 0)</td>\n",
       "      <td>ARIMA(0,1,0)</td>\n",
       "      <td>-208.242293</td>\n",
       "    </tr>\n",
       "    <tr>\n",
       "      <th>4</th>\n",
       "      <td>energy</td>\n",
       "      <td>1</td>\n",
       "      <td>2</td>\n",
       "      <td>0</td>\n",
       "      <td>(2, 1, 0)</td>\n",
       "      <td>ARIMA(2,1,0)</td>\n",
       "      <td>-224.361284</td>\n",
       "    </tr>\n",
       "  </tbody>\n",
       "</table>\n",
       "</div>"
      ],
      "text/plain": [
       "  audio_feature  ndiffs(d)  best_p  best_q      order   ARIMA_model  \\\n",
       "0  danceability          1       2       2  (2, 1, 2)  ARIMA(2,1,2)   \n",
       "1          mode          1       4       0  (4, 1, 0)  ARIMA(4,1,0)   \n",
       "2  acousticness          1       1       1  (1, 1, 1)  ARIMA(1,1,1)   \n",
       "3       valence          1       0       0  (0, 1, 0)  ARIMA(0,1,0)   \n",
       "4        energy          1       2       0  (2, 1, 0)  ARIMA(2,1,0)   \n",
       "\n",
       "    ARIMA_AIC  \n",
       "0 -214.352402  \n",
       "1 -187.656554  \n",
       "2 -170.836344  \n",
       "3 -208.242293  \n",
       "4 -224.361284  "
      ]
     },
     "execution_count": 100,
     "metadata": {},
     "output_type": "execute_result"
    }
   ],
   "source": [
    "arima_param_df_20 = pd.DataFrame(arima_dict_20)\n",
    "arima_param_df_20"
   ]
  },
  {
   "cell_type": "markdown",
   "metadata": {},
   "source": [
    "# ARIMA Models  "
   ]
  },
  {
   "cell_type": "markdown",
   "metadata": {},
   "source": [
    "### Function to create, evaluate, and plot `ARIMA` models "
   ]
  },
  {
   "cell_type": "code",
   "execution_count": 101,
   "metadata": {},
   "outputs": [],
   "source": [
    "def arima_predict_plot(df, feature, year, param_df, title='title', figsize=(15,5), order=None, d=None, ci=True):\n",
    "  \n",
    "    # create train and test sets\n",
    "    n_rows = round(len(df)*0.9)\n",
    "    train = df[feature][0:n_rows]\n",
    "    test = df[feature][n_rows:]\n",
    "    \n",
    "    # find ndiffs for stationarity from ndiff dataframe\n",
    "    if d is None: \n",
    "        d = ndiff_df.loc[ndiff_df['audio_feature'] == feature, 'ndiffs for stationarity'].iloc[0]\n",
    "    print(f'd = {d}')\n",
    "    \n",
    "    if order is None:\n",
    "        # find order from arima parameters dataframe \n",
    "        order = param_df.loc[param_df['audio_feature'] == feature, 'order'].iloc[0]\n",
    "    print(f'order = {order}')\n",
    "   \n",
    "    try: \n",
    "        # instantiate ARIMA model\n",
    "        model = ARIMA(train, order=order)\n",
    "\n",
    "        # fit ARIMA model\n",
    "        arima = model.fit()\n",
    "\n",
    "        # get predictions for train and test sets \n",
    "        preds_train = model.predict(params=arima.params, start=train.index[d], end=train.index[-1], typ='levels')\n",
    "        preds_test = model.predict(params=arima.params, start=test.index[0], end=test.index[-1], typ='levels')\n",
    "\n",
    "        # calculate and print RMSE for train and test setes \n",
    "        train_rmse = mean_squared_error(train[d::], preds_train)**0.5\n",
    "        print(f'{feature.capitalize()} train RMSE ({year}) - ARIMA({order}): {train_rmse}')\n",
    "\n",
    "        test_rmse = mean_squared_error(test, preds_test)**0.5\n",
    "        print(f'{feature.capitalize()} test RMSE ({year}) - ARIMA({order}): {test_rmse}')\n",
    "\n",
    "        # add RMSEs to arima parameters dataframe \n",
    "        param_df.loc[param_df['audio_feature'] == feature, 'arima_train_rmse'] = train_rmse    \n",
    "        param_df.loc[param_df['audio_feature'] == feature, 'arima_test_rmse'] = test_rmse\n",
    "\n",
    "          # set up plot\n",
    "        plt.figure(figsize=figsize)\n",
    "\n",
    "        # plot training data \n",
    "        plt.plot(train, color='blue')\n",
    "\n",
    "        # plot testing data \n",
    "        plt.plot(test.index, test, color='orange')\n",
    "\n",
    "        # plot predicted values for test set \n",
    "        plt.plot(test.index, preds_test, color='green')\n",
    "\n",
    "        # add line for the baseline model (mean value of feature)\n",
    "        plt.hlines(df[feature].mean(), train.index[0], test.index[-1], color = 'grey')\n",
    "\n",
    "        # plot confidence interval\n",
    "        if ci:\n",
    "            ci = 1.96 * np.std(preds_test)/np.mean(preds_test)\n",
    "            plt.fill_between(test.index, (preds_test - ci), (preds_test + ci), color='blue', alpha=.1) \n",
    "\n",
    "        # make plot with title! \n",
    "        plt.title(title, fontsize=16)\n",
    "        plt.show() ; \n",
    "        \n",
    "    except:\n",
    "        print(ValueError)\n",
    "        pass"
   ]
  },
  {
   "cell_type": "code",
   "execution_count": null,
   "metadata": {},
   "outputs": [],
   "source": []
  },
  {
   "cell_type": "markdown",
   "metadata": {},
   "source": [
    "_Function soley for plotting to be used when needed._"
   ]
  },
  {
   "cell_type": "code",
   "execution_count": 102,
   "metadata": {},
   "outputs": [],
   "source": [
    "def arima_plot(train, test, preds_test, title='title', figsize=(15,5), ci=True):\n",
    "    \n",
    "    # set up plot\n",
    "    plt.figure(figsize=figsize)\n",
    "    \n",
    "    # plot training data \n",
    "    plt.plot(train, color='blue')\n",
    "    \n",
    "    # plot testing data \n",
    "    plt.plot(test.index, test, color='orange')\n",
    "    \n",
    "    # plot predicted values for test set \n",
    "    plt.plot(test.index, preds_test, color='green')\n",
    "    \n",
    "    # add line for the baseline model (mean value of feature)\n",
    "    # plt.hlines(df[feature].mean(), train.index[0], test.index[-1], color = 'grey')\n",
    "    \n",
    "    # plot confidence interval \n",
    "    if ci:\n",
    "        ci = 1.96 * np.std(preds_test)/np.mean(preds_test)\n",
    "        plt.fill_between(test.index, (preds_test - ci), (preds_test + ci), color='blue', alpha=.1) \n",
    "    \n",
    "    # make plot with title! \n",
    "    plt.title(title, fontsize=16)\n",
    "    plt.show() ; "
   ]
  },
  {
   "cell_type": "markdown",
   "metadata": {},
   "source": [
    "### ARIMA Models - 2020\n",
    "\n",
    "_Using `arima_predict_plot` function to run ARIMA model for each feature and show plot of actual vs. test._\n",
    "\n",
    "_This will also add columns for `arima_train_rmse` and `arima_test_rmse`._"
   ]
  },
  {
   "cell_type": "code",
   "execution_count": 103,
   "metadata": {},
   "outputs": [
    {
     "data": {
      "text/html": [
       "<div>\n",
       "<style scoped>\n",
       "    .dataframe tbody tr th:only-of-type {\n",
       "        vertical-align: middle;\n",
       "    }\n",
       "\n",
       "    .dataframe tbody tr th {\n",
       "        vertical-align: top;\n",
       "    }\n",
       "\n",
       "    .dataframe thead th {\n",
       "        text-align: right;\n",
       "    }\n",
       "</style>\n",
       "<table border=\"1\" class=\"dataframe\">\n",
       "  <thead>\n",
       "    <tr style=\"text-align: right;\">\n",
       "      <th></th>\n",
       "      <th>Position</th>\n",
       "      <th>danceability</th>\n",
       "      <th>energy</th>\n",
       "      <th>key</th>\n",
       "      <th>loudness</th>\n",
       "      <th>mode</th>\n",
       "      <th>speechiness</th>\n",
       "      <th>acousticness</th>\n",
       "      <th>instrumentalness</th>\n",
       "      <th>liveness</th>\n",
       "      <th>valence</th>\n",
       "      <th>tempo</th>\n",
       "      <th>duration_ms</th>\n",
       "      <th>time_signature</th>\n",
       "    </tr>\n",
       "    <tr>\n",
       "      <th>date</th>\n",
       "      <th></th>\n",
       "      <th></th>\n",
       "      <th></th>\n",
       "      <th></th>\n",
       "      <th></th>\n",
       "      <th></th>\n",
       "      <th></th>\n",
       "      <th></th>\n",
       "      <th></th>\n",
       "      <th></th>\n",
       "      <th></th>\n",
       "      <th></th>\n",
       "      <th></th>\n",
       "      <th></th>\n",
       "    </tr>\n",
       "  </thead>\n",
       "  <tbody>\n",
       "    <tr>\n",
       "      <th>2020-01-05</th>\n",
       "      <td>25.5</td>\n",
       "      <td>0.696228</td>\n",
       "      <td>0.645564</td>\n",
       "      <td>6.336</td>\n",
       "      <td>-6.606992</td>\n",
       "      <td>0.628000</td>\n",
       "      <td>0.128064</td>\n",
       "      <td>0.228294</td>\n",
       "      <td>0.030112</td>\n",
       "      <td>0.183885</td>\n",
       "      <td>0.474768</td>\n",
       "      <td>119.054180</td>\n",
       "      <td>189219.892000</td>\n",
       "      <td>3.960000</td>\n",
       "    </tr>\n",
       "    <tr>\n",
       "      <th>2020-01-12</th>\n",
       "      <td>25.5</td>\n",
       "      <td>0.668417</td>\n",
       "      <td>0.639666</td>\n",
       "      <td>5.720</td>\n",
       "      <td>-6.622551</td>\n",
       "      <td>0.611429</td>\n",
       "      <td>0.126540</td>\n",
       "      <td>0.231547</td>\n",
       "      <td>0.032838</td>\n",
       "      <td>0.172342</td>\n",
       "      <td>0.445104</td>\n",
       "      <td>119.640874</td>\n",
       "      <td>189433.622857</td>\n",
       "      <td>3.945714</td>\n",
       "    </tr>\n",
       "  </tbody>\n",
       "</table>\n",
       "</div>"
      ],
      "text/plain": [
       "            Position  danceability    energy    key  loudness      mode  \\\n",
       "date                                                                      \n",
       "2020-01-05      25.5      0.696228  0.645564  6.336 -6.606992  0.628000   \n",
       "2020-01-12      25.5      0.668417  0.639666  5.720 -6.622551  0.611429   \n",
       "\n",
       "            speechiness  acousticness  instrumentalness  liveness   valence  \\\n",
       "date                                                                          \n",
       "2020-01-05     0.128064      0.228294          0.030112  0.183885  0.474768   \n",
       "2020-01-12     0.126540      0.231547          0.032838  0.172342  0.445104   \n",
       "\n",
       "                 tempo    duration_ms  time_signature  \n",
       "date                                                   \n",
       "2020-01-05  119.054180  189219.892000        3.960000  \n",
       "2020-01-12  119.640874  189433.622857        3.945714  "
      ]
     },
     "execution_count": 103,
     "metadata": {},
     "output_type": "execute_result"
    }
   ],
   "source": [
    "it_rw_20.head(2)"
   ]
  },
  {
   "cell_type": "code",
   "execution_count": 104,
   "metadata": {},
   "outputs": [
    {
     "data": {
      "text/html": [
       "<div>\n",
       "<style scoped>\n",
       "    .dataframe tbody tr th:only-of-type {\n",
       "        vertical-align: middle;\n",
       "    }\n",
       "\n",
       "    .dataframe tbody tr th {\n",
       "        vertical-align: top;\n",
       "    }\n",
       "\n",
       "    .dataframe thead th {\n",
       "        text-align: right;\n",
       "    }\n",
       "</style>\n",
       "<table border=\"1\" class=\"dataframe\">\n",
       "  <thead>\n",
       "    <tr style=\"text-align: right;\">\n",
       "      <th></th>\n",
       "      <th>Position</th>\n",
       "      <th>danceability</th>\n",
       "      <th>energy</th>\n",
       "      <th>key</th>\n",
       "      <th>loudness</th>\n",
       "      <th>mode</th>\n",
       "      <th>speechiness</th>\n",
       "      <th>acousticness</th>\n",
       "      <th>instrumentalness</th>\n",
       "      <th>liveness</th>\n",
       "      <th>valence</th>\n",
       "      <th>tempo</th>\n",
       "      <th>duration_ms</th>\n",
       "      <th>time_signature</th>\n",
       "    </tr>\n",
       "    <tr>\n",
       "      <th>date</th>\n",
       "      <th></th>\n",
       "      <th></th>\n",
       "      <th></th>\n",
       "      <th></th>\n",
       "      <th></th>\n",
       "      <th></th>\n",
       "      <th></th>\n",
       "      <th></th>\n",
       "      <th></th>\n",
       "      <th></th>\n",
       "      <th></th>\n",
       "      <th></th>\n",
       "      <th></th>\n",
       "      <th></th>\n",
       "    </tr>\n",
       "  </thead>\n",
       "  <tbody>\n",
       "    <tr>\n",
       "      <th>2020-12-27</th>\n",
       "      <td>26.111429</td>\n",
       "      <td>0.658540</td>\n",
       "      <td>0.601163</td>\n",
       "      <td>5.225714</td>\n",
       "      <td>-7.301663</td>\n",
       "      <td>0.620000</td>\n",
       "      <td>0.099900</td>\n",
       "      <td>0.313663</td>\n",
       "      <td>0.036708</td>\n",
       "      <td>0.155573</td>\n",
       "      <td>0.494371</td>\n",
       "      <td>117.747651</td>\n",
       "      <td>190622.557143</td>\n",
       "      <td>3.894286</td>\n",
       "    </tr>\n",
       "    <tr>\n",
       "      <th>2021-01-03</th>\n",
       "      <td>25.948571</td>\n",
       "      <td>0.663151</td>\n",
       "      <td>0.618714</td>\n",
       "      <td>5.782857</td>\n",
       "      <td>-7.345991</td>\n",
       "      <td>0.582857</td>\n",
       "      <td>0.104829</td>\n",
       "      <td>0.309551</td>\n",
       "      <td>0.028036</td>\n",
       "      <td>0.173735</td>\n",
       "      <td>0.492659</td>\n",
       "      <td>115.925700</td>\n",
       "      <td>194482.251429</td>\n",
       "      <td>3.942857</td>\n",
       "    </tr>\n",
       "  </tbody>\n",
       "</table>\n",
       "</div>"
      ],
      "text/plain": [
       "             Position  danceability    energy       key  loudness      mode  \\\n",
       "date                                                                          \n",
       "2020-12-27  26.111429      0.658540  0.601163  5.225714 -7.301663  0.620000   \n",
       "2021-01-03  25.948571      0.663151  0.618714  5.782857 -7.345991  0.582857   \n",
       "\n",
       "            speechiness  acousticness  instrumentalness  liveness   valence  \\\n",
       "date                                                                          \n",
       "2020-12-27     0.099900      0.313663          0.036708  0.155573  0.494371   \n",
       "2021-01-03     0.104829      0.309551          0.028036  0.173735  0.492659   \n",
       "\n",
       "                 tempo    duration_ms  time_signature  \n",
       "date                                                   \n",
       "2020-12-27  117.747651  190622.557143        3.894286  \n",
       "2021-01-03  115.925700  194482.251429        3.942857  "
      ]
     },
     "execution_count": 104,
     "metadata": {},
     "output_type": "execute_result"
    }
   ],
   "source": [
    "it_rw_20.tail(2)"
   ]
  },
  {
   "cell_type": "code",
   "execution_count": 105,
   "metadata": {},
   "outputs": [
    {
     "name": "stdout",
     "output_type": "stream",
     "text": [
      "d = 1\n",
      "order = (2, 1, 2)\n",
      "Danceability train RMSE (2020) - ARIMA((2, 1, 2)): 0.02995457600968979\n",
      "Danceability test RMSE (2020) - ARIMA((2, 1, 2)): 0.031795124603817455\n"
     ]
    },
    {
     "data": {
      "image/png": "[encoded data removed]",
      "text/plain": [
       "<Figure size 1080x360 with 1 Axes>"
      ]
     },
     "metadata": {
      "needs_background": "light"
     },
     "output_type": "display_data"
    },
    {
     "name": "stdout",
     "output_type": "stream",
     "text": [
      "d = 1\n",
      "order = (4, 1, 0)\n",
      "Mode train RMSE (2020) - ARIMA((4, 1, 0)): 0.036004276661332824\n",
      "Mode test RMSE (2020) - ARIMA((4, 1, 0)): 0.05415778931423301\n"
     ]
    },
    {
     "data": {
      "image/png": "[encoded data removed]",
      "text/plain": [
       "<Figure size 1080x360 with 1 Axes>"
      ]
     },
     "metadata": {
      "needs_background": "light"
     },
     "output_type": "display_data"
    },
    {
     "name": "stdout",
     "output_type": "stream",
     "text": [
      "d = 1\n",
      "order = (1, 1, 1)\n",
      "Acousticness train RMSE (2020) - ARIMA((1, 1, 1)): 0.0449079068196806\n",
      "Acousticness test RMSE (2020) - ARIMA((1, 1, 1)): 0.03127249902226224\n"
     ]
    },
    {
     "data": {
      "image/png": "[encoded data removed]",
      "text/plain": [
       "<Figure size 1080x360 with 1 Axes>"
      ]
     },
     "metadata": {
      "needs_background": "light"
     },
     "output_type": "display_data"
    },
    {
     "name": "stdout",
     "output_type": "stream",
     "text": [
      "d = 1\n",
      "order = (0, 1, 0)\n",
      "Valence train RMSE (2020) - ARIMA((0, 1, 0)): 0.032649397834744937\n",
      "Valence test RMSE (2020) - ARIMA((0, 1, 0)): 0.02714817888315545\n"
     ]
    },
    {
     "data": {
      "image/png": "[encoded data removed]",
      "text/plain": [
       "<Figure size 1080x360 with 1 Axes>"
      ]
     },
     "metadata": {
      "needs_background": "light"
     },
     "output_type": "display_data"
    },
    {
     "name": "stdout",
     "output_type": "stream",
     "text": [
      "d = 1\n",
      "order = (2, 1, 0)\n",
      "Energy train RMSE (2020) - ARIMA((2, 1, 0)): 0.026839029444809273\n",
      "Energy test RMSE (2020) - ARIMA((2, 1, 0)): 0.02064052637203931\n"
     ]
    },
    {
     "data": {
      "image/png": "[encoded data removed]",
      "text/plain": [
       "<Figure size 1080x360 with 1 Axes>"
      ]
     },
     "metadata": {
      "needs_background": "light"
     },
     "output_type": "display_data"
    }
   ],
   "source": [
    "for feature in five_features: \n",
    "    arima_predict_plot(it_rw_20, feature, 2020, arima_param_df_20, title=f'Mean {feature.capitalize()} Score, Italy 2020 (ARIMA, custom d)')"
   ]
  },
  {
   "cell_type": "markdown",
   "metadata": {},
   "source": [
    "#### _Updated `arima_param_df_20`_"
   ]
  },
  {
   "cell_type": "code",
   "execution_count": 106,
   "metadata": {},
   "outputs": [
    {
     "data": {
      "text/html": [
       "<div>\n",
       "<style scoped>\n",
       "    .dataframe tbody tr th:only-of-type {\n",
       "        vertical-align: middle;\n",
       "    }\n",
       "\n",
       "    .dataframe tbody tr th {\n",
       "        vertical-align: top;\n",
       "    }\n",
       "\n",
       "    .dataframe thead th {\n",
       "        text-align: right;\n",
       "    }\n",
       "</style>\n",
       "<table border=\"1\" class=\"dataframe\">\n",
       "  <thead>\n",
       "    <tr style=\"text-align: right;\">\n",
       "      <th></th>\n",
       "      <th>audio_feature</th>\n",
       "      <th>ndiffs(d)</th>\n",
       "      <th>best_p</th>\n",
       "      <th>best_q</th>\n",
       "      <th>order</th>\n",
       "      <th>ARIMA_model</th>\n",
       "      <th>ARIMA_AIC</th>\n",
       "      <th>arima_train_rmse</th>\n",
       "      <th>arima_test_rmse</th>\n",
       "    </tr>\n",
       "  </thead>\n",
       "  <tbody>\n",
       "    <tr>\n",
       "      <th>0</th>\n",
       "      <td>danceability</td>\n",
       "      <td>1</td>\n",
       "      <td>2</td>\n",
       "      <td>2</td>\n",
       "      <td>(2, 1, 2)</td>\n",
       "      <td>ARIMA(2,1,2)</td>\n",
       "      <td>-214.352402</td>\n",
       "      <td>0.029955</td>\n",
       "      <td>0.031795</td>\n",
       "    </tr>\n",
       "    <tr>\n",
       "      <th>1</th>\n",
       "      <td>mode</td>\n",
       "      <td>1</td>\n",
       "      <td>4</td>\n",
       "      <td>0</td>\n",
       "      <td>(4, 1, 0)</td>\n",
       "      <td>ARIMA(4,1,0)</td>\n",
       "      <td>-187.656554</td>\n",
       "      <td>0.036004</td>\n",
       "      <td>0.054158</td>\n",
       "    </tr>\n",
       "    <tr>\n",
       "      <th>2</th>\n",
       "      <td>acousticness</td>\n",
       "      <td>1</td>\n",
       "      <td>1</td>\n",
       "      <td>1</td>\n",
       "      <td>(1, 1, 1)</td>\n",
       "      <td>ARIMA(1,1,1)</td>\n",
       "      <td>-170.836344</td>\n",
       "      <td>0.044908</td>\n",
       "      <td>0.031272</td>\n",
       "    </tr>\n",
       "    <tr>\n",
       "      <th>3</th>\n",
       "      <td>valence</td>\n",
       "      <td>1</td>\n",
       "      <td>0</td>\n",
       "      <td>0</td>\n",
       "      <td>(0, 1, 0)</td>\n",
       "      <td>ARIMA(0,1,0)</td>\n",
       "      <td>-208.242293</td>\n",
       "      <td>0.032649</td>\n",
       "      <td>0.027148</td>\n",
       "    </tr>\n",
       "    <tr>\n",
       "      <th>4</th>\n",
       "      <td>energy</td>\n",
       "      <td>1</td>\n",
       "      <td>2</td>\n",
       "      <td>0</td>\n",
       "      <td>(2, 1, 0)</td>\n",
       "      <td>ARIMA(2,1,0)</td>\n",
       "      <td>-224.361284</td>\n",
       "      <td>0.026839</td>\n",
       "      <td>0.020641</td>\n",
       "    </tr>\n",
       "  </tbody>\n",
       "</table>\n",
       "</div>"
      ],
      "text/plain": [
       "  audio_feature  ndiffs(d)  best_p  best_q      order   ARIMA_model  \\\n",
       "0  danceability          1       2       2  (2, 1, 2)  ARIMA(2,1,2)   \n",
       "1          mode          1       4       0  (4, 1, 0)  ARIMA(4,1,0)   \n",
       "2  acousticness          1       1       1  (1, 1, 1)  ARIMA(1,1,1)   \n",
       "3       valence          1       0       0  (0, 1, 0)  ARIMA(0,1,0)   \n",
       "4        energy          1       2       0  (2, 1, 0)  ARIMA(2,1,0)   \n",
       "\n",
       "    ARIMA_AIC  arima_train_rmse  arima_test_rmse  \n",
       "0 -214.352402          0.029955         0.031795  \n",
       "1 -187.656554          0.036004         0.054158  \n",
       "2 -170.836344          0.044908         0.031272  \n",
       "3 -208.242293          0.032649         0.027148  \n",
       "4 -224.361284          0.026839         0.020641  "
      ]
     },
     "execution_count": 106,
     "metadata": {},
     "output_type": "execute_result"
    }
   ],
   "source": [
    "arima_param_df_20"
   ]
  },
  {
   "cell_type": "markdown",
   "metadata": {},
   "source": [
    "# SARIMAX models "
   ]
  },
  {
   "cell_type": "code",
   "execution_count": 107,
   "metadata": {},
   "outputs": [],
   "source": [
    "from statsmodels.tsa.statespace.sarimax import SARIMAX"
   ]
  },
  {
   "cell_type": "markdown",
   "metadata": {},
   "source": [
    "#### _As baseline, Fitting SARIMAX with `seasonal_order = (2, 0, 2, 52)` and no exogenous variables before incorporating/engineering those components._"
   ]
  },
  {
   "cell_type": "code",
   "execution_count": 108,
   "metadata": {},
   "outputs": [
    {
     "name": "stdout",
     "output_type": "stream",
     "text": [
      "RMSE = 0.03\n"
     ]
    },
    {
     "data": {
      "image/png": "[encoded data removed]",
      "text/plain": [
       "<Figure size 720x216 with 1 Axes>"
      ]
     },
     "metadata": {
      "needs_background": "light"
     },
     "output_type": "display_data"
    }
   ],
   "source": [
    "P, D, Q, S = 2, 0 ,2, 52\n",
    "train_val = it_rw_20['valence'][0:48]\n",
    "test_val = it_rw_20['valence'][48:]\n",
    "\n",
    "sarima_val = SARIMAX(endog = train_val, order = (2, 0, 2), seasonal_order = (P, D, Q, S)).fit()\n",
    "# sarima_pred = sarima.predict(start=start, end = end)\n",
    "\n",
    "preds_train_sarima_val = sarima_val.predict(start=train_val.index[0], end=train_val.index[-1])\n",
    "preds_test_sarima_val = sarima_val.predict(start=test_val.index[0], end=test_val.index[-1])\n",
    "\n",
    "print(f'RMSE = {round(mean_squared_error(test_val, preds_test_sarima_val)**.5, 2)}')\n",
    "\n",
    "arima_plot(train_val, test_val, preds_test_sarima_val, title=\"Basic SARIMA model - Valence, Italy 2020\", figsize=(10,3))"
   ]
  },
  {
   "cell_type": "markdown",
   "metadata": {},
   "source": [
    "#### Plotting ARIMA plot from above again, for comparison: "
   ]
  },
  {
   "cell_type": "code",
   "execution_count": 109,
   "metadata": {},
   "outputs": [
    {
     "name": "stdout",
     "output_type": "stream",
     "text": [
      "d = 1\n",
      "order = (2, 1, 2)\n",
      "Valence train RMSE (2020) - ARIMA((2, 1, 2)): 0.036157040161561356\n",
      "Valence test RMSE (2020) - ARIMA((2, 1, 2)): 0.04017210751841029\n"
     ]
    },
    {
     "data": {
      "image/png": "[encoded data removed]",
      "text/plain": [
       "<Figure size 720x216 with 1 Axes>"
      ]
     },
     "metadata": {
      "needs_background": "light"
     },
     "output_type": "display_data"
    }
   ],
   "source": [
    "arima_predict_plot(it_rw_17, 'valence', 2020, arima_param_df_20, title=f'Mean Valence Score, Italy 2020', figsize=(10,3), order=(2,1,2))"
   ]
  },
  {
   "cell_type": "markdown",
   "metadata": {},
   "source": [
    "### SARIMAX Seasonal Parameters"
   ]
  },
  {
   "cell_type": "markdown",
   "metadata": {},
   "source": [
    "#### _Grid search to find best `P`, `D`, `Q`, and `s` values_"
   ]
  },
  {
   "cell_type": "code",
   "execution_count": 110,
   "metadata": {},
   "outputs": [],
   "source": [
    "def find_sarima_parameters(df, feature, param_df, n_rows=47):    \n",
    "    \n",
    "    import time\n",
    "    t0 = time.time()\n",
    "    final_mae = 1000000000000\n",
    "    final_S = 0\n",
    "    final_D = 0\n",
    "    final_P = 0\n",
    "    final_Q = 0\n",
    "    \n",
    "    # find order from arima parameters dataframe \n",
    "    order = param_df.loc[param_df['audio_feature'] == feature, 'order'].iloc[0]\n",
    "\n",
    "    train_values = df[feature][0:n_rows]\n",
    "    test_values = df[feature][n_rows:]\n",
    "\n",
    "    for S in range(48,53):\n",
    "        for D in range(2):\n",
    "            for P in range(4):\n",
    "                for Q in range(4):\n",
    "                    print(f'Checking ({P}, {D}, {Q}, {S}) at {round(time.time() - t0)} seconds.')\n",
    "                    try:\n",
    "                        sarima = SARIMAX(endog = train_values,\n",
    "                                         order = order,\n",
    "                                         seasonal_order = (P, D, Q, S)).fit()\n",
    "\n",
    "                        sarima_pred = sarima.predict(start=test_values.index[0], end=test_values.index[-1], typ='levels')\n",
    "\n",
    "                        if mean_absolute_error(test_values, sarima_pred) < final_mae:\n",
    "                            final_mae = mean_absolute_error(test_values, sarima_pred)\n",
    "                            final_S = S\n",
    "                            final_D = D\n",
    "                            final_P = P\n",
    "                            final_Q = Q\n",
    "\n",
    "                        print(f'We just fit a SARIMAX(2, 0, 2)x({P}, {D}, {Q}, {S}) model with {mean_absolute_error(test_values, sarima_pred)} MAE and {mean_squared_error(test_values, sarima_pred)**0.5} RMSE.')\n",
    "\n",
    "                    except:\n",
    "                        print('problem!')\n",
    "                        raise\n",
    "\n",
    "    print()\n",
    "    print(f'The final model for {feature} is SARIMAX(2, 0, 2)x({final_P}, {final_D}, {final_Q}, {final_S}).')\n",
    "    print()"
   ]
  },
  {
   "cell_type": "code",
   "execution_count": 111,
   "metadata": {
    "scrolled": true
   },
   "outputs": [],
   "source": [
    "# five_features\n",
    "\n",
    "# for feature in five_features: \n",
    "#     find_sarima_parameters(it_rw_20, feature, arima_param_df_20)"
   ]
  },
  {
   "cell_type": "markdown",
   "metadata": {},
   "source": [
    "Encounted `linalgerror` while trying to run `find_sarima_parameters` on 2020 Italy data (`it_rw_20`). It did run for danceability, mode, and acousticness, and the `seasonal_order` output was similar to that which I found for the 2017. I will therefore use the same `seasonal_order` for each the audio as was determined by the 2017 data (`it_rw_17). "
   ]
  },
  {
   "cell_type": "markdown",
   "metadata": {},
   "source": [
    "Results for the above for 2017 data:\n",
    "+ The final model for danceability is SARIMAX(2, 0, 2)x(3, 0, 0, 48).\n",
    "+ The final model for mode is SARIMAX(2, 0, 2)x(1, 0, 1, 52).\n",
    "+ The final model for acousticness is SARIMAX(2, 0, 2)x(1, 0, 2, 48).\n",
    "+ The final model for valence is SARIMAX(2, 0, 2)x(0, 0, 1, 49).\n",
    "+ The final model for energy is SARIMAX(2, 0, 2)x(2, 0, 0, 49)."
   ]
  },
  {
   "cell_type": "markdown",
   "metadata": {},
   "source": [
    "Results from SARIMA seasonal order grid search using 2017-2020 data:\n",
    "\n",
    "+ The final model for danceability is SARIMAX(2, 0, 2)x(2, 0, 3, 48).\n",
    "+ The final model for mode is SARIMAX(2, 0, 2)x(0, 0, 0, 48).\n",
    "+ The final model for acousticness is SARIMAX(2, 0, 2)x(0, 1, 0, 48).\n",
    "+ The final model for valence is SARIMAX(2, 0, 2)x(1, 0, 3, 50).\n",
    "+ The final model for energy is SARIMAX(2, 0, 2)x(0, 0, 2, 51)."
   ]
  },
  {
   "cell_type": "markdown",
   "metadata": {},
   "source": [
    "#### _Adding Seasonal Orders to `param_df`_"
   ]
  },
  {
   "cell_type": "markdown",
   "metadata": {},
   "source": [
    "citation: converting string to tuple https://www.geeksforgeeks.org/python-convert-string-to-tuple/"
   ]
  },
  {
   "cell_type": "code",
   "execution_count": 112,
   "metadata": {},
   "outputs": [],
   "source": [
    "arima_param_df_20.loc[arima_param_df_20['audio_feature'] == 'danceability', 'seasonal_order'] = '3, 0, 0, 48'\n",
    "arima_param_df_20.loc[arima_param_df_20['audio_feature'] == 'mode', 'seasonal_order'] = '1, 0, 1, 52'\n",
    "arima_param_df_20.loc[arima_param_df_20['audio_feature'] == 'acousticness', 'seasonal_order'] = '1, 0, 2, 48'\n",
    "arima_param_df_20.loc[arima_param_df_20['audio_feature'] == 'valence', 'seasonal_order'] = '0, 0, 1, 49'\n",
    "arima_param_df_20.loc[arima_param_df_20['audio_feature'] == 'energy', 'seasonal_order'] = '2, 0, 0, 49'"
   ]
  },
  {
   "cell_type": "code",
   "execution_count": 113,
   "metadata": {},
   "outputs": [],
   "source": [
    "arima_param_df_20.loc[arima_param_df_20['audio_feature'] == 'danceability', 'seasonal_order_all_data'] = '2, 0, 3, 48'\n",
    "arima_param_df_20.loc[arima_param_df_20['audio_feature'] == 'mode', 'seasonal_order_all_data'] = '0, 0, 0, 48'\n",
    "arima_param_df_20.loc[arima_param_df_20['audio_feature'] == 'acousticness', 'seasonal_order_all_data'] = '0, 1, 0, 48'\n",
    "arima_param_df_20.loc[arima_param_df_20['audio_feature'] == 'valence', 'seasonal_order_all_data'] = '1, 0, 3, 50'\n",
    "arima_param_df_20.loc[arima_param_df_20['audio_feature'] == 'energy', 'seasonal_order_all_data'] = '0, 0, 2, 51'"
   ]
  },
  {
   "cell_type": "markdown",
   "metadata": {},
   "source": [
    "#### _Updated `arima_param_df_20`_"
   ]
  },
  {
   "cell_type": "code",
   "execution_count": 114,
   "metadata": {},
   "outputs": [
    {
     "data": {
      "text/html": [
       "<div>\n",
       "<style scoped>\n",
       "    .dataframe tbody tr th:only-of-type {\n",
       "        vertical-align: middle;\n",
       "    }\n",
       "\n",
       "    .dataframe tbody tr th {\n",
       "        vertical-align: top;\n",
       "    }\n",
       "\n",
       "    .dataframe thead th {\n",
       "        text-align: right;\n",
       "    }\n",
       "</style>\n",
       "<table border=\"1\" class=\"dataframe\">\n",
       "  <thead>\n",
       "    <tr style=\"text-align: right;\">\n",
       "      <th></th>\n",
       "      <th>audio_feature</th>\n",
       "      <th>ndiffs(d)</th>\n",
       "      <th>best_p</th>\n",
       "      <th>best_q</th>\n",
       "      <th>order</th>\n",
       "      <th>ARIMA_model</th>\n",
       "      <th>ARIMA_AIC</th>\n",
       "      <th>arima_train_rmse</th>\n",
       "      <th>arima_test_rmse</th>\n",
       "      <th>seasonal_order</th>\n",
       "      <th>seasonal_order_all_data</th>\n",
       "    </tr>\n",
       "  </thead>\n",
       "  <tbody>\n",
       "    <tr>\n",
       "      <th>0</th>\n",
       "      <td>danceability</td>\n",
       "      <td>1</td>\n",
       "      <td>2</td>\n",
       "      <td>2</td>\n",
       "      <td>(2, 1, 2)</td>\n",
       "      <td>ARIMA(2,1,2)</td>\n",
       "      <td>-214.352402</td>\n",
       "      <td>0.029955</td>\n",
       "      <td>0.031795</td>\n",
       "      <td>3, 0, 0, 48</td>\n",
       "      <td>2, 0, 3, 48</td>\n",
       "    </tr>\n",
       "    <tr>\n",
       "      <th>1</th>\n",
       "      <td>mode</td>\n",
       "      <td>1</td>\n",
       "      <td>4</td>\n",
       "      <td>0</td>\n",
       "      <td>(4, 1, 0)</td>\n",
       "      <td>ARIMA(4,1,0)</td>\n",
       "      <td>-187.656554</td>\n",
       "      <td>0.036004</td>\n",
       "      <td>0.054158</td>\n",
       "      <td>1, 0, 1, 52</td>\n",
       "      <td>0, 0, 0, 48</td>\n",
       "    </tr>\n",
       "    <tr>\n",
       "      <th>2</th>\n",
       "      <td>acousticness</td>\n",
       "      <td>1</td>\n",
       "      <td>1</td>\n",
       "      <td>1</td>\n",
       "      <td>(1, 1, 1)</td>\n",
       "      <td>ARIMA(1,1,1)</td>\n",
       "      <td>-170.836344</td>\n",
       "      <td>0.044908</td>\n",
       "      <td>0.031272</td>\n",
       "      <td>1, 0, 2, 48</td>\n",
       "      <td>0, 1, 0, 48</td>\n",
       "    </tr>\n",
       "    <tr>\n",
       "      <th>3</th>\n",
       "      <td>valence</td>\n",
       "      <td>1</td>\n",
       "      <td>0</td>\n",
       "      <td>0</td>\n",
       "      <td>(0, 1, 0)</td>\n",
       "      <td>ARIMA(0,1,0)</td>\n",
       "      <td>-208.242293</td>\n",
       "      <td>0.036157</td>\n",
       "      <td>0.040172</td>\n",
       "      <td>0, 0, 1, 49</td>\n",
       "      <td>1, 0, 3, 50</td>\n",
       "    </tr>\n",
       "    <tr>\n",
       "      <th>4</th>\n",
       "      <td>energy</td>\n",
       "      <td>1</td>\n",
       "      <td>2</td>\n",
       "      <td>0</td>\n",
       "      <td>(2, 1, 0)</td>\n",
       "      <td>ARIMA(2,1,0)</td>\n",
       "      <td>-224.361284</td>\n",
       "      <td>0.026839</td>\n",
       "      <td>0.020641</td>\n",
       "      <td>2, 0, 0, 49</td>\n",
       "      <td>0, 0, 2, 51</td>\n",
       "    </tr>\n",
       "  </tbody>\n",
       "</table>\n",
       "</div>"
      ],
      "text/plain": [
       "  audio_feature  ndiffs(d)  best_p  best_q      order   ARIMA_model  \\\n",
       "0  danceability          1       2       2  (2, 1, 2)  ARIMA(2,1,2)   \n",
       "1          mode          1       4       0  (4, 1, 0)  ARIMA(4,1,0)   \n",
       "2  acousticness          1       1       1  (1, 1, 1)  ARIMA(1,1,1)   \n",
       "3       valence          1       0       0  (0, 1, 0)  ARIMA(0,1,0)   \n",
       "4        energy          1       2       0  (2, 1, 0)  ARIMA(2,1,0)   \n",
       "\n",
       "    ARIMA_AIC  arima_train_rmse  arima_test_rmse seasonal_order  \\\n",
       "0 -214.352402          0.029955         0.031795    3, 0, 0, 48   \n",
       "1 -187.656554          0.036004         0.054158    1, 0, 1, 52   \n",
       "2 -170.836344          0.044908         0.031272    1, 0, 2, 48   \n",
       "3 -208.242293          0.036157         0.040172    0, 0, 1, 49   \n",
       "4 -224.361284          0.026839         0.020641    2, 0, 0, 49   \n",
       "\n",
       "  seasonal_order_all_data  \n",
       "0             2, 0, 3, 48  \n",
       "1             0, 0, 0, 48  \n",
       "2             0, 1, 0, 48  \n",
       "3             1, 0, 3, 50  \n",
       "4             0, 0, 2, 51  "
      ]
     },
     "execution_count": 114,
     "metadata": {},
     "output_type": "execute_result"
    }
   ],
   "source": [
    "arima_param_df_20"
   ]
  },
  {
   "cell_type": "markdown",
   "metadata": {},
   "source": [
    "#### _Seasonal order experiment (checking this out just on 2019 and 2020 data)_\n",
    "\n",
    "_Modifying the two SARIMA functions below to use the seasonal order that is reflective of all the data instead of just 2017 data to see if this yields better results._ \n",
    "\n",
    "_This means replacing `seasonal_order` with `seasonal_order_all_data` from the `param_df`._ "
   ]
  },
  {
   "cell_type": "markdown",
   "metadata": {},
   "source": [
    "#### _Function for SARIMA w/ seasonal components, no exogenous variables:_"
   ]
  },
  {
   "cell_type": "code",
   "execution_count": 115,
   "metadata": {},
   "outputs": [],
   "source": [
    "def sarima_predict_plot_seasonal(df, feature, year, param_df, title='title', figsize=(15,5), order=None, d=None, seasonal_order=None, ci=True):\n",
    "  \n",
    "    # create train and test sets\n",
    "    n_rows = round(len(df)*0.9)\n",
    "    train = df[feature][0:n_rows]\n",
    "    test = df[feature][n_rows:]\n",
    "    \n",
    "    # find ndiffs for stationarity from ndiff dataframe\n",
    "    if d is None: \n",
    "        d = ndiff_df.loc[ndiff_df['audio_feature'] == feature, 'ndiffs for stationarity'].iloc[0]\n",
    "    print(f'd = {d}')\n",
    "    \n",
    "    # find order from arima parameters dataframe \n",
    "    if order is None:\n",
    "        order = param_df.loc[param_df['audio_feature'] == feature, 'order'].iloc[0]\n",
    "    print(f'order = {order}')\n",
    "    \n",
    "    # find seasonal order from arima parameters dataframe \n",
    "    if seasonal_order is None: \n",
    "        sea_string = param_df.loc[param_df['audio_feature'] == feature, 'seasonal_order_all_data'].iloc[0]\n",
    "        seasonal_order = tuple(map(int, sea_string.split(', '))) \n",
    "    print(f'seasonal order = {seasonal_order}')\n",
    "    \n",
    "    try: \n",
    "\n",
    "        # instantiate and fit SARIMAX model \n",
    "        sarima = SARIMAX(endog=train, order=order, seasonal_order=seasonal_order).fit()\n",
    "\n",
    "        # get predictions for train and test sets \n",
    "        preds_train = sarima.predict(start=train.index[d], end=train.index[-1], typ='levels')\n",
    "        preds_test = sarima.predict(start=test.index[0], end=test.index[-1], typ='levels')\n",
    "\n",
    "        # calculate and print RMSE for train and test setes \n",
    "        train_rmse = mean_squared_error(train[d::], preds_train)**0.5\n",
    "        print(f'{feature.capitalize()} train RMSE ({year}) - SARIMA({order}): {train_rmse}')\n",
    "\n",
    "        test_rmse = mean_squared_error(test, preds_test)**0.5\n",
    "        print(f'{feature.capitalize()} test RMSE ({year}) - SARIMA({order}): {test_rmse}')    \n",
    "\n",
    "        # add RMSEs to arima parameters dataframe \n",
    "        param_df.loc[param_df['audio_feature'] == feature, 'sarima_train_rmse_alltime_so'] = train_rmse    \n",
    "        param_df.loc[param_df['audio_feature'] == feature, 'sarima_test_rmse_alltime_so'] = test_rmse\n",
    "\n",
    "        # calculate residuals\n",
    "        # residuals = test - preds_test\n",
    "\n",
    "        # set up plot\n",
    "        plt.figure(figsize=figsize)\n",
    "\n",
    "        # plot training data \n",
    "        plt.plot(train, color='blue')\n",
    "\n",
    "        # plot testing data \n",
    "        plt.plot(test.index, test, color='orange')\n",
    "\n",
    "        # plot predicted values for test set \n",
    "        plt.plot(test.index, preds_test, color='green')\n",
    "\n",
    "        # add line for the baseline model (mean value of feature)\n",
    "        plt.hlines(df[feature].mean(), train.index[0], test.index[-1], color = 'grey')\n",
    "\n",
    "        # plot confidence interval \n",
    "        if ci:\n",
    "            ci = 1.96 * np.std(preds_test)/np.mean(preds_test)\n",
    "            plt.fill_between(test.index, (preds_test - ci), (preds_test + ci), color='blue', alpha=.1) \n",
    "\n",
    "        # make plot with title! \n",
    "        plt.title(title, fontsize=16)\n",
    "        plt.show() ; \n",
    "        \n",
    "    \n",
    "    except ValueError as ve:\n",
    "        print(ve)\n",
    "        pass"
   ]
  },
  {
   "cell_type": "code",
   "execution_count": 116,
   "metadata": {},
   "outputs": [],
   "source": [
    "def sarima_predict_plot_exog(df, feature, year, param_df, exog_var, title='title', figsize=(15,5), order=None, d=None, seasonal_order=None, ci=True):\n",
    "\n",
    "    # find ndiffs for stationarity from ndiff dataframe\n",
    "    if d is None: \n",
    "        d = ndiff_df.loc[ndiff_df['audio_feature'] == feature, 'ndiffs for stationarity'].iloc[0]\n",
    "    print(f'd = {d}')\n",
    "    \n",
    "    # find order from arima parameters dataframe \n",
    "    if order is None:\n",
    "        order = param_df.loc[param_df['audio_feature'] == feature, 'order'].iloc[0]\n",
    "    print(f'order = {order}')\n",
    "    \n",
    "    # find seasonal order from arima parameters dataframe \n",
    "    if seasonal_order is None: \n",
    "        sea_string = param_df.loc[param_df['audio_feature'] == feature, 'seasonal_order_all_data'].iloc[0]\n",
    "        seasonal_order = tuple(map(int, sea_string.split(', '))) \n",
    "    print(f'seasonal order = {seasonal_order}')\n",
    "    \n",
    "    # reshape exogenous features to pass to the model \n",
    "    exog = df.loc[:, exog_var]   \n",
    "   \n",
    "    # create train and test sets\n",
    "    n_rows = round(len(df)*0.9)\n",
    "    train = df[feature][0:n_rows]\n",
    "    test = df[feature][n_rows:]\n",
    "  \n",
    "    try:\n",
    "        # instantiate and fit SARIMAX model \n",
    "        sarima = SARIMAX(endog=train, exog=exog[0:n_rows], order=order, seasonal_order=seasonal_order).fit()\n",
    "\n",
    "        # get predictions for train and test sets \n",
    "        preds_train = sarima.predict(start=train.index[d], end=train.index[-1], typ='levels', exog=exog[0:n_rows])\n",
    "        preds_test = sarima.predict(start=test.index[0], end=test.index[-1], typ='levels', exog=exog[n_rows:])\n",
    "\n",
    "        # calculate and print RMSE for train and test setes \n",
    "        train_rmse = mean_squared_error(train[d::], preds_train)**0.5\n",
    "        print(f'{feature.capitalize()} train RMSE ({year}) - SARIMAX({seasonal_order}) w/ exogenous variables: {train_rmse}')\n",
    "\n",
    "        test_rmse = mean_squared_error(test, preds_test)**0.5\n",
    "        print(f'{feature.capitalize()} test RMSE ({year}) - SARIMAX({seasonal_order}) w/ exogenous variables: {test_rmse}')    \n",
    "\n",
    "        # add RMSEs to arima parameters dataframe \n",
    "        param_df.loc[param_df['audio_feature'] == feature, 'exog_train_rmse_alltime_so'] = train_rmse    \n",
    "        param_df.loc[param_df['audio_feature'] == feature, 'exog_test_rmse_alltime_so'] = test_rmse\n",
    "\n",
    "        # calculate residuals\n",
    "        # residuals = test - preds_test\n",
    "\n",
    "        # set up plot\n",
    "        plt.figure(figsize=figsize)\n",
    "\n",
    "        # plot training data \n",
    "        plt.plot(train, color='blue')\n",
    "\n",
    "        # plot testing data \n",
    "        plt.plot(test.index, test, color='orange')\n",
    "\n",
    "        # plot predicted values for test set \n",
    "        plt.plot(test.index, preds_test, color='green')\n",
    "\n",
    "        # add line for the baseline model (mean value of feature)\n",
    "        plt.hlines(df[feature].mean(), train.index[0], test.index[-1], color = 'grey')\n",
    "\n",
    "        # plot confidence interval \n",
    "        if ci:\n",
    "            ci = 1.96 * np.std(preds_test)/np.mean(preds_test)\n",
    "            plt.fill_between(test.index, (preds_test - ci), (preds_test + ci), color='blue', alpha=.1) \n",
    "\n",
    "        # make plot with title! \n",
    "        plt.title(title, fontsize=16)\n",
    "        plt.show() ; \n",
    "        \n",
    "    except ValueError as ve:\n",
    "        print(ve)\n",
    "        pass"
   ]
  },
  {
   "cell_type": "code",
   "execution_count": 117,
   "metadata": {},
   "outputs": [],
   "source": [
    "# del sarima_predict_plot_seasonal\n",
    "\n",
    "# from custom_functions import sarima_predict_plot_seasonal\n",
    "\n",
    "# sarima_predict_plot_seasonal()"
   ]
  },
  {
   "cell_type": "code",
   "execution_count": 118,
   "metadata": {},
   "outputs": [
    {
     "name": "stdout",
     "output_type": "stream",
     "text": [
      "d = 1\n",
      "order = (2, 1, 2)\n",
      "seasonal order = (2, 0, 3, 48)\n",
      "Danceability train RMSE (2020) - SARIMA((2, 1, 2)): 0.029737374845260626\n",
      "Danceability test RMSE (2020) - SARIMA((2, 1, 2)): 0.025459629205975484\n"
     ]
    },
    {
     "data": {
      "image/png": "[encoded data removed]",
      "text/plain": [
       "<Figure size 1080x360 with 1 Axes>"
      ]
     },
     "metadata": {
      "needs_background": "light"
     },
     "output_type": "display_data"
    },
    {
     "name": "stdout",
     "output_type": "stream",
     "text": [
      "d = 1\n",
      "order = (4, 1, 0)\n",
      "seasonal order = (0, 0, 0, 48)\n",
      "Mode train RMSE (2020) - SARIMA((4, 1, 0)): 0.0360587032065667\n",
      "Mode test RMSE (2020) - SARIMA((4, 1, 0)): 0.0491067330012038\n"
     ]
    },
    {
     "data": {
      "image/png": "[encoded data removed]",
      "text/plain": [
       "<Figure size 1080x360 with 1 Axes>"
      ]
     },
     "metadata": {
      "needs_background": "light"
     },
     "output_type": "display_data"
    },
    {
     "name": "stdout",
     "output_type": "stream",
     "text": [
      "d = 1\n",
      "order = (1, 1, 1)\n",
      "seasonal order = (0, 1, 0, 48)\n",
      "Acousticness train RMSE (2020) - SARIMA((1, 1, 1)): 0.04802576520706645\n",
      "Acousticness test RMSE (2020) - SARIMA((1, 1, 1)): 0.07281540769558538\n"
     ]
    },
    {
     "data": {
      "image/png": "[encoded data removed]",
      "text/plain": [
       "<Figure size 1080x360 with 1 Axes>"
      ]
     },
     "metadata": {
      "needs_background": "light"
     },
     "output_type": "display_data"
    },
    {
     "name": "stdout",
     "output_type": "stream",
     "text": [
      "d = 1\n",
      "order = (0, 1, 0)\n",
      "seasonal order = (1, 0, 3, 50)\n",
      "Valence train RMSE (2020) - SARIMA((0, 1, 0)): 0.03265138269741449\n",
      "Valence test RMSE (2020) - SARIMA((0, 1, 0)): 0.026010770931932523\n"
     ]
    },
    {
     "data": {
      "image/png": "[encoded data removed]",
      "text/plain": [
       "<Figure size 1080x360 with 1 Axes>"
      ]
     },
     "metadata": {
      "needs_background": "light"
     },
     "output_type": "display_data"
    },
    {
     "name": "stdout",
     "output_type": "stream",
     "text": [
      "d = 1\n",
      "order = (2, 1, 0)\n",
      "seasonal order = (0, 0, 2, 51)\n",
      "Energy train RMSE (2020) - SARIMA((2, 1, 0)): 0.026902708980481027\n",
      "Energy test RMSE (2020) - SARIMA((2, 1, 0)): 0.01657010620076709\n"
     ]
    },
    {
     "data": {
      "image/png": "[encoded data removed]",
      "text/plain": [
       "<Figure size 1080x360 with 1 Axes>"
      ]
     },
     "metadata": {
      "needs_background": "light"
     },
     "output_type": "display_data"
    }
   ],
   "source": [
    "for feature in five_features:\n",
    "    sarima_predict_plot_seasonal(it_rw_20, feature, 2020, arima_param_df_20, title=f'Mean {feature.capitalize()} Score, Italy 2020 (SARIMA w/o exog variables)')"
   ]
  },
  {
   "cell_type": "markdown",
   "metadata": {},
   "source": [
    "#### _Updated `arima_param_df_20`_"
   ]
  },
  {
   "cell_type": "code",
   "execution_count": 119,
   "metadata": {},
   "outputs": [
    {
     "data": {
      "text/html": [
       "<div>\n",
       "<style scoped>\n",
       "    .dataframe tbody tr th:only-of-type {\n",
       "        vertical-align: middle;\n",
       "    }\n",
       "\n",
       "    .dataframe tbody tr th {\n",
       "        vertical-align: top;\n",
       "    }\n",
       "\n",
       "    .dataframe thead th {\n",
       "        text-align: right;\n",
       "    }\n",
       "</style>\n",
       "<table border=\"1\" class=\"dataframe\">\n",
       "  <thead>\n",
       "    <tr style=\"text-align: right;\">\n",
       "      <th></th>\n",
       "      <th>audio_feature</th>\n",
       "      <th>ndiffs(d)</th>\n",
       "      <th>best_p</th>\n",
       "      <th>best_q</th>\n",
       "      <th>order</th>\n",
       "      <th>ARIMA_model</th>\n",
       "      <th>ARIMA_AIC</th>\n",
       "      <th>arima_train_rmse</th>\n",
       "      <th>arima_test_rmse</th>\n",
       "      <th>seasonal_order</th>\n",
       "      <th>seasonal_order_all_data</th>\n",
       "      <th>sarima_train_rmse_alltime_so</th>\n",
       "      <th>sarima_test_rmse_alltime_so</th>\n",
       "    </tr>\n",
       "  </thead>\n",
       "  <tbody>\n",
       "    <tr>\n",
       "      <th>0</th>\n",
       "      <td>danceability</td>\n",
       "      <td>1</td>\n",
       "      <td>2</td>\n",
       "      <td>2</td>\n",
       "      <td>(2, 1, 2)</td>\n",
       "      <td>ARIMA(2,1,2)</td>\n",
       "      <td>-214.352402</td>\n",
       "      <td>0.029955</td>\n",
       "      <td>0.031795</td>\n",
       "      <td>3, 0, 0, 48</td>\n",
       "      <td>2, 0, 3, 48</td>\n",
       "      <td>0.029737</td>\n",
       "      <td>0.025460</td>\n",
       "    </tr>\n",
       "    <tr>\n",
       "      <th>1</th>\n",
       "      <td>mode</td>\n",
       "      <td>1</td>\n",
       "      <td>4</td>\n",
       "      <td>0</td>\n",
       "      <td>(4, 1, 0)</td>\n",
       "      <td>ARIMA(4,1,0)</td>\n",
       "      <td>-187.656554</td>\n",
       "      <td>0.036004</td>\n",
       "      <td>0.054158</td>\n",
       "      <td>1, 0, 1, 52</td>\n",
       "      <td>0, 0, 0, 48</td>\n",
       "      <td>0.036059</td>\n",
       "      <td>0.049107</td>\n",
       "    </tr>\n",
       "    <tr>\n",
       "      <th>2</th>\n",
       "      <td>acousticness</td>\n",
       "      <td>1</td>\n",
       "      <td>1</td>\n",
       "      <td>1</td>\n",
       "      <td>(1, 1, 1)</td>\n",
       "      <td>ARIMA(1,1,1)</td>\n",
       "      <td>-170.836344</td>\n",
       "      <td>0.044908</td>\n",
       "      <td>0.031272</td>\n",
       "      <td>1, 0, 2, 48</td>\n",
       "      <td>0, 1, 0, 48</td>\n",
       "      <td>0.048026</td>\n",
       "      <td>0.072815</td>\n",
       "    </tr>\n",
       "    <tr>\n",
       "      <th>3</th>\n",
       "      <td>valence</td>\n",
       "      <td>1</td>\n",
       "      <td>0</td>\n",
       "      <td>0</td>\n",
       "      <td>(0, 1, 0)</td>\n",
       "      <td>ARIMA(0,1,0)</td>\n",
       "      <td>-208.242293</td>\n",
       "      <td>0.036157</td>\n",
       "      <td>0.040172</td>\n",
       "      <td>0, 0, 1, 49</td>\n",
       "      <td>1, 0, 3, 50</td>\n",
       "      <td>0.032651</td>\n",
       "      <td>0.026011</td>\n",
       "    </tr>\n",
       "    <tr>\n",
       "      <th>4</th>\n",
       "      <td>energy</td>\n",
       "      <td>1</td>\n",
       "      <td>2</td>\n",
       "      <td>0</td>\n",
       "      <td>(2, 1, 0)</td>\n",
       "      <td>ARIMA(2,1,0)</td>\n",
       "      <td>-224.361284</td>\n",
       "      <td>0.026839</td>\n",
       "      <td>0.020641</td>\n",
       "      <td>2, 0, 0, 49</td>\n",
       "      <td>0, 0, 2, 51</td>\n",
       "      <td>0.026903</td>\n",
       "      <td>0.016570</td>\n",
       "    </tr>\n",
       "  </tbody>\n",
       "</table>\n",
       "</div>"
      ],
      "text/plain": [
       "  audio_feature  ndiffs(d)  best_p  best_q      order   ARIMA_model  \\\n",
       "0  danceability          1       2       2  (2, 1, 2)  ARIMA(2,1,2)   \n",
       "1          mode          1       4       0  (4, 1, 0)  ARIMA(4,1,0)   \n",
       "2  acousticness          1       1       1  (1, 1, 1)  ARIMA(1,1,1)   \n",
       "3       valence          1       0       0  (0, 1, 0)  ARIMA(0,1,0)   \n",
       "4        energy          1       2       0  (2, 1, 0)  ARIMA(2,1,0)   \n",
       "\n",
       "    ARIMA_AIC  arima_train_rmse  arima_test_rmse seasonal_order  \\\n",
       "0 -214.352402          0.029955         0.031795    3, 0, 0, 48   \n",
       "1 -187.656554          0.036004         0.054158    1, 0, 1, 52   \n",
       "2 -170.836344          0.044908         0.031272    1, 0, 2, 48   \n",
       "3 -208.242293          0.036157         0.040172    0, 0, 1, 49   \n",
       "4 -224.361284          0.026839         0.020641    2, 0, 0, 49   \n",
       "\n",
       "  seasonal_order_all_data  sarima_train_rmse_alltime_so  \\\n",
       "0             2, 0, 3, 48                      0.029737   \n",
       "1             0, 0, 0, 48                      0.036059   \n",
       "2             0, 1, 0, 48                      0.048026   \n",
       "3             1, 0, 3, 50                      0.032651   \n",
       "4             0, 0, 2, 51                      0.026903   \n",
       "\n",
       "   sarima_test_rmse_alltime_so  \n",
       "0                     0.025460  \n",
       "1                     0.049107  \n",
       "2                     0.072815  \n",
       "3                     0.026011  \n",
       "4                     0.016570  "
      ]
     },
     "execution_count": 119,
     "metadata": {},
     "output_type": "execute_result"
    }
   ],
   "source": [
    "arima_param_df_20"
   ]
  },
  {
   "cell_type": "markdown",
   "metadata": {},
   "source": [
    "#### _Incorporating Exogenous Variables in SARIMAX models_"
   ]
  },
  {
   "cell_type": "markdown",
   "metadata": {},
   "source": [
    "_Identifying exogenous variables for each of the five main features, which for each of them is the other four audio features_"
   ]
  },
  {
   "cell_type": "code",
   "execution_count": 120,
   "metadata": {},
   "outputs": [],
   "source": [
    "five_features = ['danceability', 'mode', 'acousticness', 'valence', 'energy']\n",
    "\n",
    "exog_danceability = ['mode', 'acousticness', 'valence', 'energy']\n",
    "exog_mode = ['danceability', 'acousticness', 'valence', 'energy']\n",
    "exog_acousticness = ['danceability', 'mode', 'valence', 'energy']\n",
    "exog_valence = ['danceability', 'mode', 'acousticness', 'energy']\n",
    "exog_energy = ['danceability', 'mode', 'acousticness', 'valence']"
   ]
  },
  {
   "cell_type": "code",
   "execution_count": 121,
   "metadata": {},
   "outputs": [
    {
     "name": "stdout",
     "output_type": "stream",
     "text": [
      "d = 1\n",
      "order = (2, 1, 2)\n",
      "seasonal order = (2, 0, 3, 48)\n",
      "Danceability train RMSE (2020) - SARIMAX((2, 0, 3, 48)) w/ exogenous variables: 0.017654809819138955\n",
      "Danceability test RMSE (2020) - SARIMAX((2, 0, 3, 48)) w/ exogenous variables: 0.016460019199333202\n"
     ]
    },
    {
     "data": {
      "image/png": "[encoded data removed]",
      "text/plain": [
       "<Figure size 1080x360 with 1 Axes>"
      ]
     },
     "metadata": {
      "needs_background": "light"
     },
     "output_type": "display_data"
    }
   ],
   "source": [
    "sarima_predict_plot_exog(it_rw_20, 'danceability', 2020, arima_param_df_20, exog_var=exog_danceability, title=f'Mean Danceability Score, Italy 2020 (SARIMA w/ exog variables)')"
   ]
  },
  {
   "cell_type": "code",
   "execution_count": 122,
   "metadata": {},
   "outputs": [],
   "source": [
    "# for feature in five_features:\n",
    "#     sarima_predict_plot_exog(it_rw_17, feature, 2020, exog_var=f'exog_{feature}', title=f'Mean {feature} Score, Italy 2020 (SARIMA w/ exog variables)')"
   ]
  },
  {
   "cell_type": "code",
   "execution_count": 123,
   "metadata": {},
   "outputs": [
    {
     "name": "stdout",
     "output_type": "stream",
     "text": [
      "d = 1\n",
      "order = (4, 1, 0)\n",
      "seasonal order = (0, 0, 0, 48)\n",
      "Mode train RMSE (2020) - SARIMAX((0, 0, 0, 48)) w/ exogenous variables: 0.0326280515043307\n",
      "Mode test RMSE (2020) - SARIMAX((0, 0, 0, 48)) w/ exogenous variables: 0.04444009815369047\n"
     ]
    },
    {
     "data": {
      "image/png": "[encoded data removed]",
      "text/plain": [
       "<Figure size 1080x360 with 1 Axes>"
      ]
     },
     "metadata": {
      "needs_background": "light"
     },
     "output_type": "display_data"
    }
   ],
   "source": [
    "sarima_predict_plot_exog(it_rw_20, 'mode', 2020, arima_param_df_20, exog_var=exog_mode, title=f'Mean Mode Score, Italy 2020 (SARIMA w/ exog variables)')"
   ]
  },
  {
   "cell_type": "code",
   "execution_count": 124,
   "metadata": {},
   "outputs": [
    {
     "name": "stdout",
     "output_type": "stream",
     "text": [
      "d = 1\n",
      "order = (1, 1, 1)\n",
      "seasonal order = (0, 1, 0, 48)\n",
      "Acousticness train RMSE (2020) - SARIMAX((0, 1, 0, 48)) w/ exogenous variables: 0.04802576520706645\n",
      "Acousticness test RMSE (2020) - SARIMAX((0, 1, 0, 48)) w/ exogenous variables: 0.07281540769558538\n"
     ]
    },
    {
     "data": {
      "image/png": "[encoded data removed]",
      "text/plain": [
       "<Figure size 1080x360 with 1 Axes>"
      ]
     },
     "metadata": {
      "needs_background": "light"
     },
     "output_type": "display_data"
    }
   ],
   "source": [
    "sarima_predict_plot_exog(it_rw_20, 'acousticness', 2020, arima_param_df_20, exog_var=exog_acousticness, title=f'Mean Acousticness Score, Italy 2020 (SARIMA w/ exog variables)')"
   ]
  },
  {
   "cell_type": "code",
   "execution_count": 125,
   "metadata": {},
   "outputs": [
    {
     "name": "stdout",
     "output_type": "stream",
     "text": [
      "d = 1\n",
      "order = (0, 1, 0)\n",
      "seasonal order = (1, 0, 3, 50)\n",
      "Valence train RMSE (2020) - SARIMAX((1, 0, 3, 50)) w/ exogenous variables: 0.015721994074348506\n",
      "Valence test RMSE (2020) - SARIMAX((1, 0, 3, 50)) w/ exogenous variables: 0.015302949124017615\n"
     ]
    },
    {
     "data": {
      "image/png": "[encoded data removed]",
      "text/plain": [
       "<Figure size 1080x360 with 1 Axes>"
      ]
     },
     "metadata": {
      "needs_background": "light"
     },
     "output_type": "display_data"
    }
   ],
   "source": [
    "sarima_predict_plot_exog(it_rw_20, 'valence', 2020, arima_param_df_20, exog_var=exog_valence, title=f'Mean Valence Score, Italy 2020 (SARIMA w/ exog variables)')"
   ]
  },
  {
   "cell_type": "code",
   "execution_count": 126,
   "metadata": {},
   "outputs": [
    {
     "name": "stdout",
     "output_type": "stream",
     "text": [
      "d = 1\n",
      "order = (2, 1, 0)\n",
      "seasonal order = (0, 0, 2, 51)\n",
      "Energy train RMSE (2020) - SARIMAX((0, 0, 2, 51)) w/ exogenous variables: 0.010994089828641557\n",
      "Energy test RMSE (2020) - SARIMAX((0, 0, 2, 51)) w/ exogenous variables: 0.012720663589980011\n"
     ]
    },
    {
     "data": {
      "image/png": "[encoded data removed]",
      "text/plain": [
       "<Figure size 1080x360 with 1 Axes>"
      ]
     },
     "metadata": {
      "needs_background": "light"
     },
     "output_type": "display_data"
    }
   ],
   "source": [
    "sarima_predict_plot_exog(it_rw_20, 'energy', 2020, arima_param_df_20, exog_var=exog_energy, title=f'Mean energy Score, Italy 2020 (SARIMA w/ exog variables)')"
   ]
  },
  {
   "cell_type": "markdown",
   "metadata": {},
   "source": [
    "#### _Updated `arima_param_df_20`_"
   ]
  },
  {
   "cell_type": "code",
   "execution_count": 127,
   "metadata": {},
   "outputs": [
    {
     "data": {
      "text/html": [
       "<div>\n",
       "<style scoped>\n",
       "    .dataframe tbody tr th:only-of-type {\n",
       "        vertical-align: middle;\n",
       "    }\n",
       "\n",
       "    .dataframe tbody tr th {\n",
       "        vertical-align: top;\n",
       "    }\n",
       "\n",
       "    .dataframe thead th {\n",
       "        text-align: right;\n",
       "    }\n",
       "</style>\n",
       "<table border=\"1\" class=\"dataframe\">\n",
       "  <thead>\n",
       "    <tr style=\"text-align: right;\">\n",
       "      <th></th>\n",
       "      <th>audio_feature</th>\n",
       "      <th>ndiffs(d)</th>\n",
       "      <th>best_p</th>\n",
       "      <th>best_q</th>\n",
       "      <th>order</th>\n",
       "      <th>ARIMA_model</th>\n",
       "      <th>ARIMA_AIC</th>\n",
       "      <th>arima_train_rmse</th>\n",
       "      <th>arima_test_rmse</th>\n",
       "      <th>seasonal_order</th>\n",
       "      <th>seasonal_order_all_data</th>\n",
       "      <th>sarima_train_rmse_alltime_so</th>\n",
       "      <th>sarima_test_rmse_alltime_so</th>\n",
       "      <th>exog_train_rmse_alltime_so</th>\n",
       "      <th>exog_test_rmse_alltime_so</th>\n",
       "    </tr>\n",
       "  </thead>\n",
       "  <tbody>\n",
       "    <tr>\n",
       "      <th>0</th>\n",
       "      <td>danceability</td>\n",
       "      <td>1</td>\n",
       "      <td>2</td>\n",
       "      <td>2</td>\n",
       "      <td>(2, 1, 2)</td>\n",
       "      <td>ARIMA(2,1,2)</td>\n",
       "      <td>-214.352402</td>\n",
       "      <td>0.029955</td>\n",
       "      <td>0.031795</td>\n",
       "      <td>3, 0, 0, 48</td>\n",
       "      <td>2, 0, 3, 48</td>\n",
       "      <td>0.029737</td>\n",
       "      <td>0.025460</td>\n",
       "      <td>0.017655</td>\n",
       "      <td>0.016460</td>\n",
       "    </tr>\n",
       "    <tr>\n",
       "      <th>1</th>\n",
       "      <td>mode</td>\n",
       "      <td>1</td>\n",
       "      <td>4</td>\n",
       "      <td>0</td>\n",
       "      <td>(4, 1, 0)</td>\n",
       "      <td>ARIMA(4,1,0)</td>\n",
       "      <td>-187.656554</td>\n",
       "      <td>0.036004</td>\n",
       "      <td>0.054158</td>\n",
       "      <td>1, 0, 1, 52</td>\n",
       "      <td>0, 0, 0, 48</td>\n",
       "      <td>0.036059</td>\n",
       "      <td>0.049107</td>\n",
       "      <td>0.032628</td>\n",
       "      <td>0.044440</td>\n",
       "    </tr>\n",
       "    <tr>\n",
       "      <th>2</th>\n",
       "      <td>acousticness</td>\n",
       "      <td>1</td>\n",
       "      <td>1</td>\n",
       "      <td>1</td>\n",
       "      <td>(1, 1, 1)</td>\n",
       "      <td>ARIMA(1,1,1)</td>\n",
       "      <td>-170.836344</td>\n",
       "      <td>0.044908</td>\n",
       "      <td>0.031272</td>\n",
       "      <td>1, 0, 2, 48</td>\n",
       "      <td>0, 1, 0, 48</td>\n",
       "      <td>0.048026</td>\n",
       "      <td>0.072815</td>\n",
       "      <td>0.048026</td>\n",
       "      <td>0.072815</td>\n",
       "    </tr>\n",
       "    <tr>\n",
       "      <th>3</th>\n",
       "      <td>valence</td>\n",
       "      <td>1</td>\n",
       "      <td>0</td>\n",
       "      <td>0</td>\n",
       "      <td>(0, 1, 0)</td>\n",
       "      <td>ARIMA(0,1,0)</td>\n",
       "      <td>-208.242293</td>\n",
       "      <td>0.036157</td>\n",
       "      <td>0.040172</td>\n",
       "      <td>0, 0, 1, 49</td>\n",
       "      <td>1, 0, 3, 50</td>\n",
       "      <td>0.032651</td>\n",
       "      <td>0.026011</td>\n",
       "      <td>0.015722</td>\n",
       "      <td>0.015303</td>\n",
       "    </tr>\n",
       "    <tr>\n",
       "      <th>4</th>\n",
       "      <td>energy</td>\n",
       "      <td>1</td>\n",
       "      <td>2</td>\n",
       "      <td>0</td>\n",
       "      <td>(2, 1, 0)</td>\n",
       "      <td>ARIMA(2,1,0)</td>\n",
       "      <td>-224.361284</td>\n",
       "      <td>0.026839</td>\n",
       "      <td>0.020641</td>\n",
       "      <td>2, 0, 0, 49</td>\n",
       "      <td>0, 0, 2, 51</td>\n",
       "      <td>0.026903</td>\n",
       "      <td>0.016570</td>\n",
       "      <td>0.010994</td>\n",
       "      <td>0.012721</td>\n",
       "    </tr>\n",
       "  </tbody>\n",
       "</table>\n",
       "</div>"
      ],
      "text/plain": [
       "  audio_feature  ndiffs(d)  best_p  best_q      order   ARIMA_model  \\\n",
       "0  danceability          1       2       2  (2, 1, 2)  ARIMA(2,1,2)   \n",
       "1          mode          1       4       0  (4, 1, 0)  ARIMA(4,1,0)   \n",
       "2  acousticness          1       1       1  (1, 1, 1)  ARIMA(1,1,1)   \n",
       "3       valence          1       0       0  (0, 1, 0)  ARIMA(0,1,0)   \n",
       "4        energy          1       2       0  (2, 1, 0)  ARIMA(2,1,0)   \n",
       "\n",
       "    ARIMA_AIC  arima_train_rmse  arima_test_rmse seasonal_order  \\\n",
       "0 -214.352402          0.029955         0.031795    3, 0, 0, 48   \n",
       "1 -187.656554          0.036004         0.054158    1, 0, 1, 52   \n",
       "2 -170.836344          0.044908         0.031272    1, 0, 2, 48   \n",
       "3 -208.242293          0.036157         0.040172    0, 0, 1, 49   \n",
       "4 -224.361284          0.026839         0.020641    2, 0, 0, 49   \n",
       "\n",
       "  seasonal_order_all_data  sarima_train_rmse_alltime_so  \\\n",
       "0             2, 0, 3, 48                      0.029737   \n",
       "1             0, 0, 0, 48                      0.036059   \n",
       "2             0, 1, 0, 48                      0.048026   \n",
       "3             1, 0, 3, 50                      0.032651   \n",
       "4             0, 0, 2, 51                      0.026903   \n",
       "\n",
       "   sarima_test_rmse_alltime_so  exog_train_rmse_alltime_so  \\\n",
       "0                     0.025460                    0.017655   \n",
       "1                     0.049107                    0.032628   \n",
       "2                     0.072815                    0.048026   \n",
       "3                     0.026011                    0.015722   \n",
       "4                     0.016570                    0.010994   \n",
       "\n",
       "   exog_test_rmse_alltime_so  \n",
       "0                   0.016460  \n",
       "1                   0.044440  \n",
       "2                   0.072815  \n",
       "3                   0.015303  \n",
       "4                   0.012721  "
      ]
     },
     "execution_count": 127,
     "metadata": {},
     "output_type": "execute_result"
    }
   ],
   "source": [
    "arima_param_df_20"
   ]
  },
  {
   "cell_type": "code",
   "execution_count": null,
   "metadata": {},
   "outputs": [],
   "source": []
  },
  {
   "cell_type": "markdown",
   "metadata": {},
   "source": [
    "#### _Pickling 2020 `arima_param_df_20` to compare with other years in another notebook_"
   ]
  },
  {
   "cell_type": "code",
   "execution_count": 129,
   "metadata": {},
   "outputs": [],
   "source": [
    "arima_param_df_20.to_pickle('./metrics/2020_sarima_param_df_custom_so.pkl')"
   ]
  },
  {
   "cell_type": "code",
   "execution_count": 128,
   "metadata": {},
   "outputs": [
    {
     "data": {
      "text/plain": [
       "['danceability', 'mode', 'acousticness', 'valence', 'energy']"
      ]
     },
     "execution_count": 128,
     "metadata": {},
     "output_type": "execute_result"
    }
   ],
   "source": [
    "five_features"
   ]
  },
  {
   "cell_type": "code",
   "execution_count": null,
   "metadata": {},
   "outputs": [],
   "source": []
  }
 ],
 "metadata": {
  "kernelspec": {
   "display_name": "Python 3",
   "language": "python",
   "name": "python3"
  },
  "language_info": {
   "codemirror_mode": {
    "name": "ipython",
    "version": 3
   },
   "file_extension": ".py",
   "mimetype": "text/x-python",
   "name": "python",
   "nbconvert_exporter": "python",
   "pygments_lexer": "ipython3",
   "version": "3.8.5"
  }
 },
 "nbformat": 4,
 "nbformat_minor": 4
}
