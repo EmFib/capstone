{
 "cells": [
  {
   "cell_type": "code",
   "execution_count": 1,
   "metadata": {},
   "outputs": [],
   "source": [
    "import numpy as np\n",
    "import pandas as pd\n",
    "import matplotlib.pyplot as plt \n",
    "import seaborn as sns\n",
    "\n",
    "import json\n",
    "\n",
    "from fycharts.SpotifyCharts import SpotifyCharts\n",
    "import sqlalchemy\n",
    "\n",
    "import spotipy\n",
    "from spotipy.oauth2 import SpotifyClientCredentials\n",
    "\n",
    "from datetime import datetime\n",
    "from sklearn.model_selection import train_test_split\n",
    "\n",
    "import statsmodels.api as sm\n",
    "\n",
    "# We are required to do this in order to avoid \"FutureWarning\" issues.\n",
    "from pandas.plotting import register_matplotlib_converters\n",
    "register_matplotlib_converters()\n",
    "\n",
    "from statsmodels.tsa.ar_model import AR\n",
    "from statsmodels.tsa.arima_model import ARIMA, ARMA\n",
    "from statsmodels.tsa.stattools import adfuller  \n",
    "\n",
    "from sklearn.metrics import mean_squared_error, mean_absolute_error\n",
    "from statsmodels.graphics.tsaplots import plot_acf, plot_pacf\n",
    "\n",
    "%matplotlib inline\n",
    "\n",
    "import warnings\n",
    "warnings.simplefilter(action=\"ignore\")"
   ]
  },
  {
   "cell_type": "code",
   "execution_count": 2,
   "metadata": {},
   "outputs": [
    {
     "data": {
      "text/plain": [
       "'/Users/emilynaftalin/Data_Science/General Assembly/dsi/capstone/code'"
      ]
     },
     "execution_count": 2,
     "metadata": {},
     "output_type": "execute_result"
    }
   ],
   "source": [
    "pwd"
   ]
  },
  {
   "cell_type": "markdown",
   "metadata": {},
   "source": [
    "**Reading in data for each country- 2017-2019; 2020**"
   ]
  },
  {
   "cell_type": "code",
   "execution_count": 3,
   "metadata": {},
   "outputs": [],
   "source": [
    "italy_17_19 = pd.read_pickle('../data/it_17_19_v50_feat.pkl')\n",
    "spain_17_19 = pd.read_pickle('../data/sp_17_19_v50_feat.pkl')\n",
    "greece_17_19 = pd.read_pickle('../data/gr_17_19_v50_feat.pkl')"
   ]
  },
  {
   "cell_type": "code",
   "execution_count": 4,
   "metadata": {},
   "outputs": [],
   "source": [
    "italy_20 = pd.read_pickle('../data/it_20_v50_feat.pkl')\n",
    "spain_20 = pd.read_pickle('../data/sp_20_v50_feat.pkl')\n",
    "greece_20 = pd.read_pickle('../data/gr_20_v50_feat.pkl')"
   ]
  },
  {
   "cell_type": "code",
   "execution_count": 5,
   "metadata": {},
   "outputs": [
    {
     "data": {
      "text/html": [
       "<div>\n",
       "<style scoped>\n",
       "    .dataframe tbody tr th:only-of-type {\n",
       "        vertical-align: middle;\n",
       "    }\n",
       "\n",
       "    .dataframe tbody tr th {\n",
       "        vertical-align: top;\n",
       "    }\n",
       "\n",
       "    .dataframe thead th {\n",
       "        text-align: right;\n",
       "    }\n",
       "</style>\n",
       "<table border=\"1\" class=\"dataframe\">\n",
       "  <thead>\n",
       "    <tr style=\"text-align: right;\">\n",
       "      <th></th>\n",
       "      <th>Position</th>\n",
       "      <th>Track Name</th>\n",
       "      <th>Artist</th>\n",
       "      <th>region</th>\n",
       "      <th>spotify_id</th>\n",
       "      <th>danceability</th>\n",
       "      <th>energy</th>\n",
       "      <th>key</th>\n",
       "      <th>loudness</th>\n",
       "      <th>mode</th>\n",
       "      <th>speechiness</th>\n",
       "      <th>acousticness</th>\n",
       "      <th>instrumentalness</th>\n",
       "      <th>liveness</th>\n",
       "      <th>valence</th>\n",
       "      <th>tempo</th>\n",
       "      <th>duration_ms</th>\n",
       "      <th>time_signature</th>\n",
       "    </tr>\n",
       "    <tr>\n",
       "      <th>date</th>\n",
       "      <th></th>\n",
       "      <th></th>\n",
       "      <th></th>\n",
       "      <th></th>\n",
       "      <th></th>\n",
       "      <th></th>\n",
       "      <th></th>\n",
       "      <th></th>\n",
       "      <th></th>\n",
       "      <th></th>\n",
       "      <th></th>\n",
       "      <th></th>\n",
       "      <th></th>\n",
       "      <th></th>\n",
       "      <th></th>\n",
       "      <th></th>\n",
       "      <th></th>\n",
       "      <th></th>\n",
       "    </tr>\n",
       "  </thead>\n",
       "  <tbody>\n",
       "    <tr>\n",
       "      <th>2021-02-13</th>\n",
       "      <td>46</td>\n",
       "      <td>Hasta Abajo</td>\n",
       "      <td>Kevin Roldan</td>\n",
       "      <td>es</td>\n",
       "      <td>4PEfJZpVjdclfzZ9XO8uDw</td>\n",
       "      <td>0.714</td>\n",
       "      <td>0.671</td>\n",
       "      <td>5</td>\n",
       "      <td>-5.119</td>\n",
       "      <td>1</td>\n",
       "      <td>0.3620</td>\n",
       "      <td>0.28900</td>\n",
       "      <td>0.000000</td>\n",
       "      <td>0.3250</td>\n",
       "      <td>0.6410</td>\n",
       "      <td>169.732</td>\n",
       "      <td>229827</td>\n",
       "      <td>4</td>\n",
       "    </tr>\n",
       "    <tr>\n",
       "      <th>2021-02-13</th>\n",
       "      <td>47</td>\n",
       "      <td>Strange (feat. Hillary Smith)</td>\n",
       "      <td>Kris Bowers</td>\n",
       "      <td>es</td>\n",
       "      <td>2bPWLtJe3v33z1j40sWB8a</td>\n",
       "      <td>0.251</td>\n",
       "      <td>0.150</td>\n",
       "      <td>2</td>\n",
       "      <td>-15.076</td>\n",
       "      <td>1</td>\n",
       "      <td>0.0342</td>\n",
       "      <td>0.98900</td>\n",
       "      <td>0.972000</td>\n",
       "      <td>0.1130</td>\n",
       "      <td>0.0727</td>\n",
       "      <td>70.453</td>\n",
       "      <td>198640</td>\n",
       "      <td>4</td>\n",
       "    </tr>\n",
       "    <tr>\n",
       "      <th>2021-02-13</th>\n",
       "      <td>48</td>\n",
       "      <td>Hecha Pa' Mi</td>\n",
       "      <td>Boza</td>\n",
       "      <td>es</td>\n",
       "      <td>3VvA1wSxukMLsvXoXtlwWx</td>\n",
       "      <td>0.725</td>\n",
       "      <td>0.756</td>\n",
       "      <td>4</td>\n",
       "      <td>-5.013</td>\n",
       "      <td>1</td>\n",
       "      <td>0.0572</td>\n",
       "      <td>0.36200</td>\n",
       "      <td>0.000685</td>\n",
       "      <td>0.1030</td>\n",
       "      <td>0.8280</td>\n",
       "      <td>100.070</td>\n",
       "      <td>186133</td>\n",
       "      <td>4</td>\n",
       "    </tr>\n",
       "    <tr>\n",
       "      <th>2021-02-13</th>\n",
       "      <td>49</td>\n",
       "      <td>La Luz - A COLORS SHOW</td>\n",
       "      <td>María José Llergo</td>\n",
       "      <td>es</td>\n",
       "      <td>5jRnVQbjB6qgN3MARS4xw7</td>\n",
       "      <td>0.722</td>\n",
       "      <td>0.357</td>\n",
       "      <td>9</td>\n",
       "      <td>-10.487</td>\n",
       "      <td>0</td>\n",
       "      <td>0.0996</td>\n",
       "      <td>0.81400</td>\n",
       "      <td>0.155000</td>\n",
       "      <td>0.0863</td>\n",
       "      <td>0.6410</td>\n",
       "      <td>149.895</td>\n",
       "      <td>191599</td>\n",
       "      <td>4</td>\n",
       "    </tr>\n",
       "    <tr>\n",
       "      <th>2021-02-13</th>\n",
       "      <td>50</td>\n",
       "      <td>Boku no Sensou - TV Size</td>\n",
       "      <td>Shinsei Kamattechan</td>\n",
       "      <td>es</td>\n",
       "      <td>3tRPfCFAEv6wWyQO0YnGGV</td>\n",
       "      <td>0.447</td>\n",
       "      <td>0.891</td>\n",
       "      <td>9</td>\n",
       "      <td>-4.776</td>\n",
       "      <td>1</td>\n",
       "      <td>0.0788</td>\n",
       "      <td>0.00447</td>\n",
       "      <td>0.000905</td>\n",
       "      <td>0.3900</td>\n",
       "      <td>0.5170</td>\n",
       "      <td>143.976</td>\n",
       "      <td>90960</td>\n",
       "      <td>4</td>\n",
       "    </tr>\n",
       "  </tbody>\n",
       "</table>\n",
       "</div>"
      ],
      "text/plain": [
       "            Position                     Track Name               Artist  \\\n",
       "date                                                                       \n",
       "2021-02-13        46                    Hasta Abajo         Kevin Roldan   \n",
       "2021-02-13        47  Strange (feat. Hillary Smith)          Kris Bowers   \n",
       "2021-02-13        48                   Hecha Pa' Mi                 Boza   \n",
       "2021-02-13        49         La Luz - A COLORS SHOW    María José Llergo   \n",
       "2021-02-13        50       Boku no Sensou - TV Size  Shinsei Kamattechan   \n",
       "\n",
       "           region              spotify_id  danceability  energy  key  \\\n",
       "date                                                                   \n",
       "2021-02-13     es  4PEfJZpVjdclfzZ9XO8uDw         0.714   0.671    5   \n",
       "2021-02-13     es  2bPWLtJe3v33z1j40sWB8a         0.251   0.150    2   \n",
       "2021-02-13     es  3VvA1wSxukMLsvXoXtlwWx         0.725   0.756    4   \n",
       "2021-02-13     es  5jRnVQbjB6qgN3MARS4xw7         0.722   0.357    9   \n",
       "2021-02-13     es  3tRPfCFAEv6wWyQO0YnGGV         0.447   0.891    9   \n",
       "\n",
       "            loudness  mode  speechiness  acousticness  instrumentalness  \\\n",
       "date                                                                      \n",
       "2021-02-13    -5.119     1       0.3620       0.28900          0.000000   \n",
       "2021-02-13   -15.076     1       0.0342       0.98900          0.972000   \n",
       "2021-02-13    -5.013     1       0.0572       0.36200          0.000685   \n",
       "2021-02-13   -10.487     0       0.0996       0.81400          0.155000   \n",
       "2021-02-13    -4.776     1       0.0788       0.00447          0.000905   \n",
       "\n",
       "            liveness  valence    tempo  duration_ms  time_signature  \n",
       "date                                                                 \n",
       "2021-02-13    0.3250   0.6410  169.732       229827               4  \n",
       "2021-02-13    0.1130   0.0727   70.453       198640               4  \n",
       "2021-02-13    0.1030   0.8280  100.070       186133               4  \n",
       "2021-02-13    0.0863   0.6410  149.895       191599               4  \n",
       "2021-02-13    0.3900   0.5170  143.976        90960               4  "
      ]
     },
     "execution_count": 5,
     "metadata": {},
     "output_type": "execute_result"
    }
   ],
   "source": [
    "spain_20.tail()"
   ]
  },
  {
   "cell_type": "markdown",
   "metadata": {},
   "source": [
    "**Resampling by month**\n",
    "\n",
    "_`rm` denotes resampling by month._ "
   ]
  },
  {
   "cell_type": "code",
   "execution_count": 6,
   "metadata": {},
   "outputs": [],
   "source": [
    "rm_italy_17_19 = italy_17_19.resample(\"M\").mean()\n",
    "rm_spain_17_19 = spain_17_19.resample(\"M\").mean()\n",
    "rm_greece_17_19 = greece_17_19.resample(\"M\").mean()"
   ]
  },
  {
   "cell_type": "code",
   "execution_count": 7,
   "metadata": {},
   "outputs": [],
   "source": [
    "rm_italy_20 = italy_20.resample(\"M\").mean()\n",
    "rm_spain_20 = spain_20.resample(\"M\").mean()\n",
    "rm_greece_20 = greece_20.resample(\"M\").mean()"
   ]
  },
  {
   "cell_type": "markdown",
   "metadata": {},
   "source": [
    "**Resampling by week**\n",
    "\n",
    "_`rw` denotes resampling by week._ "
   ]
  },
  {
   "cell_type": "code",
   "execution_count": 8,
   "metadata": {},
   "outputs": [],
   "source": [
    "rw_italy_17_19 = italy_17_19.resample(\"W\").mean()\n",
    "rw_spain_17_19 = spain_17_19.resample(\"W\").mean()\n",
    "rw_greece_17_19 = greece_17_19.resample(\"W\").mean()"
   ]
  },
  {
   "cell_type": "code",
   "execution_count": 9,
   "metadata": {},
   "outputs": [],
   "source": [
    "rw_italy_20 = italy_20.resample(\"W\").mean()\n",
    "rw_spain_20 = spain_20.resample(\"W\").mean()\n",
    "rw_greece_20 = greece_20.resample(\"W\").mean()"
   ]
  },
  {
   "cell_type": "markdown",
   "metadata": {},
   "source": [
    "#### Combining weekly resampled data for all years (2017-2020)"
   ]
  },
  {
   "cell_type": "code",
   "execution_count": 10,
   "metadata": {},
   "outputs": [],
   "source": [
    "alltime_italy = pd.concat([italy_17_19, italy_20])\n",
    "alltime_spain = pd.concat([spain_17_19, spain_20])\n",
    "alltime_greece = pd.concat([greece_17_19, greece_20])"
   ]
  },
  {
   "cell_type": "code",
   "execution_count": 11,
   "metadata": {},
   "outputs": [],
   "source": [
    "alltime_rw_italy = alltime_italy.resample(\"W\").mean()\n",
    "alltime_rw_spain = alltime_spain.resample(\"W\").mean()\n",
    "alltime_rw_greece = alltime_greece.resample(\"W\").mean()"
   ]
  },
  {
   "cell_type": "markdown",
   "metadata": {},
   "source": [
    "# SARIMAX model "
   ]
  },
  {
   "cell_type": "code",
   "execution_count": 47,
   "metadata": {},
   "outputs": [
    {
     "data": {
      "text/html": [
       "<div>\n",
       "<style scoped>\n",
       "    .dataframe tbody tr th:only-of-type {\n",
       "        vertical-align: middle;\n",
       "    }\n",
       "\n",
       "    .dataframe tbody tr th {\n",
       "        vertical-align: top;\n",
       "    }\n",
       "\n",
       "    .dataframe thead th {\n",
       "        text-align: right;\n",
       "    }\n",
       "</style>\n",
       "<table border=\"1\" class=\"dataframe\">\n",
       "  <thead>\n",
       "    <tr style=\"text-align: right;\">\n",
       "      <th></th>\n",
       "      <th>Position</th>\n",
       "      <th>danceability</th>\n",
       "      <th>energy</th>\n",
       "      <th>key</th>\n",
       "      <th>loudness</th>\n",
       "      <th>mode</th>\n",
       "      <th>speechiness</th>\n",
       "      <th>acousticness</th>\n",
       "      <th>instrumentalness</th>\n",
       "      <th>liveness</th>\n",
       "      <th>valence</th>\n",
       "      <th>tempo</th>\n",
       "      <th>duration_ms</th>\n",
       "      <th>time_signature</th>\n",
       "    </tr>\n",
       "    <tr>\n",
       "      <th>date</th>\n",
       "      <th></th>\n",
       "      <th></th>\n",
       "      <th></th>\n",
       "      <th></th>\n",
       "      <th></th>\n",
       "      <th></th>\n",
       "      <th></th>\n",
       "      <th></th>\n",
       "      <th></th>\n",
       "      <th></th>\n",
       "      <th></th>\n",
       "      <th></th>\n",
       "      <th></th>\n",
       "      <th></th>\n",
       "    </tr>\n",
       "  </thead>\n",
       "  <tbody>\n",
       "    <tr>\n",
       "      <th>2017-01-01</th>\n",
       "      <td>25.5</td>\n",
       "      <td>0.604800</td>\n",
       "      <td>0.591096</td>\n",
       "      <td>5.840000</td>\n",
       "      <td>-9.008200</td>\n",
       "      <td>0.600000</td>\n",
       "      <td>0.081670</td>\n",
       "      <td>0.303003</td>\n",
       "      <td>0.061578</td>\n",
       "      <td>0.172262</td>\n",
       "      <td>0.466054</td>\n",
       "      <td>115.511720</td>\n",
       "      <td>257468.600000</td>\n",
       "      <td>3.860000</td>\n",
       "    </tr>\n",
       "    <tr>\n",
       "      <th>2017-01-08</th>\n",
       "      <td>25.5</td>\n",
       "      <td>0.592829</td>\n",
       "      <td>0.596115</td>\n",
       "      <td>5.602857</td>\n",
       "      <td>-8.670323</td>\n",
       "      <td>0.717143</td>\n",
       "      <td>0.091595</td>\n",
       "      <td>0.355359</td>\n",
       "      <td>0.182476</td>\n",
       "      <td>0.175617</td>\n",
       "      <td>0.390494</td>\n",
       "      <td>118.564109</td>\n",
       "      <td>279987.502857</td>\n",
       "      <td>3.908571</td>\n",
       "    </tr>\n",
       "    <tr>\n",
       "      <th>2017-01-15</th>\n",
       "      <td>25.5</td>\n",
       "      <td>0.590561</td>\n",
       "      <td>0.584263</td>\n",
       "      <td>5.025714</td>\n",
       "      <td>-8.433451</td>\n",
       "      <td>0.625714</td>\n",
       "      <td>0.091436</td>\n",
       "      <td>0.340648</td>\n",
       "      <td>0.141121</td>\n",
       "      <td>0.204428</td>\n",
       "      <td>0.402156</td>\n",
       "      <td>118.157554</td>\n",
       "      <td>252121.394286</td>\n",
       "      <td>3.985714</td>\n",
       "    </tr>\n",
       "    <tr>\n",
       "      <th>2017-01-22</th>\n",
       "      <td>25.5</td>\n",
       "      <td>0.570760</td>\n",
       "      <td>0.618591</td>\n",
       "      <td>4.497143</td>\n",
       "      <td>-7.809969</td>\n",
       "      <td>0.588571</td>\n",
       "      <td>0.093505</td>\n",
       "      <td>0.348782</td>\n",
       "      <td>0.111421</td>\n",
       "      <td>0.163771</td>\n",
       "      <td>0.396994</td>\n",
       "      <td>119.730454</td>\n",
       "      <td>240012.791429</td>\n",
       "      <td>3.934286</td>\n",
       "    </tr>\n",
       "    <tr>\n",
       "      <th>2017-01-29</th>\n",
       "      <td>25.5</td>\n",
       "      <td>0.549560</td>\n",
       "      <td>0.672368</td>\n",
       "      <td>4.888571</td>\n",
       "      <td>-6.910569</td>\n",
       "      <td>0.705714</td>\n",
       "      <td>0.087994</td>\n",
       "      <td>0.302466</td>\n",
       "      <td>0.069887</td>\n",
       "      <td>0.175481</td>\n",
       "      <td>0.469083</td>\n",
       "      <td>122.640960</td>\n",
       "      <td>230365.305714</td>\n",
       "      <td>3.954286</td>\n",
       "    </tr>\n",
       "  </tbody>\n",
       "</table>\n",
       "</div>"
      ],
      "text/plain": [
       "            Position  danceability    energy       key  loudness      mode  \\\n",
       "date                                                                         \n",
       "2017-01-01      25.5      0.604800  0.591096  5.840000 -9.008200  0.600000   \n",
       "2017-01-08      25.5      0.592829  0.596115  5.602857 -8.670323  0.717143   \n",
       "2017-01-15      25.5      0.590561  0.584263  5.025714 -8.433451  0.625714   \n",
       "2017-01-22      25.5      0.570760  0.618591  4.497143 -7.809969  0.588571   \n",
       "2017-01-29      25.5      0.549560  0.672368  4.888571 -6.910569  0.705714   \n",
       "\n",
       "            speechiness  acousticness  instrumentalness  liveness   valence  \\\n",
       "date                                                                          \n",
       "2017-01-01     0.081670      0.303003          0.061578  0.172262  0.466054   \n",
       "2017-01-08     0.091595      0.355359          0.182476  0.175617  0.390494   \n",
       "2017-01-15     0.091436      0.340648          0.141121  0.204428  0.402156   \n",
       "2017-01-22     0.093505      0.348782          0.111421  0.163771  0.396994   \n",
       "2017-01-29     0.087994      0.302466          0.069887  0.175481  0.469083   \n",
       "\n",
       "                 tempo    duration_ms  time_signature  \n",
       "date                                                   \n",
       "2017-01-01  115.511720  257468.600000        3.860000  \n",
       "2017-01-08  118.564109  279987.502857        3.908571  \n",
       "2017-01-15  118.157554  252121.394286        3.985714  \n",
       "2017-01-22  119.730454  240012.791429        3.934286  \n",
       "2017-01-29  122.640960  230365.305714        3.954286  "
      ]
     },
     "execution_count": 47,
     "metadata": {},
     "output_type": "execute_result"
    }
   ],
   "source": [
    "alltime_rw_italy.head()"
   ]
  },
  {
   "cell_type": "markdown",
   "metadata": {},
   "source": [
    "### Dickey-Fuller and Differencing "
   ]
  },
  {
   "cell_type": "markdown",
   "metadata": {},
   "source": [
    "Augmented Dickey-Fuller test to estimate whether data are stationary. "
   ]
  },
  {
   "cell_type": "code",
   "execution_count": 12,
   "metadata": {},
   "outputs": [],
   "source": [
    "audio_features = [\n",
    "'danceability', \n",
    " 'energy',\n",
    " 'key',\n",
    " 'loudness',\n",
    " 'mode',\n",
    " 'speechiness',\n",
    " 'acousticness',\n",
    " 'instrumentalness',\n",
    " 'liveness',\n",
    " 'valence',\n",
    " 'tempo']"
   ]
  },
  {
   "cell_type": "code",
   "execution_count": 13,
   "metadata": {},
   "outputs": [],
   "source": [
    "# Code by Joseph Nelson! \n",
    "\n",
    "def interpret_dftest(dftest):\n",
    "    dfoutput = pd.Series(dftest[0:2], index=['Test Statistic', 'p-value'])\n",
    "    return dfoutput"
   ]
  },
  {
   "cell_type": "markdown",
   "metadata": {},
   "source": [
    "_Dickey-Fuller on original dataframes_"
   ]
  },
  {
   "cell_type": "code",
   "execution_count": 14,
   "metadata": {},
   "outputs": [
    {
     "data": {
      "text/plain": [
       "Test Statistic   -4.783946\n",
       "p-value           0.000058\n",
       "dtype: float64"
      ]
     },
     "execution_count": 14,
     "metadata": {},
     "output_type": "execute_result"
    }
   ],
   "source": [
    "interpret_dftest(adfuller(rw_italy_17_19['acousticness']))"
   ]
  },
  {
   "cell_type": "code",
   "execution_count": 15,
   "metadata": {},
   "outputs": [
    {
     "data": {
      "text/plain": [
       "Test Statistic   -2.009585\n",
       "p-value           0.282386\n",
       "dtype: float64"
      ]
     },
     "execution_count": 15,
     "metadata": {},
     "output_type": "execute_result"
    }
   ],
   "source": [
    "interpret_dftest(adfuller(rw_italy_17_19['valence']))"
   ]
  },
  {
   "cell_type": "code",
   "execution_count": null,
   "metadata": {},
   "outputs": [],
   "source": []
  },
  {
   "cell_type": "code",
   "execution_count": 16,
   "metadata": {},
   "outputs": [
    {
     "name": "stdout",
     "output_type": "stream",
     "text": [
      "Dickey-Fuller Interpretation for danceability:\n",
      "Test Statistic   -2.757635\n",
      "p-value           0.064585\n",
      "dtype: float64\n",
      "Dickey-Fuller Interpretation for energy:\n",
      "Test Statistic   -5.702248e+00\n",
      "p-value           7.628541e-07\n",
      "dtype: float64\n",
      "Dickey-Fuller Interpretation for key:\n",
      "Test Statistic   -4.439530\n",
      "p-value           0.000252\n",
      "dtype: float64\n",
      "Dickey-Fuller Interpretation for loudness:\n",
      "Test Statistic   -6.319006e+00\n",
      "p-value           3.099284e-08\n",
      "dtype: float64\n",
      "Dickey-Fuller Interpretation for mode:\n",
      "Test Statistic   -4.870819\n",
      "p-value           0.000040\n",
      "dtype: float64\n",
      "Dickey-Fuller Interpretation for speechiness:\n",
      "Test Statistic   -2.943518\n",
      "p-value           0.040516\n",
      "dtype: float64\n",
      "Dickey-Fuller Interpretation for acousticness:\n",
      "Test Statistic   -4.783946\n",
      "p-value           0.000058\n",
      "dtype: float64\n",
      "Dickey-Fuller Interpretation for instrumentalness:\n",
      "Test Statistic   -5.946586e+00\n",
      "p-value           2.196878e-07\n",
      "dtype: float64\n",
      "Dickey-Fuller Interpretation for liveness:\n",
      "Test Statistic   -4.755015\n",
      "p-value           0.000066\n",
      "dtype: float64\n",
      "Dickey-Fuller Interpretation for valence:\n",
      "Test Statistic   -2.009585\n",
      "p-value           0.282386\n",
      "dtype: float64\n",
      "Dickey-Fuller Interpretation for tempo:\n",
      "Test Statistic   -3.892586\n",
      "p-value           0.002090\n",
      "dtype: float64\n"
     ]
    }
   ],
   "source": [
    "for feature in audio_features:\n",
    "    print(f'Dickey-Fuller Interpretation for {feature}:\\n{interpret_dftest(adfuller(rw_italy_17_19[feature]))}')"
   ]
  },
  {
   "cell_type": "code",
   "execution_count": 17,
   "metadata": {},
   "outputs": [],
   "source": [
    "dickey_dict = {\n",
    "'danceability':[], \n",
    " 'energy':[],\n",
    " 'key':[],\n",
    " 'loudness':[],\n",
    " 'mode':[],\n",
    " 'speechiness':[],\n",
    " 'acousticness':[],\n",
    " 'instrumentalness':[],\n",
    " 'liveness':[],\n",
    " 'valence':[],\n",
    " 'tempo':[]\n",
    "    \n",
    "}\n",
    "\n",
    "for feature in audio_features:\n",
    "    dickey_dict[feature].append(f'{interpret_dftest(adfuller(rw_italy_17_19[feature]))}')"
   ]
  },
  {
   "cell_type": "code",
   "execution_count": 18,
   "metadata": {},
   "outputs": [
    {
     "data": {
      "text/plain": [
       "{'danceability': ['Test Statistic   -2.757635\\np-value           0.064585\\ndtype: float64'],\n",
       " 'energy': ['Test Statistic   -5.702248e+00\\np-value           7.628541e-07\\ndtype: float64'],\n",
       " 'key': ['Test Statistic   -4.439530\\np-value           0.000252\\ndtype: float64'],\n",
       " 'loudness': ['Test Statistic   -6.319006e+00\\np-value           3.099284e-08\\ndtype: float64'],\n",
       " 'mode': ['Test Statistic   -4.870819\\np-value           0.000040\\ndtype: float64'],\n",
       " 'speechiness': ['Test Statistic   -2.943518\\np-value           0.040516\\ndtype: float64'],\n",
       " 'acousticness': ['Test Statistic   -4.783946\\np-value           0.000058\\ndtype: float64'],\n",
       " 'instrumentalness': ['Test Statistic   -5.946586e+00\\np-value           2.196878e-07\\ndtype: float64'],\n",
       " 'liveness': ['Test Statistic   -4.755015\\np-value           0.000066\\ndtype: float64'],\n",
       " 'valence': ['Test Statistic   -2.009585\\np-value           0.282386\\ndtype: float64'],\n",
       " 'tempo': ['Test Statistic   -3.892586\\np-value           0.002090\\ndtype: float64']}"
      ]
     },
     "execution_count": 18,
     "metadata": {},
     "output_type": "execute_result"
    }
   ],
   "source": [
    "dickey_dict"
   ]
  },
  {
   "cell_type": "code",
   "execution_count": 19,
   "metadata": {},
   "outputs": [
    {
     "data": {
      "text/html": [
       "<div>\n",
       "<style scoped>\n",
       "    .dataframe tbody tr th:only-of-type {\n",
       "        vertical-align: middle;\n",
       "    }\n",
       "\n",
       "    .dataframe tbody tr th {\n",
       "        vertical-align: top;\n",
       "    }\n",
       "\n",
       "    .dataframe thead th {\n",
       "        text-align: right;\n",
       "    }\n",
       "</style>\n",
       "<table border=\"1\" class=\"dataframe\">\n",
       "  <thead>\n",
       "    <tr style=\"text-align: right;\">\n",
       "      <th></th>\n",
       "      <th>0</th>\n",
       "    </tr>\n",
       "  </thead>\n",
       "  <tbody>\n",
       "    <tr>\n",
       "      <th>danceability</th>\n",
       "      <td>Test Statistic   -2.757635\\np-value           ...</td>\n",
       "    </tr>\n",
       "    <tr>\n",
       "      <th>energy</th>\n",
       "      <td>Test Statistic   -5.702248e+00\\np-value       ...</td>\n",
       "    </tr>\n",
       "    <tr>\n",
       "      <th>key</th>\n",
       "      <td>Test Statistic   -4.439530\\np-value           ...</td>\n",
       "    </tr>\n",
       "    <tr>\n",
       "      <th>loudness</th>\n",
       "      <td>Test Statistic   -6.319006e+00\\np-value       ...</td>\n",
       "    </tr>\n",
       "    <tr>\n",
       "      <th>mode</th>\n",
       "      <td>Test Statistic   -4.870819\\np-value           ...</td>\n",
       "    </tr>\n",
       "    <tr>\n",
       "      <th>speechiness</th>\n",
       "      <td>Test Statistic   -2.943518\\np-value           ...</td>\n",
       "    </tr>\n",
       "    <tr>\n",
       "      <th>acousticness</th>\n",
       "      <td>Test Statistic   -4.783946\\np-value           ...</td>\n",
       "    </tr>\n",
       "    <tr>\n",
       "      <th>instrumentalness</th>\n",
       "      <td>Test Statistic   -5.946586e+00\\np-value       ...</td>\n",
       "    </tr>\n",
       "    <tr>\n",
       "      <th>liveness</th>\n",
       "      <td>Test Statistic   -4.755015\\np-value           ...</td>\n",
       "    </tr>\n",
       "    <tr>\n",
       "      <th>valence</th>\n",
       "      <td>Test Statistic   -2.009585\\np-value           ...</td>\n",
       "    </tr>\n",
       "    <tr>\n",
       "      <th>tempo</th>\n",
       "      <td>Test Statistic   -3.892586\\np-value           ...</td>\n",
       "    </tr>\n",
       "  </tbody>\n",
       "</table>\n",
       "</div>"
      ],
      "text/plain": [
       "                                                                  0\n",
       "danceability      Test Statistic   -2.757635\\np-value           ...\n",
       "energy            Test Statistic   -5.702248e+00\\np-value       ...\n",
       "key               Test Statistic   -4.439530\\np-value           ...\n",
       "loudness          Test Statistic   -6.319006e+00\\np-value       ...\n",
       "mode              Test Statistic   -4.870819\\np-value           ...\n",
       "speechiness       Test Statistic   -2.943518\\np-value           ...\n",
       "acousticness      Test Statistic   -4.783946\\np-value           ...\n",
       "instrumentalness  Test Statistic   -5.946586e+00\\np-value       ...\n",
       "liveness          Test Statistic   -4.755015\\np-value           ...\n",
       "valence           Test Statistic   -2.009585\\np-value           ...\n",
       "tempo             Test Statistic   -3.892586\\np-value           ..."
      ]
     },
     "execution_count": 19,
     "metadata": {},
     "output_type": "execute_result"
    }
   ],
   "source": [
    "pd.DataFrame(dickey_dict).T"
   ]
  },
  {
   "cell_type": "markdown",
   "metadata": {},
   "source": [
    "### Once-differenced data"
   ]
  },
  {
   "cell_type": "code",
   "execution_count": 20,
   "metadata": {},
   "outputs": [
    {
     "data": {
      "text/html": [
       "<div>\n",
       "<style scoped>\n",
       "    .dataframe tbody tr th:only-of-type {\n",
       "        vertical-align: middle;\n",
       "    }\n",
       "\n",
       "    .dataframe tbody tr th {\n",
       "        vertical-align: top;\n",
       "    }\n",
       "\n",
       "    .dataframe thead th {\n",
       "        text-align: right;\n",
       "    }\n",
       "</style>\n",
       "<table border=\"1\" class=\"dataframe\">\n",
       "  <thead>\n",
       "    <tr style=\"text-align: right;\">\n",
       "      <th></th>\n",
       "      <th>Position</th>\n",
       "      <th>danceability</th>\n",
       "      <th>energy</th>\n",
       "      <th>key</th>\n",
       "      <th>loudness</th>\n",
       "      <th>mode</th>\n",
       "      <th>speechiness</th>\n",
       "      <th>acousticness</th>\n",
       "      <th>instrumentalness</th>\n",
       "      <th>liveness</th>\n",
       "      <th>valence</th>\n",
       "      <th>tempo</th>\n",
       "      <th>duration_ms</th>\n",
       "      <th>time_signature</th>\n",
       "    </tr>\n",
       "    <tr>\n",
       "      <th>date</th>\n",
       "      <th></th>\n",
       "      <th></th>\n",
       "      <th></th>\n",
       "      <th></th>\n",
       "      <th></th>\n",
       "      <th></th>\n",
       "      <th></th>\n",
       "      <th></th>\n",
       "      <th></th>\n",
       "      <th></th>\n",
       "      <th></th>\n",
       "      <th></th>\n",
       "      <th></th>\n",
       "      <th></th>\n",
       "    </tr>\n",
       "  </thead>\n",
       "  <tbody>\n",
       "    <tr>\n",
       "      <th>2017-01-01</th>\n",
       "      <td>25.5</td>\n",
       "      <td>0.604800</td>\n",
       "      <td>0.591096</td>\n",
       "      <td>5.840000</td>\n",
       "      <td>-9.008200</td>\n",
       "      <td>0.600000</td>\n",
       "      <td>0.081670</td>\n",
       "      <td>0.303003</td>\n",
       "      <td>0.061578</td>\n",
       "      <td>0.172262</td>\n",
       "      <td>0.466054</td>\n",
       "      <td>115.511720</td>\n",
       "      <td>257468.600000</td>\n",
       "      <td>3.860000</td>\n",
       "    </tr>\n",
       "    <tr>\n",
       "      <th>2017-01-08</th>\n",
       "      <td>25.5</td>\n",
       "      <td>0.592829</td>\n",
       "      <td>0.596115</td>\n",
       "      <td>5.602857</td>\n",
       "      <td>-8.670323</td>\n",
       "      <td>0.717143</td>\n",
       "      <td>0.091595</td>\n",
       "      <td>0.355359</td>\n",
       "      <td>0.182476</td>\n",
       "      <td>0.175617</td>\n",
       "      <td>0.390494</td>\n",
       "      <td>118.564109</td>\n",
       "      <td>279987.502857</td>\n",
       "      <td>3.908571</td>\n",
       "    </tr>\n",
       "    <tr>\n",
       "      <th>2017-01-15</th>\n",
       "      <td>25.5</td>\n",
       "      <td>0.590561</td>\n",
       "      <td>0.584263</td>\n",
       "      <td>5.025714</td>\n",
       "      <td>-8.433451</td>\n",
       "      <td>0.625714</td>\n",
       "      <td>0.091436</td>\n",
       "      <td>0.340648</td>\n",
       "      <td>0.141121</td>\n",
       "      <td>0.204428</td>\n",
       "      <td>0.402156</td>\n",
       "      <td>118.157554</td>\n",
       "      <td>252121.394286</td>\n",
       "      <td>3.985714</td>\n",
       "    </tr>\n",
       "    <tr>\n",
       "      <th>2017-01-22</th>\n",
       "      <td>25.5</td>\n",
       "      <td>0.570760</td>\n",
       "      <td>0.618591</td>\n",
       "      <td>4.497143</td>\n",
       "      <td>-7.809969</td>\n",
       "      <td>0.588571</td>\n",
       "      <td>0.093505</td>\n",
       "      <td>0.348782</td>\n",
       "      <td>0.111421</td>\n",
       "      <td>0.163771</td>\n",
       "      <td>0.396994</td>\n",
       "      <td>119.730454</td>\n",
       "      <td>240012.791429</td>\n",
       "      <td>3.934286</td>\n",
       "    </tr>\n",
       "    <tr>\n",
       "      <th>2017-01-29</th>\n",
       "      <td>25.5</td>\n",
       "      <td>0.549560</td>\n",
       "      <td>0.672368</td>\n",
       "      <td>4.888571</td>\n",
       "      <td>-6.910569</td>\n",
       "      <td>0.705714</td>\n",
       "      <td>0.087994</td>\n",
       "      <td>0.302466</td>\n",
       "      <td>0.069887</td>\n",
       "      <td>0.175481</td>\n",
       "      <td>0.469083</td>\n",
       "      <td>122.640960</td>\n",
       "      <td>230365.305714</td>\n",
       "      <td>3.954286</td>\n",
       "    </tr>\n",
       "  </tbody>\n",
       "</table>\n",
       "</div>"
      ],
      "text/plain": [
       "            Position  danceability    energy       key  loudness      mode  \\\n",
       "date                                                                         \n",
       "2017-01-01      25.5      0.604800  0.591096  5.840000 -9.008200  0.600000   \n",
       "2017-01-08      25.5      0.592829  0.596115  5.602857 -8.670323  0.717143   \n",
       "2017-01-15      25.5      0.590561  0.584263  5.025714 -8.433451  0.625714   \n",
       "2017-01-22      25.5      0.570760  0.618591  4.497143 -7.809969  0.588571   \n",
       "2017-01-29      25.5      0.549560  0.672368  4.888571 -6.910569  0.705714   \n",
       "\n",
       "            speechiness  acousticness  instrumentalness  liveness   valence  \\\n",
       "date                                                                          \n",
       "2017-01-01     0.081670      0.303003          0.061578  0.172262  0.466054   \n",
       "2017-01-08     0.091595      0.355359          0.182476  0.175617  0.390494   \n",
       "2017-01-15     0.091436      0.340648          0.141121  0.204428  0.402156   \n",
       "2017-01-22     0.093505      0.348782          0.111421  0.163771  0.396994   \n",
       "2017-01-29     0.087994      0.302466          0.069887  0.175481  0.469083   \n",
       "\n",
       "                 tempo    duration_ms  time_signature  \n",
       "date                                                   \n",
       "2017-01-01  115.511720  257468.600000        3.860000  \n",
       "2017-01-08  118.564109  279987.502857        3.908571  \n",
       "2017-01-15  118.157554  252121.394286        3.985714  \n",
       "2017-01-22  119.730454  240012.791429        3.934286  \n",
       "2017-01-29  122.640960  230365.305714        3.954286  "
      ]
     },
     "execution_count": 20,
     "metadata": {},
     "output_type": "execute_result"
    }
   ],
   "source": [
    "lag_df = rw_italy_17_19.copy()\n",
    "lag_df.head()"
   ]
  },
  {
   "cell_type": "code",
   "execution_count": 21,
   "metadata": {},
   "outputs": [
    {
     "data": {
      "text/plain": [
       "(158, 14)"
      ]
     },
     "execution_count": 21,
     "metadata": {},
     "output_type": "execute_result"
    }
   ],
   "source": [
    "lag_df.shape"
   ]
  },
  {
   "cell_type": "code",
   "execution_count": 22,
   "metadata": {},
   "outputs": [],
   "source": [
    "for feature in audio_features: \n",
    "    lag_df[f'{feature}_once_differenced'] = lag_df[feature].diff(1).fillna(0)"
   ]
  },
  {
   "cell_type": "code",
   "execution_count": 23,
   "metadata": {},
   "outputs": [
    {
     "data": {
      "text/html": [
       "<div>\n",
       "<style scoped>\n",
       "    .dataframe tbody tr th:only-of-type {\n",
       "        vertical-align: middle;\n",
       "    }\n",
       "\n",
       "    .dataframe tbody tr th {\n",
       "        vertical-align: top;\n",
       "    }\n",
       "\n",
       "    .dataframe thead th {\n",
       "        text-align: right;\n",
       "    }\n",
       "</style>\n",
       "<table border=\"1\" class=\"dataframe\">\n",
       "  <thead>\n",
       "    <tr style=\"text-align: right;\">\n",
       "      <th></th>\n",
       "      <th>Position</th>\n",
       "      <th>danceability</th>\n",
       "      <th>energy</th>\n",
       "      <th>key</th>\n",
       "      <th>loudness</th>\n",
       "      <th>mode</th>\n",
       "      <th>speechiness</th>\n",
       "      <th>acousticness</th>\n",
       "      <th>instrumentalness</th>\n",
       "      <th>liveness</th>\n",
       "      <th>...</th>\n",
       "      <th>energy_once_differenced</th>\n",
       "      <th>key_once_differenced</th>\n",
       "      <th>loudness_once_differenced</th>\n",
       "      <th>mode_once_differenced</th>\n",
       "      <th>speechiness_once_differenced</th>\n",
       "      <th>acousticness_once_differenced</th>\n",
       "      <th>instrumentalness_once_differenced</th>\n",
       "      <th>liveness_once_differenced</th>\n",
       "      <th>valence_once_differenced</th>\n",
       "      <th>tempo_once_differenced</th>\n",
       "    </tr>\n",
       "    <tr>\n",
       "      <th>date</th>\n",
       "      <th></th>\n",
       "      <th></th>\n",
       "      <th></th>\n",
       "      <th></th>\n",
       "      <th></th>\n",
       "      <th></th>\n",
       "      <th></th>\n",
       "      <th></th>\n",
       "      <th></th>\n",
       "      <th></th>\n",
       "      <th></th>\n",
       "      <th></th>\n",
       "      <th></th>\n",
       "      <th></th>\n",
       "      <th></th>\n",
       "      <th></th>\n",
       "      <th></th>\n",
       "      <th></th>\n",
       "      <th></th>\n",
       "      <th></th>\n",
       "      <th></th>\n",
       "    </tr>\n",
       "  </thead>\n",
       "  <tbody>\n",
       "    <tr>\n",
       "      <th>2017-01-01</th>\n",
       "      <td>25.5</td>\n",
       "      <td>0.604800</td>\n",
       "      <td>0.591096</td>\n",
       "      <td>5.840000</td>\n",
       "      <td>-9.008200</td>\n",
       "      <td>0.600000</td>\n",
       "      <td>0.081670</td>\n",
       "      <td>0.303003</td>\n",
       "      <td>0.061578</td>\n",
       "      <td>0.172262</td>\n",
       "      <td>...</td>\n",
       "      <td>0.000000</td>\n",
       "      <td>0.000000</td>\n",
       "      <td>0.000000</td>\n",
       "      <td>0.000000</td>\n",
       "      <td>0.000000</td>\n",
       "      <td>0.000000</td>\n",
       "      <td>0.000000</td>\n",
       "      <td>0.000000</td>\n",
       "      <td>0.000000</td>\n",
       "      <td>0.000000</td>\n",
       "    </tr>\n",
       "    <tr>\n",
       "      <th>2017-01-08</th>\n",
       "      <td>25.5</td>\n",
       "      <td>0.592829</td>\n",
       "      <td>0.596115</td>\n",
       "      <td>5.602857</td>\n",
       "      <td>-8.670323</td>\n",
       "      <td>0.717143</td>\n",
       "      <td>0.091595</td>\n",
       "      <td>0.355359</td>\n",
       "      <td>0.182476</td>\n",
       "      <td>0.175617</td>\n",
       "      <td>...</td>\n",
       "      <td>0.005019</td>\n",
       "      <td>-0.237143</td>\n",
       "      <td>0.337877</td>\n",
       "      <td>0.117143</td>\n",
       "      <td>0.009925</td>\n",
       "      <td>0.052356</td>\n",
       "      <td>0.120898</td>\n",
       "      <td>0.003355</td>\n",
       "      <td>-0.075560</td>\n",
       "      <td>3.052389</td>\n",
       "    </tr>\n",
       "    <tr>\n",
       "      <th>2017-01-15</th>\n",
       "      <td>25.5</td>\n",
       "      <td>0.590561</td>\n",
       "      <td>0.584263</td>\n",
       "      <td>5.025714</td>\n",
       "      <td>-8.433451</td>\n",
       "      <td>0.625714</td>\n",
       "      <td>0.091436</td>\n",
       "      <td>0.340648</td>\n",
       "      <td>0.141121</td>\n",
       "      <td>0.204428</td>\n",
       "      <td>...</td>\n",
       "      <td>-0.011853</td>\n",
       "      <td>-0.577143</td>\n",
       "      <td>0.236871</td>\n",
       "      <td>-0.091429</td>\n",
       "      <td>-0.000159</td>\n",
       "      <td>-0.014711</td>\n",
       "      <td>-0.041355</td>\n",
       "      <td>0.028811</td>\n",
       "      <td>0.011662</td>\n",
       "      <td>-0.406554</td>\n",
       "    </tr>\n",
       "    <tr>\n",
       "      <th>2017-01-22</th>\n",
       "      <td>25.5</td>\n",
       "      <td>0.570760</td>\n",
       "      <td>0.618591</td>\n",
       "      <td>4.497143</td>\n",
       "      <td>-7.809969</td>\n",
       "      <td>0.588571</td>\n",
       "      <td>0.093505</td>\n",
       "      <td>0.348782</td>\n",
       "      <td>0.111421</td>\n",
       "      <td>0.163771</td>\n",
       "      <td>...</td>\n",
       "      <td>0.034328</td>\n",
       "      <td>-0.528571</td>\n",
       "      <td>0.623483</td>\n",
       "      <td>-0.037143</td>\n",
       "      <td>0.002069</td>\n",
       "      <td>0.008134</td>\n",
       "      <td>-0.029699</td>\n",
       "      <td>-0.040657</td>\n",
       "      <td>-0.005162</td>\n",
       "      <td>1.572900</td>\n",
       "    </tr>\n",
       "    <tr>\n",
       "      <th>2017-01-29</th>\n",
       "      <td>25.5</td>\n",
       "      <td>0.549560</td>\n",
       "      <td>0.672368</td>\n",
       "      <td>4.888571</td>\n",
       "      <td>-6.910569</td>\n",
       "      <td>0.705714</td>\n",
       "      <td>0.087994</td>\n",
       "      <td>0.302466</td>\n",
       "      <td>0.069887</td>\n",
       "      <td>0.175481</td>\n",
       "      <td>...</td>\n",
       "      <td>0.053777</td>\n",
       "      <td>0.391429</td>\n",
       "      <td>0.899400</td>\n",
       "      <td>0.117143</td>\n",
       "      <td>-0.005511</td>\n",
       "      <td>-0.046316</td>\n",
       "      <td>-0.041534</td>\n",
       "      <td>0.011710</td>\n",
       "      <td>0.072090</td>\n",
       "      <td>2.910506</td>\n",
       "    </tr>\n",
       "  </tbody>\n",
       "</table>\n",
       "<p>5 rows × 25 columns</p>\n",
       "</div>"
      ],
      "text/plain": [
       "            Position  danceability    energy       key  loudness      mode  \\\n",
       "date                                                                         \n",
       "2017-01-01      25.5      0.604800  0.591096  5.840000 -9.008200  0.600000   \n",
       "2017-01-08      25.5      0.592829  0.596115  5.602857 -8.670323  0.717143   \n",
       "2017-01-15      25.5      0.590561  0.584263  5.025714 -8.433451  0.625714   \n",
       "2017-01-22      25.5      0.570760  0.618591  4.497143 -7.809969  0.588571   \n",
       "2017-01-29      25.5      0.549560  0.672368  4.888571 -6.910569  0.705714   \n",
       "\n",
       "            speechiness  acousticness  instrumentalness  liveness  ...  \\\n",
       "date                                                               ...   \n",
       "2017-01-01     0.081670      0.303003          0.061578  0.172262  ...   \n",
       "2017-01-08     0.091595      0.355359          0.182476  0.175617  ...   \n",
       "2017-01-15     0.091436      0.340648          0.141121  0.204428  ...   \n",
       "2017-01-22     0.093505      0.348782          0.111421  0.163771  ...   \n",
       "2017-01-29     0.087994      0.302466          0.069887  0.175481  ...   \n",
       "\n",
       "            energy_once_differenced  key_once_differenced  \\\n",
       "date                                                        \n",
       "2017-01-01                 0.000000              0.000000   \n",
       "2017-01-08                 0.005019             -0.237143   \n",
       "2017-01-15                -0.011853             -0.577143   \n",
       "2017-01-22                 0.034328             -0.528571   \n",
       "2017-01-29                 0.053777              0.391429   \n",
       "\n",
       "            loudness_once_differenced  mode_once_differenced  \\\n",
       "date                                                           \n",
       "2017-01-01                   0.000000               0.000000   \n",
       "2017-01-08                   0.337877               0.117143   \n",
       "2017-01-15                   0.236871              -0.091429   \n",
       "2017-01-22                   0.623483              -0.037143   \n",
       "2017-01-29                   0.899400               0.117143   \n",
       "\n",
       "            speechiness_once_differenced  acousticness_once_differenced  \\\n",
       "date                                                                      \n",
       "2017-01-01                      0.000000                       0.000000   \n",
       "2017-01-08                      0.009925                       0.052356   \n",
       "2017-01-15                     -0.000159                      -0.014711   \n",
       "2017-01-22                      0.002069                       0.008134   \n",
       "2017-01-29                     -0.005511                      -0.046316   \n",
       "\n",
       "            instrumentalness_once_differenced  liveness_once_differenced  \\\n",
       "date                                                                       \n",
       "2017-01-01                           0.000000                   0.000000   \n",
       "2017-01-08                           0.120898                   0.003355   \n",
       "2017-01-15                          -0.041355                   0.028811   \n",
       "2017-01-22                          -0.029699                  -0.040657   \n",
       "2017-01-29                          -0.041534                   0.011710   \n",
       "\n",
       "            valence_once_differenced  tempo_once_differenced  \n",
       "date                                                          \n",
       "2017-01-01                  0.000000                0.000000  \n",
       "2017-01-08                 -0.075560                3.052389  \n",
       "2017-01-15                  0.011662               -0.406554  \n",
       "2017-01-22                 -0.005162                1.572900  \n",
       "2017-01-29                  0.072090                2.910506  \n",
       "\n",
       "[5 rows x 25 columns]"
      ]
     },
     "execution_count": 23,
     "metadata": {},
     "output_type": "execute_result"
    }
   ],
   "source": [
    "lag_df.head()"
   ]
  },
  {
   "cell_type": "code",
   "execution_count": 24,
   "metadata": {},
   "outputs": [],
   "source": [
    "# for feature in audio_features:\n",
    "#     print(f'Dickey_Fuller interpretation for {feature}, once-differenced:\\n{interpret_dftest(lag_df[{feature}_once_differenced].values.reshape(-1).tolist())}')"
   ]
  },
  {
   "cell_type": "code",
   "execution_count": 25,
   "metadata": {},
   "outputs": [
    {
     "name": "stdout",
     "output_type": "stream",
     "text": [
      "Dickey-Fuller Interpretation for danceability, once-differenced:\n",
      "Test Statistic   -1.115168e+01\n",
      "p-value           2.933015e-20\n",
      "dtype: float64\n",
      "Dickey-Fuller Interpretation for energy, once-differenced:\n",
      "Test Statistic   -6.120989e+00\n",
      "p-value           8.856549e-08\n",
      "dtype: float64\n",
      "Dickey-Fuller Interpretation for key, once-differenced:\n",
      "Test Statistic   -8.257892e+00\n",
      "p-value           5.177480e-13\n",
      "dtype: float64\n",
      "Dickey-Fuller Interpretation for loudness, once-differenced:\n",
      "Test Statistic   -7.392012e+00\n",
      "p-value           7.955218e-11\n",
      "dtype: float64\n",
      "Dickey-Fuller Interpretation for mode, once-differenced:\n",
      "Test Statistic   -1.010529e+01\n",
      "p-value           1.033769e-17\n",
      "dtype: float64\n",
      "Dickey-Fuller Interpretation for speechiness, once-differenced:\n",
      "Test Statistic   -6.810688e+00\n",
      "p-value           2.120125e-09\n",
      "dtype: float64\n",
      "Dickey-Fuller Interpretation for acousticness, once-differenced:\n",
      "Test Statistic   -7.967837e+00\n",
      "p-value           2.833390e-12\n",
      "dtype: float64\n",
      "Dickey-Fuller Interpretation for instrumentalness, once-differenced:\n",
      "Test Statistic   -7.779501e+00\n",
      "p-value           8.491743e-12\n",
      "dtype: float64\n",
      "Dickey-Fuller Interpretation for liveness, once-differenced:\n",
      "Test Statistic   -6.967260e+00\n",
      "p-value           8.849249e-10\n",
      "dtype: float64\n",
      "Dickey-Fuller Interpretation for valence, once-differenced:\n",
      "Test Statistic   -4.570991\n",
      "p-value           0.000146\n",
      "dtype: float64\n",
      "Dickey-Fuller Interpretation for tempo, once-differenced:\n",
      "Test Statistic   -7.306263e+00\n",
      "p-value           1.299122e-10\n",
      "dtype: float64\n"
     ]
    }
   ],
   "source": [
    "for feature in audio_features:\n",
    "    print(f'Dickey-Fuller Interpretation for {feature}, once-differenced:\\n{interpret_dftest(adfuller(lag_df[feature].diff(1).fillna(0)))}')"
   ]
  },
  {
   "cell_type": "code",
   "execution_count": 26,
   "metadata": {},
   "outputs": [
    {
     "name": "stdout",
     "output_type": "stream",
     "text": [
      "Dickey-Fuller Interpretation for danceability, twice-differenced:\n",
      "Test Statistic   -4.681226\n",
      "p-value           0.000091\n",
      "dtype: float64\n",
      "Dickey-Fuller Interpretation for energy, twice-differenced:\n",
      "Test Statistic   -4.245719\n",
      "p-value           0.000551\n",
      "dtype: float64\n",
      "Dickey-Fuller Interpretation for key, twice-differenced:\n",
      "Test Statistic   -7.317728e+00\n",
      "p-value           1.216805e-10\n",
      "dtype: float64\n",
      "Dickey-Fuller Interpretation for loudness, twice-differenced:\n",
      "Test Statistic   -8.240378e+00\n",
      "p-value           5.738547e-13\n",
      "dtype: float64\n",
      "Dickey-Fuller Interpretation for mode, twice-differenced:\n",
      "Test Statistic   -8.832307e+00\n",
      "p-value           1.756378e-14\n",
      "dtype: float64\n",
      "Dickey-Fuller Interpretation for speechiness, twice-differenced:\n",
      "Test Statistic   -4.478790\n",
      "p-value           0.000215\n",
      "dtype: float64\n",
      "Dickey-Fuller Interpretation for acousticness, twice-differenced:\n",
      "Test Statistic   -2.820746\n",
      "p-value           0.055371\n",
      "dtype: float64\n",
      "Dickey-Fuller Interpretation for instrumentalness, twice-differenced:\n",
      "Test Statistic   -4.697720\n",
      "p-value           0.000085\n",
      "dtype: float64\n",
      "Dickey-Fuller Interpretation for liveness, twice-differenced:\n",
      "Test Statistic   -7.180229e+00\n",
      "p-value           2.661711e-10\n",
      "dtype: float64\n",
      "Dickey-Fuller Interpretation for valence, twice-differenced:\n",
      "Test Statistic   -3.800043\n",
      "p-value           0.002907\n",
      "dtype: float64\n",
      "Dickey-Fuller Interpretation for tempo, twice-differenced:\n",
      "Test Statistic   -5.459605\n",
      "p-value           0.000003\n",
      "dtype: float64\n"
     ]
    }
   ],
   "source": [
    "for feature in audio_features:\n",
    "    print(f'Dickey-Fuller Interpretation for {feature}, twice-differenced:\\n{interpret_dftest(adfuller(lag_df[feature].diff(2).fillna(0)))}')"
   ]
  },
  {
   "cell_type": "markdown",
   "metadata": {},
   "source": [
    "### Using `ndiffs` to figure out how many orders of difference $d$ I need in oder to have stationarity"
   ]
  },
  {
   "cell_type": "code",
   "execution_count": 27,
   "metadata": {},
   "outputs": [],
   "source": [
    "from pmdarima.arima.utils import ndiffs"
   ]
  },
  {
   "cell_type": "code",
   "execution_count": 28,
   "metadata": {},
   "outputs": [
    {
     "data": {
      "text/plain": [
       "0"
      ]
     },
     "execution_count": 28,
     "metadata": {},
     "output_type": "execute_result"
    }
   ],
   "source": [
    "ndiffs(rw_italy_17_19['danceability'], test='adf')"
   ]
  },
  {
   "cell_type": "code",
   "execution_count": 121,
   "metadata": {},
   "outputs": [
    {
     "name": "stdout",
     "output_type": "stream",
     "text": [
      "ndiffs for danceability stationarity: 1\n",
      "ndiffs for energy stationarity: 0\n",
      "ndiffs for key stationarity: 0\n",
      "ndiffs for loudness stationarity: 0\n",
      "ndiffs for mode stationarity: 1\n",
      "ndiffs for speechiness stationarity: 0\n",
      "ndiffs for acousticness stationarity: 0\n",
      "ndiffs for instrumentalness stationarity: 0\n",
      "ndiffs for liveness stationarity: 0\n",
      "ndiffs for valence stationarity: 0\n",
      "ndiffs for tempo stationarity: 0\n"
     ]
    }
   ],
   "source": [
    "for feature in audio_features:\n",
    "    print(f'ndiffs for {feature} stationarity: {ndiffs(alltime_rw_italy[feature], test= \"adf\")}')"
   ]
  },
  {
   "cell_type": "code",
   "execution_count": null,
   "metadata": {},
   "outputs": [],
   "source": [
    "ndiff_dict = {\n",
    "    'audio_feature':[],\n",
    "    'ndiffs for stationarity':[]    \n",
    "}"
   ]
  },
  {
   "cell_type": "markdown",
   "metadata": {},
   "source": [
    "### Building ARIMA model "
   ]
  },
  {
   "cell_type": "markdown",
   "metadata": {},
   "source": [
    "_ARIMA model for 'valence'_"
   ]
  },
  {
   "cell_type": "code",
   "execution_count": 30,
   "metadata": {},
   "outputs": [
    {
     "data": {
      "text/plain": [
       "216"
      ]
     },
     "execution_count": 30,
     "metadata": {},
     "output_type": "execute_result"
    }
   ],
   "source": [
    "len(alltime_rw_italy['valence'])"
   ]
  },
  {
   "cell_type": "code",
   "execution_count": 31,
   "metadata": {},
   "outputs": [
    {
     "data": {
      "text/plain": [
       "162.0"
      ]
     },
     "execution_count": 31,
     "metadata": {},
     "output_type": "execute_result"
    }
   ],
   "source": [
    "216*.75"
   ]
  },
  {
   "cell_type": "code",
   "execution_count": 56,
   "metadata": {},
   "outputs": [],
   "source": [
    "train_valence = alltime_rw_italy['valence'][0:162]\n",
    "test_valence = alltime_rw_italy['valence'][162:]"
   ]
  },
  {
   "cell_type": "code",
   "execution_count": 53,
   "metadata": {},
   "outputs": [
    {
     "data": {
      "text/html": [
       "<div>\n",
       "<style scoped>\n",
       "    .dataframe tbody tr th:only-of-type {\n",
       "        vertical-align: middle;\n",
       "    }\n",
       "\n",
       "    .dataframe tbody tr th {\n",
       "        vertical-align: top;\n",
       "    }\n",
       "\n",
       "    .dataframe thead th {\n",
       "        text-align: right;\n",
       "    }\n",
       "</style>\n",
       "<table border=\"1\" class=\"dataframe\">\n",
       "  <thead>\n",
       "    <tr style=\"text-align: right;\">\n",
       "      <th></th>\n",
       "      <th>Position</th>\n",
       "      <th>danceability</th>\n",
       "      <th>energy</th>\n",
       "      <th>key</th>\n",
       "      <th>loudness</th>\n",
       "      <th>mode</th>\n",
       "      <th>speechiness</th>\n",
       "      <th>acousticness</th>\n",
       "      <th>instrumentalness</th>\n",
       "      <th>liveness</th>\n",
       "      <th>valence</th>\n",
       "      <th>tempo</th>\n",
       "      <th>duration_ms</th>\n",
       "      <th>time_signature</th>\n",
       "    </tr>\n",
       "    <tr>\n",
       "      <th>date</th>\n",
       "      <th></th>\n",
       "      <th></th>\n",
       "      <th></th>\n",
       "      <th></th>\n",
       "      <th></th>\n",
       "      <th></th>\n",
       "      <th></th>\n",
       "      <th></th>\n",
       "      <th></th>\n",
       "      <th></th>\n",
       "      <th></th>\n",
       "      <th></th>\n",
       "      <th></th>\n",
       "      <th></th>\n",
       "    </tr>\n",
       "  </thead>\n",
       "  <tbody>\n",
       "    <tr>\n",
       "      <th>2017-01-01</th>\n",
       "      <td>25.5</td>\n",
       "      <td>0.604800</td>\n",
       "      <td>0.591096</td>\n",
       "      <td>5.840000</td>\n",
       "      <td>-9.008200</td>\n",
       "      <td>0.600000</td>\n",
       "      <td>0.081670</td>\n",
       "      <td>0.303003</td>\n",
       "      <td>0.061578</td>\n",
       "      <td>0.172262</td>\n",
       "      <td>0.466054</td>\n",
       "      <td>115.511720</td>\n",
       "      <td>257468.600000</td>\n",
       "      <td>3.860000</td>\n",
       "    </tr>\n",
       "    <tr>\n",
       "      <th>2017-01-08</th>\n",
       "      <td>25.5</td>\n",
       "      <td>0.592829</td>\n",
       "      <td>0.596115</td>\n",
       "      <td>5.602857</td>\n",
       "      <td>-8.670323</td>\n",
       "      <td>0.717143</td>\n",
       "      <td>0.091595</td>\n",
       "      <td>0.355359</td>\n",
       "      <td>0.182476</td>\n",
       "      <td>0.175617</td>\n",
       "      <td>0.390494</td>\n",
       "      <td>118.564109</td>\n",
       "      <td>279987.502857</td>\n",
       "      <td>3.908571</td>\n",
       "    </tr>\n",
       "    <tr>\n",
       "      <th>2017-01-15</th>\n",
       "      <td>25.5</td>\n",
       "      <td>0.590561</td>\n",
       "      <td>0.584263</td>\n",
       "      <td>5.025714</td>\n",
       "      <td>-8.433451</td>\n",
       "      <td>0.625714</td>\n",
       "      <td>0.091436</td>\n",
       "      <td>0.340648</td>\n",
       "      <td>0.141121</td>\n",
       "      <td>0.204428</td>\n",
       "      <td>0.402156</td>\n",
       "      <td>118.157554</td>\n",
       "      <td>252121.394286</td>\n",
       "      <td>3.985714</td>\n",
       "    </tr>\n",
       "    <tr>\n",
       "      <th>2017-01-22</th>\n",
       "      <td>25.5</td>\n",
       "      <td>0.570760</td>\n",
       "      <td>0.618591</td>\n",
       "      <td>4.497143</td>\n",
       "      <td>-7.809969</td>\n",
       "      <td>0.588571</td>\n",
       "      <td>0.093505</td>\n",
       "      <td>0.348782</td>\n",
       "      <td>0.111421</td>\n",
       "      <td>0.163771</td>\n",
       "      <td>0.396994</td>\n",
       "      <td>119.730454</td>\n",
       "      <td>240012.791429</td>\n",
       "      <td>3.934286</td>\n",
       "    </tr>\n",
       "    <tr>\n",
       "      <th>2017-01-29</th>\n",
       "      <td>25.5</td>\n",
       "      <td>0.549560</td>\n",
       "      <td>0.672368</td>\n",
       "      <td>4.888571</td>\n",
       "      <td>-6.910569</td>\n",
       "      <td>0.705714</td>\n",
       "      <td>0.087994</td>\n",
       "      <td>0.302466</td>\n",
       "      <td>0.069887</td>\n",
       "      <td>0.175481</td>\n",
       "      <td>0.469083</td>\n",
       "      <td>122.640960</td>\n",
       "      <td>230365.305714</td>\n",
       "      <td>3.954286</td>\n",
       "    </tr>\n",
       "  </tbody>\n",
       "</table>\n",
       "</div>"
      ],
      "text/plain": [
       "            Position  danceability    energy       key  loudness      mode  \\\n",
       "date                                                                         \n",
       "2017-01-01      25.5      0.604800  0.591096  5.840000 -9.008200  0.600000   \n",
       "2017-01-08      25.5      0.592829  0.596115  5.602857 -8.670323  0.717143   \n",
       "2017-01-15      25.5      0.590561  0.584263  5.025714 -8.433451  0.625714   \n",
       "2017-01-22      25.5      0.570760  0.618591  4.497143 -7.809969  0.588571   \n",
       "2017-01-29      25.5      0.549560  0.672368  4.888571 -6.910569  0.705714   \n",
       "\n",
       "            speechiness  acousticness  instrumentalness  liveness   valence  \\\n",
       "date                                                                          \n",
       "2017-01-01     0.081670      0.303003          0.061578  0.172262  0.466054   \n",
       "2017-01-08     0.091595      0.355359          0.182476  0.175617  0.390494   \n",
       "2017-01-15     0.091436      0.340648          0.141121  0.204428  0.402156   \n",
       "2017-01-22     0.093505      0.348782          0.111421  0.163771  0.396994   \n",
       "2017-01-29     0.087994      0.302466          0.069887  0.175481  0.469083   \n",
       "\n",
       "                 tempo    duration_ms  time_signature  \n",
       "date                                                   \n",
       "2017-01-01  115.511720  257468.600000        3.860000  \n",
       "2017-01-08  118.564109  279987.502857        3.908571  \n",
       "2017-01-15  118.157554  252121.394286        3.985714  \n",
       "2017-01-22  119.730454  240012.791429        3.934286  \n",
       "2017-01-29  122.640960  230365.305714        3.954286  "
      ]
     },
     "execution_count": 53,
     "metadata": {},
     "output_type": "execute_result"
    }
   ],
   "source": [
    "alltime_rw_italy.head()"
   ]
  },
  {
   "cell_type": "markdown",
   "metadata": {},
   "source": [
    "### _ARIMA(1,1,0)_"
   ]
  },
  {
   "cell_type": "code",
   "execution_count": null,
   "metadata": {},
   "outputs": [],
   "source": [
    "d = 1"
   ]
  },
  {
   "cell_type": "code",
   "execution_count": 67,
   "metadata": {},
   "outputs": [],
   "source": [
    "model_valence_110 = ARIMA(train_valence, order=(1,1,0))\n",
    "\n",
    "model_valence_fit_110 = model_valence_110.fit()"
   ]
  },
  {
   "cell_type": "code",
   "execution_count": 70,
   "metadata": {},
   "outputs": [],
   "source": [
    "# train_valence.index.values"
   ]
  },
  {
   "cell_type": "code",
   "execution_count": 71,
   "metadata": {},
   "outputs": [],
   "source": [
    "preds_train_valence_arima_110 = model_valence_fit_110.predict(start=train_valence.index[d], end=train_valence.index[-1])\n",
    "\n",
    "preds_test_valence_arima_110 = model_valence_fit_110.predict(start=test_valence.index[0], end=test_valence.index[-1])"
   ]
  },
  {
   "cell_type": "code",
   "execution_count": 72,
   "metadata": {},
   "outputs": [
    {
     "data": {
      "text/plain": [
       "Timestamp('2017-01-01 00:00:00', freq='W-SUN')"
      ]
     },
     "execution_count": 72,
     "metadata": {},
     "output_type": "execute_result"
    }
   ],
   "source": [
    "train_valence.index[0]"
   ]
  },
  {
   "cell_type": "code",
   "execution_count": 73,
   "metadata": {},
   "outputs": [
    {
     "data": {
      "text/plain": [
       "date\n",
       "2017-01-08    0.471845\n",
       "2017-01-15    0.421030\n",
       "2017-01-22    0.428873\n",
       "2017-01-29    0.425401\n",
       "2017-02-05    0.473882\n",
       "                ...   \n",
       "2020-01-05    0.468116\n",
       "2020-01-12    0.478634\n",
       "2020-01-19    0.457756\n",
       "2020-01-26    0.460179\n",
       "2020-02-02    0.472530\n",
       "Freq: W-SUN, Length: 161, dtype: float64"
      ]
     },
     "execution_count": 73,
     "metadata": {},
     "output_type": "execute_result"
    }
   ],
   "source": [
    "preds_train_valence_arima_110"
   ]
  },
  {
   "cell_type": "code",
   "execution_count": 63,
   "metadata": {},
   "outputs": [
    {
     "data": {
      "text/plain": [
       "date\n",
       "2017-01-01    0.466054\n",
       "2017-01-08    0.390494\n",
       "2017-01-15    0.402156\n",
       "2017-01-22    0.396994\n",
       "2017-01-29    0.469083\n",
       "                ...   \n",
       "2020-01-05    0.476149\n",
       "2020-01-12    0.445104\n",
       "2020-01-19    0.448707\n",
       "2020-01-26    0.467073\n",
       "2020-02-02    0.456720\n",
       "Freq: W-SUN, Name: valence, Length: 162, dtype: float64"
      ]
     },
     "execution_count": 63,
     "metadata": {},
     "output_type": "execute_result"
    }
   ],
   "source": [
    "train_valence"
   ]
  },
  {
   "cell_type": "code",
   "execution_count": 64,
   "metadata": {},
   "outputs": [
    {
     "data": {
      "text/plain": [
       "(161,)"
      ]
     },
     "execution_count": 64,
     "metadata": {},
     "output_type": "execute_result"
    }
   ],
   "source": [
    "preds_train_valence_arima_110.shape"
   ]
  },
  {
   "cell_type": "code",
   "execution_count": 65,
   "metadata": {},
   "outputs": [
    {
     "data": {
      "text/plain": [
       "(162,)"
      ]
     },
     "execution_count": 65,
     "metadata": {},
     "output_type": "execute_result"
    }
   ],
   "source": [
    "train_valence.shape"
   ]
  },
  {
   "cell_type": "markdown",
   "metadata": {},
   "source": [
    "#### evaluating the ARIMA(1,1,0) model "
   ]
  },
  {
   "cell_type": "code",
   "execution_count": 41,
   "metadata": {},
   "outputs": [
    {
     "name": "stdout",
     "output_type": "stream",
     "text": [
      "Train RMSE - ARIMA(1,1,0): 0.48737001214752196\n",
      "Test RMSE - ARIMA(1,1,0): 0.505064353243547\n"
     ]
    },
    {
     "data": {
      "image/png": "[encoded data removed]",
      "text/plain": [
       "<Figure size 720x360 with 1 Axes>"
      ]
     },
     "metadata": {
      "needs_background": "light"
     },
     "output_type": "display_data"
    }
   ],
   "source": [
    "# RMSE \n",
    "train_rmse_valence_110 = mean_squared_error(train_valence[1::], preds_train_valence_arima_110)**0.5\n",
    "print(f'Train RMSE - ARIMA(1,1,0): {train_rmse_valence_110}')\n",
    "\n",
    "test_rmse_valence_110 = mean_squared_error(test_valence, preds_test_valence_arima_110)**0.5\n",
    "print(f'Test RMSE - ARIMA(1,1,0): {test_rmse_valence_110}')\n",
    "\n",
    "resids_valence_110 = test_valence - preds_test_valence_arima_110\n",
    "\n",
    "resids_valence_110.plot(figsize=(10,5))\n",
    "plt.title(\"Valence - ARIMA(1,1,0) Residuals\");"
   ]
  },
  {
   "cell_type": "code",
   "execution_count": 75,
   "metadata": {},
   "outputs": [
    {
     "data": {
      "text/plain": [
       "(array([0.46556763, 0.47151774, 0.47551923, 0.47821027, 0.48002002,\n",
       "        0.48123709, 0.48205558, 0.48260602, 0.4829762 , 0.48322514]),\n",
       " array([0.03262237, 0.03931324, 0.04199063, 0.04314699, 0.04365992,\n",
       "        0.04388994, 0.04399357, 0.04404036, 0.0440615 , 0.04407106]),\n",
       " array([[0.40162896, 0.52950631],\n",
       "        [0.3944652 , 0.54857028],\n",
       "        [0.39321912, 0.55781935],\n",
       "        [0.39364372, 0.56277683],\n",
       "        [0.39444814, 0.5655919 ],\n",
       "        [0.3952144 , 0.56725978],\n",
       "        [0.39582977, 0.56828139],\n",
       "        [0.39628851, 0.56892354],\n",
       "        [0.39661724, 0.56933516],\n",
       "        [0.39684745, 0.56960284]]))"
      ]
     },
     "execution_count": 75,
     "metadata": {},
     "output_type": "execute_result"
    }
   ],
   "source": [
    "output = model_valence_fit_110.forecast(10)\n",
    "output"
   ]
  },
  {
   "cell_type": "code",
   "execution_count": 44,
   "metadata": {},
   "outputs": [
    {
     "data": {
      "text/html": [
       "<table class=\"simpletable\">\n",
       "<caption>ARIMA Model Results</caption>\n",
       "<tr>\n",
       "  <th>Dep. Variable:</th>     <td>D.valence</td>    <th>  No. Observations:  </th>    <td>159</td>  \n",
       "</tr>\n",
       "<tr>\n",
       "  <th>Model:</th>          <td>ARIMA(1, 1, 0)</td>  <th>  Log Likelihood     </th>  <td>312.608</td>\n",
       "</tr>\n",
       "<tr>\n",
       "  <th>Method:</th>             <td>css-mle</td>     <th>  S.D. of innovations</th>   <td>0.034</td> \n",
       "</tr>\n",
       "<tr>\n",
       "  <th>Date:</th>          <td>Mon, 15 Feb 2021</td> <th>  AIC                </th> <td>-619.216</td>\n",
       "</tr>\n",
       "<tr>\n",
       "  <th>Time:</th>              <td>18:02:00</td>     <th>  BIC                </th> <td>-610.009</td>\n",
       "</tr>\n",
       "<tr>\n",
       "  <th>Sample:</th>           <td>01-22-2017</td>    <th>  HQIC               </th> <td>-615.477</td>\n",
       "</tr>\n",
       "<tr>\n",
       "  <th></th>                 <td>- 02-02-2020</td>   <th>                     </th>     <td> </td>   \n",
       "</tr>\n",
       "</table>\n",
       "<table class=\"simpletable\">\n",
       "<tr>\n",
       "         <td></td>            <th>coef</th>     <th>std err</th>      <th>z</th>      <th>P>|z|</th>  <th>[0.025</th>    <th>0.975]</th>  \n",
       "</tr>\n",
       "<tr>\n",
       "  <th>const</th>           <td>    0.0004</td> <td>    0.002</td> <td>    0.176</td> <td> 0.860</td> <td>   -0.004</td> <td>    0.004</td>\n",
       "</tr>\n",
       "<tr>\n",
       "  <th>ar.L1.D.valence</th> <td>   -0.2919</td> <td>    0.076</td> <td>   -3.864</td> <td> 0.000</td> <td>   -0.440</td> <td>   -0.144</td>\n",
       "</tr>\n",
       "</table>\n",
       "<table class=\"simpletable\">\n",
       "<caption>Roots</caption>\n",
       "<tr>\n",
       "    <td></td>   <th>            Real</th>  <th>         Imaginary</th> <th>         Modulus</th>  <th>        Frequency</th>\n",
       "</tr>\n",
       "<tr>\n",
       "  <th>AR.1</th> <td>          -3.4255</td> <td>          +0.0000j</td> <td>           3.4255</td> <td>           0.5000</td>\n",
       "</tr>\n",
       "</table>"
      ],
      "text/plain": [
       "<class 'statsmodels.iolib.summary.Summary'>\n",
       "\"\"\"\n",
       "                             ARIMA Model Results                              \n",
       "==============================================================================\n",
       "Dep. Variable:              D.valence   No. Observations:                  159\n",
       "Model:                 ARIMA(1, 1, 0)   Log Likelihood                 312.608\n",
       "Method:                       css-mle   S.D. of innovations              0.034\n",
       "Date:                Mon, 15 Feb 2021   AIC                           -619.216\n",
       "Time:                        18:02:00   BIC                           -610.009\n",
       "Sample:                    01-22-2017   HQIC                          -615.477\n",
       "                         - 02-02-2020                                         \n",
       "===================================================================================\n",
       "                      coef    std err          z      P>|z|      [0.025      0.975]\n",
       "-----------------------------------------------------------------------------------\n",
       "const               0.0004      0.002      0.176      0.860      -0.004       0.004\n",
       "ar.L1.D.valence    -0.2919      0.076     -3.864      0.000      -0.440      -0.144\n",
       "                                    Roots                                    \n",
       "=============================================================================\n",
       "                  Real          Imaginary           Modulus         Frequency\n",
       "-----------------------------------------------------------------------------\n",
       "AR.1           -3.4255           +0.0000j            3.4255            0.5000\n",
       "-----------------------------------------------------------------------------\n",
       "\"\"\""
      ]
     },
     "execution_count": 44,
     "metadata": {},
     "output_type": "execute_result"
    }
   ],
   "source": [
    "model_valence_fit_110.summary()"
   ]
  },
  {
   "cell_type": "code",
   "execution_count": 46,
   "metadata": {},
   "outputs": [
    {
     "data": {
      "image/png": "[encoded data removed]",
      "text/plain": [
       "<Figure size 1440x720 with 1 Axes>"
      ]
     },
     "metadata": {
      "needs_background": "light"
     },
     "output_type": "display_data"
    }
   ],
   "source": [
    "fig, ax = plt.subplots(figsize=(20,10))\n",
    "fig = model_valence_fit_110.plot_predict(dynamic=False, ax=ax)\n",
    "plt.show()"
   ]
  },
  {
   "cell_type": "markdown",
   "metadata": {},
   "source": [
    "### ACF & PACF Plots to Help Choose Best `p` and `q` parameters "
   ]
  },
  {
   "cell_type": "code",
   "execution_count": 81,
   "metadata": {},
   "outputs": [
    {
     "data": {
      "image/png": "[encoded data removed]",
      "text/plain": [
       "<Figure size 1800x360 with 4 Axes>"
      ]
     },
     "metadata": {
      "needs_background": "light"
     },
     "output_type": "display_data"
    }
   ],
   "source": [
    "fig,ax = plt.subplots(1, 4, figsize=(25,5))\n",
    "plot_acf(rw_italy_17_19['valence'], lags=24, title='Valence - ACF (2017-19)', ax=ax[0])\n",
    "plot_pacf(rw_italy_17_19['valence'], lags=24, title='Valence - PACF (2017-19)', ax=ax[1])\n",
    "plot_acf(rw_italy_20['valence'], lags=24, title='Valence - ACF (2020)', ax=ax[2])\n",
    "plot_pacf(rw_italy_20['valence'], lags=24, title='Valence - PACF (2020)', ax=ax[3]) ;"
   ]
  },
  {
   "cell_type": "markdown",
   "metadata": {},
   "source": [
    "#### Once-differenced `ACF` and `PACF` plots "
   ]
  },
  {
   "cell_type": "code",
   "execution_count": 82,
   "metadata": {},
   "outputs": [
    {
     "data": {
      "image/png": "[encoded data removed]",
      "text/plain": [
       "<Figure size 1080x360 with 2 Axes>"
      ]
     },
     "metadata": {
      "needs_background": "light"
     },
     "output_type": "display_data"
    }
   ],
   "source": [
    "fig,ax = plt.subplots(1, 2, figsize=(15,5))\n",
    "plot_acf(lag_df['valence_once_differenced'], lags=24, title='Valence Differenced One Time Period - ACF (2017-19)', ax=ax[0])\n",
    "plot_pacf(lag_df['valence_once_differenced'], lags=24, title='Valence Differenced One Time Period - PACF (2017-19)', ax=ax[1]) ;"
   ]
  },
  {
   "cell_type": "markdown",
   "metadata": {},
   "source": [
    "#### `ACF` and `PACF` plots for entire time period\n"
   ]
  },
  {
   "cell_type": "code",
   "execution_count": 83,
   "metadata": {},
   "outputs": [
    {
     "data": {
      "image/png": "[encoded data removed]",
      "text/plain": [
       "<Figure size 1080x360 with 2 Axes>"
      ]
     },
     "metadata": {
      "needs_background": "light"
     },
     "output_type": "display_data"
    }
   ],
   "source": [
    "fig,ax = plt.subplots(1, 2, figsize=(15,5))\n",
    "plot_acf(alltime_rw_italy['valence'], lags=52, title='Valence - ACF (2017-20)', ax=ax[0])\n",
    "plot_pacf(alltime_rw_italy['valence'], lags=52, title='Valence - PACF (2017-20)', ax=ax[1]) ;"
   ]
  },
  {
   "cell_type": "markdown",
   "metadata": {},
   "source": [
    "### _ARIMA(2,1,0)_"
   ]
  },
  {
   "cell_type": "code",
   "execution_count": 86,
   "metadata": {},
   "outputs": [],
   "source": [
    "len(alltime_rw_italy['valence'])\n",
    "\n",
    "train_valence = alltime_rw_italy['valence'][0:162]\n",
    "test_valence = alltime_rw_italy['valence'][162:]"
   ]
  },
  {
   "cell_type": "markdown",
   "metadata": {},
   "source": [
    "**I think the problem here is that I need to take differenced data..... if d=1, then I need to use the difference?**"
   ]
  },
  {
   "cell_type": "code",
   "execution_count": 87,
   "metadata": {},
   "outputs": [],
   "source": [
    "model_valence_210 = ARIMA(train_valence, order=(2,1,0))\n",
    "\n",
    "model_valence_fit_210 = model_valence_210.fit()\n",
    "\n",
    "preds_train_valence_arima_210 = model_valence_fit_210.predict(start=train_valence.index[1], end=train_valence.index[-1])\n",
    "\n",
    "preds_test_valence_arima_210 = model_valence_fit_210.predict(start=test_valence.index[0], end=test_valence.index[-1])"
   ]
  },
  {
   "cell_type": "code",
   "execution_count": 88,
   "metadata": {},
   "outputs": [
    {
     "data": {
      "text/plain": [
       "date\n",
       "2017-01-01    0.466054\n",
       "2017-01-08    0.390494\n",
       "2017-01-15    0.402156\n",
       "2017-01-22    0.396994\n",
       "2017-01-29    0.469083\n",
       "                ...   \n",
       "2020-01-05    0.476149\n",
       "2020-01-12    0.445104\n",
       "2020-01-19    0.448707\n",
       "2020-01-26    0.467073\n",
       "2020-02-02    0.456720\n",
       "Freq: W-SUN, Name: valence, Length: 162, dtype: float64"
      ]
     },
     "execution_count": 88,
     "metadata": {},
     "output_type": "execute_result"
    }
   ],
   "source": [
    "train_valence"
   ]
  },
  {
   "cell_type": "code",
   "execution_count": 89,
   "metadata": {},
   "outputs": [
    {
     "data": {
      "text/plain": [
       "date\n",
       "2017-01-08    0.000112\n",
       "2017-01-15    0.022508\n",
       "2017-01-22    0.012262\n",
       "2017-01-29   -0.000479\n",
       "2017-02-05   -0.024644\n",
       "                ...   \n",
       "2020-01-05   -0.008508\n",
       "2020-01-12   -0.010145\n",
       "2020-01-19    0.007974\n",
       "2020-01-26    0.005570\n",
       "2020-02-02   -0.007206\n",
       "Freq: W-SUN, Length: 161, dtype: float64"
      ]
     },
     "execution_count": 89,
     "metadata": {},
     "output_type": "execute_result"
    }
   ],
   "source": [
    "preds_train_valence_arima_210"
   ]
  },
  {
   "cell_type": "code",
   "execution_count": 90,
   "metadata": {},
   "outputs": [
    {
     "name": "stdout",
     "output_type": "stream",
     "text": [
      "Train RMSE - ARIMA(2,1,0): 0.4866982138678163\n",
      "Test RMSE - ARIMA(2,1,0): 0.505335547558153\n"
     ]
    },
    {
     "data": {
      "image/png": "[encoded data removed]",
      "text/plain": [
       "<Figure size 720x360 with 1 Axes>"
      ]
     },
     "metadata": {
      "needs_background": "light"
     },
     "output_type": "display_data"
    }
   ],
   "source": [
    "# evaluating the ARIMA(2,1,2) model \n",
    "\n",
    "# RMSE \n",
    "train_rmse_valence = mean_squared_error(train_valence[1::], preds_train_valence_arima_210)**0.5\n",
    "print(f'Train RMSE - ARIMA(2,1,0): {train_rmse_valence}')\n",
    "\n",
    "test_rmse_valence = mean_squared_error(test_valence, preds_test_valence_arima_210)**0.5\n",
    "print(f'Test RMSE - ARIMA(2,1,0): {test_rmse_valence}')\n",
    "\n",
    "resids_valence_210 = test_valence - preds_test_valence_arima_210\n",
    "\n",
    "resids_valence_210.plot(figsize=(10,5))\n",
    "plt.title(\"Valence - ARIMA(2,1,0) Residuals\");"
   ]
  },
  {
   "cell_type": "code",
   "execution_count": 91,
   "metadata": {},
   "outputs": [
    {
     "data": {
      "text/plain": [
       "<AxesSubplot:xlabel='date'>"
      ]
     },
     "execution_count": 91,
     "metadata": {},
     "output_type": "execute_result"
    },
    {
     "data": {
      "image/png": "[encoded data removed]",
      "text/plain": [
       "<Figure size 432x288 with 1 Axes>"
      ]
     },
     "metadata": {
      "needs_background": "light"
     },
     "output_type": "display_data"
    }
   ],
   "source": [
    "# from video https://www.youtube.com/watch?v=bqvZL8Ww3aA&ab_channel=DataScienceTutorials\n",
    "residuals_df = pd.DataFrame(model_valence_fit_210.resid)\n",
    "residuals_df.plot()"
   ]
  },
  {
   "cell_type": "code",
   "execution_count": 92,
   "metadata": {},
   "outputs": [
    {
     "data": {
      "text/plain": [
       "<AxesSubplot:ylabel='Density'>"
      ]
     },
     "execution_count": 92,
     "metadata": {},
     "output_type": "execute_result"
    },
    {
     "data": {
      "image/png": "[encoded data removed]",
      "text/plain": [
       "<Figure size 432x288 with 1 Axes>"
      ]
     },
     "metadata": {
      "needs_background": "light"
     },
     "output_type": "display_data"
    }
   ],
   "source": [
    "residuals_df.plot(kind='kde')"
   ]
  },
  {
   "cell_type": "code",
   "execution_count": 93,
   "metadata": {},
   "outputs": [
    {
     "data": {
      "text/html": [
       "<div>\n",
       "<style scoped>\n",
       "    .dataframe tbody tr th:only-of-type {\n",
       "        vertical-align: middle;\n",
       "    }\n",
       "\n",
       "    .dataframe tbody tr th {\n",
       "        vertical-align: top;\n",
       "    }\n",
       "\n",
       "    .dataframe thead th {\n",
       "        text-align: right;\n",
       "    }\n",
       "</style>\n",
       "<table border=\"1\" class=\"dataframe\">\n",
       "  <thead>\n",
       "    <tr style=\"text-align: right;\">\n",
       "      <th></th>\n",
       "      <th>0</th>\n",
       "    </tr>\n",
       "  </thead>\n",
       "  <tbody>\n",
       "    <tr>\n",
       "      <th>count</th>\n",
       "      <td>161.000000</td>\n",
       "    </tr>\n",
       "    <tr>\n",
       "      <th>mean</th>\n",
       "      <td>-0.000225</td>\n",
       "    </tr>\n",
       "    <tr>\n",
       "      <th>std</th>\n",
       "      <td>0.033521</td>\n",
       "    </tr>\n",
       "    <tr>\n",
       "      <th>min</th>\n",
       "      <td>-0.075672</td>\n",
       "    </tr>\n",
       "    <tr>\n",
       "      <th>25%</th>\n",
       "      <td>-0.021001</td>\n",
       "    </tr>\n",
       "    <tr>\n",
       "      <th>50%</th>\n",
       "      <td>-0.001756</td>\n",
       "    </tr>\n",
       "    <tr>\n",
       "      <th>75%</th>\n",
       "      <td>0.022908</td>\n",
       "    </tr>\n",
       "    <tr>\n",
       "      <th>max</th>\n",
       "      <td>0.089826</td>\n",
       "    </tr>\n",
       "  </tbody>\n",
       "</table>\n",
       "</div>"
      ],
      "text/plain": [
       "                0\n",
       "count  161.000000\n",
       "mean    -0.000225\n",
       "std      0.033521\n",
       "min     -0.075672\n",
       "25%     -0.021001\n",
       "50%     -0.001756\n",
       "75%      0.022908\n",
       "max      0.089826"
      ]
     },
     "execution_count": 93,
     "metadata": {},
     "output_type": "execute_result"
    }
   ],
   "source": [
    "residuals_df.describe()"
   ]
  },
  {
   "cell_type": "code",
   "execution_count": 94,
   "metadata": {},
   "outputs": [
    {
     "data": {
      "image/png": "[encoded data removed]",
      "text/plain": [
       "<Figure size 1440x360 with 1 Axes>"
      ]
     },
     "metadata": {
      "needs_background": "light"
     },
     "output_type": "display_data"
    }
   ],
   "source": [
    "fig, ax = plt.subplots(figsize=(20,5))\n",
    "fig = model_valence_fit_210.plot_predict(dynamic=False, ax=ax)\n",
    "plt.show()"
   ]
  },
  {
   "cell_type": "code",
   "execution_count": 95,
   "metadata": {},
   "outputs": [],
   "source": [
    "from pandas.plotting import autocorrelation_plot\n",
    "from matplotlib import pyplot\n",
    "%matplotlib inline"
   ]
  },
  {
   "cell_type": "code",
   "execution_count": 96,
   "metadata": {},
   "outputs": [
    {
     "data": {
      "image/png": "[encoded data removed]",
      "text/plain": [
       "<Figure size 432x288 with 1 Axes>"
      ]
     },
     "metadata": {
      "needs_background": "light"
     },
     "output_type": "display_data"
    }
   ],
   "source": [
    "autocorrelation_plot(rw_italy_17_19['valence']) ; "
   ]
  },
  {
   "cell_type": "markdown",
   "metadata": {},
   "source": [
    "## More ARIMA models to compare"
   ]
  },
  {
   "cell_type": "code",
   "execution_count": 97,
   "metadata": {},
   "outputs": [],
   "source": [
    "seven_features = ['danceability', 'energy',  'loudness', 'mode', 'acousticness', 'valence', 'tempo']"
   ]
  },
  {
   "cell_type": "markdown",
   "metadata": {},
   "source": [
    "#### Gridsearch"
   ]
  },
  {
   "cell_type": "code",
   "execution_count": 98,
   "metadata": {},
   "outputs": [
    {
     "data": {
      "text/plain": [
       "-642.6351957621176"
      ]
     },
     "execution_count": 98,
     "metadata": {},
     "output_type": "execute_result"
    }
   ],
   "source": [
    "model_valence_fit_110.aic"
   ]
  },
  {
   "cell_type": "code",
   "execution_count": 99,
   "metadata": {},
   "outputs": [
    {
     "data": {
      "text/plain": [
       "-629.9635240794992"
      ]
     },
     "execution_count": 99,
     "metadata": {},
     "output_type": "execute_result"
    }
   ],
   "source": [
    "model_valence_fit_210.aic"
   ]
  },
  {
   "cell_type": "code",
   "execution_count": 101,
   "metadata": {
    "scrolled": true
   },
   "outputs": [
    {
     "name": "stdout",
     "output_type": "stream",
     "text": [
      "Attempting to fit ARIMA(0, 1, 0)\n",
      "The AIC for ARIMA(0,1,0) is: -612.0025984653842\n",
      "Attempting to fit ARIMA(0, 1, 1)\n",
      "The AIC for ARIMA(0,1,1) is: -634.2300847908593\n",
      "Attempting to fit ARIMA(0, 1, 2)\n",
      "The AIC for ARIMA(0,1,2) is: -638.8223287221706\n",
      "Attempting to fit ARIMA(0, 1, 3)\n",
      "The AIC for ARIMA(0,1,3) is: -637.1007776881372\n",
      "Attempting to fit ARIMA(0, 1, 4)\n",
      "The AIC for ARIMA(0,1,4) is: -638.2794981877664\n",
      "Attempting to fit ARIMA(0, 1, 5)\n",
      "The AIC for ARIMA(0,1,5) is: -637.3993296127903\n",
      "Attempting to fit ARIMA(1, 1, 0)\n",
      "The AIC for ARIMA(1,1,0) is: -624.4473246113482\n",
      "Attempting to fit ARIMA(1, 1, 1)\n",
      "The AIC for ARIMA(1,1,1) is: -639.6669987144687\n",
      "Attempting to fit ARIMA(1, 1, 2)\n",
      "Attempting to fit ARIMA(1, 1, 3)\n",
      "Attempting to fit ARIMA(1, 1, 4)\n",
      "Attempting to fit ARIMA(1, 1, 5)\n",
      "Attempting to fit ARIMA(2, 1, 0)\n",
      "The AIC for ARIMA(2,1,0) is: -629.9635240794992\n",
      "Attempting to fit ARIMA(2, 1, 1)\n",
      "The AIC for ARIMA(2,1,1) is: -637.6862577069514\n",
      "Attempting to fit ARIMA(2, 1, 2)\n",
      "Attempting to fit ARIMA(2, 1, 3)\n",
      "Attempting to fit ARIMA(2, 1, 4)\n",
      "Attempting to fit ARIMA(2, 1, 5)\n",
      "Attempting to fit ARIMA(3, 1, 0)\n",
      "The AIC for ARIMA(3,1,0) is: -628.779077985384\n",
      "Attempting to fit ARIMA(3, 1, 1)\n",
      "The AIC for ARIMA(3,1,1) is: -635.7637959987308\n",
      "Attempting to fit ARIMA(3, 1, 2)\n",
      "Attempting to fit ARIMA(3, 1, 3)\n",
      "Attempting to fit ARIMA(3, 1, 4)\n",
      "Attempting to fit ARIMA(3, 1, 5)\n",
      "Attempting to fit ARIMA(4, 1, 0)\n",
      "The AIC for ARIMA(4,1,0) is: -635.2927465736213\n",
      "Attempting to fit ARIMA(4, 1, 1)\n",
      "The AIC for ARIMA(4,1,1) is: -633.3223726491224\n",
      "Attempting to fit ARIMA(4, 1, 2)\n",
      "The AIC for ARIMA(4,1,2) is: -636.7333065711603\n",
      "Attempting to fit ARIMA(4, 1, 3)\n",
      "The AIC for ARIMA(4,1,3) is: -636.0199962872377\n",
      "Attempting to fit ARIMA(4, 1, 4)\n",
      "Attempting to fit ARIMA(4, 1, 5)\n",
      "Attempting to fit ARIMA(5, 1, 0)\n",
      "The AIC for ARIMA(5,1,0) is: -633.3706892922435\n",
      "Attempting to fit ARIMA(5, 1, 1)\n",
      "The AIC for ARIMA(5,1,1) is: -634.8503414277286\n",
      "Attempting to fit ARIMA(5, 1, 2)\n",
      "The AIC for ARIMA(5,1,2) is: -634.8099432424501\n",
      "Attempting to fit ARIMA(5, 1, 3)\n",
      "The AIC for ARIMA(5,1,3) is: -636.5187615447346\n",
      "Attempting to fit ARIMA(5, 1, 4)\n",
      "Attempting to fit ARIMA(5, 1, 5)\n",
      "\n",
      "\n",
      "MODEL FINISHED!\n",
      "The model for valence that minimizes AIC on the training data is the ARIMA(1,1,1).\n",
      "The model has an aIC of -639.6669987144687.\n"
     ]
    }
   ],
   "source": [
    "# starting with large start AIC\n",
    "best_aic = 99 * (10 * 16)\n",
    "# creating variables to store best values ofd p and q \n",
    "best_p = 0\n",
    "best_q = 0 \n",
    "\n",
    "# use nested for loop to iterate over values of p and q\n",
    "for p in range(6):\n",
    "    \n",
    "    for q in range(6):\n",
    "        \n",
    "        # insert try and and except statements\n",
    "        try: \n",
    "            \n",
    "            # fitting on ARIME(p, 1, q) model \n",
    "            print(f'Attempting to fit ARIMA({p}, 1, {q})')\n",
    "            \n",
    "            # instantiate ARIMA model\n",
    "            arima = ARIMA(train_valence, order=(p,1,q))\n",
    "            \n",
    "            # fit ARIMA model \n",
    "            model = arima.fit()\n",
    "            \n",
    "            # print out AIC for ARIMA(p, 1, q) model \n",
    "            print(f'The AIC for ARIMA({p},1,{q}) is: {model.aic}')\n",
    "            \n",
    "            # Is this current model's AIC better than the OF best_aic? \n",
    "            if model.aic < best_aic:\n",
    "                # we want aic to be lower so we are setting a high aic and hoping for something lower \n",
    "                \n",
    "                # if it is, we overwrite the best_aic, best_p, and best_q\n",
    "                best_aic = model.aic\n",
    "                best_p = p \n",
    "                best_q = q\n",
    "                \n",
    "        except:\n",
    "            pass \n",
    "        \n",
    "print()\n",
    "print()\n",
    "print('MODEL FINISHED!')\n",
    "print(f'The model for valence that minimizes AIC on the training data is the ARIMA({best_p},1,{best_q}).')\n",
    "print(f'The model has an aIC of {best_aic}.')"
   ]
  },
  {
   "cell_type": "code",
   "execution_count": 172,
   "metadata": {},
   "outputs": [],
   "source": [
    "arima_dict = {\n",
    "    'audio_feature':[],\n",
    "    'AIC':[],\n",
    "    'ndiffs(d)':[],\n",
    "    'best_p':[],\n",
    "    'best_q':[],\n",
    "    'ARIMA_model':[]\n",
    "}\n",
    "\n",
    "def find_p_and_q(df, feature, n=6):\n",
    "    \n",
    "    train = df[feature][0:162]\n",
    "    \n",
    "    d = ndiff_df.loc[ndiff_df['audio_feature'] == feature, 'ndiffs for stationarity'].iloc[0]\n",
    "\n",
    "    # starting with large start AIC\n",
    "    best_aic = 99 * (10 * 16)\n",
    "    # creating variables to store best values ofd p and q \n",
    "    best_p = 0\n",
    "    best_q = 0 \n",
    "\n",
    "    # use nested for loop to iterate over values of p and q\n",
    "    for p in range(n):\n",
    "\n",
    "        for q in range(n):\n",
    "\n",
    "            # insert try and and except statements\n",
    "            try: \n",
    "\n",
    "                # fitting on ARIMA(p, 1, q) model \n",
    "                print(f'Attempting to fit ARIMA({p}, {d}, {q})')\n",
    "\n",
    "                # instantiate ARIMA model\n",
    "                arima = ARIMA(train, order=(p,d,q))\n",
    "\n",
    "                # fit ARIMA model \n",
    "                model = arima.fit()\n",
    "\n",
    "                # print out AIC for ARIMA(p, 1, q) model \n",
    "                print(f'For {feature}, the AIC for ARIMA({p},{d},{q}) is: {model.aic}')\n",
    "\n",
    "                # Is this current model's AIC better than the OF best_aic? \n",
    "                if model.aic < best_aic:\n",
    "                    # we want aic to be lower so we are setting a high aic and hoping for something lower \n",
    "\n",
    "                    # if it is, we overwrite the best_aic, best_p, and best_q\n",
    "                    best_aic = model.aic\n",
    "                    best_p = p \n",
    "                    best_q = q\n",
    "\n",
    "            except:\n",
    "                pass \n",
    "\n",
    "    arima_dict['audio_feature'].append(feature)\n",
    "    arima_dict['AIC'].append(best_aic)\n",
    "    arima_dict['ndiffs(d)'].append(d)\n",
    "    arima_dict['best_p'].append(best_p)\n",
    "    arima_dict['best_q'].append(best_q)\n",
    "    arima_dict['ARIMA_model'].append(f'ARIMA({best_p},{d},{best_q})')\n",
    "\n",
    "    print()\n",
    "    print(f'{feature.capitalize()} MODEL FINISHED!')\n",
    "    print(f'The model for {feature} that minimizes AIC on the training data is the ARIMA({best_p},{d},{best_q}).')\n",
    "    print(f'The model has an aIC of {best_aic}.')\n",
    "    print()"
   ]
  },
  {
   "cell_type": "markdown",
   "metadata": {},
   "source": [
    "**_Does AIC not look at test data?_** "
   ]
  },
  {
   "cell_type": "code",
   "execution_count": 157,
   "metadata": {},
   "outputs": [
    {
     "data": {
      "text/html": [
       "<div>\n",
       "<style scoped>\n",
       "    .dataframe tbody tr th:only-of-type {\n",
       "        vertical-align: middle;\n",
       "    }\n",
       "\n",
       "    .dataframe tbody tr th {\n",
       "        vertical-align: top;\n",
       "    }\n",
       "\n",
       "    .dataframe thead th {\n",
       "        text-align: right;\n",
       "    }\n",
       "</style>\n",
       "<table border=\"1\" class=\"dataframe\">\n",
       "  <thead>\n",
       "    <tr style=\"text-align: right;\">\n",
       "      <th></th>\n",
       "      <th>audio_feature</th>\n",
       "      <th>ndiffs for stationarity</th>\n",
       "    </tr>\n",
       "  </thead>\n",
       "  <tbody>\n",
       "    <tr>\n",
       "      <th>0</th>\n",
       "      <td>danceability</td>\n",
       "      <td>1</td>\n",
       "    </tr>\n",
       "    <tr>\n",
       "      <th>1</th>\n",
       "      <td>energy</td>\n",
       "      <td>0</td>\n",
       "    </tr>\n",
       "    <tr>\n",
       "      <th>2</th>\n",
       "      <td>loudness</td>\n",
       "      <td>0</td>\n",
       "    </tr>\n",
       "    <tr>\n",
       "      <th>3</th>\n",
       "      <td>mode</td>\n",
       "      <td>1</td>\n",
       "    </tr>\n",
       "    <tr>\n",
       "      <th>4</th>\n",
       "      <td>acousticness</td>\n",
       "      <td>0</td>\n",
       "    </tr>\n",
       "    <tr>\n",
       "      <th>5</th>\n",
       "      <td>valence</td>\n",
       "      <td>0</td>\n",
       "    </tr>\n",
       "    <tr>\n",
       "      <th>6</th>\n",
       "      <td>tempo</td>\n",
       "      <td>0</td>\n",
       "    </tr>\n",
       "  </tbody>\n",
       "</table>\n",
       "</div>"
      ],
      "text/plain": [
       "  audio_feature  ndiffs for stationarity\n",
       "0  danceability                        1\n",
       "1        energy                        0\n",
       "2      loudness                        0\n",
       "3          mode                        1\n",
       "4  acousticness                        0\n",
       "5       valence                        0\n",
       "6         tempo                        0"
      ]
     },
     "execution_count": 157,
     "metadata": {},
     "output_type": "execute_result"
    }
   ],
   "source": [
    "ndiff_dict = {\n",
    "    'audio_feature':[],\n",
    "    'ndiffs for stationarity':[]    \n",
    "}\n",
    "\n",
    "for feature in seven_features:\n",
    "    ndiff_dict['audio_feature'].append(feature)\n",
    "    ndiff_dict['ndiffs for stationarity'].append(ndiffs(alltime_rw_italy[feature], test= \"adf\"))\n",
    "\n",
    "ndiff_df = pd.DataFrame(ndiff_dict)\n",
    "ndiff_df"
   ]
  },
  {
   "cell_type": "code",
   "execution_count": 158,
   "metadata": {
    "scrolled": true
   },
   "outputs": [],
   "source": [
    "# find_p_and_q(alltime_rw_italy, 'valence', n=6, d=1)"
   ]
  },
  {
   "cell_type": "code",
   "execution_count": 173,
   "metadata": {
    "scrolled": true
   },
   "outputs": [
    {
     "name": "stdout",
     "output_type": "stream",
     "text": [
      "Attempting to fit ARIMA(0, 1, 0)\n",
      "For danceability, the AIC for ARIMA(0,1,0) is: -725.8837710601316\n",
      "Attempting to fit ARIMA(0, 1, 1)\n",
      "For danceability, the AIC for ARIMA(0,1,1) is: -741.6315380820415\n",
      "Attempting to fit ARIMA(0, 1, 2)\n",
      "For danceability, the AIC for ARIMA(0,1,2) is: -741.0303860542913\n",
      "Attempting to fit ARIMA(0, 1, 3)\n",
      "For danceability, the AIC for ARIMA(0,1,3) is: -740.5524780247699\n",
      "Attempting to fit ARIMA(0, 1, 4)\n",
      "For danceability, the AIC for ARIMA(0,1,4) is: -739.7901121166813\n",
      "Attempting to fit ARIMA(0, 1, 5)\n",
      "For danceability, the AIC for ARIMA(0,1,5) is: -737.8819998993706\n",
      "Attempting to fit ARIMA(1, 1, 0)\n",
      "For danceability, the AIC for ARIMA(1,1,0) is: -737.8870828958725\n",
      "Attempting to fit ARIMA(1, 1, 1)\n",
      "For danceability, the AIC for ARIMA(1,1,1) is: -742.5043022824921\n",
      "Attempting to fit ARIMA(1, 1, 2)\n",
      "For danceability, the AIC for ARIMA(1,1,2) is: -746.7977296013453\n",
      "Attempting to fit ARIMA(1, 1, 3)\n",
      "Attempting to fit ARIMA(1, 1, 4)\n",
      "Attempting to fit ARIMA(1, 1, 5)\n",
      "Attempting to fit ARIMA(2, 1, 0)\n",
      "For danceability, the AIC for ARIMA(2,1,0) is: -738.2944348381241\n",
      "Attempting to fit ARIMA(2, 1, 1)\n",
      "For danceability, the AIC for ARIMA(2,1,1) is: -746.6353975548682\n",
      "Attempting to fit ARIMA(2, 1, 2)\n",
      "For danceability, the AIC for ARIMA(2,1,2) is: -744.8015438623029\n",
      "Attempting to fit ARIMA(2, 1, 3)\n",
      "Attempting to fit ARIMA(2, 1, 4)\n",
      "For danceability, the AIC for ARIMA(2,1,4) is: -739.8689878453513\n",
      "Attempting to fit ARIMA(2, 1, 5)\n",
      "Attempting to fit ARIMA(3, 1, 0)\n",
      "For danceability, the AIC for ARIMA(3,1,0) is: -737.475203876252\n",
      "Attempting to fit ARIMA(3, 1, 1)\n",
      "For danceability, the AIC for ARIMA(3,1,1) is: -744.7797883165797\n",
      "Attempting to fit ARIMA(3, 1, 2)\n",
      "For danceability, the AIC for ARIMA(3,1,2) is: -743.3086562186486\n",
      "Attempting to fit ARIMA(3, 1, 3)\n",
      "For danceability, the AIC for ARIMA(3,1,3) is: -739.5269839692373\n",
      "Attempting to fit ARIMA(3, 1, 4)\n",
      "For danceability, the AIC for ARIMA(3,1,4) is: -743.987647843016\n",
      "Attempting to fit ARIMA(3, 1, 5)\n",
      "Attempting to fit ARIMA(4, 1, 0)\n",
      "For danceability, the AIC for ARIMA(4,1,0) is: -738.380965870728\n",
      "Attempting to fit ARIMA(4, 1, 1)\n",
      "For danceability, the AIC for ARIMA(4,1,1) is: -742.7820190733194\n",
      "Attempting to fit ARIMA(4, 1, 2)\n",
      "For danceability, the AIC for ARIMA(4,1,2) is: -740.9059730976023\n",
      "Attempting to fit ARIMA(4, 1, 3)\n",
      "For danceability, the AIC for ARIMA(4,1,3) is: -740.0356870710514\n",
      "Attempting to fit ARIMA(4, 1, 4)\n",
      "For danceability, the AIC for ARIMA(4,1,4) is: -737.4919438785103\n",
      "Attempting to fit ARIMA(4, 1, 5)\n",
      "For danceability, the AIC for ARIMA(4,1,5) is: -736.0322271630284\n",
      "Attempting to fit ARIMA(5, 1, 0)\n",
      "For danceability, the AIC for ARIMA(5,1,0) is: -736.4059858159242\n",
      "Attempting to fit ARIMA(5, 1, 1)\n",
      "For danceability, the AIC for ARIMA(5,1,1) is: -741.4678593608312\n",
      "Attempting to fit ARIMA(5, 1, 2)\n",
      "For danceability, the AIC for ARIMA(5,1,2) is: -739.4048242931233\n",
      "Attempting to fit ARIMA(5, 1, 3)\n",
      "For danceability, the AIC for ARIMA(5,1,3) is: -738.5742371384392\n",
      "Attempting to fit ARIMA(5, 1, 4)\n",
      "For danceability, the AIC for ARIMA(5,1,4) is: -738.8028100694864\n",
      "Attempting to fit ARIMA(5, 1, 5)\n",
      "For danceability, the AIC for ARIMA(5,1,5) is: -736.6443742189408\n",
      "\n",
      "Danceability MODEL FINISHED!\n",
      "The model for danceability that minimizes AIC on the training data is the ARIMA(1,1,2).\n",
      "The model has an aIC of -746.7977296013453.\n",
      "\n",
      "Attempting to fit ARIMA(0, 0, 0)\n",
      "For energy, the AIC for ARIMA(0,0,0) is: -612.2125679046673\n",
      "Attempting to fit ARIMA(0, 0, 1)\n",
      "For energy, the AIC for ARIMA(0,0,1) is: -673.6570797098735\n",
      "Attempting to fit ARIMA(0, 0, 2)\n",
      "For energy, the AIC for ARIMA(0,0,2) is: -691.2186840272442\n",
      "Attempting to fit ARIMA(0, 0, 3)\n",
      "For energy, the AIC for ARIMA(0,0,3) is: -693.764428892814\n",
      "Attempting to fit ARIMA(0, 0, 4)\n",
      "For energy, the AIC for ARIMA(0,0,4) is: -695.35489915748\n",
      "Attempting to fit ARIMA(0, 0, 5)\n",
      "For energy, the AIC for ARIMA(0,0,5) is: -702.5088388873259\n",
      "Attempting to fit ARIMA(1, 0, 0)\n",
      "For energy, the AIC for ARIMA(1,0,0) is: -705.6175770681826\n",
      "Attempting to fit ARIMA(1, 0, 1)\n",
      "For energy, the AIC for ARIMA(1,0,1) is: -705.0987399848199\n",
      "Attempting to fit ARIMA(1, 0, 2)\n",
      "For energy, the AIC for ARIMA(1,0,2) is: -704.185213842033\n",
      "Attempting to fit ARIMA(1, 0, 3)\n",
      "For energy, the AIC for ARIMA(1,0,3) is: -702.3145303816576\n",
      "Attempting to fit ARIMA(1, 0, 4)\n",
      "Attempting to fit ARIMA(1, 0, 5)\n",
      "For energy, the AIC for ARIMA(1,0,5) is: -699.1772117301033\n",
      "Attempting to fit ARIMA(2, 0, 0)\n",
      "For energy, the AIC for ARIMA(2,0,0) is: -704.744474493847\n",
      "Attempting to fit ARIMA(2, 0, 1)\n",
      "For energy, the AIC for ARIMA(2,0,1) is: -704.0652303533906\n",
      "Attempting to fit ARIMA(2, 0, 2)\n",
      "For energy, the AIC for ARIMA(2,0,2) is: -705.3217844718912\n",
      "Attempting to fit ARIMA(2, 0, 3)\n",
      "For energy, the AIC for ARIMA(2,0,3) is: -700.3758150240939\n",
      "Attempting to fit ARIMA(2, 0, 4)\n",
      "For energy, the AIC for ARIMA(2,0,4) is: -702.3379694900106\n",
      "Attempting to fit ARIMA(2, 0, 5)\n",
      "For energy, the AIC for ARIMA(2,0,5) is: -703.402368431961\n",
      "Attempting to fit ARIMA(3, 0, 0)\n",
      "For energy, the AIC for ARIMA(3,0,0) is: -703.6802962521932\n",
      "Attempting to fit ARIMA(3, 0, 1)\n",
      "For energy, the AIC for ARIMA(3,0,1) is: -702.3057979136421\n",
      "Attempting to fit ARIMA(3, 0, 2)\n",
      "For energy, the AIC for ARIMA(3,0,2) is: -699.9759617850758\n",
      "Attempting to fit ARIMA(3, 0, 3)\n",
      "For energy, the AIC for ARIMA(3,0,3) is: -702.2521019559598\n",
      "Attempting to fit ARIMA(3, 0, 4)\n",
      "For energy, the AIC for ARIMA(3,0,4) is: -700.6592413825446\n",
      "Attempting to fit ARIMA(3, 0, 5)\n",
      "For energy, the AIC for ARIMA(3,0,5) is: -708.0905427577344\n",
      "Attempting to fit ARIMA(4, 0, 0)\n",
      "For energy, the AIC for ARIMA(4,0,0) is: -702.6230226860627\n",
      "Attempting to fit ARIMA(4, 0, 1)\n",
      "For energy, the AIC for ARIMA(4,0,1) is: -700.6333223992455\n",
      "Attempting to fit ARIMA(4, 0, 2)\n",
      "For energy, the AIC for ARIMA(4,0,2) is: -699.4670205616034\n",
      "Attempting to fit ARIMA(4, 0, 3)\n",
      "Attempting to fit ARIMA(4, 0, 4)\n",
      "For energy, the AIC for ARIMA(4,0,4) is: -697.2787164105031\n",
      "Attempting to fit ARIMA(4, 0, 5)\n",
      "For energy, the AIC for ARIMA(4,0,5) is: -707.0039838727797\n",
      "Attempting to fit ARIMA(5, 0, 0)\n",
      "For energy, the AIC for ARIMA(5,0,0) is: -700.6509802836925\n",
      "Attempting to fit ARIMA(5, 0, 1)\n",
      "For energy, the AIC for ARIMA(5,0,1) is: -705.4325177723798\n",
      "Attempting to fit ARIMA(5, 0, 2)\n",
      "For energy, the AIC for ARIMA(5,0,2) is: -712.4060928020536\n",
      "Attempting to fit ARIMA(5, 0, 3)\n",
      "For energy, the AIC for ARIMA(5,0,3) is: -710.9462171575063\n",
      "Attempting to fit ARIMA(5, 0, 4)\n",
      "For energy, the AIC for ARIMA(5,0,4) is: -709.155156920776\n",
      "Attempting to fit ARIMA(5, 0, 5)\n",
      "For energy, the AIC for ARIMA(5,0,5) is: -708.4406130935857\n",
      "\n",
      "Energy MODEL FINISHED!\n",
      "The model for energy that minimizes AIC on the training data is the ARIMA(5,0,2).\n",
      "The model has an aIC of -712.4060928020536.\n",
      "\n",
      "Attempting to fit ARIMA(0, 0, 0)\n",
      "For loudness, the AIC for ARIMA(0,0,0) is: 322.1516607344198\n",
      "Attempting to fit ARIMA(0, 0, 1)\n",
      "For loudness, the AIC for ARIMA(0,0,1) is: 266.84744017812915\n",
      "Attempting to fit ARIMA(0, 0, 2)\n",
      "For loudness, the AIC for ARIMA(0,0,2) is: 247.52400763273428\n",
      "Attempting to fit ARIMA(0, 0, 3)\n",
      "For loudness, the AIC for ARIMA(0,0,3) is: 245.20640215172037\n",
      "Attempting to fit ARIMA(0, 0, 4)\n",
      "For loudness, the AIC for ARIMA(0,0,4) is: 238.44863833528436\n",
      "Attempting to fit ARIMA(0, 0, 5)\n",
      "For loudness, the AIC for ARIMA(0,0,5) is: 238.91904646763928\n",
      "Attempting to fit ARIMA(1, 0, 0)\n",
      "For loudness, the AIC for ARIMA(1,0,0) is: 232.51901250508155\n",
      "Attempting to fit ARIMA(1, 0, 1)\n",
      "For loudness, the AIC for ARIMA(1,0,1) is: 231.82307848395467\n",
      "Attempting to fit ARIMA(1, 0, 2)\n",
      "For loudness, the AIC for ARIMA(1,0,2) is: 233.33957440909785\n",
      "Attempting to fit ARIMA(1, 0, 3)\n",
      "For loudness, the AIC for ARIMA(1,0,3) is: 234.87852962189405\n",
      "Attempting to fit ARIMA(1, 0, 4)\n",
      "For loudness, the AIC for ARIMA(1,0,4) is: 236.58399820607912\n",
      "Attempting to fit ARIMA(1, 0, 5)\n",
      "For loudness, the AIC for ARIMA(1,0,5) is: 237.48275227911003\n",
      "Attempting to fit ARIMA(2, 0, 0)\n",
      "For loudness, the AIC for ARIMA(2,0,0) is: 232.2605054154494\n",
      "Attempting to fit ARIMA(2, 0, 1)\n",
      "For loudness, the AIC for ARIMA(2,0,1) is: 233.0802035295566\n",
      "Attempting to fit ARIMA(2, 0, 2)\n",
      "For loudness, the AIC for ARIMA(2,0,2) is: 235.0774049587921\n",
      "Attempting to fit ARIMA(2, 0, 3)\n",
      "For loudness, the AIC for ARIMA(2,0,3) is: 236.46573349314204\n",
      "Attempting to fit ARIMA(2, 0, 4)\n",
      "For loudness, the AIC for ARIMA(2,0,4) is: 238.24434771327518\n",
      "Attempting to fit ARIMA(2, 0, 5)\n",
      "For loudness, the AIC for ARIMA(2,0,5) is: 239.4444210699937\n",
      "Attempting to fit ARIMA(3, 0, 0)\n",
      "For loudness, the AIC for ARIMA(3,0,0) is: 233.82008450389145\n",
      "Attempting to fit ARIMA(3, 0, 1)\n",
      "For loudness, the AIC for ARIMA(3,0,1) is: 235.0766641938539\n",
      "Attempting to fit ARIMA(3, 0, 2)\n",
      "For loudness, the AIC for ARIMA(3,0,2) is: 236.87862132104166\n",
      "Attempting to fit ARIMA(3, 0, 3)\n",
      "For loudness, the AIC for ARIMA(3,0,3) is: 231.00414497812162\n",
      "Attempting to fit ARIMA(3, 0, 4)\n",
      "For loudness, the AIC for ARIMA(3,0,4) is: 232.94456985309168\n",
      "Attempting to fit ARIMA(3, 0, 5)\n",
      "For loudness, the AIC for ARIMA(3,0,5) is: 239.53158153925386\n",
      "Attempting to fit ARIMA(4, 0, 0)\n",
      "For loudness, the AIC for ARIMA(4,0,0) is: 234.84574759082457\n",
      "Attempting to fit ARIMA(4, 0, 1)\n",
      "For loudness, the AIC for ARIMA(4,0,1) is: 236.70543827892868\n",
      "Attempting to fit ARIMA(4, 0, 2)\n",
      "For loudness, the AIC for ARIMA(4,0,2) is: 234.17433866033662\n",
      "Attempting to fit ARIMA(4, 0, 3)\n",
      "For loudness, the AIC for ARIMA(4,0,3) is: 237.82585564640198\n",
      "Attempting to fit ARIMA(4, 0, 4)\n",
      "For loudness, the AIC for ARIMA(4,0,4) is: 234.4463986416354\n",
      "Attempting to fit ARIMA(4, 0, 5)\n",
      "For loudness, the AIC for ARIMA(4,0,5) is: 234.89750561701598\n",
      "Attempting to fit ARIMA(5, 0, 0)\n",
      "For loudness, the AIC for ARIMA(5,0,0) is: 236.7195219286806\n",
      "Attempting to fit ARIMA(5, 0, 1)\n",
      "For loudness, the AIC for ARIMA(5,0,1) is: 235.84599749264197\n",
      "Attempting to fit ARIMA(5, 0, 2)\n",
      "For loudness, the AIC for ARIMA(5,0,2) is: 232.67040423705453\n",
      "Attempting to fit ARIMA(5, 0, 3)\n",
      "For loudness, the AIC for ARIMA(5,0,3) is: 232.24696438452585\n",
      "Attempting to fit ARIMA(5, 0, 4)\n",
      "For loudness, the AIC for ARIMA(5,0,4) is: 235.77531860792786\n",
      "Attempting to fit ARIMA(5, 0, 5)\n",
      "For loudness, the AIC for ARIMA(5,0,5) is: 229.33694613679555\n",
      "\n",
      "Loudness MODEL FINISHED!\n",
      "The model for loudness that minimizes AIC on the training data is the ARIMA(5,0,5).\n",
      "The model has an aIC of 229.33694613679555.\n",
      "\n",
      "Attempting to fit ARIMA(0, 1, 0)\n",
      "For mode, the AIC for ARIMA(0,1,0) is: -411.4546745530347\n",
      "Attempting to fit ARIMA(0, 1, 1)\n",
      "For mode, the AIC for ARIMA(0,1,1) is: -436.3204166536013\n",
      "Attempting to fit ARIMA(0, 1, 2)\n",
      "For mode, the AIC for ARIMA(0,1,2) is: -439.02029617089755\n",
      "Attempting to fit ARIMA(0, 1, 3)\n",
      "For mode, the AIC for ARIMA(0,1,3) is: -437.02941374971493\n",
      "Attempting to fit ARIMA(0, 1, 4)\n",
      "For mode, the AIC for ARIMA(0,1,4) is: -435.1096032606301\n",
      "Attempting to fit ARIMA(0, 1, 5)\n",
      "For mode, the AIC for ARIMA(0,1,5) is: -436.9734791751302\n",
      "Attempting to fit ARIMA(1, 1, 0)\n",
      "For mode, the AIC for ARIMA(1,1,0) is: -423.88361206701853\n",
      "Attempting to fit ARIMA(1, 1, 1)\n",
      "For mode, the AIC for ARIMA(1,1,1) is: -438.61084578139145\n",
      "Attempting to fit ARIMA(1, 1, 2)\n",
      "For mode, the AIC for ARIMA(1,1,2) is: -437.0306492414564\n",
      "Attempting to fit ARIMA(1, 1, 3)\n",
      "For mode, the AIC for ARIMA(1,1,3) is: -435.25453825056974\n",
      "Attempting to fit ARIMA(1, 1, 4)\n",
      "Attempting to fit ARIMA(1, 1, 5)\n",
      "Attempting to fit ARIMA(2, 1, 0)\n",
      "For mode, the AIC for ARIMA(2,1,0) is: -434.58548695250846\n",
      "Attempting to fit ARIMA(2, 1, 1)\n",
      "For mode, the AIC for ARIMA(2,1,1) is: -436.78106279424975\n",
      "Attempting to fit ARIMA(2, 1, 2)\n",
      "For mode, the AIC for ARIMA(2,1,2) is: -435.0330853876333\n",
      "Attempting to fit ARIMA(2, 1, 3)\n",
      "For mode, the AIC for ARIMA(2,1,3) is: -441.8315228667199\n",
      "Attempting to fit ARIMA(2, 1, 4)\n",
      "Attempting to fit ARIMA(2, 1, 5)\n",
      "Attempting to fit ARIMA(3, 1, 0)\n",
      "For mode, the AIC for ARIMA(3,1,0) is: -434.64166168385094\n",
      "Attempting to fit ARIMA(3, 1, 1)\n",
      "For mode, the AIC for ARIMA(3,1,1) is: -442.27620580175136\n",
      "Attempting to fit ARIMA(3, 1, 2)\n",
      "For mode, the AIC for ARIMA(3,1,2) is: -440.4015642040309\n",
      "Attempting to fit ARIMA(3, 1, 3)\n",
      "For mode, the AIC for ARIMA(3,1,3) is: -443.23144843652864\n",
      "Attempting to fit ARIMA(3, 1, 4)\n",
      "Attempting to fit ARIMA(3, 1, 5)\n",
      "Attempting to fit ARIMA(4, 1, 0)\n",
      "For mode, the AIC for ARIMA(4,1,0) is: -432.71312065495607\n",
      "Attempting to fit ARIMA(4, 1, 1)\n",
      "For mode, the AIC for ARIMA(4,1,1) is: -431.1441548133553\n",
      "Attempting to fit ARIMA(4, 1, 2)\n",
      "For mode, the AIC for ARIMA(4,1,2) is: -439.44043652577494\n",
      "Attempting to fit ARIMA(4, 1, 3)\n",
      "For mode, the AIC for ARIMA(4,1,3) is: -446.5317229820524\n",
      "Attempting to fit ARIMA(4, 1, 4)\n",
      "Attempting to fit ARIMA(4, 1, 5)\n",
      "For mode, the AIC for ARIMA(4,1,5) is: -443.38300004213175\n",
      "Attempting to fit ARIMA(5, 1, 0)\n",
      "For mode, the AIC for ARIMA(5,1,0) is: -437.17252245557455\n",
      "Attempting to fit ARIMA(5, 1, 1)\n",
      "For mode, the AIC for ARIMA(5,1,1) is: -435.26957354008874\n",
      "Attempting to fit ARIMA(5, 1, 2)\n",
      "For mode, the AIC for ARIMA(5,1,2) is: -437.4047781346607\n",
      "Attempting to fit ARIMA(5, 1, 3)\n",
      "For mode, the AIC for ARIMA(5,1,3) is: -442.1989440057901\n",
      "Attempting to fit ARIMA(5, 1, 4)\n",
      "For mode, the AIC for ARIMA(5,1,4) is: -441.2254889095338\n",
      "Attempting to fit ARIMA(5, 1, 5)\n",
      "For mode, the AIC for ARIMA(5,1,5) is: -438.56917420147823\n",
      "\n",
      "Mode MODEL FINISHED!\n",
      "The model for mode that minimizes AIC on the training data is the ARIMA(4,1,3).\n",
      "The model has an aIC of -446.5317229820524.\n",
      "\n",
      "Attempting to fit ARIMA(0, 0, 0)\n",
      "For acousticness, the AIC for ARIMA(0,0,0) is: -484.8727506697037\n",
      "Attempting to fit ARIMA(0, 0, 1)\n",
      "For acousticness, the AIC for ARIMA(0,0,1) is: -562.8851303403668\n",
      "Attempting to fit ARIMA(0, 0, 2)\n",
      "For acousticness, the AIC for ARIMA(0,0,2) is: -588.8455892219896\n",
      "Attempting to fit ARIMA(0, 0, 3)\n",
      "For acousticness, the AIC for ARIMA(0,0,3) is: -595.3605348324553\n",
      "Attempting to fit ARIMA(0, 0, 4)\n",
      "For acousticness, the AIC for ARIMA(0,0,4) is: -600.2662567863118\n",
      "Attempting to fit ARIMA(0, 0, 5)\n",
      "For acousticness, the AIC for ARIMA(0,0,5) is: -601.5747278998871\n",
      "Attempting to fit ARIMA(1, 0, 0)\n",
      "For acousticness, the AIC for ARIMA(1,0,0) is: -615.3995388872605\n",
      "Attempting to fit ARIMA(1, 0, 1)\n",
      "For acousticness, the AIC for ARIMA(1,0,1) is: -615.8158117177214\n",
      "Attempting to fit ARIMA(1, 0, 2)\n",
      "For acousticness, the AIC for ARIMA(1,0,2) is: -617.0166949974206\n",
      "Attempting to fit ARIMA(1, 0, 3)\n",
      "For acousticness, the AIC for ARIMA(1,0,3) is: -615.5628435549773\n",
      "Attempting to fit ARIMA(1, 0, 4)\n",
      "Attempting to fit ARIMA(1, 0, 5)\n",
      "Attempting to fit ARIMA(2, 0, 0)\n",
      "For acousticness, the AIC for ARIMA(2,0,0) is: -615.0283120619346\n",
      "Attempting to fit ARIMA(2, 0, 1)\n",
      "For acousticness, the AIC for ARIMA(2,0,1) is: -616.858206799208\n",
      "Attempting to fit ARIMA(2, 0, 2)\n",
      "For acousticness, the AIC for ARIMA(2,0,2) is: -615.3458429672038\n",
      "Attempting to fit ARIMA(2, 0, 3)\n",
      "For acousticness, the AIC for ARIMA(2,0,3) is: -614.0944297493812\n",
      "Attempting to fit ARIMA(2, 0, 4)\n",
      "For acousticness, the AIC for ARIMA(2,0,4) is: -612.2433716483266\n",
      "Attempting to fit ARIMA(2, 0, 5)\n",
      "Attempting to fit ARIMA(3, 0, 0)\n",
      "For acousticness, the AIC for ARIMA(3,0,0) is: -614.9498422859591\n",
      "Attempting to fit ARIMA(3, 0, 1)\n",
      "For acousticness, the AIC for ARIMA(3,0,1) is: -615.5274222937654\n",
      "Attempting to fit ARIMA(3, 0, 2)\n",
      "For acousticness, the AIC for ARIMA(3,0,2) is: -619.9861698605054\n",
      "Attempting to fit ARIMA(3, 0, 3)\n",
      "For acousticness, the AIC for ARIMA(3,0,3) is: -612.2068270144656\n",
      "Attempting to fit ARIMA(3, 0, 4)\n",
      "For acousticness, the AIC for ARIMA(3,0,4) is: -617.4383468928298\n",
      "Attempting to fit ARIMA(3, 0, 5)\n",
      "For acousticness, the AIC for ARIMA(3,0,5) is: -614.0372069492579\n",
      "Attempting to fit ARIMA(4, 0, 0)\n",
      "For acousticness, the AIC for ARIMA(4,0,0) is: -615.0890852345159\n",
      "Attempting to fit ARIMA(4, 0, 1)\n",
      "For acousticness, the AIC for ARIMA(4,0,1) is: -614.0055932350725\n",
      "Attempting to fit ARIMA(4, 0, 2)\n",
      "For acousticness, the AIC for ARIMA(4,0,2) is: -612.4109825860352\n",
      "Attempting to fit ARIMA(4, 0, 3)\n",
      "For acousticness, the AIC for ARIMA(4,0,3) is: -612.054430950268\n",
      "Attempting to fit ARIMA(4, 0, 4)\n",
      "For acousticness, the AIC for ARIMA(4,0,4) is: -609.531566240042\n",
      "Attempting to fit ARIMA(4, 0, 5)\n",
      "For acousticness, the AIC for ARIMA(4,0,5) is: -609.6192771414684\n",
      "Attempting to fit ARIMA(5, 0, 0)\n",
      "For acousticness, the AIC for ARIMA(5,0,0) is: -613.5068543494809\n",
      "Attempting to fit ARIMA(5, 0, 1)\n",
      "For acousticness, the AIC for ARIMA(5,0,1) is: -612.0371327958807\n",
      "Attempting to fit ARIMA(5, 0, 2)\n",
      "For acousticness, the AIC for ARIMA(5,0,2) is: -610.5462932734023\n",
      "Attempting to fit ARIMA(5, 0, 3)\n",
      "For acousticness, the AIC for ARIMA(5,0,3) is: -609.9168734751087\n",
      "Attempting to fit ARIMA(5, 0, 4)\n",
      "For acousticness, the AIC for ARIMA(5,0,4) is: -609.0343309333906\n",
      "Attempting to fit ARIMA(5, 0, 5)\n",
      "\n",
      "Acousticness MODEL FINISHED!\n",
      "The model for acousticness that minimizes AIC on the training data is the ARIMA(3,0,2).\n",
      "The model has an aIC of -619.9861698605054.\n",
      "\n",
      "Attempting to fit ARIMA(0, 0, 0)\n",
      "For valence, the AIC for ARIMA(0,0,0) is: -546.5410215093714\n",
      "Attempting to fit ARIMA(0, 0, 1)\n",
      "For valence, the AIC for ARIMA(0,0,1) is: -609.7721952834592\n",
      "Attempting to fit ARIMA(0, 0, 2)\n",
      "For valence, the AIC for ARIMA(0,0,2) is: -621.2232304930216\n",
      "Attempting to fit ARIMA(0, 0, 3)\n",
      "For valence, the AIC for ARIMA(0,0,3) is: -636.787252165855\n",
      "Attempting to fit ARIMA(0, 0, 4)\n",
      "For valence, the AIC for ARIMA(0,0,4) is: -635.339790356952\n",
      "Attempting to fit ARIMA(0, 0, 5)\n",
      "For valence, the AIC for ARIMA(0,0,5) is: -640.0276924636945\n",
      "Attempting to fit ARIMA(1, 0, 0)\n",
      "For valence, the AIC for ARIMA(1,0,0) is: -642.6351957621176\n",
      "Attempting to fit ARIMA(1, 0, 1)\n",
      "For valence, the AIC for ARIMA(1,0,1) is: -645.9516522231762\n",
      "Attempting to fit ARIMA(1, 0, 2)\n",
      "For valence, the AIC for ARIMA(1,0,2) is: -645.9131134582295\n",
      "Attempting to fit ARIMA(1, 0, 3)\n",
      "For valence, the AIC for ARIMA(1,0,3) is: -643.93539839312\n",
      "Attempting to fit ARIMA(1, 0, 4)\n",
      "Attempting to fit ARIMA(1, 0, 5)\n",
      "Attempting to fit ARIMA(2, 0, 0)\n",
      "For valence, the AIC for ARIMA(2,0,0) is: -644.4130827457203\n",
      "Attempting to fit ARIMA(2, 0, 1)\n",
      "For valence, the AIC for ARIMA(2,0,1) is: -646.1258952645029\n",
      "Attempting to fit ARIMA(2, 0, 2)\n",
      "For valence, the AIC for ARIMA(2,0,2) is: -647.40963308537\n",
      "Attempting to fit ARIMA(2, 0, 3)\n",
      "For valence, the AIC for ARIMA(2,0,3) is: -646.1924102587221\n",
      "Attempting to fit ARIMA(2, 0, 4)\n",
      "Attempting to fit ARIMA(2, 0, 5)\n",
      "For valence, the AIC for ARIMA(2,0,5) is: -642.3319847430313\n",
      "Attempting to fit ARIMA(3, 0, 0)\n",
      "For valence, the AIC for ARIMA(3,0,0) is: -644.5960962599887\n",
      "Attempting to fit ARIMA(3, 0, 1)\n",
      "For valence, the AIC for ARIMA(3,0,1) is: -644.1263366342656\n",
      "Attempting to fit ARIMA(3, 0, 2)\n",
      "For valence, the AIC for ARIMA(3,0,2) is: -646.6942702431103\n",
      "Attempting to fit ARIMA(3, 0, 3)\n",
      "For valence, the AIC for ARIMA(3,0,3) is: -644.8407401530488\n",
      "Attempting to fit ARIMA(3, 0, 4)\n",
      "For valence, the AIC for ARIMA(3,0,4) is: -644.8482447570558\n",
      "Attempting to fit ARIMA(3, 0, 5)\n",
      "For valence, the AIC for ARIMA(3,0,5) is: -642.4359269768332\n",
      "Attempting to fit ARIMA(4, 0, 0)\n",
      "For valence, the AIC for ARIMA(4,0,0) is: -642.6207677689594\n",
      "Attempting to fit ARIMA(4, 0, 1)\n",
      "For valence, the AIC for ARIMA(4,0,1) is: -643.4131073634054\n",
      "Attempting to fit ARIMA(4, 0, 2)\n",
      "For valence, the AIC for ARIMA(4,0,2) is: -643.692100179762\n",
      "Attempting to fit ARIMA(4, 0, 3)\n",
      "For valence, the AIC for ARIMA(4,0,3) is: -643.9175848204387\n",
      "Attempting to fit ARIMA(4, 0, 4)\n",
      "For valence, the AIC for ARIMA(4,0,4) is: -645.2467175662626\n",
      "Attempting to fit ARIMA(4, 0, 5)\n",
      "For valence, the AIC for ARIMA(4,0,5) is: -643.2542123723312\n",
      "Attempting to fit ARIMA(5, 0, 0)\n",
      "For valence, the AIC for ARIMA(5,0,0) is: -645.1674652673624\n",
      "Attempting to fit ARIMA(5, 0, 1)\n",
      "For valence, the AIC for ARIMA(5,0,1) is: -644.4442996429549\n",
      "Attempting to fit ARIMA(5, 0, 2)\n",
      "For valence, the AIC for ARIMA(5,0,2) is: -642.9324483806785\n",
      "Attempting to fit ARIMA(5, 0, 3)\n",
      "For valence, the AIC for ARIMA(5,0,3) is: -642.5853165998363\n",
      "Attempting to fit ARIMA(5, 0, 4)\n",
      "For valence, the AIC for ARIMA(5,0,4) is: -644.8070659865413\n",
      "Attempting to fit ARIMA(5, 0, 5)\n",
      "For valence, the AIC for ARIMA(5,0,5) is: -642.5941469962748\n",
      "\n",
      "Valence MODEL FINISHED!\n",
      "The model for valence that minimizes AIC on the training data is the ARIMA(2,0,2).\n",
      "The model has an aIC of -647.40963308537.\n",
      "\n",
      "Attempting to fit ARIMA(0, 0, 0)\n",
      "For tempo, the AIC for ARIMA(0,0,0) is: 879.9192071076823\n",
      "Attempting to fit ARIMA(0, 0, 1)\n",
      "For tempo, the AIC for ARIMA(0,0,1) is: 829.4188015285736\n",
      "Attempting to fit ARIMA(0, 0, 2)\n",
      "For tempo, the AIC for ARIMA(0,0,2) is: 815.8980034622024\n",
      "Attempting to fit ARIMA(0, 0, 3)\n",
      "For tempo, the AIC for ARIMA(0,0,3) is: 811.3215724224943\n",
      "Attempting to fit ARIMA(0, 0, 4)\n",
      "For tempo, the AIC for ARIMA(0,0,4) is: 812.7407140308959\n",
      "Attempting to fit ARIMA(0, 0, 5)\n",
      "For tempo, the AIC for ARIMA(0,0,5) is: 796.9048836504389\n",
      "Attempting to fit ARIMA(1, 0, 0)\n",
      "For tempo, the AIC for ARIMA(1,0,0) is: 805.5303111769767\n",
      "Attempting to fit ARIMA(1, 0, 1)\n",
      "For tempo, the AIC for ARIMA(1,0,1) is: 805.9533943607224\n",
      "Attempting to fit ARIMA(1, 0, 2)\n",
      "For tempo, the AIC for ARIMA(1,0,2) is: 807.8211609168243\n",
      "Attempting to fit ARIMA(1, 0, 3)\n",
      "For tempo, the AIC for ARIMA(1,0,3) is: 808.6549249096608\n",
      "Attempting to fit ARIMA(1, 0, 4)\n",
      "For tempo, the AIC for ARIMA(1,0,4) is: 810.5866639253529\n",
      "Attempting to fit ARIMA(1, 0, 5)\n",
      "Attempting to fit ARIMA(2, 0, 0)\n",
      "For tempo, the AIC for ARIMA(2,0,0) is: 805.8904012734422\n",
      "Attempting to fit ARIMA(2, 0, 1)\n",
      "For tempo, the AIC for ARIMA(2,0,1) is: 807.8869272290817\n",
      "Attempting to fit ARIMA(2, 0, 2)\n",
      "For tempo, the AIC for ARIMA(2,0,2) is: 807.8620371572175\n",
      "Attempting to fit ARIMA(2, 0, 3)\n",
      "For tempo, the AIC for ARIMA(2,0,3) is: 808.47473613439\n",
      "Attempting to fit ARIMA(2, 0, 4)\n",
      "For tempo, the AIC for ARIMA(2,0,4) is: 810.4581449634929\n",
      "Attempting to fit ARIMA(2, 0, 5)\n",
      "For tempo, the AIC for ARIMA(2,0,5) is: 799.5251978900004\n",
      "Attempting to fit ARIMA(3, 0, 0)\n",
      "For tempo, the AIC for ARIMA(3,0,0) is: 807.8819228697744\n",
      "Attempting to fit ARIMA(3, 0, 1)\n",
      "For tempo, the AIC for ARIMA(3,0,1) is: 806.7538129757463\n",
      "Attempting to fit ARIMA(3, 0, 2)\n",
      "For tempo, the AIC for ARIMA(3,0,2) is: 806.5587958871713\n",
      "Attempting to fit ARIMA(3, 0, 3)\n",
      "For tempo, the AIC for ARIMA(3,0,3) is: 809.3415717612384\n",
      "Attempting to fit ARIMA(3, 0, 4)\n",
      "For tempo, the AIC for ARIMA(3,0,4) is: 810.839388908015\n",
      "Attempting to fit ARIMA(3, 0, 5)\n",
      "For tempo, the AIC for ARIMA(3,0,5) is: 800.8532152887079\n",
      "Attempting to fit ARIMA(4, 0, 0)\n",
      "For tempo, the AIC for ARIMA(4,0,0) is: 809.0312382484665\n",
      "Attempting to fit ARIMA(4, 0, 1)\n",
      "For tempo, the AIC for ARIMA(4,0,1) is: 807.4107374805192\n",
      "Attempting to fit ARIMA(4, 0, 2)\n",
      "For tempo, the AIC for ARIMA(4,0,2) is: 808.9347262458799\n",
      "Attempting to fit ARIMA(4, 0, 3)\n",
      "For tempo, the AIC for ARIMA(4,0,3) is: 809.2891630664775\n",
      "Attempting to fit ARIMA(4, 0, 4)\n",
      "For tempo, the AIC for ARIMA(4,0,4) is: 806.560013954863\n",
      "Attempting to fit ARIMA(4, 0, 5)\n",
      "For tempo, the AIC for ARIMA(4,0,5) is: 800.3680253777875\n",
      "Attempting to fit ARIMA(5, 0, 0)\n",
      "For tempo, the AIC for ARIMA(5,0,0) is: 811.0182341415007\n",
      "Attempting to fit ARIMA(5, 0, 1)\n",
      "For tempo, the AIC for ARIMA(5,0,1) is: 809.0617728853392\n",
      "Attempting to fit ARIMA(5, 0, 2)\n",
      "For tempo, the AIC for ARIMA(5,0,2) is: 810.7810213718867\n",
      "Attempting to fit ARIMA(5, 0, 3)\n",
      "For tempo, the AIC for ARIMA(5,0,3) is: 811.2596029262997\n",
      "Attempting to fit ARIMA(5, 0, 4)\n",
      "For tempo, the AIC for ARIMA(5,0,4) is: 814.6065750797954\n",
      "Attempting to fit ARIMA(5, 0, 5)\n",
      "For tempo, the AIC for ARIMA(5,0,5) is: 800.3081947059718\n",
      "\n",
      "Tempo MODEL FINISHED!\n",
      "The model for tempo that minimizes AIC on the training data is the ARIMA(0,0,5).\n",
      "The model has an aIC of 796.9048836504389.\n",
      "\n"
     ]
    }
   ],
   "source": [
    "for feature in seven_features:\n",
    "    find_p_and_q(alltime_rw_italy, feature)"
   ]
  },
  {
   "cell_type": "code",
   "execution_count": 174,
   "metadata": {},
   "outputs": [
    {
     "data": {
      "text/html": [
       "<div>\n",
       "<style scoped>\n",
       "    .dataframe tbody tr th:only-of-type {\n",
       "        vertical-align: middle;\n",
       "    }\n",
       "\n",
       "    .dataframe tbody tr th {\n",
       "        vertical-align: top;\n",
       "    }\n",
       "\n",
       "    .dataframe thead th {\n",
       "        text-align: right;\n",
       "    }\n",
       "</style>\n",
       "<table border=\"1\" class=\"dataframe\">\n",
       "  <thead>\n",
       "    <tr style=\"text-align: right;\">\n",
       "      <th></th>\n",
       "      <th>audio_feature</th>\n",
       "      <th>AIC</th>\n",
       "      <th>ndiffs(d)</th>\n",
       "      <th>best_p</th>\n",
       "      <th>best_q</th>\n",
       "      <th>ARIMA_model</th>\n",
       "    </tr>\n",
       "  </thead>\n",
       "  <tbody>\n",
       "    <tr>\n",
       "      <th>0</th>\n",
       "      <td>danceability</td>\n",
       "      <td>-746.797730</td>\n",
       "      <td>1</td>\n",
       "      <td>1</td>\n",
       "      <td>2</td>\n",
       "      <td>ARIMA(1,1,2)</td>\n",
       "    </tr>\n",
       "    <tr>\n",
       "      <th>1</th>\n",
       "      <td>energy</td>\n",
       "      <td>-712.406093</td>\n",
       "      <td>0</td>\n",
       "      <td>5</td>\n",
       "      <td>2</td>\n",
       "      <td>ARIMA(5,0,2)</td>\n",
       "    </tr>\n",
       "    <tr>\n",
       "      <th>2</th>\n",
       "      <td>loudness</td>\n",
       "      <td>229.336946</td>\n",
       "      <td>0</td>\n",
       "      <td>5</td>\n",
       "      <td>5</td>\n",
       "      <td>ARIMA(5,0,5)</td>\n",
       "    </tr>\n",
       "    <tr>\n",
       "      <th>3</th>\n",
       "      <td>mode</td>\n",
       "      <td>-446.531723</td>\n",
       "      <td>1</td>\n",
       "      <td>4</td>\n",
       "      <td>3</td>\n",
       "      <td>ARIMA(4,1,3)</td>\n",
       "    </tr>\n",
       "    <tr>\n",
       "      <th>4</th>\n",
       "      <td>acousticness</td>\n",
       "      <td>-619.986170</td>\n",
       "      <td>0</td>\n",
       "      <td>3</td>\n",
       "      <td>2</td>\n",
       "      <td>ARIMA(3,0,2)</td>\n",
       "    </tr>\n",
       "    <tr>\n",
       "      <th>5</th>\n",
       "      <td>valence</td>\n",
       "      <td>-647.409633</td>\n",
       "      <td>0</td>\n",
       "      <td>2</td>\n",
       "      <td>2</td>\n",
       "      <td>ARIMA(2,0,2)</td>\n",
       "    </tr>\n",
       "    <tr>\n",
       "      <th>6</th>\n",
       "      <td>tempo</td>\n",
       "      <td>796.904884</td>\n",
       "      <td>0</td>\n",
       "      <td>0</td>\n",
       "      <td>5</td>\n",
       "      <td>ARIMA(0,0,5)</td>\n",
       "    </tr>\n",
       "  </tbody>\n",
       "</table>\n",
       "</div>"
      ],
      "text/plain": [
       "  audio_feature         AIC  ndiffs(d)  best_p  best_q   ARIMA_model\n",
       "0  danceability -746.797730          1       1       2  ARIMA(1,1,2)\n",
       "1        energy -712.406093          0       5       2  ARIMA(5,0,2)\n",
       "2      loudness  229.336946          0       5       5  ARIMA(5,0,5)\n",
       "3          mode -446.531723          1       4       3  ARIMA(4,1,3)\n",
       "4  acousticness -619.986170          0       3       2  ARIMA(3,0,2)\n",
       "5       valence -647.409633          0       2       2  ARIMA(2,0,2)\n",
       "6         tempo  796.904884          0       0       5  ARIMA(0,0,5)"
      ]
     },
     "execution_count": 174,
     "metadata": {},
     "output_type": "execute_result"
    }
   ],
   "source": [
    "arima_param_df = pd.DataFrame(arima_dict)\n",
    "arima_param_df"
   ]
  },
  {
   "cell_type": "code",
   "execution_count": null,
   "metadata": {},
   "outputs": [],
   "source": [
    "rmse_dict = {\n",
    "    'audio_feature':[],\n",
    "    'AIC':[],\n",
    "    'ndiffs(d)':[],\n",
    "    'best_p':[],\n",
    "    'best_q':[],\n",
    "    'ARIMA_model':[]\n",
    "}\n",
    "    \n",
    "}"
   ]
  },
  {
   "cell_type": "code",
   "execution_count": null,
   "metadata": {},
   "outputs": [],
   "source": [
    "arima_param_df.loc[arima_param_df['audio_feature'] == feature, 'train_rmse'] = train_rmse "
   ]
  },
  {
   "cell_type": "code",
   "execution_count": 212,
   "metadata": {},
   "outputs": [],
   "source": [
    "def arima_predict_plot(df, feature, order=(1,0,0), d=0, title='title'):\n",
    "    \n",
    "    train = df[feature][0:162]\n",
    "    test = df[feature][162:]\n",
    "    \n",
    "    model = ARIMA(train, order=order)\n",
    "    \n",
    "    arima = model.fit()\n",
    "    \n",
    "    preds_train = model.predict(params=arima.params, start=train.index[d], end=train.index[-1])\n",
    "    preds_test = model.predict(params=arima.params, start=test.index[0], end=test.index[-1])\n",
    "    \n",
    "    # RMSE \n",
    "    train_rmse = mean_squared_error(train[d::], preds_train)**0.5\n",
    "    print(f'{feature.capitalize()} train RMSE - ARIMA({order}): {train_rmse}')\n",
    "\n",
    "    test_rmse = mean_squared_error(test, preds_test)**0.5\n",
    "    print(f'{feature.capitalize()} test RMSE - ARIMA({order}): {test_rmse}')\n",
    "\n",
    "    residuals = test - preds_test\n",
    "    \n",
    "    arima_param_df.loc[arima_param_df['audio_feature'] == feature, 'train_rmse'] = train_rmse    \n",
    "    arima_param_df.loc[arima_param_df['audio_feature'] == feature, 'test_rmse'] = test_rmse\n",
    "    \n",
    "    # Plot data.\n",
    "    plt.figure(figsize=(15,5))\n",
    "\n",
    "    # Plot training data.\n",
    "    plt.plot(train, color = 'blue')\n",
    "#     plt.plot(train.index, pd.DataFrame(train), color = 'blue')\n",
    "\n",
    "    # Plot testing data.\n",
    "    plt.plot(test, color = 'orange')\n",
    "#     plt.plot(test.index, pd.DataFrame(test), color = 'orange')\n",
    "    \n",
    "\n",
    "    # Plot predicted test values.\n",
    "    plt.plot(test.index, preds_test, color = 'green')\n",
    "    \n",
    "    plt.title(title, fontsize=16)\n",
    "    plt.show();\n",
    "\n",
    "    return arima, residuals "
   ]
  },
  {
   "cell_type": "code",
   "execution_count": 213,
   "metadata": {},
   "outputs": [
    {
     "name": "stdout",
     "output_type": "stream",
     "text": [
      "Acousticness train RMSE - ARIMA((3, 0, 2)): 0.03432241363762001\n",
      "Acousticness test RMSE - ARIMA((3, 0, 2)): 0.07092032798729309\n"
     ]
    },
    {
     "data": {
      "image/png": "[encoded data removed]",
      "text/plain": [
       "<Figure size 1080x360 with 1 Axes>"
      ]
     },
     "metadata": {
      "needs_background": "light"
     },
     "output_type": "display_data"
    }
   ],
   "source": [
    "acousticness_302, acousticness_302_resids = arima_predict_plot(alltime_rw_italy, 'acousticness', order=(3,0,2), d=0, title='Italy Spotify Mean Acousticness Score with ARIMA(3,0,2) Predictions')"
   ]
  },
  {
   "cell_type": "code",
   "execution_count": 214,
   "metadata": {},
   "outputs": [
    {
     "data": {
      "text/html": [
       "<div>\n",
       "<style scoped>\n",
       "    .dataframe tbody tr th:only-of-type {\n",
       "        vertical-align: middle;\n",
       "    }\n",
       "\n",
       "    .dataframe tbody tr th {\n",
       "        vertical-align: top;\n",
       "    }\n",
       "\n",
       "    .dataframe thead th {\n",
       "        text-align: right;\n",
       "    }\n",
       "</style>\n",
       "<table border=\"1\" class=\"dataframe\">\n",
       "  <thead>\n",
       "    <tr style=\"text-align: right;\">\n",
       "      <th></th>\n",
       "      <th>audio_feature</th>\n",
       "      <th>AIC</th>\n",
       "      <th>ndiffs(d)</th>\n",
       "      <th>best_p</th>\n",
       "      <th>best_q</th>\n",
       "      <th>ARIMA_model</th>\n",
       "      <th>train_rmse</th>\n",
       "      <th>test_rmse</th>\n",
       "    </tr>\n",
       "  </thead>\n",
       "  <tbody>\n",
       "    <tr>\n",
       "      <th>0</th>\n",
       "      <td>danceability</td>\n",
       "      <td>-746.797730</td>\n",
       "      <td>1</td>\n",
       "      <td>1</td>\n",
       "      <td>2</td>\n",
       "      <td>ARIMA(1,1,2)</td>\n",
       "      <td>NaN</td>\n",
       "      <td>NaN</td>\n",
       "    </tr>\n",
       "    <tr>\n",
       "      <th>1</th>\n",
       "      <td>energy</td>\n",
       "      <td>-712.406093</td>\n",
       "      <td>0</td>\n",
       "      <td>5</td>\n",
       "      <td>2</td>\n",
       "      <td>ARIMA(5,0,2)</td>\n",
       "      <td>NaN</td>\n",
       "      <td>NaN</td>\n",
       "    </tr>\n",
       "    <tr>\n",
       "      <th>2</th>\n",
       "      <td>loudness</td>\n",
       "      <td>229.336946</td>\n",
       "      <td>0</td>\n",
       "      <td>5</td>\n",
       "      <td>5</td>\n",
       "      <td>ARIMA(5,0,5)</td>\n",
       "      <td>NaN</td>\n",
       "      <td>NaN</td>\n",
       "    </tr>\n",
       "    <tr>\n",
       "      <th>3</th>\n",
       "      <td>mode</td>\n",
       "      <td>-446.531723</td>\n",
       "      <td>1</td>\n",
       "      <td>4</td>\n",
       "      <td>3</td>\n",
       "      <td>ARIMA(4,1,3)</td>\n",
       "      <td>NaN</td>\n",
       "      <td>NaN</td>\n",
       "    </tr>\n",
       "    <tr>\n",
       "      <th>4</th>\n",
       "      <td>acousticness</td>\n",
       "      <td>-619.986170</td>\n",
       "      <td>0</td>\n",
       "      <td>3</td>\n",
       "      <td>2</td>\n",
       "      <td>ARIMA(3,0,2)</td>\n",
       "      <td>0.034322</td>\n",
       "      <td>0.07092</td>\n",
       "    </tr>\n",
       "    <tr>\n",
       "      <th>5</th>\n",
       "      <td>valence</td>\n",
       "      <td>-647.409633</td>\n",
       "      <td>0</td>\n",
       "      <td>2</td>\n",
       "      <td>2</td>\n",
       "      <td>ARIMA(2,0,2)</td>\n",
       "      <td>NaN</td>\n",
       "      <td>NaN</td>\n",
       "    </tr>\n",
       "    <tr>\n",
       "      <th>6</th>\n",
       "      <td>tempo</td>\n",
       "      <td>796.904884</td>\n",
       "      <td>0</td>\n",
       "      <td>0</td>\n",
       "      <td>5</td>\n",
       "      <td>ARIMA(0,0,5)</td>\n",
       "      <td>NaN</td>\n",
       "      <td>NaN</td>\n",
       "    </tr>\n",
       "  </tbody>\n",
       "</table>\n",
       "</div>"
      ],
      "text/plain": [
       "  audio_feature         AIC  ndiffs(d)  best_p  best_q   ARIMA_model  \\\n",
       "0  danceability -746.797730          1       1       2  ARIMA(1,1,2)   \n",
       "1        energy -712.406093          0       5       2  ARIMA(5,0,2)   \n",
       "2      loudness  229.336946          0       5       5  ARIMA(5,0,5)   \n",
       "3          mode -446.531723          1       4       3  ARIMA(4,1,3)   \n",
       "4  acousticness -619.986170          0       3       2  ARIMA(3,0,2)   \n",
       "5       valence -647.409633          0       2       2  ARIMA(2,0,2)   \n",
       "6         tempo  796.904884          0       0       5  ARIMA(0,0,5)   \n",
       "\n",
       "   train_rmse  test_rmse  \n",
       "0         NaN        NaN  \n",
       "1         NaN        NaN  \n",
       "2         NaN        NaN  \n",
       "3         NaN        NaN  \n",
       "4    0.034322    0.07092  \n",
       "5         NaN        NaN  \n",
       "6         NaN        NaN  "
      ]
     },
     "execution_count": 214,
     "metadata": {},
     "output_type": "execute_result"
    }
   ],
   "source": [
    "arima_param_df"
   ]
  }
 ],
 "metadata": {
  "kernelspec": {
   "display_name": "Python 3",
   "language": "python",
   "name": "python3"
  },
  "language_info": {
   "codemirror_mode": {
    "name": "ipython",
    "version": 3
   },
   "file_extension": ".py",
   "mimetype": "text/x-python",
   "name": "python",
   "nbconvert_exporter": "python",
   "pygments_lexer": "ipython3",
   "version": "3.8.5"
  }
 },
 "nbformat": 4,
 "nbformat_minor": 4
}
